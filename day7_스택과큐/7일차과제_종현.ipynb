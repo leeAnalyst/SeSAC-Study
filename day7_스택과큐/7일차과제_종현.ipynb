{
 "cells": [
  {
   "cell_type": "markdown",
   "id": "48de1122-fb12-478d-847e-d8983f5f8b59",
   "metadata": {},
   "source": [
    "### Programmers 같은 숫자는 싫어"
   ]
  },
  {
   "cell_type": "markdown",
   "id": "16055370-f611-4ed4-8fc1-d8e237e8b50f",
   "metadata": {},
   "source": [
    "배열 arr가 주어집니다. 배열 arr의 각 원소는 숫자 0부터 9까지로 이루어져 있습니다. 이때, 배열 arr에서 연속적으로 나타나는 숫자는 하나만 남기고 전부 제거하려고 합니다. 단, 제거된 후 남은 수들을 반환할 때는 배열 arr의 원소들의 순서를 유지해야 합니다. 예를 들면,\n",
    "\n",
    "arr = [1, 1, 3, 3, 0, 1, 1] 이면 [1, 3, 0, 1] 을 return 합니다.\n",
    "arr = [4, 4, 4, 3, 3] 이면 [4, 3] 을 return 합니다.\n",
    "배열 arr에서 연속적으로 나타나는 숫자는 제거하고 남은 수들을 return 하는 solution 함수를 완성해 주세요."
   ]
  },
  {
   "cell_type": "code",
   "execution_count": 42,
   "id": "71f676d7-ab09-41f6-a40d-9dd8ef845b11",
   "metadata": {},
   "outputs": [],
   "source": [
    "# 이것은 내가 푼 문제인가, 아닌가....\n",
    "def solution(arr):\n",
    "    arr_li = []\n",
    "    for i in arr:\n",
    "        if arr_li[-1:] != [i]:   # for문을 도는 동안 arr_li에 마지막 값과 [i]가 일치하지 않으면 arr_li에 append\n",
    "            arr_li.append(i)\n",
    "    return arr_li"
   ]
  },
  {
   "cell_type": "code",
   "execution_count": 43,
   "id": "9a2b0278-ee68-44e9-9c12-a68ca619c055",
   "metadata": {
    "tags": []
   },
   "outputs": [
    {
     "data": {
      "text/plain": [
       "[1, 3, 0, 1]"
      ]
     },
     "execution_count": 43,
     "metadata": {},
     "output_type": "execute_result"
    }
   ],
   "source": [
    "solution([1, 1, 3, 3, 0, 1, 1])"
   ]
  }
 ],
 "metadata": {
  "kernelspec": {
   "display_name": "Python 3 (ipykernel)",
   "language": "python",
   "name": "python3"
  },
  "language_info": {
   "codemirror_mode": {
    "name": "ipython",
    "version": 3
   },
   "file_extension": ".py",
   "mimetype": "text/x-python",
   "name": "python",
   "nbconvert_exporter": "python",
   "pygments_lexer": "ipython3",
   "version": "3.10.7"
  }
 },
 "nbformat": 4,
 "nbformat_minor": 5
}
