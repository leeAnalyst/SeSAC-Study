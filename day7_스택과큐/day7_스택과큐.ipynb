{
 "cells": [
  {
   "cell_type": "markdown",
   "id": "a40ab807-dbd8-47e2-85ac-95985cc81548",
   "metadata": {},
   "source": [
    "## 스택\n",
    "* 삽입과 삭제가 후입선출 (LIFO: Last In Firtst Out) ex) 빨래통\n",
    "* 새 값이 들어가면 top이 새 값을 가리킴\n",
    "* top: 삽입, 삭제가 일어나는 위치\n",
    "* s.append(data): 데이터를 새로 삽입\n",
    "* s.pop(): 데이터를 삭제 + 반환\n",
    "* s[-1]: top 위치의 데이터 확인\n",
    "\n",
    "<img src=\"https://img1.daumcdn.net/thumb/R1280x0/?scode=mtistory2&fname=https%3A%2F%2Fblog.kakaocdn.net%2Fdn%2FbcgR9A%2FbtqSX70PCTe%2FdMSMQoJcZhDpq4sRRpu3A0%2Fimg.png\" width=300 height= 500/>\n",
    "\n",
    "\n",
    "* 참고링크\n",
    "    * https://yoongrammer.tistory.com/45"
   ]
  },
  {
   "cell_type": "code",
   "execution_count": 2,
   "id": "94e4c17d-5f6c-4d9b-afa5-abc18aaf3732",
   "metadata": {},
   "outputs": [
    {
     "data": {
      "text/plain": [
       "2"
      ]
     },
     "execution_count": 2,
     "metadata": {},
     "output_type": "execute_result"
    }
   ],
   "source": [
    "# list based\n",
    "stack = []\n",
    "stack.append(1) # push (데이터 추가) \n",
    "stack.append(2)\n",
    "stack.pop() # pop (데이터 삭제, 추출)"
   ]
  },
  {
   "cell_type": "markdown",
   "id": "4ebbb969-55f5-489d-9698-03a9552c2314",
   "metadata": {},
   "source": [
    "## 큐\n",
    "* 삽입과 삭제가 선입선출 (FIFO: First In First Out) ex) 줄서기\n",
    "* 먼저 들어온 데이턷가 먼저 나감\n",
    "* 값 추가는 rear에서!\n",
    "* 값 삭제는 front에서!\n",
    "* rear(back): 큐의 가장 마지막 데이터\n",
    "* front: 큐의 첫번째 데이터\n",
    "* q.append(data): 데이터 삽입\n",
    "* q.popleft(): 삭제 + 반환\n",
    "* q[0]: 맨 앞 데이터 확인\n",
    "\n",
    "<img src=\"https://velog.velcdn.com/images%2Fsuitepotato%2Fpost%2F482139b5-de8a-41bf-af3b-1e5ae1519773%2Fqueue_concept_01.PNG\"/>\n",
    "\n",
    "* 참고링크\n",
    "    * https://velog.io/@suitepotato/00004"
   ]
  },
  {
   "cell_type": "code",
   "execution_count": 6,
   "id": "0ea620b9-60f8-4eca-a61f-d9a1ee65b517",
   "metadata": {},
   "outputs": [
    {
     "data": {
      "text/plain": [
       "1"
      ]
     },
     "execution_count": 6,
     "metadata": {},
     "output_type": "execute_result"
    }
   ],
   "source": [
    "# list based\n",
    "q = []\n",
    "q.append(1) # enqueue: 데이터 추가\n",
    "q.append(2)\n",
    "\n",
    "q.pop(0) # dequeue: 데이터 삭제, 추출"
   ]
  },
  {
   "cell_type": "markdown",
   "id": "663b2053-a4a8-4fe3-b71d-c4cde5ad0473",
   "metadata": {},
   "source": [
    "## 구현\n",
    "* 리스트나 deque 사용\n",
    "\n",
    "* 스택: https://www.acmicpc.net/problem/10828\n",
    "* 큐: https://www.acmicpc.net/problem/10845"
   ]
  },
  {
   "cell_type": "code",
   "execution_count": 9,
   "id": "408aeea2-deb5-4c1a-afc8-b7c28964e68f",
   "metadata": {},
   "outputs": [
    {
     "data": {
      "text/plain": [
       "2"
      ]
     },
     "execution_count": 9,
     "metadata": {},
     "output_type": "execute_result"
    }
   ],
   "source": [
    "# deque based\n",
    "\n",
    "from collections import deque\n",
    "\n",
    "# stack\n",
    "stack = deque()\n",
    "stack.append(1)\n",
    "stack.append(2)\n",
    "stack.pop()"
   ]
  },
  {
   "cell_type": "code",
   "execution_count": 12,
   "id": "2f392a78-7d5e-4393-8808-fbc9403db36f",
   "metadata": {},
   "outputs": [
    {
     "data": {
      "text/plain": [
       "3"
      ]
     },
     "execution_count": 12,
     "metadata": {},
     "output_type": "execute_result"
    }
   ],
   "source": [
    "# queue\n",
    "queue = deque()\n",
    "queue.append(3)\n",
    "queue.append(4)\n",
    "queue.popleft()"
   ]
  },
  {
   "cell_type": "markdown",
   "id": "e52ec51d-609f-4eee-8e94-28b4211689e2",
   "metadata": {},
   "source": [
    "# 숙제 (자료구조는 너무 어려워.....)\n",
    "\n",
    "https://school.programmers.co.kr/learn/courses/30/lessons/12906"
   ]
  }
 ],
 "metadata": {
  "kernelspec": {
   "display_name": "Python 3 (ipykernel)",
   "language": "python",
   "name": "python3"
  },
  "language_info": {
   "codemirror_mode": {
    "name": "ipython",
    "version": 3
   },
   "file_extension": ".py",
   "mimetype": "text/x-python",
   "name": "python",
   "nbconvert_exporter": "python",
   "pygments_lexer": "ipython3",
   "version": "3.9.13"
  }
 },
 "nbformat": 4,
 "nbformat_minor": 5
}
