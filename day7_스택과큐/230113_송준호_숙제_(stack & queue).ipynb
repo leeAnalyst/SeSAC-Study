{
 "cells": [
  {
   "attachments": {
    "2f9c59b8-aeac-4700-a2c1-972534d5976b.png": {
     "image/png": "[encoded data removed]"
    }
   },
   "cell_type": "markdown",
   "id": "981e858b-386d-4cc4-b262-4163f8e92336",
   "metadata": {},
   "source": [
    "https://school.programmers.co.kr/learn/courses/30/lessons/12906\n",
    "\n",
    "배열 arr가 주어집니다. 배열 arr의 각 원소는 숫자 0부터 9까지로 이루어져 있습니다. 이때, 배열 arr에서 연속적으로 나타나는 숫자는 하나만 남기고 전부 제거하려고 합니다. 단, 제거된 후 남은 수들을 반환할 때는 배열 arr의 원소들의 순서를 유지해야 합니다. 예를 들면,\n",
    "\n",
    "arr = [1, 1, 3, 3, 0, 1, 1] 이면 [1, 3, 0, 1] 을 return 합니다.\n",
    "arr = [4, 4, 4, 3, 3] 이면 [4, 3] 을 return 합니다.\n",
    "배열 arr에서 연속적으로 나타나는 숫자는 제거하고 남은 수들을 return 하는 solution 함수를 완성해 주세요.\n",
    "![image.png](attachment:2f9c59b8-aeac-4700-a2c1-972534d5976b.png)"
   ]
  },
  {
   "cell_type": "code",
   "execution_count": 1,
   "id": "5700fdb9-82cc-4e7f-88bc-60faf912341f",
   "metadata": {},
   "outputs": [],
   "source": [
    "def solution(arr):\n",
    "    result = []\n",
    "    result.append(arr[0]) # 처음에 비교를 시작할 수 있는 arr의 첫번째 값을 넣어놓고 시작\n",
    "    for i in range(1, len(arr)): # 첫번째 값을 넣고 시작하였으므로 0번째가 아닌 1번째 인덱스부터 for문 돌려 비교\n",
    "        if arr[i] != arr[i-1]: # 1번째 인덱스부터 시작해서 돌아가는 for문에서 n번째 인덱스 값이 n-1번째 인덱스 값과 다르면\n",
    "            result.append(arr[i]) # result에 추가해준다\n",
    "    return result"
   ]
  }
 ],
 "metadata": {
  "kernelspec": {
   "display_name": "Python 3 (ipykernel)",
   "language": "python",
   "name": "python3"
  },
  "language_info": {
   "codemirror_mode": {
    "name": "ipython",
    "version": 3
   },
   "file_extension": ".py",
   "mimetype": "text/x-python",
   "name": "python",
   "nbconvert_exporter": "python",
   "pygments_lexer": "ipython3",
   "version": "3.11.1"
  }
 },
 "nbformat": 4,
 "nbformat_minor": 5
}
