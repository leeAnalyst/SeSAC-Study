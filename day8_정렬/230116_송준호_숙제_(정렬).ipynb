{
 "cells": [
  {
   "cell_type": "code",
   "execution_count": null,
   "id": "f2c00070-a0fa-4498-9d15-7fed2d8ea273",
   "metadata": {},
   "outputs": [],
   "source": [
    "#버블정렬\n",
    "\n",
    "def bubble_sort(array):\n",
    "    for i in range(len(array)):\n",
    "        for j in range(len(array)):\n",
    "            if array[j] > array[j+1]:\n",
    "                array[j], array[j+1] = array[j+1], array[j]\n",
    "                \n",
    "# 가장 첫번째 원소부터 시작해서 오른쪽에 있는원소들을 하나하나 비교해서 바꿔주는것을 원소의 수 만큼 반복하기 때문에\n",
    "# 로그시간 복잡도로 시간이 늘어날 수 있음"
   ]
  },
  {
   "cell_type": "code",
   "execution_count": null,
   "id": "d464a2b9-a79b-4a37-b47e-699034a61448",
   "metadata": {},
   "outputs": [],
   "source": [
    "# 삽입정렬\n",
    "\n",
    "def insert_sort(array):\n",
    "    for i in range(1, len(array)): # 왼쪽의 원소와 비교하기 때문에 첫 시작은 0번째가 아닌 1번째 인덱스의 값 부터 시작한다.\n",
    "        for j in range(i, 0, -1): # i 부터 0번째까지 쭉 비교하되 -1의 방향, 즉 오른쪽에서 시작해 왼쪽 방향으로 비교한다.\n",
    "            if array[j-1] > array[j]:\n",
    "                array[j-1], array[j] = array[j], array[j-1]\n",
    "    return array\n",
    "\n",
    "# 1번째 인덱스 값부터 시작해서 왼쪽의 값을 차례대로 비교하여 \n",
    "# 자기보다 왼쪽 인덱스의 값이 크면 서로 자리교체 하는 것을 끝번째 인덱스까지 반복한다"
   ]
  },
  {
   "cell_type": "code",
   "execution_count": 2,
   "id": "576ad33c-0235-4066-babd-34285934614b",
   "metadata": {},
   "outputs": [],
   "source": [
    "# 선택정렬\n",
    "\n",
    "def selection_sort(array):\n",
    "    for i in range(len(array)):\n",
    "        min_idx = i\n",
    "        for j in range(i+1, len(array)):\n",
    "            if array[min_idx] > array[j]:\n",
    "                min_idx = j\n",
    "        array[min_idx], array[i] = array[i], array[min_idx]\n",
    "    return array\n",
    "\n",
    "# 가장 왼쪽에 있는 인덱스부터 시작해 오른쪽의 값들을 하나씩 비교해 나가면서 기준이 되는 값보다 작은 값이 발견되면 그 값을 고정해\n",
    "# 끝까지 비교하는 것을 반복하고 한 싸이클이 돌면 기준이된 인덱스에 마지막에 고정된 인덱스값(최소값)을 넣어주는것을 반복한다"
   ]
  },
  {
   "cell_type": "code",
   "execution_count": null,
   "id": "afa60812-2401-4b0e-8bbe-6c430cdab6cc",
   "metadata": {},
   "outputs": [],
   "source": [
    "#2분할 하는 것만 따로 빼서 마지막 return부분에 양분된 리스트를 정렬하는 함수를 적용하는 함수\n",
    "\n",
    "def merge_sort(list):\n",
    "    if len(list) <= 1:\n",
    "        return list\n",
    "    mid = len(list) // 2\n",
    "    leftList = list[:mid] #2분할\n",
    "    rightList = list[mid:] #2분할\n",
    "    leftList = merge_sort(leftList) #재귀함수 통해서 위의 코드 반복\n",
    "    rightList = merge_sort(rightList) #재귀함수 통해서 위의 코드 반복\n",
    "    return merge(leftList, rightList) #\n",
    "\n",
    "# 양분된 리스트를 정렬하는 함수\n",
    "def merge(left, right):\n",
    "    result = []\n",
    "    while len(left) > 0 or len(right) > 0:\n",
    "        if len(left) > 0 and len(right) > 0:\n",
    "            if left[0] <= right[0]:\n",
    "                result.append(left[0])\n",
    "                left = left[1:]\n",
    "            else:\n",
    "                result.append(right[0])\n",
    "                right = right[1:] #right에는 1번째 인덱스가 없기 때문에 right를 빈리스트로 만들어준다.\n",
    "        elif len(left) > 0:\n",
    "            result.append(left[0])\n",
    "            left = left[1:]\n",
    "        elif len(right) > 0:\n",
    "            result.append(right[0])\n",
    "            right = right[1:]\n",
    "    return result"
   ]
  }
 ],
 "metadata": {
  "kernelspec": {
   "display_name": "Python 3 (ipykernel)",
   "language": "python",
   "name": "python3"
  },
  "language_info": {
   "codemirror_mode": {
    "name": "ipython",
    "version": 3
   },
   "file_extension": ".py",
   "mimetype": "text/x-python",
   "name": "python",
   "nbconvert_exporter": "python",
   "pygments_lexer": "ipython3",
   "version": "3.11.1"
  }
 },
 "nbformat": 4,
 "nbformat_minor": 5
}
