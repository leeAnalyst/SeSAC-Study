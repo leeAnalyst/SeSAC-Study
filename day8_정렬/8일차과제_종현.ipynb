{
 "cells": [
  {
   "cell_type": "markdown",
   "id": "73a66653-09d2-4314-8a3e-e953dd8f201c",
   "metadata": {},
   "source": [
    "### 버블정렬"
   ]
  },
  {
   "cell_type": "code",
   "execution_count": 3,
   "id": "fbe9013c-f787-494b-994e-2d5e729db251",
   "metadata": {},
   "outputs": [],
   "source": [
    "def bubble_sort(array):\n",
    "    for i in range(len(array)):           # 입력받은 array의 길이 만큼 i 변수로\n",
    "        for j in range(len(array)-i-1):   # 다시 for문 안에 for문으로 원본 array -i -1만큼 돈다.(마지막 자리에 정렬되는 원소 제외하기 위해)\n",
    "            if array[j] > array[j+1]:         # 앞의 원소가 뒤의 원소보다 크다면\n",
    "                array[j], array[j+1] = array[j+1], array[j]  # 앞 원소와 뒤 원소의 자리를 뒤바꾸어준다."
   ]
  },
  {
   "cell_type": "markdown",
   "id": "64acceab-4e0d-4465-a78d-5f84973d3764",
   "metadata": {},
   "source": [
    "### 삽입정렬"
   ]
  },
  {
   "cell_type": "code",
   "execution_count": 4,
   "id": "7b136649-1ac8-4a1b-b669-e0543e570c51",
   "metadata": {},
   "outputs": [],
   "source": [
    "def insert_sort(array):\n",
    "    for i in range(1, len(array)):     # 역방향으로 돌기 때문에 첫 비교대상이 없는 0번째가 아닌 1번째 index부터\n",
    "        for j in range(i, 0, -1):      # i ~ 0 까지 -1방향으로(즉 역방향으로 탐색)\n",
    "            if array[j-1] > array[j]:\n",
    "                array[j-1], array[j] = array[j], array[j-1]\n",
    "    return array"
   ]
  },
  {
   "cell_type": "markdown",
   "id": "09357d98-bcbb-4c8c-87cf-310e30a5e04c",
   "metadata": {},
   "source": [
    "### 선택정렬"
   ]
  },
  {
   "cell_type": "code",
   "execution_count": 5,
   "id": "8b0454cd-ef23-496f-84db-7788e465d52a",
   "metadata": {},
   "outputs": [],
   "source": [
    "def selection_sort(array):\n",
    "    for i in range(len(array)):\n",
    "        min_idx = i                          # i를 최솟값 index인 min_idx로 지정\n",
    "        for j in range(i+1, len(array)):     # i와 그 다음 대상이 비교되어야 하기 때문에 i+1이 시작값\n",
    "            if array[min_idx] > array[j]:    # array[min_idx]와 array[j]를 비교하여 array[min_idx]가 더 클 경우\n",
    "                min_idx = j                  # min_idx는 j로 바뀐다.\n",
    "        array[min_idx], array[i] = array[i], array[min_idx]  # 위 if문을 빠져나와 array[min_idx]와 array[i]의 위치를 바꿔준다.\n",
    "    return array"
   ]
  },
  {
   "cell_type": "markdown",
   "id": "b0f4318c-3c6a-4011-8f11-8e39095d30db",
   "metadata": {},
   "source": [
    "### 병합정렬"
   ]
  },
  {
   "cell_type": "code",
   "execution_count": 6,
   "id": "edc15c6f-877f-4098-914d-382d9d0ec24e",
   "metadata": {},
   "outputs": [],
   "source": [
    "#  분할 과정, 1개의 원소를 갖는 list가 나올 때까지\n",
    "def merge_sort(list):\n",
    "    if len(list) <= 1:\n",
    "        return list\n",
    "    mid = len(list) // 2\n",
    "    leftList = list[:mid]\n",
    "    rightList = list[mid:]\n",
    "    leftList = merge_sort(leftList)\n",
    "    rightList = merge_sort(rightList)\n",
    "    return merge(leftList, rightList)   # 반환 값이 아래의 merge함수이므로 아래 merge의 과정이 두 번 실행되어 각각 순서대로 leftlist, rightlist 매개변수에 대입된다."
   ]
  },
  {
   "cell_type": "code",
   "execution_count": 8,
   "id": "c37d57aa-d286-4d31-bd15-59fdae877301",
   "metadata": {},
   "outputs": [],
   "source": [
    "# merge과정\n",
    "def merge(leftList, rightList):\n",
    "    result = []\n",
    "    while len(left) > 0 or len(right) > 0:    # 위에서 분할된 각각의 list가 둘 중에 하나라도 0보다 클 경우 while문 작동\n",
    "        if len(left) > 0 and len(right) > 0:\n",
    "            if left[0] <= right[0]:\n",
    "                result.append(left[0])\n",
    "                left = left[1:]\n",
    "            else:\n",
    "                result.append(right[0])       # result에 append에 쌓아줌\n",
    "                right = right[1:]             # right = None\n",
    "        elif len(left) > 0:\n",
    "            result.append(left[0])\n",
    "            left = left[1:]\n",
    "        elif len(right) > 0:\n",
    "            result.append(right[0])\n",
    "            right = right[1:]\n",
    "    return result                             # 반환되는 result가 위 merge_sort함수의 반환값인 merge의 매개변수로 대입된다."
   ]
  }
 ],
 "metadata": {
  "kernelspec": {
   "display_name": "Python 3 (ipykernel)",
   "language": "python",
   "name": "python3"
  },
  "language_info": {
   "codemirror_mode": {
    "name": "ipython",
    "version": 3
   },
   "file_extension": ".py",
   "mimetype": "text/x-python",
   "name": "python",
   "nbconvert_exporter": "python",
   "pygments_lexer": "ipython3",
   "version": "3.10.7"
  }
 },
 "nbformat": 4,
 "nbformat_minor": 5
}
