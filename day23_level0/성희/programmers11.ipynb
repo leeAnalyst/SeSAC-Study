{
 "cells": [
  {
   "cell_type": "code",
   "execution_count": null,
   "id": "de58fec4-bc86-4e57-8bd4-057c01b5bce7",
   "metadata": {},
   "outputs": [],
   "source": []
  },
  {
   "cell_type": "code",
   "execution_count": null,
   "id": "c510a7fb-6777-4386-9492-111335918740",
   "metadata": {},
   "outputs": [],
   "source": []
  },
  {
   "cell_type": "code",
   "execution_count": null,
   "id": "42e68d63-83e8-414c-bf7f-e8eedada824d",
   "metadata": {},
   "outputs": [],
   "source": []
  },
  {
   "cell_type": "markdown",
   "id": "1829c51a-e8c1-4c78-81ce-51725d034c0e",
   "metadata": {},
   "source": [
    "# 순서쌍의 개수"
   ]
  },
  {
   "cell_type": "markdown",
   "id": "47b3cae4-fe2a-4b9f-bc94-0c2c171ae815",
   "metadata": {},
   "source": [
    "약수로만 해도되나?"
   ]
  },
  {
   "cell_type": "code",
   "execution_count": 3,
   "id": "7846b36e-f20c-45f1-a4f4-7a75ff534934",
   "metadata": {},
   "outputs": [
    {
     "name": "stdout",
     "output_type": "stream",
     "text": [
      "9\n"
     ]
    }
   ],
   "source": [
    "n = 100\n",
    "\n",
    "answer = 0\n",
    "for i in range(1,n+1):\n",
    "    if n % i == 0:\n",
    "        answer += 1\n",
    "print(answer)"
   ]
  },
  {
   "cell_type": "code",
   "execution_count": null,
   "id": "342220a6-8000-442b-af67-a7f03dae24de",
   "metadata": {},
   "outputs": [],
   "source": []
  },
  {
   "cell_type": "markdown",
   "id": "1d4d2c86-273f-42be-a8bd-d6fc3b31a7cf",
   "metadata": {},
   "source": [
    "<b>더하기 생각."
   ]
  },
  {
   "cell_type": "markdown",
   "id": "f9cc6bb2-3dec-49c4-9a72-a2e3a323d4c0",
   "metadata": {
    "tags": []
   },
   "source": [
    "# 진료 순서 정하기"
   ]
  },
  {
   "cell_type": "code",
   "execution_count": 35,
   "id": "7ca2106c-0b8c-4a22-b6fe-80f386045e2f",
   "metadata": {},
   "outputs": [],
   "source": []
  },
  {
   "cell_type": "markdown",
   "id": "71bde5c4-81a3-40d4-b160-7254f9250280",
   "metadata": {},
   "source": [
    "문제 분석\n",
    "1.\n"
   ]
  },
  {
   "cell_type": "markdown",
   "id": "2b6d05cb-9c25-4220-ae0d-7ee23e738b4d",
   "metadata": {},
   "source": [
    "방법 1"
   ]
  },
  {
   "cell_type": "code",
   "execution_count": 37,
   "id": "dccde62b-5cf0-4b5f-9171-12111b11d30c",
   "metadata": {},
   "outputs": [
    {
     "data": {
      "text/plain": [
       "[2, 4, 3, 5, 1]"
      ]
     },
     "execution_count": 37,
     "metadata": {},
     "output_type": "execute_result"
    }
   ],
   "source": [
    "emergency = [30, 10, 23, 6, 100]\n",
    "\n",
    "result = []\n",
    "for num1 in emergency:  #  [30, 10, 23, 6, 100]\n",
    "    count = 0\n",
    "    for num2 in emergency:  #  [30, 10, 23, 6, 100]\n",
    "        if num1 <= num2:  # 30의경우 30, 100밖에 안되므로 2\n",
    "            count += 1\n",
    "    result.append(count)\n",
    "result"
   ]
  },
  {
   "cell_type": "markdown",
   "id": "ccb39540-9107-4b7e-9c3a-5870c0f6509c",
   "metadata": {},
   "source": [
    "방법 2"
   ]
  },
  {
   "cell_type": "code",
   "execution_count": null,
   "id": "244dad70-882c-4342-b210-83ac6a57024f",
   "metadata": {},
   "outputs": [],
   "source": [
    "answer = []\n",
    "for e in emergency:\n",
    "    answer.append(sorted(emergency, reverse =True).index(e) + 1)\n",
    "answer"
   ]
  },
  {
   "cell_type": "code",
   "execution_count": null,
   "id": "16ff34f5-b127-40db-8b64-a97d1d67cda2",
   "metadata": {},
   "outputs": [],
   "source": []
  },
  {
   "cell_type": "markdown",
   "id": "01deee09-7be5-4bb9-a999-c827e4a864ff",
   "metadata": {},
   "source": [
    "<b>더하기 생각."
   ]
  },
  {
   "cell_type": "markdown",
   "id": "a8fd148c-ce34-4b58-85e8-81f52f203e6c",
   "metadata": {
    "tags": []
   },
   "source": [
    "# 외계행성의 나이"
   ]
  },
  {
   "cell_type": "markdown",
   "id": "076fc5fd-da43-4327-943f-22f6e9dd5d2c",
   "metadata": {},
   "source": []
  },
  {
   "cell_type": "markdown",
   "id": "bc9bab43-9de1-4c30-9b52-b9e080dff0de",
   "metadata": {},
   "source": [
    "문제 분석\n",
    "1.\n"
   ]
  },
  {
   "cell_type": "code",
   "execution_count": 12,
   "id": "dde3481e-0c79-4d49-8bb5-a08069eb1b09",
   "metadata": {},
   "outputs": [
    {
     "data": {
      "text/plain": [
       "'cd'"
      ]
     },
     "execution_count": 12,
     "metadata": {},
     "output_type": "execute_result"
    }
   ],
   "source": [
    "age = 23\n",
    "age = (str(age))\n",
    "age.replace('0', 'a').replace('1', 'b').replace('2', 'c').replace('3', 'd').replace('4', 'e').replace('5', 'f').replace('6', 'g').replace('7', 'h').replace('8', 'i').replace('9', 'j')\n",
    "\n",
    "    \n"
   ]
  },
  {
   "cell_type": "markdown",
   "id": "aa2a5f6d-9fdf-4611-865d-d37c74333011",
   "metadata": {},
   "source": [
    "<b>더하기 생각."
   ]
  },
  {
   "cell_type": "markdown",
   "id": "352d02ec-51ec-4042-ad0d-11c2855e797f",
   "metadata": {
    "tags": []
   },
   "source": [
    "# 양꼬치"
   ]
  },
  {
   "cell_type": "markdown",
   "id": "fc700010-7ab0-44b5-972b-ded5a9ab8ddc",
   "metadata": {},
   "source": []
  },
  {
   "cell_type": "markdown",
   "id": "ff525003-24d7-4b0e-9054-261e287d9c48",
   "metadata": {},
   "source": [
    "문제 분석\n",
    "1.\n"
   ]
  },
  {
   "cell_type": "code",
   "execution_count": 17,
   "id": "8963d4d8-7b44-45ba-a95e-a6fa832666cf",
   "metadata": {},
   "outputs": [
    {
     "data": {
      "text/plain": [
       "768000"
      ]
     },
     "execution_count": 17,
     "metadata": {},
     "output_type": "execute_result"
    }
   ],
   "source": [
    "n = 64\n",
    "k =6\n",
    "s= 0\n",
    "\n",
    "if n >= 10 :\n",
    "    s = n // 10\n",
    "\n",
    "result = n * 12000 + k * 2000 - s * 2000\n",
    "\n",
    "result"
   ]
  },
  {
   "cell_type": "code",
   "execution_count": null,
   "id": "0e891b3d-a76f-4aab-8a3e-80c081117e4c",
   "metadata": {},
   "outputs": [],
   "source": []
  },
  {
   "cell_type": "markdown",
   "id": "d6779346-c012-4745-9959-90c5955b1263",
   "metadata": {},
   "source": [
    "<b>더하기 생각."
   ]
  },
  {
   "cell_type": "markdown",
   "id": "ea69dc7d-783d-477d-9e89-60f87bdb8933",
   "metadata": {
    "tags": []
   },
   "source": [
    "# 배열 자르기"
   ]
  },
  {
   "cell_type": "markdown",
   "id": "440f1429-38f5-4237-901b-4f7cb650bbca",
   "metadata": {},
   "source": []
  },
  {
   "cell_type": "markdown",
   "id": "0b035976-5bef-4c59-af80-8b6b2e8892cb",
   "metadata": {},
   "source": [
    "문제 분석\n",
    "1.\n"
   ]
  },
  {
   "cell_type": "code",
   "execution_count": 19,
   "id": "320a54f5-14b9-4117-b7b5-18cc868d8e42",
   "metadata": {},
   "outputs": [
    {
     "name": "stdout",
     "output_type": "stream",
     "text": [
      "[2, 3, 4]\n"
     ]
    }
   ],
   "source": [
    "numbers = [1, 2, 3, 4, 5]\n",
    "num1 = 1\n",
    "num2 = 3\n",
    "\n",
    "numbers = numbers[num1:num2+1]\n",
    "print (numbers)\n"
   ]
  },
  {
   "cell_type": "code",
   "execution_count": null,
   "id": "e517c025-306f-4e43-b71f-91ef5a5d93ca",
   "metadata": {},
   "outputs": [],
   "source": []
  },
  {
   "cell_type": "markdown",
   "id": "0d24973c-45d2-4f47-8f19-79a1c9f92e6b",
   "metadata": {},
   "source": [
    "<b>더하기 생각."
   ]
  },
  {
   "cell_type": "markdown",
   "id": "191c95c5-0a30-416c-9d26-e4bdaf16023f",
   "metadata": {
    "tags": []
   },
   "source": [
    "# 짝수의 합"
   ]
  },
  {
   "cell_type": "markdown",
   "id": "78df9696-9200-43e1-b6b8-2dae299700a7",
   "metadata": {},
   "source": []
  },
  {
   "cell_type": "markdown",
   "id": "2c220469-0901-4c7f-b560-8f8233f0f50a",
   "metadata": {},
   "source": [
    "문제 분석\n",
    "1.\n"
   ]
  },
  {
   "cell_type": "code",
   "execution_count": 20,
   "id": "44488866-fbf5-4d47-bc4a-1765facdbc2c",
   "metadata": {},
   "outputs": [
    {
     "data": {
      "text/plain": [
       "30"
      ]
     },
     "execution_count": 20,
     "metadata": {},
     "output_type": "execute_result"
    }
   ],
   "source": [
    "n = 10\n",
    "\n",
    "sum([num for num in range(n+1) if num % 2 == 0])\n"
   ]
  },
  {
   "cell_type": "code",
   "execution_count": null,
   "id": "02bf36dc-74c7-4fe7-9be1-309eebfd0e96",
   "metadata": {},
   "outputs": [],
   "source": []
  },
  {
   "cell_type": "markdown",
   "id": "1031255c-0b17-4bfb-8811-c6bbb964c0c3",
   "metadata": {},
   "source": [
    "<b>더하기 생각."
   ]
  }
 ],
 "metadata": {
  "kernelspec": {
   "display_name": "Python 3 (ipykernel)",
   "language": "python",
   "name": "python3"
  },
  "language_info": {
   "codemirror_mode": {
    "name": "ipython",
    "version": 3
   },
   "file_extension": ".py",
   "mimetype": "text/x-python",
   "name": "python",
   "nbconvert_exporter": "python",
   "pygments_lexer": "ipython3",
   "version": "3.10.8"
  }
 },
 "nbformat": 4,
 "nbformat_minor": 5
}
