{
 "cells": [
  {
   "cell_type": "markdown",
   "id": "b0cb822c-fe63-48f7-849c-a57b237c8eb0",
   "metadata": {},
   "source": [
    "### 순서쌍의 개수 (120836)\n",
    "문제 : 순서쌍이란 두 개의 숫자를 순서를 정하여 짝지어 나타낸 쌍으로 (a, b)로 표기합니다. 자연수 n이 매개변수로 주어질 때 두 숫자의 곱이 n인 자연수 순서쌍의 개수를 return하도록 solution 함수를 완성해주세요."
   ]
  },
  {
   "cell_type": "code",
   "execution_count": null,
   "id": "d8d23a6a-cc92-4bb3-8773-54b37880a8da",
   "metadata": {},
   "outputs": [],
   "source": [
    "# 반복문으로 n+1까지 돌려 두 수의 곱이 n이 나오는 수들을 새로운 리스트에 append?!\n",
    "# for문 내 for문을 돌려야 곱셈가능, list보단 result에 1씩 더해주는게 나을 듯.\n",
    "# n이 커지면 연산횟수가 기하급수적으로 증가하여 시간초과가 발생함.\n",
    "# 약수를 구해 그 약수들의 조합을 구한다면?\n"
   ]
  },
  {
   "cell_type": "code",
   "execution_count": 13,
   "id": "b42bb069-c6ba-4021-a8b5-d2467ab00751",
   "metadata": {},
   "outputs": [
    {
     "data": {
      "text/plain": [
       "9"
      ]
     },
     "execution_count": 13,
     "metadata": {},
     "output_type": "execute_result"
    }
   ],
   "source": [
    "# 시간초과 (숫자가 커짐과 동시에 연산횟수가 증가함)\n",
    "\n",
    "def solution(n):\n",
    "    result = 0\n",
    "    for i in list(range(1, n+1)):\n",
    "        for v in list(range(1, n+1)):\n",
    "            if i*v == n:\n",
    "                result += 1\n",
    "        \n",
    "    return result\n",
    "\n",
    "solution(100)"
   ]
  },
  {
   "cell_type": "code",
   "execution_count": 28,
   "id": "3a0e0c21-a1de-4150-8dbe-8316691605c7",
   "metadata": {
    "tags": []
   },
   "outputs": [
    {
     "data": {
      "text/plain": [
       "12"
      ]
     },
     "execution_count": 28,
     "metadata": {},
     "output_type": "execute_result"
    }
   ],
   "source": [
    "def solution(n):\n",
    "    divisors = [i for i in range(1, n+1) if n%i == 0]\n",
    "    count = 0\n",
    "    for i in divisors:\n",
    "        if i*i == n:              # 약수들 중 자신과 자신을 곱했을 때 n이 나오는 경우는 연산횟수는 1번\n",
    "            count += 1\n",
    "        else:                     # 그렇지 않은 경우(i*i = n이 아닌 경우), (4, 5) or (5, 4) 두 번의 경우가 있기 때문에 연산횟수를 2추가\n",
    "            count += 2            # 하려 하였으나 결과의 정확히 2배가 되는 계산결과가 return됨\n",
    "                                  # 왜? (왜긴 조건을 잘 못 준거지.)\n",
    "    return count\n",
    "\n",
    "solution(20)"
   ]
  },
  {
   "cell_type": "code",
   "execution_count": 24,
   "id": "37a73f36-1904-47b8-ba83-af44a1b56c33",
   "metadata": {},
   "outputs": [
    {
     "data": {
      "text/plain": [
       "9"
      ]
     },
     "execution_count": 24,
     "metadata": {},
     "output_type": "execute_result"
    }
   ],
   "source": [
    "def solution(n):            \n",
    "    return len([i for i in range(1, n+1) if n%i == 0])    # 결과적으로 약수들의 길이와 곱셈하여 n이 나오는 조합의 수가 같은 것을 발견. (중복을 허용하기 때문에 이런 결과가 나오는 듯)\n",
    "\n",
    "solution(100)"
   ]
  },
  {
   "cell_type": "code",
   "execution_count": 7,
   "id": "2c653447-c94a-42ca-ba7f-be70ac30eb65",
   "metadata": {},
   "outputs": [
    {
     "data": {
      "text/plain": [
       "[1, 2, 3, 4, 5, 6, 7, 8, 9, 10, 11, 12, 13, 14, 15, 16, 17, 18, 19, 20]"
      ]
     },
     "execution_count": 7,
     "metadata": {},
     "output_type": "execute_result"
    }
   ],
   "source": [
    "list(range(1, 21))"
   ]
  }
 ],
 "metadata": {
  "kernelspec": {
   "display_name": "Python 3 (ipykernel)",
   "language": "python",
   "name": "python3"
  },
  "language_info": {
   "codemirror_mode": {
    "name": "ipython",
    "version": 3
   },
   "file_extension": ".py",
   "mimetype": "text/x-python",
   "name": "python",
   "nbconvert_exporter": "python",
   "pygments_lexer": "ipython3",
   "version": "3.10.7"
  }
 },
 "nbformat": 4,
 "nbformat_minor": 5
}
