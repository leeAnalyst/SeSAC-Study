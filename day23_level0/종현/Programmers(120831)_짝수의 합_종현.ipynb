{
 "cells": [
  {
   "cell_type": "markdown",
   "id": "1f1b1a7e-139a-4b40-ac0d-0cfdcef98139",
   "metadata": {},
   "source": [
    "### 짝수의 합 (120831)\n",
    "문제 : 정수 n이 주어질 때, n이하의 짝수를 모두 더한 값을 return 하도록 solution 함수를 작성해주세요."
   ]
  },
  {
   "cell_type": "code",
   "execution_count": 11,
   "id": "044c0bad-2528-4de7-bd01-4781feb72d52",
   "metadata": {},
   "outputs": [
    {
     "data": {
      "text/plain": [
       "30"
      ]
     },
     "execution_count": 11,
     "metadata": {},
     "output_type": "execute_result"
    }
   ],
   "source": [
    "def solution(n):\n",
    "    return sum([i for i in range(0, n+1) if i % 2 == 0])\n",
    "\n",
    "solution(10)"
   ]
  }
 ],
 "metadata": {
  "kernelspec": {
   "display_name": "Python 3 (ipykernel)",
   "language": "python",
   "name": "python3"
  },
  "language_info": {
   "codemirror_mode": {
    "name": "ipython",
    "version": 3
   },
   "file_extension": ".py",
   "mimetype": "text/x-python",
   "name": "python",
   "nbconvert_exporter": "python",
   "pygments_lexer": "ipython3",
   "version": "3.10.7"
  }
 },
 "nbformat": 4,
 "nbformat_minor": 5
}
