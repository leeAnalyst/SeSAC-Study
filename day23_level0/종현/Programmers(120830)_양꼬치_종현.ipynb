{
 "cells": [
  {
   "cell_type": "markdown",
   "id": "b0a7b0ff-5934-45d6-b215-03b573766dff",
   "metadata": {},
   "source": [
    "### 양꼬치 (120830)\n",
    "문제 : 머쓱이네 양꼬치 가게는 10인분을 먹으면 음료수 하나를 서비스로 줍니다. 양꼬치는 1인분에 12,000원, 음료수는 2,000원입니다. 정수 n과 k가 매개변수로 주어졌을 때, 양꼬치 n인분과 음료수 k개를 먹었다면 총얼마를 지불해야 하는지 return 하도록 solution 함수를 완성해보세요."
   ]
  },
  {
   "cell_type": "code",
   "execution_count": 2,
   "id": "f30e35bb-b099-4ecb-9725-e1e5a04b0861",
   "metadata": {},
   "outputs": [
    {
     "data": {
      "text/plain": [
       "124000"
      ]
     },
     "execution_count": 2,
     "metadata": {},
     "output_type": "execute_result"
    }
   ],
   "source": [
    "def solution(n, k):\n",
    "    if n >= 10*(n//10):             # n이 10의 자리 수 이상인 경우 / ex) n=10 -> 10//10 = 1, 1*10=10, n>=10  --> True / 즉, n이 일의 자리 수가 0이 아니면 True를 반환\n",
    "        yang = n*12000              # 양꼬치의 가격\n",
    "        drink = (k-(n//10))*2000    # 음료수 가격, (n//10)은 10의 자리수\n",
    "    else:                           # n이 10의 자리 수 미만인 경우 / 즉, n의 일의 자리 수가 0인 경우\n",
    "        yang = n*12000              \n",
    "        drink = k*2000\n",
    "    return yang + drink       \n",
    "\n",
    "solution(10, 3)"
   ]
  }
 ],
 "metadata": {
  "kernelspec": {
   "display_name": "Python 3 (ipykernel)",
   "language": "python",
   "name": "python3"
  },
  "language_info": {
   "codemirror_mode": {
    "name": "ipython",
    "version": 3
   },
   "file_extension": ".py",
   "mimetype": "text/x-python",
   "name": "python",
   "nbconvert_exporter": "python",
   "pygments_lexer": "ipython3",
   "version": "3.10.7"
  }
 },
 "nbformat": 4,
 "nbformat_minor": 5
}
