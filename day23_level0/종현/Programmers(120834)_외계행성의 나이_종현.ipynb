{
 "cells": [
  {
   "cell_type": "markdown",
   "id": "a5268e33-fb62-4b1e-952b-09934241906d",
   "metadata": {},
   "source": [
    "### 외계행성의 나이 (120834)\n",
    "문제 : 우주여행을 하던 머쓱이는 엔진 고장으로 PROGRAMMERS-962 행성에 불시착하게 됐습니다. 입국심사에서 나이를 말해야 하는데, PROGRAMMERS-962 행성에서는 나이를 알파벳으로 말하고 있습니다. a는 0, b는 1, c는 2, ..., j는 9입니다. 예를 들어 23살은 cd, 51살은 fb로 표현합니다. 나이 age가 매개변수로 주어질 때 PROGRAMMER-962식 나이를 return하도록 solution 함수를 완성해주세요."
   ]
  },
  {
   "cell_type": "code",
   "execution_count": 37,
   "id": "7b1aa587-7421-43fc-90d2-5fa88515007b",
   "metadata": {},
   "outputs": [
    {
     "data": {
      "text/plain": [
       "'a'"
      ]
     },
     "execution_count": 37,
     "metadata": {},
     "output_type": "execute_result"
    }
   ],
   "source": [
    "chr(97)"
   ]
  },
  {
   "cell_type": "code",
   "execution_count": 15,
   "id": "4e0d42db-5e5b-4381-938d-1e2151f73cf7",
   "metadata": {},
   "outputs": [
    {
     "data": {
      "text/plain": [
       "'abaa'"
      ]
     },
     "execution_count": 15,
     "metadata": {},
     "output_type": "execute_result"
    }
   ],
   "source": [
    "def solution(age):\n",
    "    thousand = age//1000\n",
    "    hundred = age//100 - thousand*10\n",
    "    ten = age//10 - thousand*100 - hundred*10\n",
    "    one = age%10\n",
    "    return chr(thousand + 97) + chr(hundred + 97) + chr(ten + 97) + chr(one + 97)\n",
    "\n",
    "solution(100)"
   ]
  },
  {
   "cell_type": "code",
   "execution_count": 1,
   "id": "cc154e4c-20e7-4a9f-ac63-aed868976b1d",
   "metadata": {},
   "outputs": [
    {
     "data": {
      "text/plain": [
       "'baa'"
      ]
     },
     "execution_count": 1,
     "metadata": {},
     "output_type": "execute_result"
    }
   ],
   "source": [
    "def solution(age):\n",
    "    \n",
    "    thousand = age//1000                         # 1000의 자리\n",
    "    if thousand != 0:                            # 1000의 자리가 0이 아닐 경우\n",
    "        thousand = chr(thousand + 97)            # 그에 해당하는 알파벳값을 return\n",
    "    else:                                        # 0일 경우 공백을 return\n",
    "        thousand = \"\"\n",
    "        \n",
    "    hundred = (age//100) % 10                    # 100의 자리\n",
    "    if hundred != 0:\n",
    "        hundred = chr(hundred + 97)\n",
    "    else:\n",
    "        hundred = \"\"\n",
    "        \n",
    "    ten = (age//10) % 10                         # 10의 자리\n",
    "    one = age%10                                 # 1의 자리\n",
    "    return thousand + hundred + chr(ten + 97) + chr(one + 97)\n",
    "\n",
    "solution(100)"
   ]
  },
  {
   "cell_type": "code",
   "execution_count": 18,
   "id": "895cd608-46fa-4245-972b-f69581d13d1d",
   "metadata": {},
   "outputs": [
    {
     "data": {
      "text/plain": [
       "'fb'"
      ]
     },
     "execution_count": 18,
     "metadata": {},
     "output_type": "execute_result"
    }
   ],
   "source": [
    "# 1번 4번 test case에서 자꾸 에러가 남\n",
    "\n",
    "def solution(age):\n",
    "    \n",
    "    thousand = age//1000                         # 1000의 자리\n",
    "    if thousand != 0:                            # 1000의 자리가 0이 아닐 경우\n",
    "        thousand = chr(thousand + 97)            # 그에 해당하는 알파벳값을 return\n",
    "    else:                                        # 0일 경우 공백을 return\n",
    "        thousand = \"\"\n",
    "        \n",
    "    hundred = (age//100) % 10                    # 100의 자리\n",
    "    if hundred != 0:\n",
    "        hundred = chr(hundred + 97)\n",
    "    else:\n",
    "        hundred = \"\"\n",
    "        \n",
    "    ten = (age//10) % 10                         # 10의 자리\n",
    "    one = age%10                                 # 1의 자리\n",
    "    return ''.join([thousand, hundred, chr(ten + 97), chr(one + 97)])\n",
    "\n",
    "solution(51)"
   ]
  },
  {
   "cell_type": "code",
   "execution_count": 19,
   "id": "c9d65324-d273-4644-88fc-dd5cede1116c",
   "metadata": {},
   "outputs": [
    {
     "data": {
      "text/plain": [
       "'baa'"
      ]
     },
     "execution_count": 19,
     "metadata": {},
     "output_type": "execute_result"
    }
   ],
   "source": [
    "# 위 코드를 list comprehension으로 줄인 code\n",
    "def solution(age):\n",
    "    \n",
    "    thousand = chr((age//1000) + 97) if age//1000 != 0 else \"\"\n",
    "    hundred = chr(((age//100) % 10) + 97) if (age//100) % 10 != 0 else \"\"\n",
    "    ten = chr((age//10 % 10) + 97)\n",
    "    one = chr((age% 10) + 97)\n",
    "    \n",
    "    return ''.join([thousand + hundred + ten + one])\n",
    "\n",
    "solution(100)"
   ]
  },
  {
   "cell_type": "code",
   "execution_count": 36,
   "id": "bbf69524-06d7-475a-bc98-c6d1e933e27a",
   "metadata": {},
   "outputs": [
    {
     "data": {
      "text/plain": [
       "'fb'"
      ]
     },
     "execution_count": 36,
     "metadata": {},
     "output_type": "execute_result"
    }
   ],
   "source": [
    "# age를 string형태로 형변환하여 for문을 돌려 빈 문자열 answer에 chr()로 문자열로 변환하여 계속 더해줌 \n",
    "\n",
    "def solution(age):\n",
    "    answer = ''\n",
    "    for i in str(age):\n",
    "        answer += chr(int(i) + 97)\n",
    "    return answer\n",
    "        \n",
    "solution(51)"
   ]
  },
  {
   "cell_type": "code",
   "execution_count": 34,
   "id": "432842dc-8ab1-4c9d-93fc-be1dc62d92bb",
   "metadata": {},
   "outputs": [
    {
     "data": {
      "text/plain": [
       "'baa'"
      ]
     },
     "execution_count": 34,
     "metadata": {},
     "output_type": "execute_result"
    }
   ],
   "source": [
    "def solution(age):\n",
    "    result = ''\n",
    "    alphabet = 'abcdefghij'\n",
    "    for s in str(age):        \n",
    "        result += alphabet[int(s)]\n",
    "    return result\n",
    "\n",
    "solution(100)"
   ]
  },
  {
   "cell_type": "code",
   "execution_count": 24,
   "id": "47d1aa1e-1d81-4fd2-9750-d8593af3274d",
   "metadata": {},
   "outputs": [
    {
     "data": {
      "text/plain": [
       "'100'"
      ]
     },
     "execution_count": 24,
     "metadata": {},
     "output_type": "execute_result"
    }
   ],
   "source": []
  }
 ],
 "metadata": {
  "kernelspec": {
   "display_name": "Python 3 (ipykernel)",
   "language": "python",
   "name": "python3"
  },
  "language_info": {
   "codemirror_mode": {
    "name": "ipython",
    "version": 3
   },
   "file_extension": ".py",
   "mimetype": "text/x-python",
   "name": "python",
   "nbconvert_exporter": "python",
   "pygments_lexer": "ipython3",
   "version": "3.10.7"
  }
 },
 "nbformat": 4,
 "nbformat_minor": 5
}
