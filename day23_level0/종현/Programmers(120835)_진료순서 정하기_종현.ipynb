{
 "cells": [
  {
   "cell_type": "markdown",
   "id": "4441322b-c942-424b-9eb5-33720b2d1137",
   "metadata": {},
   "source": [
    "### 진료순서 정하기 (120835)\n",
    "문제 : 외과의사 머쓱이는 응급실에 온 환자의 응급도를 기준으로 진료 순서를 정하려고 합니다. 정수 배열 emergency가 매개변수로 주어질 때 응급도가 높은 순서대로 진료 순서를 정한 배열을 return하도록 solution 함수를 완성해주세요."
   ]
  },
  {
   "cell_type": "code",
   "execution_count": 11,
   "id": "2e639b4e-eb49-448e-8c79-672737af58aa",
   "metadata": {},
   "outputs": [
    {
     "data": {
      "text/plain": [
       "[7, 6, 5, 4, 3, 2, 1]"
      ]
     },
     "execution_count": 11,
     "metadata": {},
     "output_type": "execute_result"
    }
   ],
   "source": [
    "def solution(emergency):\n",
    "    sorted_emergency = sorted(emergency, reverse=True)                   # 입력받은 매개변수 emergency를 내림차순으로 sorted하여 변수에 대입\n",
    "    emergency_dict = {v: i for i, v in enumerate(sorted_emergency)}      # sorted한 emergency를 enumerate for반복문으로 딕셔너리를 생성한다.\n",
    "    result = [emergency_dict[j]+1 for j in emergency]                    # 순서는 1부터 시작하므로 value값에 1을 더한 값을 return. 원래 emergency를 for문을 돌려 딕셔너리에 대응되는 값을 순서대로 뽑아 result에 대입한다.\n",
    "    return result\n",
    "    \n",
    "solution([1, 2, 3, 4, 5, 6, 7])"
   ]
  }
 ],
 "metadata": {
  "kernelspec": {
   "display_name": "Python 3 (ipykernel)",
   "language": "python",
   "name": "python3"
  },
  "language_info": {
   "codemirror_mode": {
    "name": "ipython",
    "version": 3
   },
   "file_extension": ".py",
   "mimetype": "text/x-python",
   "name": "python",
   "nbconvert_exporter": "python",
   "pygments_lexer": "ipython3",
   "version": "3.10.7"
  }
 },
 "nbformat": 4,
 "nbformat_minor": 5
}
