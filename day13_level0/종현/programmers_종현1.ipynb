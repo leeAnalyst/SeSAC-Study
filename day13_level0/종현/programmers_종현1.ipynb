{
 "cells": [
  {
   "cell_type": "code",
   "execution_count": null,
   "id": "a34c539f-382a-40eb-8d05-04fdd256c8f3",
   "metadata": {},
   "outputs": [],
   "source": []
  },
  {
   "cell_type": "code",
   "execution_count": 27,
   "id": "fc334dc6-4752-46aa-b117-ecb0c5916dcd",
   "metadata": {},
   "outputs": [
    {
     "data": {
      "text/plain": [
       "16"
      ]
     },
     "execution_count": 27,
     "metadata": {},
     "output_type": "execute_result"
    }
   ],
   "source": [
    "# 다음에 올 숫자\n",
    "\n",
    "def solution(common):\n",
    "    if common[1] - common[0] == common[2] - common[1]:  # 만약 common의 [1] index값에서 [0] 값을 뺀 것이 [2] - [1]과 같다면 등차수열이므로\n",
    "        return common[-1] + (common[1] - common[0])     # common의 마지막 값에 (common[1] - common[0])을 더해줌\n",
    "    else:  \n",
    "        return common[-1] * (common[1] // common[0])    # 그 밖에 경우, 등비수열이므로 마지막 값에 (common[1] // common[0])을 곱해준다."
   ]
  },
  {
   "cell_type": "code",
   "execution_count": null,
   "id": "ff21f491-158c-49ce-968a-d65f8ec04d5d",
   "metadata": {},
   "outputs": [],
   "source": []
  },
  {
   "cell_type": "code",
   "execution_count": 6,
   "id": "7c67df1d-606d-4bad-8d5c-ee98c30c5df6",
   "metadata": {},
   "outputs": [
    {
     "data": {
      "text/plain": [
       "[1, 2, 3, 4, 5]"
      ]
     },
     "execution_count": 6,
     "metadata": {},
     "output_type": "execute_result"
    }
   ],
   "source": [
    "# 연속된 수의 합\n",
    "\n",
    "def solution(num, total):\n",
    "    avg = total // num                                  # 연속된 수이므로 평균(total에서 num을 나눈 몫)의 좌,우 값을 구해야함                  \n",
    "    num_li = []\n",
    "    for i in range(avg - (num-1)//2, avg + (num+2)//2): # 좌, 우의 숫자 갯수는 num이 짝수냐 홀수냐에 따라 달라짐 / 좌측의 시작 숫자(avg - (num-1)//2), 우측의 끝 숫자(avg + (num+2)//2)\n",
    "        num_li.append(i)\n",
    "    return num_li\n",
    "    \n",
    "solution(5, 15)"
   ]
  },
  {
   "cell_type": "code",
   "execution_count": null,
   "id": "52b57dcd-ec08-4faa-b0bd-edec14086c54",
   "metadata": {},
   "outputs": [],
   "source": []
  },
  {
   "cell_type": "code",
   "execution_count": 22,
   "id": "4eb21318-5a62-40a1-b96f-ea4096af9bea",
   "metadata": {},
   "outputs": [
    {
     "data": {
      "text/plain": [
       "['abc1Ad']"
      ]
     },
     "execution_count": 22,
     "metadata": {},
     "output_type": "execute_result"
    }
   ],
   "source": [
    "# 잘라서 배열로 저장하기\n",
    "\n",
    "def solution(my_str, n):\n",
    "    s_list = []\n",
    "    for s in range(0, len(my_str), n):    # 0부터 문자열의 길이만큼 ,n step으로 for문을 돌려\n",
    "        s_list.append(my_str[s:s+n])      # my_str[s:s+n]을 비어있는 s_list에 append해준다.\n",
    "        return s_list\n",
    "\n",
    "solution(\"abc1Addfggg4556b\", 6)"
   ]
  },
  {
   "cell_type": "code",
   "execution_count": null,
   "id": "22aafef5-22f6-4062-b04c-09234dec76a2",
   "metadata": {},
   "outputs": [],
   "source": []
  },
  {
   "cell_type": "code",
   "execution_count": 25,
   "id": "e3b2df8b-3aa7-4a74-b4cf-216f20f7e30e",
   "metadata": {},
   "outputs": [
    {
     "data": {
      "text/plain": [
       "-1"
      ]
     },
     "execution_count": 25,
     "metadata": {},
     "output_type": "execute_result"
    }
   ],
   "source": [
    "# 문자열 밀기\n",
    "\n",
    "def solution(A, B):\n",
    "    push = 0\n",
    "    while push != len(A):     # push가 A의 길이와 같지 않는 동안\n",
    "        if A == B:            # A 와 B가 같아진다면 push를 return\n",
    "            return push\n",
    "        A = A[-1] + A[:-1]    # A = A[-1] + A[:-1]  -> push하는 과정\n",
    "        push += 1             # 또한 push에 1씩 더해주어 push횟수를 늘려준다.\n",
    "    return -1                 # push를 할 수 없을 경우(push를 계속 반복하여도 A == B가 되지 않아 push == len(A)가 될 때) -1을 return\n",
    "solution(\"apple\", \"elppa\")"
   ]
  },
  {
   "cell_type": "code",
   "execution_count": 23,
   "id": "48db541b-175d-4408-a588-b53b37482d74",
   "metadata": {},
   "outputs": [
    {
     "name": "stdout",
     "output_type": "stream",
     "text": [
      "hello\n"
     ]
    }
   ],
   "source": [
    "A = \"hello\"\n",
    "A[-1] == A[0]\n",
    "print(A)"
   ]
  }
 ],
 "metadata": {
  "kernelspec": {
   "display_name": "Python 3 (ipykernel)",
   "language": "python",
   "name": "python3"
  },
  "language_info": {
   "codemirror_mode": {
    "name": "ipython",
    "version": 3
   },
   "file_extension": ".py",
   "mimetype": "text/x-python",
   "name": "python",
   "nbconvert_exporter": "python",
   "pygments_lexer": "ipython3",
   "version": "3.10.7"
  }
 },
 "nbformat": 4,
 "nbformat_minor": 5
}
