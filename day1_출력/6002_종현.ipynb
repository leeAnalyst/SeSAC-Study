{
 "cells": [
  {
   "cell_type": "markdown",
   "id": "adc66c81-2d29-4f80-bb38-79f57fda432e",
   "metadata": {},
   "source": [
    "# 6002 : [기초-출력] 출력하기02(py)"
   ]
  },
  {
   "cell_type": "code",
   "execution_count": 1,
   "id": "6de7bf39-7a94-4c7f-8468-607ea5e92641",
   "metadata": {},
   "outputs": [
    {
     "name": "stdout",
     "output_type": "stream",
     "text": [
      "Hello World\n"
     ]
    }
   ],
   "source": [
    "print(\"Hello\", \"World\")"
   ]
  }
 ],
 "metadata": {
  "kernelspec": {
   "display_name": "Python 3 (ipykernel)",
   "language": "python",
   "name": "python3"
  },
  "language_info": {
   "codemirror_mode": {
    "name": "ipython",
    "version": 3
   },
   "file_extension": ".py",
   "mimetype": "text/x-python",
   "name": "python",
   "nbconvert_exporter": "python",
   "pygments_lexer": "ipython3",
   "version": "3.10.7"
  }
 },
 "nbformat": 4,
 "nbformat_minor": 5
}
