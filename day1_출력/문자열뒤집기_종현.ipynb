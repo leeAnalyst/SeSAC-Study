{
 "cells": [
  {
   "cell_type": "code",
   "execution_count": 10,
   "id": "bd9d190a-fca1-4420-b112-f00182a33de9",
   "metadata": {},
   "outputs": [],
   "source": [
    "#3\n",
    "def solution(my_string):\n",
    "    reverse_str = ''\n",
    "    for s in my_string:\n",
    "        reverse_str = s + reverse_str\n",
    "    return reverse_str"
   ]
  },
  {
   "cell_type": "code",
   "execution_count": 11,
   "id": "cbbdeed2-dceb-43f0-af10-5416ecced68c",
   "metadata": {},
   "outputs": [
    {
     "name": "stdout",
     "output_type": "stream",
     "text": [
      "dlroW wolleH\n"
     ]
    }
   ],
   "source": [
    "print(solution(\"Hellow World\"))"
   ]
  }
 ],
 "metadata": {
  "kernelspec": {
   "display_name": "Python 3 (ipykernel)",
   "language": "python",
   "name": "python3"
  },
  "language_info": {
   "codemirror_mode": {
    "name": "ipython",
    "version": 3
   },
   "file_extension": ".py",
   "mimetype": "text/x-python",
   "name": "python",
   "nbconvert_exporter": "python",
   "pygments_lexer": "ipython3",
   "version": "3.10.7"
  }
 },
 "nbformat": 4,
 "nbformat_minor": 5
}
