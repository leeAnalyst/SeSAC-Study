{
 "cells": [
  {
   "cell_type": "code",
   "execution_count": null,
   "id": "853d4610-3230-4db1-b75e-5f3ddce317aa",
   "metadata": {},
   "outputs": [],
   "source": [
    "#1 서식 문자 사용해서 풀어주세요. http://www.jungol.co.kr/bbs/board.php?bo_table=pbank&wr_id=4079&sca=py\n",
    "\n",
    "height = 170\n",
    "weight = 68.6\n",
    "print(\"My height\\n%d\" % height)\n",
    "print(\"My weight\\n%.1f\" % weight)"
   ]
  },
  {
   "cell_type": "code",
   "execution_count": null,
   "id": "caa82fb4-8495-401b-bba7-258ec7d94f11",
   "metadata": {},
   "outputs": [],
   "source": [
    "#2 스터디 너무 즐겁다 ㅇㅈ??! https://www.acmicpc.net/problem/10926\n",
    "\n",
    "id_ = input('id 입력:')\n",
    "print(id_+\"??!\")"
   ]
  },
  {
   "cell_type": "code",
   "execution_count": null,
   "id": "fa460257-2ef2-458d-b7e4-d6372918c557",
   "metadata": {},
   "outputs": [],
   "source": [
    "#3 sort함수 사용하지 않고 반복문만 사용해서 풀어주세요. https://school.programmers.co.kr/learn/courses/30/lessons/120822\n",
    "\n",
    "#방법1\n",
    "  def solution(my_string):\n",
    "    r=''\n",
    "    for c in my_string:\n",
    "      r = c + r\n",
    "    return r\n",
    "\n",
    "#방법2\n",
    "  def solution(my_string):\n",
    "    return my_string[::-1]"
   ]
  }
 ],
 "metadata": {
  "kernelspec": {
   "display_name": "Python 3 (ipykernel)",
   "language": "python",
   "name": "python3"
  },
  "language_info": {
   "codemirror_mode": {
    "name": "ipython",
    "version": 3
   },
   "file_extension": ".py",
   "mimetype": "text/x-python",
   "name": "python",
   "nbconvert_exporter": "python",
   "pygments_lexer": "ipython3",
   "version": "3.10.8"
  }
 },
 "nbformat": 4,
 "nbformat_minor": 5
}
