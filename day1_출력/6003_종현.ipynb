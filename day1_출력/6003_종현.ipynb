{
 "cells": [
  {
   "cell_type": "markdown",
   "id": "73e79178-b20c-4190-ab96-9e8f4c8c6853",
   "metadata": {},
   "source": [
    "# 6003: [기초-출력] 출력하기03(py)"
   ]
  },
  {
   "cell_type": "code",
   "execution_count": 1,
   "id": "94bbd6be-e1cd-41fe-a222-67cbd68e453d",
   "metadata": {},
   "outputs": [
    {
     "name": "stdout",
     "output_type": "stream",
     "text": [
      "Hello\n",
      "World\n"
     ]
    }
   ],
   "source": [
    "print(\"Hello\")\n",
    "print(\"World\")"
   ]
  },
  {
   "cell_type": "code",
   "execution_count": 2,
   "id": "e4e6fb32-c469-43ea-a382-0ccf24338e5a",
   "metadata": {},
   "outputs": [
    {
     "name": "stdout",
     "output_type": "stream",
     "text": [
      "Hello\n",
      "World\n"
     ]
    }
   ],
   "source": [
    "print(\"Hello\\nWorld\")"
   ]
  }
 ],
 "metadata": {
  "kernelspec": {
   "display_name": "Python 3 (ipykernel)",
   "language": "python",
   "name": "python3"
  },
  "language_info": {
   "codemirror_mode": {
    "name": "ipython",
    "version": 3
   },
   "file_extension": ".py",
   "mimetype": "text/x-python",
   "name": "python",
   "nbconvert_exporter": "python",
   "pygments_lexer": "ipython3",
   "version": "3.10.7"
  }
 },
 "nbformat": 4,
 "nbformat_minor": 5
}
