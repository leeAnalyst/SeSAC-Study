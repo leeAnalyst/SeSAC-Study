{
 "cells": [
  {
   "cell_type": "code",
   "execution_count": 24,
   "id": "e3848778-47c4-4af1-b5d4-41d8997aa62b",
   "metadata": {},
   "outputs": [
    {
     "name": "stdout",
     "output_type": "stream",
     "text": [
      "[2, 1]\n"
     ]
    }
   ],
   "source": [
    "#캐릭터의 좌표\n",
    "keyinput = [\"left\", \"right\", \"up\", \"right\", \"right\"]\n",
    "board = [7, 9]\n",
    "position = [0,0]\n",
    "move = ['left', 'right', 'up', 'down']\n",
    "max_h = int(board[0]//2)\n",
    "max_v = int(board[1]//2)\n",
    "\n",
    "\n",
    "for i in move:\n",
    "    if position[0] > max_h:\n",
    "        position[0] -=1\n",
    "    if position[0] < -max_h:\n",
    "        position[0] +=1\n",
    "    if position[1] > max_v:\n",
    "        position[1] -=1\n",
    "    if position[1] < -max_v:\n",
    "        position[1] +=1\n",
    "    for j in keyinput:\n",
    "        if i == 'left' and i == j:\n",
    "            position[0] -= 1\n",
    "        if i == 'right' and i == j:\n",
    "            position[0] += 1\n",
    "        if i == 'up' and i == j:\n",
    "            position[1] += 1\n",
    "        if i == 'down' and i == j:\n",
    "            position[1] -= 1\n",
    "\n",
    "# if position[0] > max_h:\n",
    "#     position[0] = max_h\n",
    "# elif position[0] < -max_h:\n",
    "#     position[0] = -max_h\n",
    "# else:\n",
    "#     pass\n",
    "    \n",
    "# if position[1] > max_v:\n",
    "#     position[1] = max_v\n",
    "# elif position[1] < -max_v:\n",
    "#     position[1] = -max_v\n",
    "# else:\n",
    "#     pass\n",
    "\n",
    "print(position)"
   ]
  },
  {
   "cell_type": "code",
   "execution_count": 141,
   "id": "7e57bf7b-690e-42c0-83d8-eb397b6714e6",
   "metadata": {},
   "outputs": [
    {
     "data": {
      "text/plain": [
       "4"
      ]
     },
     "execution_count": 141,
     "metadata": {},
     "output_type": "execute_result"
    }
   ],
   "source": [
    "#직사각형 넓이 구하기\n",
    "\n",
    "def solution(dots):\n",
    "    x = []\n",
    "    y = []\n",
    "    for idx in range(4):\n",
    "        x.append(dots[0][0]-dots[idx][0])\n",
    "        y.append(dots[0][1]-dots[idx][1])\n",
    "\n",
    "\n",
    "    x_len = []\n",
    "    y_len = []\n",
    "    \n",
    "    for i in x:\n",
    "        if i < 0 or i > 0:\n",
    "            x_len.append(abs(i))\n",
    "    \n",
    "    for i in y:\n",
    "        if i < 0 or i > 0:\n",
    "            y_len.append(abs(i))\n",
    "    \n",
    "    return x_len[0] * y_len[0]\n",
    "\n",
    "solution([[-1, -1], [1, 1], [1, -1], [-1, 1]])"
   ]
  },
  {
   "cell_type": "code",
   "execution_count": 140,
   "id": "8135f91b-65fc-42b7-88c3-d74103f4916b",
   "metadata": {},
   "outputs": [
    {
     "data": {
      "text/plain": [
       "[1, 4, 12]"
      ]
     },
     "execution_count": 140,
     "metadata": {},
     "output_type": "execute_result"
    }
   ],
   "source": [
    "#배열 원소의 길이\n",
    "\n",
    "def solution(strlist):\n",
    "    answer = []\n",
    "    for str in strlist:\n",
    "        answer.append(len(str))\n",
    "    return answer\n",
    "\n",
    "solution([\"I\", \"Love\", \"Programmers.\"])"
   ]
  },
  {
   "cell_type": "code",
   "execution_count": 139,
   "id": "ca33b8e2-e82f-4606-817c-ed34da3a88a4",
   "metadata": {},
   "outputs": [
    {
     "data": {
      "text/plain": [
       "-3"
      ]
     },
     "execution_count": 139,
     "metadata": {},
     "output_type": "execute_result"
    }
   ],
   "source": [
    "# 컨트롤 제트\n",
    "\n",
    "def solution(s):\n",
    "    answer = 0\n",
    "    a = s.split(' ')\n",
    "    for idx in range(len(a)):\n",
    "        if a[idx].isdigit() == True:\n",
    "            answer += int(a[idx])\n",
    "        elif a[idx].isdigit() == False and a[idx] != 'Z':\n",
    "            answer += int(a[idx])\n",
    "        elif a[idx] == 'Z':\n",
    "            answer -= int(a[idx-1])\n",
    "        else:\n",
    "            pass\n",
    "    return answer\n",
    "\n",
    "solution(\"-1 -2 -3 Z\")"
   ]
  },
  {
   "cell_type": "code",
   "execution_count": 138,
   "id": "330525a0-471c-4d68-a9d4-5373b357701c",
   "metadata": {},
   "outputs": [
    {
     "data": {
      "text/plain": [
       "[2, 3, 5, 7]"
      ]
     },
     "execution_count": 138,
     "metadata": {},
     "output_type": "execute_result"
    }
   ],
   "source": [
    "#소인수분해\n",
    "\n",
    "def solution(n):\n",
    "    answer = []\n",
    "    for i in range(2,n+1):\n",
    "        if n%i == 0:\n",
    "            n /= i\n",
    "            answer.append(i)\n",
    "            for j in answer:\n",
    "                if n%j == 0:\n",
    "                    n /= j\n",
    "                    answer.append(j)\n",
    "            else:\n",
    "                pass\n",
    "    return sorted(list((set(answer))))\n",
    "\n",
    "solution(420)"
   ]
  },
  {
   "cell_type": "code",
   "execution_count": 137,
   "id": "16b003e1-bbf2-482e-91fe-b657c739e891",
   "metadata": {},
   "outputs": [
    {
     "data": {
      "text/plain": [
       "10"
      ]
     },
     "execution_count": 137,
     "metadata": {},
     "output_type": "execute_result"
    }
   ],
   "source": [
    "#숨어있는 숫자의 덧셈\n",
    "\n",
    "def solution(my_string):\n",
    "    lst = []\n",
    "    for num in my_string:\n",
    "        if num.isalpha() != True:\n",
    "            lst.append(int(num))\n",
    "    return sum(lst)\n",
    "\n",
    "solution(\"aAb1B2cC34oOp\")"
   ]
  }
 ],
 "metadata": {
  "kernelspec": {
   "display_name": "Python 3 (ipykernel)",
   "language": "python",
   "name": "python3"
  },
  "language_info": {
   "codemirror_mode": {
    "name": "ipython",
    "version": 3
   },
   "file_extension": ".py",
   "mimetype": "text/x-python",
   "name": "python",
   "nbconvert_exporter": "python",
   "pygments_lexer": "ipython3",
   "version": "3.11.1"
  }
 },
 "nbformat": 4,
 "nbformat_minor": 5
}
