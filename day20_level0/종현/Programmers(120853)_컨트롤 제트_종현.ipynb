{
 "cells": [
  {
   "cell_type": "markdown",
   "id": "d9fc5df0-48e8-4e59-bcc0-0fcf75ae2ebc",
   "metadata": {},
   "source": [
    "### 컨트롤 제트 (120853)\n",
    "문제 : 숫자와 \"Z\"가 공백으로 구분되어 담긴 문자열이 주어집니다. 문자열에 있는 숫자를 차례대로 더하려고 합니다. 이 때 \"Z\"가 나오면 바로 전에 더했던 숫자를 뺀다는 뜻입니다. 숫자와 \"Z\"로 이루어진 문자열 s가 주어질 때, 머쓱이가 구한 값을 return 하도록 solution 함수를 완성해보세요."
   ]
  },
  {
   "cell_type": "code",
   "execution_count": null,
   "id": "ced983f4-0f4a-42ec-af04-c7853ed723f5",
   "metadata": {},
   "outputs": [],
   "source": [
    "# 문자열을 split하여 list로 반환\n",
    "# for문으로 각각의 원소가 숫자인지 판별하려 했음 (isdigit()함수를 이용하여)\n",
    "# 하지만 isdigit()함수는 '-1'과 같은 음수인 경우엔 False값을 반환. 음수는 숫자가 아닌가 \n",
    "# 결국 제한사항 확인 결과 s는 '숫자' or 'Z'이므로 굳이 isdigit()를 쓸 필요가 없음을 알게됨\n",
    "# stack 자료 구조로 'Z'가 나올 경우 pop()을 하여 이전 값을 날려버림"
   ]
  },
  {
   "cell_type": "code",
   "execution_count": 26,
   "id": "0113f2cb-09a6-4ade-8ce8-d455f3d12a30",
   "metadata": {
    "tags": []
   },
   "outputs": [
    {
     "data": {
      "text/plain": [
       "-3"
      ]
     },
     "execution_count": 26,
     "metadata": {},
     "output_type": "execute_result"
    }
   ],
   "source": [
    "def solution(s):\n",
    "    s_list = s.split()                # 입력받은 s를 split으로 구분하여 list로 변환\n",
    "    sum_s = []                        # stack자료구조를 이용하기 위해 빈 리스트 생성\n",
    "    for i in s_list:                  # s를 for반복문으로 돌면서\n",
    "        if i == 'Z':                  # 'Z'일 경우, sum_s에 마지막으로 쌓였던 값을 pop()으로 빼냄 (결국 앞 수를 차감하는 결과)\n",
    "            sum_s.pop()\n",
    "        else:                         # 그 밖의 경우는 숫자이므로 sum_s에 int로 형변환 후 append해줌\n",
    "            sum_s.append(int(i)) \n",
    "    return sum(sum_s)                 # sum_s의 합산을 return\n",
    "\n",
    "solution(\"-1 -2 -3 Z\")"
   ]
  },
  {
   "cell_type": "code",
   "execution_count": 22,
   "id": "0de41507-eb60-454a-8454-03d133b80819",
   "metadata": {},
   "outputs": [],
   "source": [
    "s = \"-1 -2 -3 Z\""
   ]
  },
  {
   "cell_type": "code",
   "execution_count": 23,
   "id": "171ec7b0-deaf-4321-9c5d-5fe8ae46b933",
   "metadata": {},
   "outputs": [
    {
     "data": {
      "text/plain": [
       "['-1', '-2', '-3', 'Z']"
      ]
     },
     "execution_count": 23,
     "metadata": {},
     "output_type": "execute_result"
    }
   ],
   "source": [
    "s.split()"
   ]
  },
  {
   "cell_type": "code",
   "execution_count": 27,
   "id": "3dcab428-d68d-40f3-9b52-2c3179d6a81e",
   "metadata": {},
   "outputs": [
    {
     "data": {
      "text/plain": [
       "False"
      ]
     },
     "execution_count": 27,
     "metadata": {},
     "output_type": "execute_result"
    }
   ],
   "source": [
    "'-1'.isdigit()"
   ]
  }
 ],
 "metadata": {
  "kernelspec": {
   "display_name": "Python 3 (ipykernel)",
   "language": "python",
   "name": "python3"
  },
  "language_info": {
   "codemirror_mode": {
    "name": "ipython",
    "version": 3
   },
   "file_extension": ".py",
   "mimetype": "text/x-python",
   "name": "python",
   "nbconvert_exporter": "python",
   "pygments_lexer": "ipython3",
   "version": "3.10.7"
  }
 },
 "nbformat": 4,
 "nbformat_minor": 5
}
