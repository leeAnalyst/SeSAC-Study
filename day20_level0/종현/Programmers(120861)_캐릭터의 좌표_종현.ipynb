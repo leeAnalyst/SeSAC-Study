{
 "cells": [
  {
   "cell_type": "markdown",
   "id": "083be4fe-5c2c-4b74-bb15-b3ed54c09f5c",
   "metadata": {},
   "source": [
    "### 캐릭터의 좌표 (120861)\n",
    "문제 : 머쓱이는 RPG게임을 하고 있습니다. 게임에는 `up`, `down`, `left`, `right`방향키가 있으며 각 키를 누르면 위, 아래, 왼쪽, 오른쪽으로 한 칸씩 이동합니다. 예를 들어 [0,0]에서 `up`을 누른다면 캐릭터의 좌표는 [0, 1], `down`을 누른다면 [0, -1], `left`를 누른다면 [-1, 0], `right`를 누른다면 [1, 0]입니다. 머쓱이가 입력한 방향키의 배열 `keyinput`와 맵의 크기 `board`이 매개변수로 주어집니다. 캐릭터는 항상 [0,0]에서 시작할 때 키 입력이 모두 끝난 뒤에 캐릭터의 좌표 [x, y]를 return하도록 solution 함수를 완성해주세요.\n",
    "\n",
    "- [0, 0]은 `board`의 정 중앙에 위치합니다. 예를 들어 `board`의 가로 크기가 9라면 캐릭터는 왼쪽으로 최대 [-4, 0]까지 오른쪽으로 최대 [4, 0]까지 이동할 수 있습니다. "
   ]
  },
  {
   "cell_type": "code",
   "execution_count": null,
   "id": "0de678d3-fa3e-4164-9f73-80322084ba64",
   "metadata": {
    "jp-MarkdownHeadingCollapsed": true,
    "tags": []
   },
   "outputs": [],
   "source": [
    "# up (0, 1), down(0, -1), left(-1, 0), right(1, 0) -> 좌표이동\n",
    "# board를 벗어나면 안된다.\n",
    "# 전체 board의 크기(홀수) // 2  -> 위 아래 최대, 최소값임"
   ]
  },
  {
   "cell_type": "code",
   "execution_count": 39,
   "id": "3aed2dac-9389-4996-bc41-1aad1f535680",
   "metadata": {},
   "outputs": [
    {
     "data": {
      "text/plain": [
       "[0, -4]"
      ]
     },
     "execution_count": 39,
     "metadata": {},
     "output_type": "execute_result"
    }
   ],
   "source": [
    "def solution(keyinput, board):\n",
    "    coordinates = [0, 0]                                  # 좌표\n",
    "    for i in keyinput:\n",
    "        if i == 'left':                                   # i가 'left'인 경우\n",
    "            if coordinates[0] - 1 >= (-board[0]//2)+1:    # x좌표에서 1을 뺀 값이 board 범위 내에 있다면, (-board[1]//2 = -5이므로 +1을 해주어야 board의 x축 최솟값인 -4가 된다.) \n",
    "                coordinates[0] -= 1                       # x좌표에 -1을 해준다.\n",
    "        elif i == 'right':\n",
    "            if coordinates[0] + 1 <= board[0]//2:         \n",
    "                coordinates[0] += 1\n",
    "        elif i == 'up':                                   # i가 'up'일 경우\n",
    "            if coordinates[1] + 1 <= board[1]//2:         # x좌표에 1을 더한 값이 board 범위 내에 있다면,\n",
    "                coordinates[1] += 1                       # y좌표에 1을 더해준다.\n",
    "        else:\n",
    "    return coordinates\n",
    "            if coordinates[1] - 1 >= (-board[1]//2)+1:\n",
    "                coordinates[1] -= 1\n",
    "        \n",
    "\n",
    "solution([\"down\", \"down\", \"down\", \"down\", \"down\"], [7, 9])"
   ]
  },
  {
   "cell_type": "code",
   "execution_count": 23,
   "id": "6f21fb44-7247-4366-97e4-a778779c23e5",
   "metadata": {},
   "outputs": [],
   "source": [
    "board = [7, 9]"
   ]
  },
  {
   "cell_type": "code",
   "execution_count": 38,
   "id": "af6e1a54-aca8-4723-b4da-9e0db181b1e8",
   "metadata": {},
   "outputs": [
    {
     "data": {
      "text/plain": [
       "-5"
      ]
     },
     "execution_count": 38,
     "metadata": {},
     "output_type": "execute_result"
    }
   ],
   "source": [
    "-board[1] // 2"
   ]
  }
 ],
 "metadata": {
  "kernelspec": {
   "display_name": "Python 3 (ipykernel)",
   "language": "python",
   "name": "python3"
  },
  "language_info": {
   "codemirror_mode": {
    "name": "ipython",
    "version": 3
   },
   "file_extension": ".py",
   "mimetype": "text/x-python",
   "name": "python",
   "nbconvert_exporter": "python",
   "pygments_lexer": "ipython3",
   "version": "3.10.7"
  }
 },
 "nbformat": 4,
 "nbformat_minor": 5
}
