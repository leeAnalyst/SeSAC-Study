{
 "cells": [
  {
   "cell_type": "markdown",
   "id": "3526e322-0418-45b3-a9bf-30aa4a7e9d3b",
   "metadata": {},
   "source": [
    "### 배열 원소의 길이 (120854)\n",
    "문제 : 문자열 배열 strlist가 매개변수로 주어집니다. strlist 각 원소의 길이를 담은 배열을 retrun하도록 solution 함수를 완성해주세요."
   ]
  },
  {
   "cell_type": "code",
   "execution_count": 28,
   "id": "ea3c6c4a-8c8d-4aa2-a16f-a9f09def6cd6",
   "metadata": {},
   "outputs": [
    {
     "data": {
      "text/plain": [
       "[2, 3, 3, 6]"
      ]
     },
     "execution_count": 28,
     "metadata": {},
     "output_type": "execute_result"
    }
   ],
   "source": [
    "def solution(strlist):\n",
    "    len_list = []\n",
    "    for str_ in strlist:            # 입력받은 문자열리스트를 for반복문으로\n",
    "        len_list.append(len(str_))  # 각 원소들(문자열)의 길이를 len_list의 append\n",
    "    return len_list\n",
    "\n",
    "solution([\"We\", \"are\", \"the\", \"world!\"])"
   ]
  }
 ],
 "metadata": {
  "kernelspec": {
   "display_name": "Python 3 (ipykernel)",
   "language": "python",
   "name": "python3"
  },
  "language_info": {
   "codemirror_mode": {
    "name": "ipython",
    "version": 3
   },
   "file_extension": ".py",
   "mimetype": "text/x-python",
   "name": "python",
   "nbconvert_exporter": "python",
   "pygments_lexer": "ipython3",
   "version": "3.10.7"
  }
 },
 "nbformat": 4,
 "nbformat_minor": 5
}
