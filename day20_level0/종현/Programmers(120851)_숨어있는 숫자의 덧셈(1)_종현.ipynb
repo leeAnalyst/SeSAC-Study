{
 "cells": [
  {
   "cell_type": "markdown",
   "id": "5d7dd59c-71a2-43e0-80e0-eb3ed37988e4",
   "metadata": {},
   "source": [
    "### 숨어있는 숫자의 덧셈(1) (120851)\n",
    "문제 : 문자열 my_string이 매개변수로 주어집니다. my_string안의 모든 자연수들의 합을 return하도록 solution 함수를 완성해주세요."
   ]
  },
  {
   "cell_type": "code",
   "execution_count": 3,
   "id": "2e248392-ea86-4272-850d-2ea7313328d3",
   "metadata": {},
   "outputs": [
    {
     "data": {
      "text/plain": [
       "10"
      ]
     },
     "execution_count": 3,
     "metadata": {},
     "output_type": "execute_result"
    }
   ],
   "source": [
    "# re 내장함수 findall사용 -> 겨우 1점이라니\n",
    "\n",
    "import re\n",
    "\n",
    "def solution(my_string):\n",
    "    my_string = re.findall(r'\\d', my_string)           # r'\\d' -> 문자열 속 숫자 하나씩 추출하여 list로 변환 / r'\\d+' -> 붙어있는 숫자는 같이 추출\n",
    "    result = 0\n",
    "    for i in my_string:\n",
    "        result += int(i)\n",
    "    return result\n",
    "\n",
    "solution(\"aAb1B2cC34oOp\")"
   ]
  },
  {
   "cell_type": "code",
   "execution_count": 6,
   "id": "e3572f60-e58d-4634-97c8-1e292a705179",
   "metadata": {},
   "outputs": [
    {
     "data": {
      "text/plain": [
       "10"
      ]
     },
     "execution_count": 6,
     "metadata": {},
     "output_type": "execute_result"
    }
   ],
   "source": [
    "# isdigit()활용\n",
    "\n",
    "def solution(my_string):\n",
    "    result = 0\n",
    "    for i in my_string:\n",
    "        if i.isdigit():\n",
    "            result += int(i)\n",
    "        else:\n",
    "            pass\n",
    "    return result\n",
    "\n",
    "solution(\"aAb1B2cC34oOp\")"
   ]
  }
 ],
 "metadata": {
  "kernelspec": {
   "display_name": "Python 3 (ipykernel)",
   "language": "python",
   "name": "python3"
  },
  "language_info": {
   "codemirror_mode": {
    "name": "ipython",
    "version": 3
   },
   "file_extension": ".py",
   "mimetype": "text/x-python",
   "name": "python",
   "nbconvert_exporter": "python",
   "pygments_lexer": "ipython3",
   "version": "3.10.7"
  }
 },
 "nbformat": 4,
 "nbformat_minor": 5
}
