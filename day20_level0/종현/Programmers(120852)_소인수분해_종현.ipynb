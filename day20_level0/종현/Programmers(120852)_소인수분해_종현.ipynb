{
 "cells": [
  {
   "cell_type": "markdown",
   "id": "59419f66-710b-4199-b6eb-4ff06e065bf0",
   "metadata": {},
   "source": [
    "### 소인수 분해 (120852)\n",
    "문제 : 소인수분해란 어떤 수를 소수들의 곱으로 표현하는 것입니다. 예를 들어 12를 소인수 분해하면 2 * 2 * 3 으로 나타낼 수 있습니다. 따라서 12의 소인수는 2와 3입니다. 자연수 n이 매개변수로 주어질 때 n의 소인수를 오름차순으로 담은 배열을 return하도록 solution 함수를 완성해주세요."
   ]
  },
  {
   "cell_type": "code",
   "execution_count": null,
   "id": "98832477-5b8a-444d-97fc-1f7a51bacb01",
   "metadata": {},
   "outputs": [],
   "source": [
    "# 최대공약수를 구하는 math라이브러리의 gcd가 있었던 듯..\n",
    "# 비슷한 기능을 가진 함수가 있을텐데\n",
    "# sympy 모듈의 primefactors로 소인수를 구할 수 있었음 허나 외부모듈이라 programmers에선 작동을 안할 듯 - 역시 안됨"
   ]
  },
  {
   "cell_type": "code",
   "execution_count": 3,
   "id": "f2599218-5db4-4240-bbf4-c166eb214fdd",
   "metadata": {},
   "outputs": [
    {
     "ename": "ModuleNotFoundError",
     "evalue": "No module named 'sympy'",
     "output_type": "error",
     "traceback": [
      "\u001b[1;31m---------------------------------------------------------------------------\u001b[0m",
      "\u001b[1;31mModuleNotFoundError\u001b[0m                       Traceback (most recent call last)",
      "Cell \u001b[1;32mIn [3], line 1\u001b[0m\n\u001b[1;32m----> 1\u001b[0m \u001b[38;5;28;01mfrom\u001b[39;00m \u001b[38;5;21;01msympy\u001b[39;00m \u001b[38;5;28;01mimport\u001b[39;00m primefactors\n\u001b[0;32m      3\u001b[0m \u001b[38;5;28;01mdef\u001b[39;00m \u001b[38;5;21msolution\u001b[39m(n):\n\u001b[0;32m      4\u001b[0m     \u001b[38;5;28;01mreturn\u001b[39;00m primefactors(n)\n",
      "\u001b[1;31mModuleNotFoundError\u001b[0m: No module named 'sympy'"
     ]
    }
   ],
   "source": [
    "from sympy import primefactors\n",
    "\n",
    "def solution(n):\n",
    "    return primefactors(n)\n",
    "\n",
    "solution(12)"
   ]
  },
  {
   "cell_type": "code",
   "execution_count": 1,
   "id": "8e96dc01-00b4-4084-be87-7e58c0a56822",
   "metadata": {},
   "outputs": [
    {
     "data": {
      "text/plain": [
       "[2, 3]"
      ]
     },
     "execution_count": 1,
     "metadata": {},
     "output_type": "execute_result"
    }
   ],
   "source": [
    "def solution(n):\n",
    "    answer = []\n",
    "    i = 2                              # 소인수는 2보다 작은 값은 없으므로 2부터 시작\n",
    "    while i <= n:                      # while문으로 i가 n보다 작거나 같은 경우 (소인수 이므로 n보다 당연히 작아야 함)\n",
    "        if n%i == 0:                   # n을 i로 나눴을 때 나머지가 0이 될 경우\n",
    "            n //= i                    # n을 i로 나눈 몫으로 n을 갱신\n",
    "            answer.append(i)           # i를 answer에 append(소인수 추가)\n",
    "        else:\n",
    "            i += 1                     # 위 조건에 만족하지 않을 경우 i에 1씩 더해주어 while문을 돈다.\n",
    "            \n",
    "    return sorted(list(set(answer)))   # 제한사항에 오름차순으로 값을 return하라 했으므로 sorted. 12의 경우 인수로 2, 2, 3이 나온다. 하지만 2는 중복되므로 set으로 중복값을 제거해준 후, 다시 list로 형변환하여 return한다. \n",
    "\n",
    "solution(12)"
   ]
  }
 ],
 "metadata": {
  "kernelspec": {
   "display_name": "Python 3 (ipykernel)",
   "language": "python",
   "name": "python3"
  },
  "language_info": {
   "codemirror_mode": {
    "name": "ipython",
    "version": 3
   },
   "file_extension": ".py",
   "mimetype": "text/x-python",
   "name": "python",
   "nbconvert_exporter": "python",
   "pygments_lexer": "ipython3",
   "version": "3.10.7"
  }
 },
 "nbformat": 4,
 "nbformat_minor": 5
}
