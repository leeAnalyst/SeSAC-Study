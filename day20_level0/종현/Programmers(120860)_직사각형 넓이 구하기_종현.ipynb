{
 "cells": [
  {
   "cell_type": "markdown",
   "id": "e0187113-a238-49f8-9a55-00a27127c65d",
   "metadata": {},
   "source": [
    "### 직사각형 넓이 구하기 (120860)\n",
    "문제 : 2차원 좌표 평면에 변이 축과 평행한 직사각형이 있습니다. 직사각형 네 꼭짓점의 좌표 [[x1, y1], [x2, y2], [x3, y3], [x4, y4]]가 담겨있는 배열 dots가 매개변수로 주어질 때, 직사각형의 넓이를 return 하도록 solution 함수를 완성해보세요."
   ]
  },
  {
   "cell_type": "code",
   "execution_count": null,
   "id": "e618e1f3-dbf2-4159-958c-6d0f6757d0db",
   "metadata": {},
   "outputs": [],
   "source": [
    "# 최대값과 최소값 (꼭지점)의 길이 -> euclidean distance?\n",
    "# distance를 구하면 나머지 두변의 길이를 구할 수 있지 않을까?\n",
    "# 길이를 구하고 보니 (x[0]-y[0])*(x[1]-y[1])을 하면 넓이가 나왔다 왜? ㅅㅂ 왜지 왜나오지\n",
    "# 제출하고 다른 사람의 풀이를 보니 x가 1시방향 끝점, y가 7시방향 끝점\n",
    "# 아...결국 x[0]-y[0]은 가로의 길이, x[1]-y[1]은 세로의 길이를 구하는거였음...하..."
   ]
  },
  {
   "cell_type": "code",
   "execution_count": null,
   "id": "3fc0e612-1fc3-4370-9202-951189683a19",
   "metadata": {},
   "outputs": [
    {
     "name": "stdout",
     "output_type": "stream",
     "text": [
      "[1, 1]\n",
      "[-1, -1]\n"
     ]
    },
    {
     "data": {
      "text/plain": [
       "4"
      ]
     },
     "execution_count": 23,
     "metadata": {},
     "output_type": "execute_result"
    }
   ],
   "source": [
    "def solution(dots):\n",
    "    x = max(dots)                # dots의 최대값\n",
    "    y = min(dots)                # dots의 최솟값\n",
    "\n",
    "    return (x[0]-y[0])*(x[1]-y[1])\n",
    "\n",
    "solution([[-1, -1], [1, 1], [1, -1], [-1, 1]])"
   ]
  },
  {
   "cell_type": "code",
   "execution_count": null,
   "id": "24670fca-7798-462f-a7ab-00354d5603a2",
   "metadata": {},
   "outputs": [
    {
     "data": {
      "text/plain": [
       "[1, 1]"
      ]
     },
     "execution_count": 26,
     "metadata": {},
     "output_type": "execute_result"
    }
   ],
   "source": [
    "max(dots)"
   ]
  },
  {
   "cell_type": "code",
   "execution_count": null,
   "id": "feded8b7-d000-4cec-8169-222498418642",
   "metadata": {},
   "outputs": [
    {
     "data": {
      "text/plain": [
       "[-1, -1]"
      ]
     },
     "execution_count": 27,
     "metadata": {},
     "output_type": "execute_result"
    }
   ],
   "source": [
    "min(dots)"
   ]
  }
 ],
 "metadata": {
  "kernelspec": {
   "display_name": "Python 3 (ipykernel)",
   "language": "python",
   "name": "python3"
  },
  "language_info": {
   "codemirror_mode": {
    "name": "ipython",
    "version": 3
   },
   "file_extension": ".py",
   "mimetype": "text/x-python",
   "name": "python",
   "nbconvert_exporter": "python",
   "pygments_lexer": "ipython3",
   "version": "3.10.7"
  }
 },
 "nbformat": 4,
 "nbformat_minor": 5
}
