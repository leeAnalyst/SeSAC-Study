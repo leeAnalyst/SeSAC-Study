{
 "cells": [
  {
   "cell_type": "code",
   "execution_count": null,
   "id": "54222ecc-eb5c-419c-9073-630054fea4f5",
   "metadata": {},
   "outputs": [],
   "source": [
    "# 문자열 정렬하기(1)\n",
    "# 문자열 my_string이 매개변수로 주어질 때, my_string 안에 있는 숫자만 골라 오름차순 정렬한 리스트를 return 하도록 solution 함수를 작성해보세요.\n",
    "def solution(my_string):\n",
    "    answer = []\n",
    "    for num in my_string:\n",
    "        if num.islower() or num.isupper():\n",
    "            pass\n",
    "        else:\n",
    "            answer.append(int(num))\n",
    "    return sorted(answer)\n",
    "\n"
   ]
  },
  {
   "cell_type": "code",
   "execution_count": null,
   "id": "955c08ac-97f7-4919-932a-4da6e57f15f2",
   "metadata": {},
   "outputs": [],
   "source": [
    "# 모음제거\n",
    "# 영어에선 a, e, i, o, u 다섯 가지 알파벳을 모음으로 분류합니다. \n",
    "# 문자열 my_string이 매개변수로 주어질 때 모음을 제거한 문자열을 return하도록 solution 함수를 완성해주세요.\n",
    "\n",
    "def solution(my_string):\n",
    "    answer = ''\n",
    "    for s in my_string:\n",
    "        if s == 'a':\n",
    "            pass\n",
    "        elif s == 'e': \n",
    "            pass\n",
    "        elif s == 'i':\n",
    "            pass\n",
    "        elif s == 'o':\n",
    "            pass\n",
    "        elif s == 'u':\n",
    "            pass\n",
    "        else:\n",
    "            answer += s\n",
    "    return answer\n"
   ]
  },
  {
   "cell_type": "code",
   "execution_count": null,
   "id": "952c3065-c8c4-4bb4-a58e-75ff8fef0f39",
   "metadata": {},
   "outputs": [],
   "source": [
    "# 팩토리얼\n",
    "# i팩토리얼 (i!)은 1부터 i까지 정수의 곱을 의미합니다. 예를들어 5! = 5 * 4 * 3 * 2 * 1 = 120 입니다. \n",
    "# 정수 n이 주어질 때 다음 조건을 만족하는 가장 큰 정수 i를 return 하도록 solution 함수를 완성해주세요.\n"
   ]
  },
  {
   "cell_type": "code",
   "execution_count": null,
   "id": "02750b19-51cc-4b49-a222-0384d95475d8",
   "metadata": {},
   "outputs": [],
   "source": [
    "# 최댓값 만들기(1)\n",
    "# 정수 배열 numbers가 매개변수로 주어집니다. numbers의 원소 중 두 개를 곱해 만들 수 있는 최댓값을 return하도록 solution 함수를 완성해주세요.\n",
    "\n",
    "def solution(numbers):\n",
    "    numbers.sort()\n",
    "    return numbers[-1]*numbers[-2]"
   ]
  },
  {
   "cell_type": "code",
   "execution_count": null,
   "id": "89d1811c-73e8-4751-a609-c2aab31b7bdd",
   "metadata": {},
   "outputs": [],
   "source": [
    "# 합성수 찾기\n",
    "# 약수의 개수가 세 개 이상인 수를 합성수라고 합니다. \n",
    "# 자연수 n이 매개변수로 주어질 때 n이하의 합성수의 개수를 return하도록 solution 함수를 완성해주세요."
   ]
  },
  {
   "cell_type": "code",
   "execution_count": null,
   "id": "10608dda-b37b-42c5-a88d-5e91a8985872",
   "metadata": {},
   "outputs": [],
   "source": [
    "# 주사위의 개수\n",
    "# 머쓱이는 직육면체 모양의 상자를 하나 가지고 있는데 이 상자에 정육면체 모양의 주사위를 최대한 많이 채우고 싶습니다. \n",
    "# 상자의 가로, 세로, 높이가 저장되어있는 배열 box와 주사위 모서리의 길이 정수 n이 매개변수로 주어졌을 때, \n",
    "# 상자에 들어갈 수 있는 주사위의 최대 개수를 return 하도록 solution 함수를 완성해주세요.\n",
    "\n",
    "def solution(box, n):\n",
    "    return int(box[0]/n) * int(box[1]/n) * int(box[2]/n)"
   ]
  },
  {
   "cell_type": "code",
   "execution_count": null,
   "id": "7989bfbf-a7cd-4106-8a8a-4f5e08eaaa28",
   "metadata": {},
   "outputs": [],
   "source": [
    "# 배열 회전시키기\n",
    "# 정수가 담긴 배열 numbers와 문자열 direction가 매개변수로 주어집니다. \n",
    "# 배열 numbers의 원소를 direction방향으로 한 칸씩 회전시킨 배열을 return하도록 solution 함수를 완성해주세요.\n",
    "def solution(numbers, direction):\n",
    "    \n",
    "    answer = []\n",
    "    \n",
    "    if direction == \"right\":\n",
    "        answer.append(numbers[-1])\n",
    "        for num in range(len(numbers)-1):\n",
    "            answer.append(numbers[num])\n",
    "\n",
    "    elif direction == \"left\":\n",
    "        for num in range(1, len(numbers)):\n",
    "            answer.append(numbers[num])\n",
    "        answer.append(numbers[0])\n",
    "        \n",
    "    return answer"
   ]
  },
  {
   "cell_type": "code",
   "execution_count": null,
   "id": "93dcc094-b529-4407-86c5-3bc86433578c",
   "metadata": {},
   "outputs": [],
   "source": [
    "# 공던지기\n",
    "# 머쓱이는 친구들과 동그랗게 서서 공 던지기 게임을 하고 있습니다. 공은 1번부터 던지며 오른쪽으로 한 명을 건너뛰고 그다음 사람에게만 던질 수 있습니다. \n",
    "# 친구들의 번호가 들어있는 정수 배열 numbers와 정수 K가 주어질 때, k번째로 공을 던지는 사람의 번호는 무엇인지 return 하도록 solution 함수를 완성해보세요."
   ]
  },
  {
   "cell_type": "code",
   "execution_count": null,
   "id": "dd206e80-a0b6-4ddb-bf8f-94eece3c9654",
   "metadata": {},
   "outputs": [],
   "source": []
  },
  {
   "cell_type": "code",
   "execution_count": null,
   "id": "09c0d650-13f8-4dd9-9f79-776c705d749b",
   "metadata": {},
   "outputs": [],
   "source": []
  },
  {
   "cell_type": "code",
   "execution_count": null,
   "id": "39894723-9674-45f4-b5ef-37cbacbe5523",
   "metadata": {},
   "outputs": [],
   "source": []
  },
  {
   "cell_type": "code",
   "execution_count": null,
   "id": "98d83918-4f41-428e-8579-6477853a2adc",
   "metadata": {},
   "outputs": [],
   "source": []
  },
  {
   "cell_type": "code",
   "execution_count": null,
   "id": "e1d39c77-1331-4f0f-a31d-60b54fa01ee7",
   "metadata": {},
   "outputs": [],
   "source": []
  },
  {
   "cell_type": "code",
   "execution_count": null,
   "id": "fec62163-b952-4148-92b3-b2405340b1dd",
   "metadata": {},
   "outputs": [],
   "source": []
  },
  {
   "cell_type": "code",
   "execution_count": null,
   "id": "2af72f03-389a-42c1-9054-78e90f92d655",
   "metadata": {},
   "outputs": [],
   "source": []
  },
  {
   "cell_type": "code",
   "execution_count": null,
   "id": "d6295bf1-3c51-4d9c-94e9-7bf1f444214e",
   "metadata": {},
   "outputs": [],
   "source": []
  },
  {
   "cell_type": "code",
   "execution_count": null,
   "id": "8d69f7a8-a80d-47dd-b8e5-443a72427116",
   "metadata": {},
   "outputs": [],
   "source": []
  },
  {
   "cell_type": "code",
   "execution_count": null,
   "id": "8570a932-a4c8-431d-b71c-6f94a0e77769",
   "metadata": {},
   "outputs": [],
   "source": []
  }
 ],
 "metadata": {
  "kernelspec": {
   "display_name": "Python 3 (ipykernel)",
   "language": "python",
   "name": "python3"
  },
  "language_info": {
   "codemirror_mode": {
    "name": "ipython",
    "version": 3
   },
   "file_extension": ".py",
   "mimetype": "text/x-python",
   "name": "python",
   "nbconvert_exporter": "python",
   "pygments_lexer": "ipython3",
   "version": "3.11.1"
  }
 },
 "nbformat": 4,
 "nbformat_minor": 5
}
