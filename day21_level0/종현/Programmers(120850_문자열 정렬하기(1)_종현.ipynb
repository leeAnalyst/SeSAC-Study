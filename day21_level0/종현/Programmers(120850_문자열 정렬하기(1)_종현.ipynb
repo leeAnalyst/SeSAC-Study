{
 "cells": [
  {
   "cell_type": "markdown",
   "id": "69f82110-db86-46fe-98d9-4ac49326b196",
   "metadata": {},
   "source": [
    "### 문자열 정렬하기 (1)(120850)\n",
    "문제 : 문자열 my_string이 매개변수로 주어질 때, my_string 안에 있는 숫자만 골라 오름차순 정렬한 리스트를 return 하도록 solution 함수를 작성해보세요."
   ]
  },
  {
   "cell_type": "code",
   "execution_count": 2,
   "id": "395cec54-f474-41aa-a33c-76e6b98a8245",
   "metadata": {},
   "outputs": [
    {
     "data": {
      "text/plain": [
       "[1, 2, 2, 3, 9]"
      ]
     },
     "execution_count": 2,
     "metadata": {},
     "output_type": "execute_result"
    }
   ],
   "source": [
    "def solution(my_string):\n",
    "    result = []\n",
    "    for i in my_string:\n",
    "        if i.isdigit():\n",
    "            result.append(int(i))\n",
    "    return sorted(result)\n",
    "\n",
    "solution(\"hi12392\")"
   ]
  },
  {
   "cell_type": "code",
   "execution_count": 7,
   "id": "a1c529dc-2370-46e3-acf3-aae85d75c010",
   "metadata": {},
   "outputs": [
    {
     "data": {
      "text/plain": [
       "[1, 2, 2, 3, 9]"
      ]
     },
     "execution_count": 7,
     "metadata": {},
     "output_type": "execute_result"
    }
   ],
   "source": [
    "def solution(my_string):\n",
    "    return sorted([int(i) for i in my_string if i.isdigit()])\n",
    "\n",
    "solution(\"hi12392\")"
   ]
  }
 ],
 "metadata": {
  "kernelspec": {
   "display_name": "Python 3 (ipykernel)",
   "language": "python",
   "name": "python3"
  },
  "language_info": {
   "codemirror_mode": {
    "name": "ipython",
    "version": 3
   },
   "file_extension": ".py",
   "mimetype": "text/x-python",
   "name": "python",
   "nbconvert_exporter": "python",
   "pygments_lexer": "ipython3",
   "version": "3.10.7"
  }
 },
 "nbformat": 4,
 "nbformat_minor": 5
}
