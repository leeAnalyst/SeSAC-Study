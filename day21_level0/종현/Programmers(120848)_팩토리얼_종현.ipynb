{
 "cells": [
  {
   "cell_type": "markdown",
   "id": "15060f2b-c671-4689-bd9a-c0a2859b6117",
   "metadata": {},
   "source": [
    "### 팩토리얼 (120848)\n",
    "문제 : i팩토리얼 (i!)은 1부터 i까지 정수의 곱을 의미합니다. 예를들어 5! = 5 * 4 * 3 * 2 * 1 = 120 입니다. 정수 n이 주어질 때 다음 조건을 만족하는 가장 큰 정수 i를 return 하도록 solution 함수를 완성해주세요.\n",
    "\n",
    "i! ≤ n"
   ]
  },
  {
   "cell_type": "code",
   "execution_count": 3,
   "id": "ab79dd0c-969a-4c12-9650-700796a2826b",
   "metadata": {},
   "outputs": [
    {
     "data": {
      "text/plain": [
       "3"
      ]
     },
     "execution_count": 3,
     "metadata": {},
     "output_type": "execute_result"
    }
   ],
   "source": [
    "import math                           # factorial을 구하는 함수\n",
    "\n",
    "def solution(n):\n",
    "    i = 1                              # i를 1로 초기화\n",
    "    while True:                        # while문으로 factorial(i)가 n보다 작아질 때까지 i를 1씩 증가시키면서 계산 반복\n",
    "        if n < math.factorial(i):      # i의 팩토리얼 값이 n보다 크다면 -> 결국, i의 이전 factorial(i)가 되야하므로\n",
    "            return i-1                 # i의 전값(최대값)인 i-1을 return\n",
    "        i += 1                         # 1씩 더해준다.\n",
    "\n",
    "solution(7)"
   ]
  },
  {
   "cell_type": "code",
   "execution_count": null,
   "id": "b148441a-d681-4ba5-9280-0a854066b74e",
   "metadata": {},
   "outputs": [],
   "source": [
    "# while True는 조건식이 참일 경우 무한루프를 실행, 주로 특정 조건이 만족될 때까지 반복하려는 경우에 사용"
   ]
  }
 ],
 "metadata": {
  "kernelspec": {
   "display_name": "Python 3 (ipykernel)",
   "language": "python",
   "name": "python3"
  },
  "language_info": {
   "codemirror_mode": {
    "name": "ipython",
    "version": 3
   },
   "file_extension": ".py",
   "mimetype": "text/x-python",
   "name": "python",
   "nbconvert_exporter": "python",
   "pygments_lexer": "ipython3",
   "version": "3.10.7"
  }
 },
 "nbformat": 4,
 "nbformat_minor": 5
}
