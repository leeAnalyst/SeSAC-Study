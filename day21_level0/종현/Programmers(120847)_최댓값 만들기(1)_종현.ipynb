{
 "cells": [
  {
   "cell_type": "markdown",
   "id": "51ebf1c2-01d1-4513-b3c2-a1ca5d706354",
   "metadata": {},
   "source": [
    "### 최댓값 만들기 (1) (120847)\n",
    "문제 : 정수 배열 numbers가 매개변수로 주어집니다. numbers의 원소 중 두 개를 곱해 만들 수 있는 최댓값을 return하도록 solution 함수를 완성해주세요."
   ]
  },
  {
   "cell_type": "code",
   "execution_count": 1,
   "id": "eee771d3-91aa-4249-8979-2ffaa222e758",
   "metadata": {},
   "outputs": [
    {
     "data": {
      "text/plain": [
       "20"
      ]
     },
     "execution_count": 1,
     "metadata": {},
     "output_type": "execute_result"
    }
   ],
   "source": [
    "def solution(numbers):\n",
    "    numbers.sort(reverse=True)      # 내림차순으로 sort\n",
    "    return numbers[0]*numbers[1]    # 가장 맨 앞 값과 두번째 값을 곱하여 return\n",
    "\n",
    "solution([1, 2, 3, 4, 5])"
   ]
  }
 ],
 "metadata": {
  "kernelspec": {
   "display_name": "Python 3 (ipykernel)",
   "language": "python",
   "name": "python3"
  },
  "language_info": {
   "codemirror_mode": {
    "name": "ipython",
    "version": 3
   },
   "file_extension": ".py",
   "mimetype": "text/x-python",
   "name": "python",
   "nbconvert_exporter": "python",
   "pygments_lexer": "ipython3",
   "version": "3.10.7"
  }
 },
 "nbformat": 4,
 "nbformat_minor": 5
}
