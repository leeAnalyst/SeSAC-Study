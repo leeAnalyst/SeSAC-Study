{
 "cells": [
  {
   "cell_type": "markdown",
   "id": "e1798469-863e-4554-b1bd-61d6eec26a48",
   "metadata": {},
   "source": [
    "### 합성수 찾기 (120846)\n",
    "문제 : 약수의 개수가 세 개 이상인 수를 합성수라고 합니다. 자연수 n이 매개변수로 주어질 때 n이하의 합성수의 개수를 return하도록 solution 함수를 완성해주세요."
   ]
  },
  {
   "cell_type": "code",
   "execution_count": null,
   "id": "63a0fc8f-fbfe-4f71-aa3e-496b980823f6",
   "metadata": {},
   "outputs": [],
   "source": [
    "# 합성수 4 = 1, 2, 4 / 6 = 1, 2, 3, 6, / 8 = 1, 2, 4, 8 / 9 = 1, 3, 9 / 10 = 1, 2, 5, 10 / 12 = 1, 2, 3, 4, 6, 12 ....\n",
    "# 소수 = 1, 2, 3, 5, 7, 11, 13, "
   ]
  },
  {
   "cell_type": "code",
   "execution_count": 22,
   "id": "d83aba90-d614-4f5e-99c2-3bf5419fcbef",
   "metadata": {},
   "outputs": [
    {
     "name": "stdout",
     "output_type": "stream",
     "text": [
      "[False, False, False, False, True, False, False, False, False, False, False, False, False, False, False, False]\n",
      "[False, False, False, False, True, False, True, False, False, False, False, False, False, False, False, False]\n",
      "[False, False, False, False, True, False, True, False, True, False, False, False, False, False, False, False]\n",
      "[False, False, False, False, True, False, True, False, True, False, True, False, False, False, False, False]\n",
      "[False, False, False, False, True, False, True, False, True, False, True, False, True, False, False, False]\n",
      "[False, False, False, False, True, False, True, False, True, False, True, False, True, False, True, False]\n",
      "[False, False, False, False, True, False, True, False, True, True, True, False, True, False, True, False]\n",
      "[False, False, False, False, True, False, True, False, True, True, True, False, True, False, True, False]\n",
      "[False, False, False, False, True, False, True, False, True, True, True, False, True, False, True, True]\n"
     ]
    },
    {
     "data": {
      "text/plain": [
       "8"
      ]
     },
     "execution_count": 22,
     "metadata": {},
     "output_type": "execute_result"
    }
   ],
   "source": [
    "def solution(n):\n",
    "    is_composite = [False] * (n + 1)      # n보다 작은 수 중 합성수를 찾는 문제이므로 n+1개의 False값을 갖는 리스트 생성\n",
    "\n",
    "    for i in range(2, n+1):               # for반복문으로 2부터 n까지 반복\n",
    "        if not is_composite[i]:           # is_composite[i]가 False일 경우(즉, i가 소수(1과 자신만을 약수로 가지는 수)일때)\n",
    "            for j in range(i*i, n+1, i):  # i의 배수의 값을 n까지 i만큼 증가시키며 체크 (4부터 n까지 2step으로 시작)\n",
    "                is_composite[j] = True    # 합성수이므로 i의 배수의 위치를 True로 변경\n",
    "                print(is_composite) \n",
    "    return sum(is_composite[4:n+1])       # 4부터 n까지 True값의 개수를 sum으로 합산하여 return\n",
    "\n",
    "solution(15)"
   ]
  },
  {
   "cell_type": "code",
   "execution_count": 24,
   "id": "8883cfd7-c30b-49b7-8e9a-e1599218dd46",
   "metadata": {},
   "outputs": [
    {
     "ename": "SyntaxError",
     "evalue": "incomplete input (287780630.py, line 2)",
     "output_type": "error",
     "traceback": [
      "\u001b[1;36m  Cell \u001b[1;32mIn [24], line 2\u001b[1;36m\u001b[0m\n\u001b[1;33m    if not is_composite:\u001b[0m\n\u001b[1;37m                        ^\u001b[0m\n\u001b[1;31mSyntaxError\u001b[0m\u001b[1;31m:\u001b[0m incomplete input\n"
     ]
    }
   ],
   "source": [
    "is_composite = [False] * (n + 1)\n",
    "if not is_composite"
   ]
  }
 ],
 "metadata": {
  "kernelspec": {
   "display_name": "Python 3 (ipykernel)",
   "language": "python",
   "name": "python3"
  },
  "language_info": {
   "codemirror_mode": {
    "name": "ipython",
    "version": 3
   },
   "file_extension": ".py",
   "mimetype": "text/x-python",
   "name": "python",
   "nbconvert_exporter": "python",
   "pygments_lexer": "ipython3",
   "version": "3.10.7"
  }
 },
 "nbformat": 4,
 "nbformat_minor": 5
}
