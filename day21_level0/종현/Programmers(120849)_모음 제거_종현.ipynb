{
 "cells": [
  {
   "cell_type": "markdown",
   "id": "ad2d6947-052b-46f3-89d7-e256d5244bb1",
   "metadata": {},
   "source": [
    "### 모음 제거 (120849)\n",
    "문제 : 영어에선 a, e, i, o, u 다섯 가지 알파벳을 모음으로 분류합니다. 문자열 my_string이 매개변수로 주어질 때 모음을 제거한 문자열을 return하도록 solution 함수를 완성해주세요."
   ]
  },
  {
   "cell_type": "code",
   "execution_count": 4,
   "id": "096f18e9-5518-48fe-a2a1-cd40f87bd0c9",
   "metadata": {},
   "outputs": [
    {
     "data": {
      "text/plain": [
       "'bs'"
      ]
     },
     "execution_count": 4,
     "metadata": {},
     "output_type": "execute_result"
    }
   ],
   "source": [
    "vowel = ['a', 'e', 'i', 'o', 'u']\n",
    "\n",
    "def solution(my_string):\n",
    "    answer = ''\n",
    "    for s in my_string:\n",
    "        if s in vowel:      # s가 vowel 안에 있으면\n",
    "            pass            # pass\n",
    "        else:                 \n",
    "            answer += s     # 그렇지 않은 경우, 자음이기 때문에 answer에 s를 더해준다.\n",
    "    return answer\n",
    "\n",
    "solution(\"bus\")"
   ]
  }
 ],
 "metadata": {
  "kernelspec": {
   "display_name": "Python 3 (ipykernel)",
   "language": "python",
   "name": "python3"
  },
  "language_info": {
   "codemirror_mode": {
    "name": "ipython",
    "version": 3
   },
   "file_extension": ".py",
   "mimetype": "text/x-python",
   "name": "python",
   "nbconvert_exporter": "python",
   "pygments_lexer": "ipython3",
   "version": "3.10.7"
  }
 },
 "nbformat": 4,
 "nbformat_minor": 5
}
