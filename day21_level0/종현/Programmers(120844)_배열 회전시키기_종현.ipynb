{
 "cells": [
  {
   "cell_type": "markdown",
   "id": "a27ce47f-7bc7-4659-85dc-79a01e8f4465",
   "metadata": {},
   "source": [
    "### 배열 회전시키기 (120844)\n",
    "문제 : 정수가 담긴 배열 numbers와 문자열 direction가 매개변수로 주어집니다. 배열 numbers의 원소를 direction방향으로 한 칸씩 회전시킨 배열을 return하도록 solution 함수를 완성해주세요."
   ]
  },
  {
   "cell_type": "code",
   "execution_count": 12,
   "id": "2bcab828-1989-4e53-a04c-6ba96cd99454",
   "metadata": {},
   "outputs": [
    {
     "name": "stdout",
     "output_type": "stream",
     "text": [
      "[4, 455, 6, 4, -1, 45, 6, 4]\n",
      "[455, 6, 4, -1, 45, 6, 4]\n"
     ]
    },
    {
     "data": {
      "text/plain": [
       "[455, 6, 4, -1, 45, 6, 4]"
      ]
     },
     "execution_count": 12,
     "metadata": {},
     "output_type": "execute_result"
    }
   ],
   "source": [
    "def solution(numbers, direction):\n",
    "\n",
    "    if direction == 'right':                # 'right'인 경우\n",
    "        numbers.insert(0, numbers[-1])      # 리스트의 0번째 index자리에 numbers의 마지막 값을 집어넣고\n",
    "        print(numbers)\n",
    "        numbers.pop()                       # 리스트의 마지막 값을 pop()으로 제거해준다.(stack)\n",
    "        print(numbers)\n",
    "    else:                                   # 'left'인 경우\n",
    "        numbers.append(numbers[0])          # 일단 리스트에 numbers첫번째 값을 append해주고\n",
    "        print(numbers)\n",
    "        numbers.pop(0)                      # pop으로 0번째 index값을 날려버림\n",
    "        print(numbers)\n",
    "    return numbers\n",
    "\n",
    "solution([4, 455, 6, 4, -1, 45, 6], 'left')"
   ]
  }
 ],
 "metadata": {
  "kernelspec": {
   "display_name": "Python 3 (ipykernel)",
   "language": "python",
   "name": "python3"
  },
  "language_info": {
   "codemirror_mode": {
    "name": "ipython",
    "version": 3
   },
   "file_extension": ".py",
   "mimetype": "text/x-python",
   "name": "python",
   "nbconvert_exporter": "python",
   "pygments_lexer": "ipython3",
   "version": "3.10.7"
  }
 },
 "nbformat": 4,
 "nbformat_minor": 5
}
