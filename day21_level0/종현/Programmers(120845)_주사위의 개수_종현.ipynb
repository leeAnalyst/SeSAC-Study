{
 "cells": [
  {
   "cell_type": "markdown",
   "id": "d7aed06c-a74f-4761-adb5-4debe197591e",
   "metadata": {},
   "source": [
    "### 주사위의 개수 (120845)\n",
    "문제 : 머쓱이는 직육면체 모양의 상자를 하나 가지고 있는데 이 상자에 정육면체 모양의 주사위를 최대한 많이 채우고 싶습니다. 상자의 가로, 세로, 높이가 저장되어있는 배열 box와 주사위 모서리의 길이 정수 n이 매개변수로 주어졌을 때, 상자에 들어갈 수 있는 주사위의 최대 개수를 return 하도록 solution 함수를 완성해주세요."
   ]
  },
  {
   "cell_type": "code",
   "execution_count": 4,
   "id": "d8289865-6dc8-4a22-926b-a9b698f0a18c",
   "metadata": {},
   "outputs": [
    {
     "name": "stdout",
     "output_type": "stream",
     "text": [
      "3\n",
      "6\n",
      "12\n"
     ]
    },
    {
     "data": {
      "text/plain": [
       "12"
      ]
     },
     "execution_count": 4,
     "metadata": {},
     "output_type": "execute_result"
    }
   ],
   "source": [
    "def solution(box, n):\n",
    "    answer = 1           # 몫 들을 곱해주기 위해 시작값을 1로 지정\n",
    "    for i in box:        # 매개변수 box를 for반복문으로 돌며\n",
    "        answer *= i//n   # i를 n으로 나눈 몫을 곱하여 answer에 다시 대입\n",
    "        print(answer)\n",
    "    return answer \n",
    "\n",
    "solution([10, 8, 6], 3)"
   ]
  }
 ],
 "metadata": {
  "kernelspec": {
   "display_name": "Python 3 (ipykernel)",
   "language": "python",
   "name": "python3"
  },
  "language_info": {
   "codemirror_mode": {
    "name": "ipython",
    "version": 3
   },
   "file_extension": ".py",
   "mimetype": "text/x-python",
   "name": "python",
   "nbconvert_exporter": "python",
   "pygments_lexer": "ipython3",
   "version": "3.10.7"
  }
 },
 "nbformat": 4,
 "nbformat_minor": 5
}
