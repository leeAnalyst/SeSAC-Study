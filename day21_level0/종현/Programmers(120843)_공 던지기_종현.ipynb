{
 "cells": [
  {
   "cell_type": "markdown",
   "id": "2a20059b-5ec1-4295-ba3e-9bbd91ad07b7",
   "metadata": {},
   "source": [
    "### 공 던지기 (120843)\n",
    "문제 : 머쓱이는 친구들과 동그랗게 서서 공 던지기 게임을 하고 있습니다. 공은 1번부터 던지며 오른쪽으로 한 명을 건너뛰고 그다음 사람에게만 던질 수 있습니다. 친구들의 번호가 들어있는 정수 배열 numbers와 정수 K가 주어질 때, k번째로 공을 던지는 사람의 번호는 무엇인지 return 하도록 solution 함수를 완성해보세요."
   ]
  },
  {
   "cell_type": "code",
   "execution_count": 35,
   "id": "5d29db2b-6333-45f3-9914-a41dd01c13e4",
   "metadata": {},
   "outputs": [
    {
     "data": {
      "text/plain": [
       "3"
      ]
     },
     "execution_count": 35,
     "metadata": {},
     "output_type": "execute_result"
    }
   ],
   "source": [
    "def solution(numbers, k): \n",
    "    if len(numbers) % 2 == 0:              # numbers의 길이를 2로 나눈 나머지가 0이라면 (길이가 짝수일 경우, 135135135 계속 반복하게 됨)\n",
    "        position = numbers[0::2]           # position은 0번째 index부터 2스텝씩 증가 (1, 3, 5 .... 홀수로 증가)\n",
    "    else:                                  # numbers의 길이가 홀수일 경우,\n",
    "        position = numbers[0::2] + numbers[1::2]      # numbers[0::2]에 numbers[1::2] (짝수)를 더함 (ex. [1, 3, 5, 2, 4, 6...])\n",
    "    return position[(k % len(position)) - 1]   # (k % len(position)) - 1  -> 마지막에 던져야 할 postion의 index값이 됨\n",
    "solution([1, 2, 3, 4, 5, 6], 5)"
   ]
  },
  {
   "cell_type": "code",
   "execution_count": 30,
   "id": "c147ec68-f643-4fa8-a8f3-ac06266b380e",
   "metadata": {},
   "outputs": [
    {
     "data": {
      "text/plain": [
       "[1, 3, 5]"
      ]
     },
     "execution_count": 30,
     "metadata": {},
     "output_type": "execute_result"
    }
   ],
   "source": [
    "numbers = [1, 2, 3, 4, 5, 6]\n",
    "position = numbers[0::2]\n",
    "position"
   ]
  },
  {
   "cell_type": "code",
   "execution_count": 31,
   "id": "bf8bb2e1-0dad-4c68-a0c3-53bbed2b98f4",
   "metadata": {},
   "outputs": [
    {
     "name": "stdout",
     "output_type": "stream",
     "text": [
      "1\n"
     ]
    }
   ],
   "source": [
    "k = 5\n",
    "print((k % len(position)) - 1)"
   ]
  }
 ],
 "metadata": {
  "kernelspec": {
   "display_name": "Python 3 (ipykernel)",
   "language": "python",
   "name": "python3"
  },
  "language_info": {
   "codemirror_mode": {
    "name": "ipython",
    "version": 3
   },
   "file_extension": ".py",
   "mimetype": "text/x-python",
   "name": "python",
   "nbconvert_exporter": "python",
   "pygments_lexer": "ipython3",
   "version": "3.10.7"
  }
 },
 "nbformat": 4,
 "nbformat_minor": 5
}
