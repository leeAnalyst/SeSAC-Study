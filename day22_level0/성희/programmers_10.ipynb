{
 "cells": [
  {
   "cell_type": "markdown",
   "id": "f9cc6bb2-3dec-49c4-9a72-a2e3a323d4c0",
   "metadata": {
    "tags": []
   },
   "source": [
    "# 2차원만들기"
   ]
  },
  {
   "cell_type": "markdown",
   "id": "ecff9f3c-0b6a-47d1-ac83-73ba7b2cc810",
   "metadata": {},
   "source": [
    "num_list"
   ]
  },
  {
   "cell_type": "markdown",
   "id": "71bde5c4-81a3-40d4-b160-7254f9250280",
   "metadata": {},
   "source": [
    "문제 분석\n",
    "1.\n"
   ]
  },
  {
   "cell_type": "code",
   "execution_count": 18,
   "id": "4c12cac8-d869-4c19-aab5-8715db3be54b",
   "metadata": {},
   "outputs": [],
   "source": [
    "num_list = [1, 2, 3, 4, 5, 6, 7, 8]\n",
    "n = 2\n"
   ]
  },
  {
   "cell_type": "code",
   "execution_count": 20,
   "id": "413da2ad-5e68-4aa9-99a0-5efdc34d6f08",
   "metadata": {},
   "outputs": [
    {
     "data": {
      "text/plain": [
       "[[1, 2], [3, 4], [5, 6], [7, 8]]"
      ]
     },
     "execution_count": 20,
     "metadata": {},
     "output_type": "execute_result"
    }
   ],
   "source": [
    "count = 0\n",
    "result, A = [], []\n",
    "for num in num_list:\n",
    "    A.append(num) \n",
    "    count += 1\n",
    "    if n == count:      # if 2개의 count 가 찬다면\n",
    "        result.append(A) # 리스트 째로 append\n",
    "        A = []\n",
    "        count = 0  # 개수세기\n",
    "result"
   ]
  },
  {
   "cell_type": "code",
   "execution_count": null,
   "id": "75522f8f-dddc-4f0d-9edf-531d997975c7",
   "metadata": {},
   "outputs": [],
   "source": []
  },
  {
   "cell_type": "code",
   "execution_count": null,
   "id": "a5d381bc-10ed-485d-8a11-ca07811af002",
   "metadata": {},
   "outputs": [],
   "source": []
  },
  {
   "cell_type": "markdown",
   "id": "01deee09-7be5-4bb9-a999-c827e4a864ff",
   "metadata": {},
   "source": [
    "<b>더하기 생각."
   ]
  },
  {
   "cell_type": "markdown",
   "id": "df823698-8b02-413f-8d52-9794624dffaa",
   "metadata": {
    "tags": []
   },
   "source": [
    "# 점의 위치 구하기"
   ]
  },
  {
   "cell_type": "markdown",
   "id": "5677a358-dcd7-452f-a675-cf0b81492b98",
   "metadata": {},
   "source": []
  },
  {
   "cell_type": "markdown",
   "id": "1f6991ee-1fc9-4c81-ba60-0c893adfb9af",
   "metadata": {},
   "source": [
    "문제 분석\n",
    "1.\n"
   ]
  },
  {
   "cell_type": "code",
   "execution_count": 23,
   "id": "cb5a0fc6-9ed7-41d8-ba66-62b8fe7f29c7",
   "metadata": {},
   "outputs": [
    {
     "ename": "SyntaxError",
     "evalue": "'return' outside function (388104995.py, line 4)",
     "output_type": "error",
     "traceback": [
      "\u001b[1;36m  Cell \u001b[1;32mIn [23], line 4\u001b[1;36m\u001b[0m\n\u001b[1;33m    return (1)\u001b[0m\n\u001b[1;37m    ^\u001b[0m\n\u001b[1;31mSyntaxError\u001b[0m\u001b[1;31m:\u001b[0m 'return' outside function\n"
     ]
    }
   ],
   "source": [
    "dot = [2, 4]\n",
    "\n",
    "if dot[0] > 0 and dot[1] > 0:\n",
    "    return (1)\n",
    "elif dot[0] < 0 and dot[1] > 0:\n",
    "    return (2)\n",
    "elif dot[0] < 0 and dot[1] < 0:\n",
    "    return (3)\n",
    "elif dot[0] > 0 and dot[1] < 0:\n",
    "    return (4)"
   ]
  },
  {
   "cell_type": "code",
   "execution_count": null,
   "id": "18403827-f216-4825-b398-364ffa3dcaea",
   "metadata": {},
   "outputs": [],
   "source": []
  },
  {
   "cell_type": "markdown",
   "id": "f89df04f-0319-45eb-ac4f-96b9a65a6b1a",
   "metadata": {
    "tags": []
   },
   "source": [
    "# 구슬을 나눠주는 경우의 수"
   ]
  },
  {
   "attachments": {
    "ac473a15-bd48-4853-a53d-d36803a4eee7.png": {
     "image/png": "[encoded data removed]"
    }
   },
   "cell_type": "markdown",
   "id": "5f64fe9c-cb92-4dd0-b507-4f11dd5fb394",
   "metadata": {},
   "source": [
    "![image.png](attachment:ac473a15-bd48-4853-a53d-d36803a4eee7.png)"
   ]
  },
  {
   "cell_type": "markdown",
   "id": "7a31f277-0dcc-46cd-b59c-fdef457f60c6",
   "metadata": {},
   "source": [
    "문제 분석\n",
    "1.\n"
   ]
  },
  {
   "cell_type": "code",
   "execution_count": 52,
   "id": "29c6a8be-a15b-400b-b85a-233d306a8c70",
   "metadata": {},
   "outputs": [
    {
     "name": "stdout",
     "output_type": "stream",
     "text": [
      "120\n",
      "6\n",
      "2\n",
      "10\n"
     ]
    }
   ],
   "source": [
    "balls = 5\n",
    "share = 3\n",
    "Fn, Fm, Fn_m = 1, 1, 1\n",
    "\n",
    "for i in range(1, balls+1):\n",
    "    Fn *= i\n",
    "print(Fn) # 120\n",
    "for i in range(1, share+1):\n",
    "    Fm *= i\n",
    "print(Fm) # 6\n",
    "for i in range(1, balls-share+1):\n",
    "    Fn_m *= i\n",
    "print(Fn_m) # 2\n",
    "print(int(Fn / (Fn_m * Fm)))\n"
   ]
  },
  {
   "cell_type": "code",
   "execution_count": null,
   "id": "5aeb349d-1457-4292-8893-bd73e8a767af",
   "metadata": {},
   "outputs": [],
   "source": []
  },
  {
   "cell_type": "markdown",
   "id": "2c44c692-b3e8-4642-83a6-be4d9b5fa5d5",
   "metadata": {
    "tags": []
   },
   "source": [
    "# 가위 바위 보"
   ]
  },
  {
   "cell_type": "markdown",
   "id": "c8ddd2d7-8c59-485e-9e9b-c914022ea6ab",
   "metadata": {},
   "source": []
  },
  {
   "cell_type": "markdown",
   "id": "1e1c0788-27ab-4aec-bea7-7f8a805d18b3",
   "metadata": {},
   "source": [
    "문제 분석\n",
    "1.\n"
   ]
  },
  {
   "cell_type": "code",
   "execution_count": 63,
   "id": "0bda8412-918c-4e7e-a3c7-2a433c782bbe",
   "metadata": {},
   "outputs": [
    {
     "name": "stdout",
     "output_type": "stream",
     "text": [
      "052\n"
     ]
    }
   ],
   "source": [
    "rsp = '205'\n",
    "\n",
    "\n",
    "rsp = list(rsp)\n",
    "result = []\n",
    "for word in rsp:\n",
    "    if word == '2':\n",
    "        result.append('0')\n",
    "    elif word == '5':\n",
    "        result.append('2')\n",
    "    elif word == '0':\n",
    "        result.append('5')\n",
    "print(str(''.join(result)))"
   ]
  },
  {
   "cell_type": "markdown",
   "id": "5b364085-a024-46e2-95ee-00f6941f539c",
   "metadata": {},
   "source": [
    "replace로 하는데는 한계가있다. 한꺼번에 몇개씩 동시에 할수없다."
   ]
  },
  {
   "cell_type": "markdown",
   "id": "44999e36-6823-45d0-97e4-8f66a9b4da23",
   "metadata": {
    "tags": []
   },
   "source": [
    "# 모스부호"
   ]
  },
  {
   "cell_type": "markdown",
   "id": "39109df4-4607-4457-99b4-9f27f8865fb6",
   "metadata": {},
   "source": []
  },
  {
   "cell_type": "markdown",
   "id": "f6633b69-0837-4ad7-bb6c-0f96f7f61ef1",
   "metadata": {},
   "source": [
    "문제 분석\n",
    "1.\n"
   ]
  },
  {
   "cell_type": "code",
   "execution_count": 68,
   "id": "036d28e4-9909-4abd-86f5-1f03a777d689",
   "metadata": {},
   "outputs": [
    {
     "name": "stdout",
     "output_type": "stream",
     "text": [
      "hello\n"
     ]
    }
   ],
   "source": [
    "\n",
    "morse = { \n",
    "    '.-':'a','-...':'b','-.-.':'c','-..':'d','.':'e','..-.':'f',\n",
    "    '--.':'g','....':'h','..':'i','.---':'j','-.-':'k','.-..':'l',\n",
    "    '--':'m','-.':'n','---':'o','.--.':'p','--.-':'q','.-.':'r',\n",
    "    '...':'s','-':'t','..-':'u','...-':'v','.--':'w','-..-':'x',\n",
    "    '-.--':'y','--..':'z'\n",
    "}\n",
    "\n",
    "letter = \".... . .-.. .-.. ---\"\n",
    "letter = letter.split(' ')\n",
    "result = []\n",
    "for mos in letter:\n",
    "    result.append(morse[mos])\n",
    "print(''.join(result))"
   ]
  },
  {
   "cell_type": "code",
   "execution_count": null,
   "id": "8bd0e00b-4758-4cb8-9337-d9a02418e877",
   "metadata": {},
   "outputs": [],
   "source": []
  },
  {
   "cell_type": "markdown",
   "id": "5457e6d3-41ff-4dfc-ae25-63dbcef50b67",
   "metadata": {
    "tags": []
   },
   "source": [
    "# 개미군단"
   ]
  },
  {
   "cell_type": "markdown",
   "id": "76271541-29bd-4cd4-83a0-099cee7f00fd",
   "metadata": {},
   "source": []
  },
  {
   "cell_type": "markdown",
   "id": "205c4731-bf0b-48f0-862e-d75b9f5a0e57",
   "metadata": {},
   "source": [
    "문제 분석\n",
    "1.\n"
   ]
  },
  {
   "cell_type": "code",
   "execution_count": 74,
   "id": "1266c4ef-eb1c-41eb-9e06-2dc745ecd402",
   "metadata": {},
   "outputs": [],
   "source": [
    "J = 5\n",
    "B = 3\n",
    "I = 1\n",
    "hp = 24\n"
   ]
  },
  {
   "cell_type": "code",
   "execution_count": 83,
   "id": "7645d162-9039-4e56-b110-3bbc6b0f9230",
   "metadata": {},
   "outputs": [
    {
     "name": "stdout",
     "output_type": "stream",
     "text": [
      "6\n"
     ]
    }
   ],
   "source": [
    "J, B, I = 0, 0, 0\n",
    "hp = 24\n",
    "\n",
    "J = hp // 5\n",
    "hp = hp % 5\n",
    "\n",
    "if hp >= 3:\n",
    "    B = hp // 3\n",
    "    hp = hp % 3\n",
    "\n",
    "if hp >= 1:\n",
    "    I = hp\n",
    "\n",
    "print( J + B + I)"
   ]
  },
  {
   "cell_type": "markdown",
   "id": "b433749c-20a5-46c9-b239-7e3ccffea2c8",
   "metadata": {
    "tags": []
   },
   "source": [
    "# "
   ]
  },
  {
   "cell_type": "markdown",
   "id": "4f1f41a5-2dae-4b44-b809-19451ace3e92",
   "metadata": {},
   "source": []
  },
  {
   "cell_type": "markdown",
   "id": "3b689ea9-0b46-4250-82d0-033c5a855a93",
   "metadata": {},
   "source": [
    "문제 분석\n",
    "1.\n"
   ]
  },
  {
   "cell_type": "code",
   "execution_count": null,
   "id": "f0a10971-97fe-421d-93ae-859a4e1f97c0",
   "metadata": {},
   "outputs": [],
   "source": [
    "\n"
   ]
  },
  {
   "cell_type": "code",
   "execution_count": null,
   "id": "c856c376-c74d-4906-a58a-fe19f3b77883",
   "metadata": {},
   "outputs": [],
   "source": []
  },
  {
   "cell_type": "markdown",
   "id": "a06168ab-f667-41d3-867c-435baf69d34d",
   "metadata": {
    "tags": []
   },
   "source": [
    "# "
   ]
  },
  {
   "cell_type": "markdown",
   "id": "8bfeaf8b-7d26-44ea-b47d-1211e7a237e2",
   "metadata": {},
   "source": []
  },
  {
   "cell_type": "markdown",
   "id": "44466d23-8d35-40be-8575-184e430b5ce6",
   "metadata": {},
   "source": [
    "문제 분석\n",
    "1.\n"
   ]
  },
  {
   "cell_type": "code",
   "execution_count": null,
   "id": "de6f5664-8c88-45b4-bb39-57f0c72bcc05",
   "metadata": {},
   "outputs": [],
   "source": [
    "\n"
   ]
  },
  {
   "cell_type": "code",
   "execution_count": null,
   "id": "bebd23d3-6fb4-4fc4-815c-964dbd546389",
   "metadata": {},
   "outputs": [],
   "source": []
  },
  {
   "cell_type": "markdown",
   "id": "bce895cd-f162-485b-8b70-118df7bb9d5f",
   "metadata": {
    "tags": []
   },
   "source": [
    "# "
   ]
  },
  {
   "cell_type": "markdown",
   "id": "c0861487-e585-4bca-bdc8-eae490a54781",
   "metadata": {},
   "source": []
  },
  {
   "cell_type": "markdown",
   "id": "9a4d9dba-e8f1-4e3a-be70-12de5ecaada1",
   "metadata": {},
   "source": [
    "문제 분석\n",
    "1.\n"
   ]
  },
  {
   "cell_type": "code",
   "execution_count": null,
   "id": "1713236a-e5ca-4d24-828e-fa20ca28a819",
   "metadata": {},
   "outputs": [],
   "source": [
    "\n"
   ]
  },
  {
   "cell_type": "code",
   "execution_count": null,
   "id": "e5485d58-a5e3-423f-bfee-18e3a2a34cfb",
   "metadata": {},
   "outputs": [],
   "source": []
  },
  {
   "cell_type": "markdown",
   "id": "a8fd148c-ce34-4b58-85e8-81f52f203e6c",
   "metadata": {
    "tags": []
   },
   "source": [
    "# "
   ]
  },
  {
   "cell_type": "markdown",
   "id": "076fc5fd-da43-4327-943f-22f6e9dd5d2c",
   "metadata": {},
   "source": []
  },
  {
   "cell_type": "markdown",
   "id": "bc9bab43-9de1-4c30-9b52-b9e080dff0de",
   "metadata": {},
   "source": [
    "문제 분석\n",
    "1.\n"
   ]
  },
  {
   "cell_type": "code",
   "execution_count": null,
   "id": "dde3481e-0c79-4d49-8bb5-a08069eb1b09",
   "metadata": {},
   "outputs": [],
   "source": [
    "\n"
   ]
  },
  {
   "cell_type": "code",
   "execution_count": null,
   "id": "ca31b751-7989-4ad3-bc5e-61482938f7fa",
   "metadata": {},
   "outputs": [],
   "source": []
  },
  {
   "cell_type": "markdown",
   "id": "aa2a5f6d-9fdf-4611-865d-d37c74333011",
   "metadata": {},
   "source": [
    "<b>더하기 생각."
   ]
  }
 ],
 "metadata": {
  "kernelspec": {
   "display_name": "Python 3 (ipykernel)",
   "language": "python",
   "name": "python3"
  },
  "language_info": {
   "codemirror_mode": {
    "name": "ipython",
    "version": 3
   },
   "file_extension": ".py",
   "mimetype": "text/x-python",
   "name": "python",
   "nbconvert_exporter": "python",
   "pygments_lexer": "ipython3",
   "version": "3.10.8"
  }
 },
 "nbformat": 4,
 "nbformat_minor": 5
}
