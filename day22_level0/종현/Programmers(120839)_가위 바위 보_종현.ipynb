{
 "cells": [
  {
   "cell_type": "markdown",
   "id": "0d01a583-6382-4b2a-8cd7-f09ab2f9c0c5",
   "metadata": {},
   "source": [
    "### 가위 바위 보 (120839)\n",
    "문제 : 가위는 2 바위는 0 보는 5로 표현합니다. 가위 바위 보를 내는 순서대로 나타낸 문자열 rsp가 매개변수로 주어질 때, rsp에 저장된 가위 바위 보를 모두 이기는 경우를 순서대로 나타낸 문자열을 return하도록 solution 함수를 완성해보세요."
   ]
  },
  {
   "cell_type": "code",
   "execution_count": 4,
   "id": "885c3529-a48a-40fb-91e6-17a23ca7581f",
   "metadata": {},
   "outputs": [
    {
     "data": {
      "text/plain": [
       "'052'"
      ]
     },
     "execution_count": 4,
     "metadata": {},
     "output_type": "execute_result"
    }
   ],
   "source": [
    "def solution(rsp):\n",
    "    result = []\n",
    "    for i in range(len(rsp)):   # for 반복문으로 rsp의 길이만큼\n",
    "        if rsp[i] == '0':       # '0'일 경우\n",
    "            result.append('5')  # result에 '5'를 append하고\n",
    "        elif rsp[i] == '2':\n",
    "            result.append('0')\n",
    "        else:\n",
    "            result.append('2')\n",
    "    return ''.join(result)      # 결과는 result의 원소들을 공백기준으로 합쳐 return한다.\n",
    "\n",
    "solution(\"205\")"
   ]
  },
  {
   "cell_type": "code",
   "execution_count": 5,
   "id": "79ce94f8-3e9f-419f-bd8d-888153bce206",
   "metadata": {},
   "outputs": [
    {
     "data": {
      "text/plain": [
       "'052'"
      ]
     },
     "execution_count": 5,
     "metadata": {},
     "output_type": "execute_result"
    }
   ],
   "source": [
    "def solution(rsp):\n",
    "    d = {'0':'5','2':'0','5':'2'}      # 각 가위바위보 값을 key에, 그것을 이기는 값을 value에 넣은 딕셔너리를 생성한 후 \n",
    "    return ''.join(d[i] for i in rsp)  # for문을 돌려 딕셔너리에 해당하는 값을 join으로 합쳐 return한다.\n",
    "\n",
    "solution('205')"
   ]
  }
 ],
 "metadata": {
  "kernelspec": {
   "display_name": "Python 3 (ipykernel)",
   "language": "python",
   "name": "python3"
  },
  "language_info": {
   "codemirror_mode": {
    "name": "ipython",
    "version": 3
   },
   "file_extension": ".py",
   "mimetype": "text/x-python",
   "name": "python",
   "nbconvert_exporter": "python",
   "pygments_lexer": "ipython3",
   "version": "3.10.7"
  }
 },
 "nbformat": 4,
 "nbformat_minor": 5
}
