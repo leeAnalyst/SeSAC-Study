{
 "cells": [
  {
   "cell_type": "markdown",
   "id": "225f74fd-b50c-4546-8849-21dec23b8eab",
   "metadata": {},
   "source": [
    "### 점의 위치 (120841)\n",
    "문제 : 사분면은 한 평면을 x축과 y축을 기준으로 나눈 네 부분입니다. 사분면은 아래와 같이 1부터 4까지 번호를매깁니다.\n",
    " - x 좌표와 y 좌표가 모두 양수이면 제1사분면에 속합니다.\n",
    " - x 좌표가 음수, y 좌표가 양수이면 제2사분면에 속합니다.\n",
    " - x 좌표와 y 좌표가 모두 음수이면 제3사분면에 속합니다.\n",
    " - x 좌표가 양수, y 좌표가 음수이면 제4사분면에 속합니다.\n",
    "\n",
    "x 좌표 (x, y)를 차례대로 담은 정수 배열 `dot`이 매개변수로 주어집니다. 좌표 `dot`이 사분면 중 어디에 속하는지 1, 2, 3, 4 중 하나를 return 하도록 solution 함수를 완성해주세요."
   ]
  },
  {
   "cell_type": "code",
   "execution_count": 1,
   "id": "f4f9c962-e3b4-43cb-b021-6d7c297f883f",
   "metadata": {},
   "outputs": [
    {
     "data": {
      "text/plain": [
       "1"
      ]
     },
     "execution_count": 1,
     "metadata": {},
     "output_type": "execute_result"
    }
   ],
   "source": [
    "def solution(dot):\n",
    "    result = [1, 2, 3, 4]\n",
    "    if dot[0] > 0 and dot[1] > 0:\n",
    "        return result[0]\n",
    "    elif dot[0] < 0 and dot[1] < 0:\n",
    "        return result[2]\n",
    "    elif dot[0] < 0 and dot[1] > 0:\n",
    "        return result[1]\n",
    "    elif dot[0] > 0 and dot[1] < 0: \n",
    "        return result[3]\n",
    "    \n",
    "solution([2, 4])"
   ]
  }
 ],
 "metadata": {
  "kernelspec": {
   "display_name": "Python 3 (ipykernel)",
   "language": "python",
   "name": "python3"
  },
  "language_info": {
   "codemirror_mode": {
    "name": "ipython",
    "version": 3
   },
   "file_extension": ".py",
   "mimetype": "text/x-python",
   "name": "python",
   "nbconvert_exporter": "python",
   "pygments_lexer": "ipython3",
   "version": "3.10.7"
  }
 },
 "nbformat": 4,
 "nbformat_minor": 5
}
