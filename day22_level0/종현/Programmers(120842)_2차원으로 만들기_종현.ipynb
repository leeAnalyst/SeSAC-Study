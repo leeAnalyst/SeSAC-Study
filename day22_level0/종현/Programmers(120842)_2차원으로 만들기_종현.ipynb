{
 "cells": [
  {
   "cell_type": "markdown",
   "id": "faa82e1d-f7c9-411d-96c5-13bdd5b55e47",
   "metadata": {},
   "source": [
    "### 2차원으로 만들기 (120842)\n",
    "문제 : \n",
    "- 정수 배열 `num_list`와 정수 `n`이 매개변수로 주어집니다. `num_list`를 다음 설명과 같이 2차원 배열로 바꿔 return하도록 solution 함수를 완성해주세요.\n",
    "- `num_list`가 [1, 2, 3, 4, 5, 6, 7, 8] 로 길이가 8이고 `n`이 2이므로 `num_list`를 2 * 4 배열로 다음과 같이 변경합니다. 2차원으로 바꿀 때에는 num_list의 원소들을 앞에서부터 n개씩 나눠 2차원 배열로 변경합니다.\n",
    "| num_list | n | result |\n",
    "| --- | --- | --- |\n",
    "| [1, 2, 3, 4, 5, 6, 7, 8] | 2 | [[1, 2], [3, 4], [5, 6], [7, 8]] |"
   ]
  },
  {
   "cell_type": "code",
   "execution_count": 2,
   "id": "ef0b57d0-9455-4b8f-b33e-8cd3f9e00485",
   "metadata": {},
   "outputs": [
    {
     "data": {
      "text/plain": [
       "[[1, 2], [3, 4], [5, 6], [7, 8]]"
      ]
     },
     "execution_count": 2,
     "metadata": {},
     "output_type": "execute_result"
    }
   ],
   "source": [
    "def solution(num_list, n):\n",
    "        \n",
    "    return [num_list[i:i+n] for i in range(0, len(num_list), n)]    # 0부터 num_list의 길이까지 n step으로 for문을 돌려 [i:i+n]슬라이싱 한 형태로 return한다.\n",
    "solution([1, 2, 3, 4, 5, 6, 7, 8], 2)"
   ]
  }
 ],
 "metadata": {
  "kernelspec": {
   "display_name": "Python 3 (ipykernel)",
   "language": "python",
   "name": "python3"
  },
  "language_info": {
   "codemirror_mode": {
    "name": "ipython",
    "version": 3
   },
   "file_extension": ".py",
   "mimetype": "text/x-python",
   "name": "python",
   "nbconvert_exporter": "python",
   "pygments_lexer": "ipython3",
   "version": "3.10.7"
  }
 },
 "nbformat": 4,
 "nbformat_minor": 5
}
