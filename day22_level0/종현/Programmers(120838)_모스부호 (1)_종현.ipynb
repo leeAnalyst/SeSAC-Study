{
 "cells": [
  {
   "cell_type": "markdown",
   "id": "8cfe2302-a223-4716-bc93-db83102e9542",
   "metadata": {},
   "source": [
    "### 모스부호 (1) (120838)\n",
    "문제 : 머쓱이는 친구에게 모스부호를 이용한 편지를 받았습니다. 그냥은 읽을 수 없어 이를 해독하는 프로그램을 만들려고 합니다. 문자열 letter가 매개변수로 주어질 때, letter를 영어 소문자로 바꾼 문자열을 return 하도록 solution 함수를 완성해보세요.\n",
    "모스부호는 다음과 같습니다.\n",
    "\n",
    "morse = { \n",
    "    '.-':'a','-...':'b','-.-.':'c','-..':'d','.':'e','..-.':'f',\n",
    "    '--.':'g','....':'h','..':'i','.---':'j','-.-':'k','.-..':'l',\n",
    "    '--':'m','-.':'n','---':'o','.--.':'p','--.-':'q','.-.':'r',\n",
    "    '...':'s','-':'t','..-':'u','...-':'v','.--':'w','-..-':'x',\n",
    "    '-.--':'y','--..':'z'\n",
    "}"
   ]
  },
  {
   "cell_type": "code",
   "execution_count": 4,
   "id": "54a3255e-a09b-41e5-bbe3-54f2cf3f5d31",
   "metadata": {},
   "outputs": [
    {
     "data": {
      "text/plain": [
       "'python'"
      ]
     },
     "execution_count": 4,
     "metadata": {},
     "output_type": "execute_result"
    }
   ],
   "source": [
    "morse = { '.-':'a','-...':'b','-.-.':'c','-..':'d','.':'e','..-.':'f', '--.':'g','....':'h','..':'i','.---':'j','-.-':'k','.-..':'l', '--':'m','-.':'n','---':'o','.--.':'p','--.-':'q','.-.':'r', '...':'s','-':'t','..-':'u','...-':'v','.--':'w','-..-':'x', '-.--':'y','--..':'z' }\n",
    "\n",
    "def solution(letter):   \n",
    "    return ''.join(morse[s] for s in letter.split())\n",
    "\n",
    "solution('.--. -.-- - .... --- -.')"
   ]
  },
  {
   "cell_type": "code",
   "execution_count": 3,
   "id": "95cc9366-edb8-4e17-8f6d-bf14eaa4aecd",
   "metadata": {},
   "outputs": [
    {
     "name": "stdout",
     "output_type": "stream",
     "text": [
      ".-\n",
      "-...\n",
      "-.-.\n",
      "-..\n",
      ".\n",
      "..-.\n",
      "--.\n",
      "....\n",
      "..\n",
      ".---\n",
      "-.-\n",
      ".-..\n",
      "--\n",
      "-.\n",
      "---\n",
      ".--.\n",
      "--.-\n",
      ".-.\n",
      "...\n",
      "-\n",
      "..-\n",
      "...-\n",
      ".--\n",
      "-..-\n",
      "-.--\n",
      "--..\n"
     ]
    }
   ],
   "source": [
    "morse = { '.-':'a','-...':'b','-.-.':'c','-..':'d','.':'e','..-.':'f', '--.':'g','....':'h','..':'i','.---':'j','-.-':'k','.-..':'l', '--':'m','-.':'n','---':'o','.--.':'p','--.-':'q','.-.':'r', '...':'s','-':'t','..-':'u','...-':'v','.--':'w','-..-':'x', '-.--':'y','--..':'z' }\n",
    "\n",
    "for i in morse:\n",
    "    print(i)"
   ]
  }
 ],
 "metadata": {
  "kernelspec": {
   "display_name": "Python 3 (ipykernel)",
   "language": "python",
   "name": "python3"
  },
  "language_info": {
   "codemirror_mode": {
    "name": "ipython",
    "version": 3
   },
   "file_extension": ".py",
   "mimetype": "text/x-python",
   "name": "python",
   "nbconvert_exporter": "python",
   "pygments_lexer": "ipython3",
   "version": "3.10.7"
  }
 },
 "nbformat": 4,
 "nbformat_minor": 5
}
