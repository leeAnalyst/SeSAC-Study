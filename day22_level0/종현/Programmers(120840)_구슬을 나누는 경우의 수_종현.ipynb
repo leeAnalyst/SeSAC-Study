{
 "cells": [
  {
   "cell_type": "markdown",
   "id": "1ca84d1e-fcd0-4827-a804-748b84e5f1d2",
   "metadata": {},
   "source": [
    "### 구슬을 나누는 경우의 수 (120840)\n",
    "문제 : 머쓱이는 구슬을 친구들에게 나누어주려고 합니다. 구슬은 모두 다르게 생겼습니다. 머쓱이가 갖고 있는 구슬의 개수 balls와 친구들에게 나누어 줄 구슬 개수 share이 매개변수로 주어질 때, balls개의 구슬 중 share개의 구슬을 고르는 가능한 모든 경우의 수를 return 하는 solution 함수를 완성해주세요."
   ]
  },
  {
   "cell_type": "code",
   "execution_count": 3,
   "id": "20e558e9-1c52-4126-80a3-c8e886617808",
   "metadata": {},
   "outputs": [],
   "source": [
    "from itertools import combinations "
   ]
  },
  {
   "cell_type": "code",
   "execution_count": 11,
   "id": "7635d23a-9869-4831-8148-8cae7e0e33ef",
   "metadata": {},
   "outputs": [
    {
     "name": "stdout",
     "output_type": "stream",
     "text": [
      "[1, 2, 3]\n"
     ]
    },
    {
     "data": {
      "text/plain": [
       "3"
      ]
     },
     "execution_count": 11,
     "metadata": {},
     "output_type": "execute_result"
    }
   ],
   "source": [
    "# 시간초과\n",
    "\n",
    "def solution(balls, share):\n",
    "    num_list = []\n",
    "    for i in range(1, balls+1):                      # 매개변수로 받은 balls의 수 만큼 num_list의 원소를 쌓아줌(숫자를 세기 위하여 낱개로 공을 만드는 과정)\n",
    "        num_list.append(i)\n",
    "    print(num_list)\n",
    "    return len(list(combinations(num_list, share)))  # combinations로 num_list에 들어간 원소들의 share의 수만큼 조합하는 경우의 수를 list형태로 형변환하고 그의 길이를 return\n",
    "\n",
    "solution(3, 2)                                   "
   ]
  },
  {
   "cell_type": "code",
   "execution_count": 17,
   "id": "bf32e98e-3b10-4734-aefb-2cfe23711c23",
   "metadata": {},
   "outputs": [
    {
     "data": {
      "text/plain": [
       "3"
      ]
     },
     "execution_count": 17,
     "metadata": {},
     "output_type": "execute_result"
    }
   ],
   "source": [
    "# 시간초과\n",
    "\n",
    "def solution(balls, share):\n",
    "    return len(set(combinations(range(0, balls), share)))  # combinations로 num_list에 들어간 원소들의 share의 수만큼 조합하는 경우의 수를 list형태로 형변환하고 그의 길이를 return\n",
    "\n",
    "solution(3, 2)"
   ]
  },
  {
   "cell_type": "code",
   "execution_count": 16,
   "id": "e8b817e6-a509-4f0d-9c7d-b42a189e75f8",
   "metadata": {},
   "outputs": [
    {
     "data": {
      "text/plain": [
       "{(0, 1), (0, 2), (0, 3), (1, 2), (1, 3), (2, 3)}"
      ]
     },
     "execution_count": 16,
     "metadata": {},
     "output_type": "execute_result"
    }
   ],
   "source": [
    "set(combinations(range(0, 4), 2))"
   ]
  },
  {
   "cell_type": "code",
   "execution_count": 18,
   "id": "109002b0-fcad-49fd-b8b8-11b2a3f3e900",
   "metadata": {},
   "outputs": [
    {
     "data": {
      "text/plain": [
       "3"
      ]
     },
     "execution_count": 18,
     "metadata": {},
     "output_type": "execute_result"
    }
   ],
   "source": [
    "import math\n",
    "\n",
    "def solution(balls, share):\n",
    "    return math.comb(balls, share)\n",
    "\n",
    "solution(3, 2)"
   ]
  }
 ],
 "metadata": {
  "kernelspec": {
   "display_name": "Python 3 (ipykernel)",
   "language": "python",
   "name": "python3"
  },
  "language_info": {
   "codemirror_mode": {
    "name": "ipython",
    "version": 3
   },
   "file_extension": ".py",
   "mimetype": "text/x-python",
   "name": "python",
   "nbconvert_exporter": "python",
   "pygments_lexer": "ipython3",
   "version": "3.10.7"
  }
 },
 "nbformat": 4,
 "nbformat_minor": 5
}
