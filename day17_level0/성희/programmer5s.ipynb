{
 "cells": [
  {
   "cell_type": "markdown",
   "id": "f7de706c-d812-440f-b510-3e469028c523",
   "metadata": {
    "tags": []
   },
   "source": [
    "# 로그인 성공?"
   ]
  },
  {
   "cell_type": "markdown",
   "id": "9e5030a4-5026-4946-beee-e9092b1068b4",
   "metadata": {},
   "source": [
    "머쓱이는 프로그래머스에 로그인하려고 합니다. 머쓱이가 입력한 아이디와 패스워드가 담긴 배열 id_pw와 회원들의 정보가 담긴 2차원 배열 db가 주어질 때, 다음과 같이 로그인 성공, 실패에 따른 메시지를 return하도록 solution 함수를 완성해주세요.\n",
    "\n",
    "아이디와 비밀번호가 모두 일치하는 회원정보가 있으면 \"login\"을 return합니다.\n",
    "로그인이 실패했을 때 아이디가 일치하는 회원이 없다면 “fail”를, 아이디는 일치하지만 비밀번호가 일치하는 회원이 없다면 “wrong pw”를 return 합니다.\n",
    "\n",
    "입출력 예 설명\n",
    "입출력 예 #1\n",
    "\n",
    "db에 같은 정보의 계정이 있으므로 \"login\"을 return합니다.\n",
    "입출력 예 #2\n",
    "\n",
    "db에 아이디는 같지만 패스워드가 다른 계정이 있으므로 \"wrong pw\"를 return합니다.\n",
    "입출력 예 #3\n",
    "\n",
    "db에 아이디가 맞는 계정이 없으므로 \"fail\"을 return합니다.\n"
   ]
  },
  {
   "cell_type": "markdown",
   "id": "dd2e5017-6884-45d1-8955-faf1511ddc8b",
   "metadata": {},
   "source": [
    "문제 분석\n",
    "1. 일치 = login, 아이디 실패 = fail, 비밀번호 실패  = wrong pw -> if, elif, else\n",
    "2. db가 x, y = id, pw\n"
   ]
  },
  {
   "cell_type": "code",
   "execution_count": 51,
   "id": "2d775992-b873-4ff5-a12e-6e6f1af80634",
   "metadata": {},
   "outputs": [
    {
     "name": "stdout",
     "output_type": "stream",
     "text": [
      "login\n"
     ]
    }
   ],
   "source": [
    "id_pw = [\"meosseugi\", \"1234\"]\n",
    "db = [[\"rardss\", \"123\"], [\"yyoom\", \"1234\"], [\"meosseugi\", \"1234\"]]\n",
    "\n",
    "answer = []\n",
    "for idx in range(len(db)):\n",
    "    if id_pw[0] == db[idx][0]:   # id가 \"meosseugi\"\n",
    "        if id_pw[1] == db[idx][1]:  # pw가 \"1234\"\n",
    "            answer.append('login')\n",
    "        else:\n",
    "            answer.append('wrong pw')\n",
    "    else:\n",
    "        pass\n",
    "\n",
    "if 'login' in answer:\n",
    "    print('login')\n",
    "elif 'wrong pw' in answer:\n",
    "    print('wrong pw')\n",
    "else:\n",
    "    print('fail')\n",
    "    \n"
   ]
  },
  {
   "cell_type": "code",
   "execution_count": null,
   "id": "16fbecc6-adf5-40fe-bd41-3b9b6c6794cc",
   "metadata": {},
   "outputs": [],
   "source": []
  },
  {
   "cell_type": "markdown",
   "id": "05b447a7-6f3e-43fa-b047-ba7e4e370fba",
   "metadata": {},
   "source": [
    "<b>더하기 생각."
   ]
  },
  {
   "cell_type": "code",
   "execution_count": 52,
   "id": "2e0c6722-e406-453b-adaa-55f9f4949951",
   "metadata": {},
   "outputs": [
    {
     "data": {
      "text/plain": [
       "array([3, 1, 7])"
      ]
     },
     "execution_count": 52,
     "metadata": {},
     "output_type": "execute_result"
    }
   ],
   "source": [
    "# 1. 넘파이에서는 다르게 쓸 수 있다.\n",
    "import numpy as np\n",
    "data = np.array([[3, 4], [1, 2], [7, 9]])\n",
    "data[:, 0] "
   ]
  },
  {
   "cell_type": "code",
   "execution_count": 68,
   "id": "9ebfa4d5-daa8-4f59-8fb0-cfdd70514894",
   "metadata": {},
   "outputs": [
    {
     "name": "stdout",
     "output_type": "stream",
     "text": [
      "login\n"
     ]
    }
   ],
   "source": [
    "# 2. 이름 명부 나왔다 -> dictionary\n",
    "\n",
    "dic_db = dict(db)  # db = [[\"rardss\", \"123\"], [\"yyoom\", \"1234\"], [\"meosseugi\", \"1234\"]] 이런 자료구조형 무조건 dict\n",
    "                   # dic_db = {'rardss': '123', 'yyoom': '1234', 'meosseugi': '1234'}\n",
    "if id_pw[0] in dic_db.keys():   # id 가 db.keys 명부에 들어있는지?\n",
    "    if dic_db[id_pw[0]] == id_pw[1] :  # 그 id에 pw는 맞게 들어갔는지?\n",
    "        print('login')\n",
    "    else:\n",
    "        print('wrong pw')\n",
    "else:\n",
    "    print('fail')"
   ]
  },
  {
   "cell_type": "markdown",
   "id": "61e68cb1-57f1-4ebe-95f1-c044900e2f60",
   "metadata": {
    "tags": []
   },
   "source": [
    "# 치킨쿠폰"
   ]
  },
  {
   "cell_type": "markdown",
   "id": "6abcfcd9-a5c3-4eae-9ff2-eba40ea5f077",
   "metadata": {},
   "source": [
    "프로그래머스 치킨은 치킨을 시켜먹으면 한 마리당 쿠폰을 한 장 발급합니다. 쿠폰을 열 장 모으면 치킨을 한 마리 서비스로 받을 수 있고, 서비스 치킨에도 쿠폰이 발급됩니다. 시켜먹은 치킨의 수 chicken이 매개변수로 주어질 때 받을 수 있는 최대 서비스 치킨의 수를 return하도록 solution 함수를 완성해주세요. <br>\n",
    "1081마리를 주문하면 쿠폰이 1081장 발급되므로 서비스 치킨 108마리를 주문할 수 있습니다. 그리고 쿠폰이 1장 남습니다.<br>\n",
    "100마리를 주문하면 쿠폰이 100장 발급되므로 서비스 치킨 10마리를 주문할 수 있습니다."
   ]
  },
  {
   "cell_type": "markdown",
   "id": "7d9c88e2-5b05-4a9e-b58a-cd5ca7f1fe5f",
   "metadata": {},
   "source": [
    "문제 분석\n",
    "1. 따라서 108 + 10 + 1 + 1 = 120 을 return합니다.\n",
    "2. 몫과 나머지로 해결가능?\n",
    "3. 서비스치킨에도 쿠폰이 발급\n",
    "\n",
    "입출력 예:\n",
    "1081마리를 주문하면 쿠폰이 1081장 발급되므로 서비스 치킨 108마리를 주문할 수 있습니다. 그리고 쿠폰이 1장 남습니다. <br>\n",
    "108마리를 주문하면 쿠폰이 108장 발급되므로 서비스 치킨 10마리를 주문할 수 있습니다. 그리고 쿠폰이 8장 남습니다. <br>\n",
    "10마리를 주문하면 쿠폰이 10장 발급되므로 서비스 치킨 1마리를 주문할 수 있습니다.<br>\n",
    "1마리를 주문하면 쿠폰이 1장 발급됩니다.<br>\n",
    "가지고 있는 쿠폰이 총 10장이므로 서비스 치킨 1마리를 추가로 주문할 수 있습니다.<br>\n",
    "따라서 108 + 10 + 1 + 1 = 120 을 return합니다.<br>\n"
   ]
  },
  {
   "cell_type": "code",
   "execution_count": 163,
   "id": "da6f2dc0-6e05-47da-9ba8-8c9cb4514642",
   "metadata": {
    "tags": []
   },
   "outputs": [
    {
     "name": "stdout",
     "output_type": "stream",
     "text": [
      "120\n"
     ]
    }
   ],
   "source": [
    "chicken = 1081\n",
    "\n",
    "s, r = 0, 0\n",
    "answer = []\n",
    "while chicken:          # chicken = 1081, 108, 10, 1,\n",
    "    s = chicken // 10   #       s = 108 ,  10,  1, 1  여기서 s 를 한번에 구할려고 s += chicken // 10 하면 안된다. 왜?\n",
    "    r += chicken % 10   #       r = 1,      9, 10, 0\n",
    "    chicken = s         # chicken = 108 ,  10,  1, 0 (end)   \n",
    "    if r >= 10:         # 쿠폰 10장 쌓였을 때\n",
    "        r = r - 10 + 1  # 서비스치킨에도 쿠폰 1장이 발급된다.\n",
    "        s += 1\n",
    "    answer.append(s)  \n",
    "print(sum(answer))"
   ]
  },
  {
   "cell_type": "markdown",
   "id": "ed166b9f-f5b9-4a6c-952e-e39fbe49fd04",
   "metadata": {
    "tags": []
   },
   "source": [
    "# 이진수 구하기"
   ]
  },
  {
   "cell_type": "markdown",
   "id": "54de0f90-93c9-4224-852b-a0aebb71d38c",
   "metadata": {},
   "source": [
    "이진수를 의미하는 두 개의 문자열 bin1과 bin2가 매개변수로 주어질 때, <br>\n",
    "두 이진수의 합을 return하도록 solution 함수를 완성해주세요."
   ]
  },
  {
   "cell_type": "markdown",
   "id": "b53650cf-a143-4f68-a401-4c888c797650",
   "metadata": {},
   "source": [
    "문제 분석\n",
    "1. 이진수를 구현하면 된다."
   ]
  },
  {
   "cell_type": "code",
   "execution_count": 217,
   "id": "e5cfe1b0-3710-41d7-a25d-6f4449bab393",
   "metadata": {
    "tags": []
   },
   "outputs": [
    {
     "name": "stdout",
     "output_type": "stream",
     "text": [
      "101\n"
     ]
    }
   ],
   "source": [
    "bin1 = list(bin1)\n",
    "bin2 = list(bin2)\n",
    "\n",
    "bin1_int = list(map(int, bin1))\n",
    "\n",
    "b1 = 0\n",
    "for i in range(len(bin1)):  # 1 , 0/  0을 -1로/ 1을 -2로/ 2를 -3\n",
    "    b1 += bin1_int[-(i+1)]*2**i\n",
    "\n",
    "bin2_int = list(map(int, bin2))\n",
    "\n",
    "b2 = 0\n",
    "for i in range(len(bin2)):  # 1 , 1\n",
    "    b2 += bin2_int[-(i+1)]*2**i\n",
    "\n",
    "print((bin(b1 + b2)).split('0b')[1])  # 다시 이진수화로 '0b101' -> '101'로"
   ]
  },
  {
   "cell_type": "markdown",
   "id": "fe598c84-e47e-48cf-9cdf-38c014aa4dae",
   "metadata": {},
   "source": [
    "우수답안"
   ]
  },
  {
   "cell_type": "code",
   "execution_count": 218,
   "id": "b962b4f6-e23e-461f-912d-c6cf725ec905",
   "metadata": {},
   "outputs": [],
   "source": [
    "def solution(bin1, bin2):\n",
    "    answer = bin(int(bin1,2) + int(bin2,2))[2:]\n",
    "    return answer"
   ]
  },
  {
   "cell_type": "markdown",
   "id": "c269542e-4adc-471e-bf14-ba50be537455",
   "metadata": {
    "tags": []
   },
   "source": [
    "# A로 B만들기"
   ]
  },
  {
   "cell_type": "markdown",
   "id": "c34924f2-682c-40b9-9b1c-f33699d453c4",
   "metadata": {},
   "source": [
    "문자열 before와 after가 매개변수로 주어질 때, before의 순서를 바꾸어 after를 만들 수 있으면 1을,<br> 만들 수 없으면 0을 return 하도록 solution 함수를 완성해보세요."
   ]
  },
  {
   "cell_type": "markdown",
   "id": "f6a66602-ff3a-4547-a0e8-b4c22d25ae08",
   "metadata": {},
   "source": [
    "문제 분석\n",
    "if 1, else 0, 철자구성만 같으면 되는거아냐? 그러면 딕셔너리"
   ]
  },
  {
   "cell_type": "code",
   "execution_count": 220,
   "id": "4de0bb1b-68a6-45d6-8303-4168201d5251",
   "metadata": {},
   "outputs": [
    {
     "name": "stdout",
     "output_type": "stream",
     "text": [
      "1\n"
     ]
    }
   ],
   "source": [
    "before = \"olleh\"\n",
    "after = 'hello'\n",
    "b = list(before)\n",
    "a = list(after)\n",
    "\n",
    "dic_b = {}\n",
    "for k in b:\n",
    "    if k in dic_b:\n",
    "        dic_b[k] += 1\n",
    "    else:\n",
    "        dic_b[k] = 1\n",
    "\n",
    "\n",
    "dic_a = {}\n",
    "for k in a:\n",
    "    if k in dic_a:\n",
    "        dic_a[k] += 1\n",
    "    else:\n",
    "        dic_a[k] = 1\n",
    "\n",
    "if dic_a == dic_b:\n",
    "    print(1)\n",
    "else:\n",
    "    print(0)\n"
   ]
  },
  {
   "cell_type": "code",
   "execution_count": 221,
   "id": "b174115f-f863-4b48-aa84-0da94d4a1c4e",
   "metadata": {},
   "outputs": [],
   "source": [
    "def solution(before, after):\n",
    "    return 1 if sorted(before)==sorted(after) else 0"
   ]
  },
  {
   "cell_type": "code",
   "execution_count": null,
   "id": "84eab997-6da7-427c-81e8-af960500a892",
   "metadata": {},
   "outputs": [],
   "source": [
    "서로 sort해서 같은지봐도 된다."
   ]
  },
  {
   "cell_type": "code",
   "execution_count": 230,
   "id": "b2def518-99be-4b78-8956-fa7619ef014b",
   "metadata": {},
   "outputs": [
    {
     "data": {
      "text/plain": [
       "1"
      ]
     },
     "execution_count": 230,
     "metadata": {},
     "output_type": "execute_result"
    }
   ],
   "source": [
    "before = \"olleh\"\n",
    "after = 'hello'\n",
    "\n",
    "1 if sorted(before) == sorted(after) else 0"
   ]
  },
  {
   "cell_type": "markdown",
   "id": "802578d1-c08f-48aa-b7ea-b35996d558e3",
   "metadata": {
    "tags": []
   },
   "source": [
    "# K의 개수"
   ]
  },
  {
   "cell_type": "markdown",
   "id": "819b413b-c096-468e-b75b-a46948ca4a80",
   "metadata": {},
   "source": [
    "1부터 13까지의 수에서, 1은 1, 10, 11, 12, 13 이렇게 총 6번 등장합니다. 정수 i, j, k가 매개변수로 주어질 때, i부터 j까지 k가 몇 번 등장하는지 return 하도록 solution 함수를 완성해주세요.\n",
    "\n",
    "10부터 50까지 5는 15, 25, 35, 45, 50 총 5번 등장합니다. 따라서 5를 return 합니다."
   ]
  },
  {
   "cell_type": "markdown",
   "id": "d8d3ce9d-58d8-4b71-8eac-b04a3df41a14",
   "metadata": {},
   "source": [
    "문제 분석\n",
    "1. i 부터 j 까지 : for _ in range(i, j+1)\n",
    "2. 리스트 만들고 다 하나하나 문자로 분해.\n"
   ]
  },
  {
   "cell_type": "code",
   "execution_count": 57,
   "id": "63204fd1-eb24-47cc-bf42-a6c293801223",
   "metadata": {},
   "outputs": [],
   "source": [
    "i = 1\n",
    "j = 13\n",
    "k = 1"
   ]
  },
  {
   "cell_type": "code",
   "execution_count": 65,
   "id": "da92457d-20b9-4549-ae1c-1abd7f297f39",
   "metadata": {},
   "outputs": [
    {
     "name": "stdout",
     "output_type": "stream",
     "text": [
      "6\n"
     ]
    }
   ],
   "source": [
    "numbers = []\n",
    "for num in range(i, j+1):\n",
    "    if str(k) in list(str(num)):\n",
    "        numbers.append(str(num))  # numbers = ['1', '10', '11', '12', '13']\n",
    "        \n",
    "print(list(''.join(numbers)).count(str(k)))   # ['1', '1', '0', '1', '1', '1', '2', '1', '3']"
   ]
  },
  {
   "cell_type": "code",
   "execution_count": 64,
   "id": "33c03182-0ca9-4f71-ab29-7b2fda826bda",
   "metadata": {},
   "outputs": [
    {
     "name": "stdout",
     "output_type": "stream",
     "text": [
      "6\n"
     ]
    }
   ],
   "source": [
    "[str(num) for num in range(i, j+1) if str(k) in list(str(num))]\n",
    "print(list(''.join(numbers)).count(str(k)))"
   ]
  },
  {
   "cell_type": "markdown",
   "id": "c7455560-372f-4450-8928-5097f9dcc8e2",
   "metadata": {
    "tags": []
   },
   "source": [
    "# 중복된 문자 제거"
   ]
  },
  {
   "cell_type": "markdown",
   "id": "503f76b7-e0c5-4289-b256-e1b7c0a1b469",
   "metadata": {},
   "source": [
    "문자열 my_string이 매개변수로 주어집니다. my_string에서 중복된 문자를 제거하고 하나의 문자만 남긴 문자열을 return하도록 solution 함수를 완성해주세요.\n",
    "\"people\"에서 중복된 문자 \"p\"와 \"e\"을 제거한 \"peol\"을 return합니다."
   ]
  },
  {
   "cell_type": "markdown",
   "id": "94385e73-243d-4268-9aca-05c803defca6",
   "metadata": {},
   "source": [
    "문제 분석\n",
    "1. 중복된 문자제거 : dic ,set"
   ]
  },
  {
   "cell_type": "code",
   "execution_count": 246,
   "id": "fecf6079-0113-4f13-952f-bb073c479fad",
   "metadata": {},
   "outputs": [
    {
     "name": "stdout",
     "output_type": "stream",
     "text": [
      "1\n"
     ]
    }
   ],
   "source": [
    "sides = [199, 72, 222]\n",
    "sides.sort()\n",
    "print(1) if sides[2] < sides[0] + sides[1] else print(2)"
   ]
  },
  {
   "cell_type": "code",
   "execution_count": 84,
   "id": "10828980",
   "metadata": {},
   "outputs": [
    {
     "ename": "SyntaxError",
     "evalue": "invalid syntax (496474571.py, line 1)",
     "output_type": "error",
     "traceback": [
      "\u001b[1;36m  Cell \u001b[1;32mIn [84], line 1\u001b[1;36m\u001b[0m\n\u001b[1;33m    [pass if word in result else result.append(word) for word in m]\u001b[0m\n\u001b[1;37m     ^\u001b[0m\n\u001b[1;31mSyntaxError\u001b[0m\u001b[1;31m:\u001b[0m invalid syntax\n"
     ]
    }
   ],
   "source": []
  },
  {
   "cell_type": "markdown",
   "id": "50ab81ac-2e25-4cc9-a3d0-5659dfff206f",
   "metadata": {
    "tags": []
   },
   "source": [
    "# 가까운 수 "
   ]
  },
  {
   "cell_type": "markdown",
   "id": "4add5f07-796e-45c0-99e7-9e88b2a412c5",
   "metadata": {},
   "source": [
    "정수 배열 array와 정수 n이 매개변수로 주어질 때, array에 들어있는 정수 중 n과 가장 가까운 수를 return 하도록 solution 함수를 완성해주세요. <br>\n",
    "3, 10, 28 중 20과 가장 가까운 수는 28입니다. <br>\n",
    "가장 가까운 수가 여러 개일 경우 더 작은 수를 return 합니다.\n"
   ]
  },
  {
   "cell_type": "code",
   "execution_count": 245,
   "id": "e11aba34-8191-43b5-a2eb-226bdef80f13",
   "metadata": {},
   "outputs": [
    {
     "name": "stdout",
     "output_type": "stream",
     "text": [
      "28\n"
     ]
    }
   ],
   "source": [
    "array = [3, 10, 28]\n",
    "array.sort()\n",
    "n = 3535\n",
    "\n",
    "diff = []\n",
    "for idx in range(len(array)):\n",
    "    diff.append(abs(n - array[idx]))  # diff = [17, 10, 8]\n",
    "min(diff)\n",
    "    \n",
    "if n - min(diff) in array and n + min(diff) in array:\n",
    "    print(n - min(diff))\n",
    "\n",
    "elif n - min(diff) in array:\n",
    "    print(n - min(diff))\n",
    "elif n + min(diff) in array:\n",
    "    print(n + min(diff))\n",
    "else:\n",
    "    pass"
   ]
  },
  {
   "cell_type": "code",
   "execution_count": 248,
   "id": "e210639d-1a16-43ad-863f-09b3a369c996",
   "metadata": {},
   "outputs": [
    {
     "data": {
      "text/plain": [
       "'C:\\\\Users\\\\업무용\\\\jupyter_python\\\\python_gogo'"
      ]
     },
     "execution_count": 248,
     "metadata": {},
     "output_type": "execute_result"
    }
   ],
   "source": []
  },
  {
   "cell_type": "code",
   "execution_count": 110,
   "id": "0774ddcc-2296-455f-91cb-8f6083626b8f",
   "metadata": {},
   "outputs": [
    {
     "data": {
      "text/plain": [
       "[1, 10, 11, 12, 343]"
      ]
     },
     "execution_count": 110,
     "metadata": {},
     "output_type": "execute_result"
    }
   ],
   "source": [
    "array = [10, 12, 11,343,1]\n",
    "array.sort()\n",
    "array"
   ]
  },
  {
   "cell_type": "code",
   "execution_count": 147,
   "id": "8f12219f-247c-4731-ab64-9e7ca8f41d0d",
   "metadata": {},
   "outputs": [
    {
     "data": {
      "text/plain": [
       "28"
      ]
     },
     "execution_count": 147,
     "metadata": {},
     "output_type": "execute_result"
    }
   ],
   "source": [
    "max(array)"
   ]
  },
  {
   "cell_type": "code",
   "execution_count": 247,
   "id": "346b3132-0b20-41d8-82fe-1e77d854bb34",
   "metadata": {},
   "outputs": [
    {
     "data": {
      "text/plain": [
       "'C:\\\\Users\\\\업무용\\\\jupyter_python\\\\python_gogo'"
      ]
     },
     "execution_count": 247,
     "metadata": {},
     "output_type": "execute_result"
    }
   ],
   "source": [
    "%pwd"
   ]
  },
  {
   "cell_type": "code",
   "execution_count": 233,
   "id": "5157fc4e",
   "metadata": {},
   "outputs": [
    {
     "name": "stdout",
     "output_type": "stream",
     "text": [
      "28\n"
     ]
    }
   ],
   "source": [
    "array = [3, 10, 28]\n",
    "array.sort()\n",
    "n = 20\n",
    "\n",
    "diff = []\n",
    "for idx in range(len(array)):\n",
    "    diff.append(abs(n - array[idx]))  # diff = [17, 10, 8]\n",
    "min(diff)\n",
    "    \n",
    "if n - min(diff) in array and n + min(diff) in array:\n",
    "    print(n - min(diff))\n",
    "elif n - min(diff) in array:\n",
    "    print(n - min(diff))\n",
    "elif n + min(diff) in array:\n",
    "    print(n + min(diff))\n",
    "else:\n",
    "    pass"
   ]
  },
  {
   "cell_type": "markdown",
   "id": "80510bb0-fa4b-4c24-8c8b-3c9f86faad23",
   "metadata": {
    "tags": []
   },
   "source": [
    "# 삼각형의 완성조건 "
   ]
  },
  {
   "cell_type": "markdown",
   "id": "ea50f51d-83ef-49c0-886b-b58b250f31bd",
   "metadata": {},
   "source": [
    "문제 설명\n",
    "선분 세 개로 삼각형을 만들기 위해서는 다음과 같은 조건을 만족해야 합니다.\n",
    "\n",
    "가장 긴 변의 길이는 다른 두 변의 길이의 합보다 작아야 합니다.\n",
    "삼각형의 세 변의 길이가 담긴 배열 sides이 매개변수로 주어집니다. 세 변으로 삼각형을 만들 수 있다면 1, 만들 수 없다면 2를 return하도록 solution 함수를 완성해주세요."
   ]
  },
  {
   "cell_type": "markdown",
   "id": "5ba6eb2c-8799-44ce-8f21-90e8e72a9941",
   "metadata": {},
   "source": [
    "문제 분석\n"
   ]
  },
  {
   "cell_type": "code",
   "execution_count": null,
   "id": "2808df96-48db-47c9-b8c4-ee136dde679b",
   "metadata": {},
   "outputs": [],
   "source": []
  },
  {
   "cell_type": "code",
   "execution_count": null,
   "id": "ecf6db5a-d492-4e96-b416-60b8069d70dd",
   "metadata": {},
   "outputs": [],
   "source": []
  },
  {
   "cell_type": "code",
   "execution_count": null,
   "id": "99af7e9c-26f6-4c9c-82c7-c3d1e381f149",
   "metadata": {},
   "outputs": [],
   "source": []
  },
  {
   "cell_type": "code",
   "execution_count": null,
   "id": "2fb9783e-97bd-4836-8da8-5823f25d4a88",
   "metadata": {},
   "outputs": [],
   "source": []
  },
  {
   "cell_type": "code",
   "execution_count": null,
   "id": "599acac1-3531-42f8-ace2-31142a88eeb9",
   "metadata": {},
   "outputs": [],
   "source": []
  }
 ],
 "metadata": {
  "kernelspec": {
   "display_name": "Python 3 (ipykernel)",
   "language": "python",
   "name": "python3"
  },
  "language_info": {
   "codemirror_mode": {
    "name": "ipython",
    "version": 3
   },
   "file_extension": ".py",
   "mimetype": "text/x-python",
   "name": "python",
   "nbconvert_exporter": "python",
   "pygments_lexer": "ipython3",
   "version": "3.10.8"
  }
 },
 "nbformat": 4,
 "nbformat_minor": 5
}
