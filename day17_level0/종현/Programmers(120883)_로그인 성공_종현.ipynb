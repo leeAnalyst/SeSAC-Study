{
 "cells": [
  {
   "cell_type": "markdown",
   "id": "5643a88e-90b0-4c90-885b-89c292833018",
   "metadata": {},
   "source": [
    "### 로그인 성공?\n",
    "문제 : 머쓱이는 프로그래머스에 로그인하려고 합니다. 머쓱이가 입력한 아이디와 패스워드가 담긴 배열 id_pw와 회원들의 정보가 담긴 2차원 배열 db가 주어질 때, 다음과 같이 로그인 성공, 실패에 따른 메시지를 return하도록 solution 함수를 완성해주세요.\n",
    "\n",
    " - 아이디와 비밀번호가 모두 일치하는 회원정보가 있으면 \"login\"을 return합니다.\n",
    " - 로그인이 실패했을 때 아이디가 일치하는 회원이 없다면 “fail”를, 아이디는 일치하지만 비밀번호가 일치하는 회원이 없다면 “wrong pw”를 return 합니다."
   ]
  },
  {
   "cell_type": "code",
   "execution_count": 42,
   "id": "b898cbf7-3e3e-421a-b3b1-6b044e78a64b",
   "metadata": {},
   "outputs": [
    {
     "data": {
      "text/plain": [
       "'wrong pw'"
      ]
     },
     "execution_count": 42,
     "metadata": {},
     "output_type": "execute_result"
    }
   ],
   "source": [
    "def solution(id_pw, db):\n",
    "    for i in db:                       # db를 for문을 돌려\n",
    "        if id_pw[0] == i[0]:           # id_pw[0]이 i[0]과 같을 경우,\n",
    "            if id_pw[1] == i[1]:       # id_pw[1]과 i[1]이 같은 지 확인한 후, 같으면\n",
    "                return 'login'         # login 메세지 출력\n",
    "            else:\n",
    "                return 'wrong pw'      # 아이디만 같고 패스워드는 다르므로 'wrong pw'출력\n",
    "    return 'fail'                      # for문으로 id_pw의 id를 db와 대조하며 for문이 끝날 때까지 같은게 없으면 'fail'을 return한다.\n",
    "\n",
    "        \n",
    "solution([\"programmer01\", \"15789\"], [[\"programmer02\", \"111111\"], [\"programmer00\", \"134\"], [\"programmer01\", \"1145\"]])"
   ]
  },
  {
   "cell_type": "code",
   "execution_count": 44,
   "id": "6a54e504-cda4-4276-ae95-114a1aeb3dd5",
   "metadata": {},
   "outputs": [
    {
     "data": {
      "text/plain": [
       "'wrong pw'"
      ]
     },
     "execution_count": 44,
     "metadata": {},
     "output_type": "execute_result"
    }
   ],
   "source": [
    "def solution(id_pw, db):\n",
    "    dic = {i[0] : i[1] for i in db}       # 입력받은 db를 for문으로 딕셔너리를 생성한다.      \n",
    "    if id_pw[0] in dic:                   # id가 딕셔너리에 존재하는 경우,\n",
    "        if id_pw[1] == dic[id_pw[0]]:     # 역시 패스워드가 같은지 확인한 후, 같다면\n",
    "            return 'login'                # 'login' 출력   \n",
    "        else:                          \n",
    "            return 'wrong pw'             # id만 같고 패스워드가 다른 경우는 'wrong pw'출력\n",
    "    else:\n",
    "        return 'fail'                     # id가 딕셔너리 내에 존재 하지 않는 경우는 'fail' 출력력\n",
    "solution([\"programmer01\", \"15789\"], [[\"programmer02\", \"111111\"], [\"programmer00\", \"134\"], [\"programmer01\", \"1145\"]])"
   ]
  }
 ],
 "metadata": {
  "kernelspec": {
   "display_name": "Python 3 (ipykernel)",
   "language": "python",
   "name": "python3"
  },
  "language_info": {
   "codemirror_mode": {
    "name": "ipython",
    "version": 3
   },
   "file_extension": ".py",
   "mimetype": "text/x-python",
   "name": "python",
   "nbconvert_exporter": "python",
   "pygments_lexer": "ipython3",
   "version": "3.10.7"
  }
 },
 "nbformat": 4,
 "nbformat_minor": 5
}
