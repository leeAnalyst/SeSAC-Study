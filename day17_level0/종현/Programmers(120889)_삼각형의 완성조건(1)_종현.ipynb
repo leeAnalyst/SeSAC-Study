{
 "cells": [
  {
   "cell_type": "markdown",
   "id": "9157f99f-d99a-49b0-89a8-b7dfb0c86279",
   "metadata": {},
   "source": [
    "### 삼각형의 완성조건(1)\n",
    "문제 : 선분 세 개로 삼각형을 만들기 위해서는 다음과 같은 조건을 만족해야 합니다.\n",
    "\n",
    "- 가장 긴 변의 길이는 다른 두 변의 길이의 합보다 작아야 합니다.\n",
    "\n",
    "삼각형의 세 변의 길이가 담긴 배열 sides이 매개변수로 주어집니다. 세 변으로 삼각형을 만들 수 있다면 1, 만들 수 없다면 2를 return하도록 solution 함수를 완성해주세요."
   ]
  },
  {
   "cell_type": "code",
   "execution_count": 13,
   "id": "4fbfee6d-5ce7-40f5-96e8-d3f09a2c80c1",
   "metadata": {},
   "outputs": [
    {
     "name": "stdout",
     "output_type": "stream",
     "text": [
      "[72, 199, 222]\n"
     ]
    },
    {
     "data": {
      "text/plain": [
       "1"
      ]
     },
     "execution_count": 13,
     "metadata": {},
     "output_type": "execute_result"
    }
   ],
   "source": [
    "def solution(sides):\n",
    "    sides = sorted(sides)                                 # 입력받은 세 변의 길이를 sorted\n",
    "    return 1 if (sides[0] + sides[1]) > sides[2] else 2   # 작은 두 변의 합이 가장 큰 변의 길이보다 크면 삼각형이 될 수 있다.(return = 1) 그렇지 않은 경우 삼각형이 될 수 없으므로 2를 return한다.    \n",
    "\n",
    "solution([199, 72, 222])"
   ]
  }
 ],
 "metadata": {
  "kernelspec": {
   "display_name": "Python 3 (ipykernel)",
   "language": "python",
   "name": "python3"
  },
  "language_info": {
   "codemirror_mode": {
    "name": "ipython",
    "version": 3
   },
   "file_extension": ".py",
   "mimetype": "text/x-python",
   "name": "python",
   "nbconvert_exporter": "python",
   "pygments_lexer": "ipython3",
   "version": "3.10.7"
  }
 },
 "nbformat": 4,
 "nbformat_minor": 5
}
