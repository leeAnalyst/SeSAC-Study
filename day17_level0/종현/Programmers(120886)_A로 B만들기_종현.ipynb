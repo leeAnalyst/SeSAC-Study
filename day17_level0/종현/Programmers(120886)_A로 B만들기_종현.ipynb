{
 "cells": [
  {
   "cell_type": "markdown",
   "id": "106f39a1-d450-4c79-a6a4-22679c73522c",
   "metadata": {},
   "source": [
    "### A로 B만들기\n",
    "문제 : 문자열 before와 after가 매개변수로 주어질 때, before의 순서를 바꾸어 after를 만들 수 있으면 1을, 만들 수 없으면 0을 return 하도록 solution 함수를 완성해보세요."
   ]
  },
  {
   "cell_type": "code",
   "execution_count": 6,
   "id": "08c14e92-721c-4a69-bb17-4df7f0641145",
   "metadata": {},
   "outputs": [
    {
     "data": {
      "text/plain": [
       "1"
      ]
     },
     "execution_count": 6,
     "metadata": {},
     "output_type": "execute_result"
    }
   ],
   "source": [
    "def solution(before, after):\n",
    "    return 1 if sorted(before) == sorted(after) else 0    # 정렬된 문자열이 같으면 1, 다를 경우 0을 return\n",
    "\n",
    "solution(\"olleh\", \"hello\")"
   ]
  }
 ],
 "metadata": {
  "kernelspec": {
   "display_name": "Python 3 (ipykernel)",
   "language": "python",
   "name": "python3"
  },
  "language_info": {
   "codemirror_mode": {
    "name": "ipython",
    "version": 3
   },
   "file_extension": ".py",
   "mimetype": "text/x-python",
   "name": "python",
   "nbconvert_exporter": "python",
   "pygments_lexer": "ipython3",
   "version": "3.10.7"
  }
 },
 "nbformat": 4,
 "nbformat_minor": 5
}
