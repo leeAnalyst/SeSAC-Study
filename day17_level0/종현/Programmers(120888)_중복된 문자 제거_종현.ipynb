{
 "cells": [
  {
   "cell_type": "markdown",
   "id": "8fe9b936-b76a-4e09-8e69-2f4252eb49b2",
   "metadata": {},
   "source": [
    "### 중복된 문자 제거\n",
    "문제 : 문자열 my_string이 매개변수로 주어집니다. my_string에서 중복된 문자를 제거하고 하나의 문자만 남긴 문자열을 return하도록 solution 함수를 완성해주세요."
   ]
  },
  {
   "cell_type": "code",
   "execution_count": 19,
   "id": "279ec84e-e20a-4ca0-acde-d2b4a1166cde",
   "metadata": {},
   "outputs": [
    {
     "name": "stdout",
     "output_type": "stream",
     "text": [
      "{'p': 2, 'e': 2, 'o': 1, 'l': 1}\n"
     ]
    },
    {
     "data": {
      "text/plain": [
       "'peol'"
      ]
     },
     "execution_count": 19,
     "metadata": {},
     "output_type": "execute_result"
    }
   ],
   "source": [
    "def solution(my_string):\n",
    "    answer = {}                                 # dictionary에 값이 쌓일 때, 중복되는 값은 value에 카운트 함으로써 key에 1개만 남기기 위해 비어있는 dic 생성\n",
    "\n",
    "    for s in range(len(my_string)):             # for문으로 my_string길이 만큼 for문을 돌려\n",
    "        if my_string[s] in answer:              # answer 딕셔너리에 my_string[s]가 있는 경우       \n",
    "            answer[my_string[s]] += 1           # 그에 해당하는 value에 1씩 더해준다.   (사실 딕셔너리를 만드는 과정만 중요하므로, value값은 의미가 없음)\n",
    "        else: \n",
    "            answer[my_string[s]] = 1            # 그 밖에 경우엔 1\n",
    "    print(answer)\n",
    "            \n",
    "    return ''.join([k for k in answer.keys()])  # for문으로 answer의 key값만 가져와 join으로 문자열을 합친 후 return\n",
    "\n",
    "solution(\"people\")"
   ]
  },
  {
   "cell_type": "code",
   "execution_count": 24,
   "id": "975e63d7-eb7c-4282-9356-a92832107139",
   "metadata": {},
   "outputs": [
    {
     "data": {
      "text/plain": [
       "'peol'"
      ]
     },
     "execution_count": 24,
     "metadata": {},
     "output_type": "execute_result"
    }
   ],
   "source": [
    "# 위 code를 작성하면서 stack자료구조를 적용할 수 있겠다고 판단\n",
    "\n",
    "def solution(my_string):       \n",
    "    answer = []\n",
    "\n",
    "    for s in range(len(my_string)):          \n",
    "        if my_string[s] in answer:        # 문자열이 answer 리스트에 있을 경우                 \n",
    "            answer.append(my_string[s])   # 넣었다 빼버리기!\n",
    "            answer.pop()\n",
    "        else:\n",
    "            answer.append(my_string[s])   # 그 밖에 경우는 그냥 append!\n",
    "            \n",
    "    return ''.join(answer)\n",
    "\n",
    "solution(\"people\")"
   ]
  }
 ],
 "metadata": {
  "kernelspec": {
   "display_name": "Python 3 (ipykernel)",
   "language": "python",
   "name": "python3"
  },
  "language_info": {
   "codemirror_mode": {
    "name": "ipython",
    "version": 3
   },
   "file_extension": ".py",
   "mimetype": "text/x-python",
   "name": "python",
   "nbconvert_exporter": "python",
   "pygments_lexer": "ipython3",
   "version": "3.10.7"
  }
 },
 "nbformat": 4,
 "nbformat_minor": 5
}
