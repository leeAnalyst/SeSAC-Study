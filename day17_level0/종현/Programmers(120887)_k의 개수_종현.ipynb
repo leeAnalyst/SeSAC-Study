{
 "cells": [
  {
   "cell_type": "markdown",
   "id": "152bdd6c-1c58-41e3-9540-8f5cdc683311",
   "metadata": {},
   "source": [
    "### k의 개수\n",
    "문제 : 1부터 13까지의 수에서, 1은 1, 10, 11, 12, 13 이렇게 총 6번 등장합니다. 정수 i, j, k가 매개변수로 주어질 때, i부터 j까지 k가 몇 번 등장하는지 return 하도록 solution 함수를 완성해주세요."
   ]
  },
  {
   "cell_type": "code",
   "execution_count": 99,
   "id": "2d0e6bfd-bfeb-4f46-9569-3ae9fe98a612",
   "metadata": {},
   "outputs": [
    {
     "data": {
      "text/plain": [
       "5"
      ]
     },
     "execution_count": 99,
     "metadata": {},
     "output_type": "execute_result"
    }
   ],
   "source": [
    "# step 1 -> list 만들어 각 자리수를 모두 append / 하지만 런타임 에러\n",
    "\n",
    "def solution(i, j, k):\n",
    "    num_li = []\n",
    "    count = 0                           \n",
    "    for n in range(i, j+1):              # i부터 j+1까지 for문으로 \n",
    "        if n >= 10:                      # n이 10보다 클 경우\n",
    "            num_li.append(str(n//10))    # 10의 자리수와 1의 자리수를 따로 append\n",
    "            num_li.append(str(n%10))\n",
    "        else:\n",
    "            num_li.append(str(n))        # 그이외엔 n을 그대로 append\n",
    "    for s in num_li:                     # 위에서 생성된 num_li를 for문을 돌려\n",
    "        if s == str(k):                  # 일일이 문자열로 형변환한 k와 대조하여 같을 경우,\n",
    "            count += 1                   # count에 1씩 더해준다.\n",
    "    return count\n",
    "\n",
    "solution(10, 50, 5)"
   ]
  },
  {
   "cell_type": "code",
   "execution_count": 98,
   "id": "8a3eb84b-ee32-4464-9968-2048c508256e",
   "metadata": {},
   "outputs": [
    {
     "name": "stdout",
     "output_type": "stream",
     "text": [
      "1011121314151617181920212223242526272829303132333435363738394041424344454647484950\n"
     ]
    },
    {
     "data": {
      "text/plain": [
       "5"
      ]
     },
     "execution_count": 98,
     "metadata": {},
     "output_type": "execute_result"
    }
   ],
   "source": [
    "# step 2\n",
    "\n",
    "def solution(i, j, k):\n",
    "    str_1 = ''          \n",
    "    count = 0\n",
    "    for n in range(i, j+1):\n",
    "        if n >= 10:\n",
    "            str_1 += str(n//10)\n",
    "            str_1 += str(n%10)\n",
    "        else:\n",
    "            str_1 += (str(n))\n",
    "    print(str_1)\n",
    "    return str_1.count(str(k))             # 위 code와 구조는 비슷하지만 리스트가 아닌 문자열로 바로 만든 상태에서 \n",
    "                                           # 또한 일일이 대조하는 과정을 생략하고 count함수를 써 str(k)의 갯수를 return한다.\n",
    "\n",
    "solution(10, 50, 5)"
   ]
  }
 ],
 "metadata": {
  "kernelspec": {
   "display_name": "Python 3 (ipykernel)",
   "language": "python",
   "name": "python3"
  },
  "language_info": {
   "codemirror_mode": {
    "name": "ipython",
    "version": 3
   },
   "file_extension": ".py",
   "mimetype": "text/x-python",
   "name": "python",
   "nbconvert_exporter": "python",
   "pygments_lexer": "ipython3",
   "version": "3.10.7"
  }
 },
 "nbformat": 4,
 "nbformat_minor": 5
}
