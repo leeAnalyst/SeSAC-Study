{
 "cells": [
  {
   "cell_type": "markdown",
   "id": "ef9e5d9b-64fc-48d1-8918-52b37e25afbd",
   "metadata": {},
   "source": [
    "### 가까운 수\n",
    "문제 : 정수 배열 array와 정수 n이 매개변수로 주어질 때, array에 들어있는 정수 중 n과 가장 가까운 수를 return 하도록 solution 함수를 완성해주세요."
   ]
  },
  {
   "cell_type": "code",
   "execution_count": 50,
   "id": "8b2a5ac9-9881-4fe8-9170-b988976ef769",
   "metadata": {},
   "outputs": [
    {
     "name": "stdout",
     "output_type": "stream",
     "text": [
      "{3: 17} 17\n",
      "{3: 17, 12: 8} 8\n",
      "{3: 17, 12: 8, 28: 8} 8\n"
     ]
    },
    {
     "data": {
      "text/plain": [
       "12"
      ]
     },
     "execution_count": 50,
     "metadata": {},
     "output_type": "execute_result"
    }
   ],
   "source": [
    "def solution(array, n):\n",
    "    array = sorted(array)               # 입력받은 array를 sorted로 정렬 (작은 수 부터)\n",
    "    diff = {}                           # n과 array원소들 간의 차이를 value값으로 가지는 딕셔너리를 생성하기 위해 diff 빈 딕셔너리 생성\n",
    "    for i, v in enumerate(array):       # array를 enumerate로 \n",
    "        diff[array[i]] = abs(n - v)     # diff에 key(array원소)와 value(n - array원소)를 저장한다. (차이가 같으나 음수와 양수일 경우가 있으므로 abs를 사용하여 절대값로 변환)\n",
    "        min_diff = min(diff.values())   # value값들 중 가장 작은 수를 가지는 값을 min_diff 변수에 대입\n",
    "        print(diff, min_diff)\n",
    "    for k, v in diff.items():           # diff 딕셔너리 key값과 value값들로 for문을 돌려\n",
    "        if v == min_diff:               # 위에서 지정한 최소값인 min_diff가 diff의 value값과 같다면\n",
    "            return k                    # 그에 해당하는 key값을 return한다.\n",
    "           \n",
    "                                        # sorted를 한 이유 : 제한 사항에 n과 array원소의 차이가 같은 경우 (차이가 -5, 5), array내에서 더 작은 수를 return해야하기 때문\n",
    "\n",
    "solution([3, 28, 12], 20)"
   ]
  }
 ],
 "metadata": {
  "kernelspec": {
   "display_name": "Python 3 (ipykernel)",
   "language": "python",
   "name": "python3"
  },
  "language_info": {
   "codemirror_mode": {
    "name": "ipython",
    "version": 3
   },
   "file_extension": ".py",
   "mimetype": "text/x-python",
   "name": "python",
   "nbconvert_exporter": "python",
   "pygments_lexer": "ipython3",
   "version": "3.10.7"
  }
 },
 "nbformat": 4,
 "nbformat_minor": 5
}
