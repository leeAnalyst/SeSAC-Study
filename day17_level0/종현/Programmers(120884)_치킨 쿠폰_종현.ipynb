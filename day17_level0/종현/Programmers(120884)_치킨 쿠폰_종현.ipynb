{
 "cells": [
  {
   "cell_type": "markdown",
   "id": "266f601e-acaf-4509-a684-4dc0afb170c5",
   "metadata": {},
   "source": [
    "### 치킨 쿠폰\n",
    "문제 : 프로그래머스 치킨은 치킨을 시켜먹으면 한 마리당 쿠폰을 한 장 발급합니다. 쿠폰을 열 장 모으면 치킨을 한 마리 서비스로 받을 수 있고, 서비스 치킨에도 쿠폰이 발급됩니다. 시켜먹은 치킨의 수 chicken이 매개변수로 주어질 때 받을 수 있는 최대 서비스 치킨의 수를 return하도록 solution 함수를 완성해주세요."
   ]
  },
  {
   "cell_type": "code",
   "execution_count": 2,
   "id": "dab2acff-3546-4c48-bb59-7a0361d0d416",
   "metadata": {},
   "outputs": [
    {
     "name": "stdout",
     "output_type": "stream",
     "text": [
      "109 108 108\n",
      "19 118 10\n",
      "10 119 1\n",
      "1 120 1\n"
     ]
    },
    {
     "data": {
      "text/plain": [
       "120"
      ]
     },
     "execution_count": 2,
     "metadata": {},
     "output_type": "execute_result"
    }
   ],
   "source": [
    "def solution(chicken):\n",
    "    service = 0              \n",
    "    coupon = chicken                         # 치킨 수 대로 쿠폰을 받기 때문\n",
    "    \n",
    "    while coupon >= 10:                      # coupon이 10보다 크거나 같을 때까지 while문으로\n",
    "        eaten_chicken = coupon//10           # coupon 즉, 서비스로 받게 될 치킨은 eaten_chicken 변수에 coupon//10 \n",
    "        service += eaten_chicken             # 서비스로 받은 치킨 수를 세기 위해 계속 eaten_chicken을 더해준다.\n",
    "        coupon = coupon%10 + eaten_chicken   # coupon%10(나머지 낱장들)과 eaten_chicken을 더해준 값을 다시 coupon에 대입\n",
    "        print(coupon, service, eaten_chicken)\n",
    "\n",
    "    return service\n",
    "\n",
    "solution(1081)"
   ]
  }
 ],
 "metadata": {
  "kernelspec": {
   "display_name": "Python 3 (ipykernel)",
   "language": "python",
   "name": "python3"
  },
  "language_info": {
   "codemirror_mode": {
    "name": "ipython",
    "version": 3
   },
   "file_extension": ".py",
   "mimetype": "text/x-python",
   "name": "python",
   "nbconvert_exporter": "python",
   "pygments_lexer": "ipython3",
   "version": "3.10.7"
  }
 },
 "nbformat": 4,
 "nbformat_minor": 5
}
