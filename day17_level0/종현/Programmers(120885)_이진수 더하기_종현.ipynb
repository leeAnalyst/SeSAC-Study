{
 "cells": [
  {
   "cell_type": "markdown",
   "id": "1536e7fc-e2a3-4871-a273-c11a96790f3c",
   "metadata": {},
   "source": [
    "### 이진수 더하기\n",
    "문제 : 이진수를 의미하는 두 개의 문자열 bin1과 bin2가 매개변수로 주어질 때, 두 이진수의 합을 return하도록 solution 함수를 완성해주세요."
   ]
  },
  {
   "cell_type": "code",
   "execution_count": 5,
   "id": "2c390dc0-606a-4c29-8f11-68006ef61062",
   "metadata": {},
   "outputs": [
    {
     "data": {
      "text/plain": [
       "'101'"
      ]
     },
     "execution_count": 5,
     "metadata": {},
     "output_type": "execute_result"
    }
   ],
   "source": [
    "def solution(bin1, bin2):\n",
    "    return format(int(bin1, 2) + int(bin2, 2), 'b')     # int(bin, 2) -> 입력받은 문자열을 이진수로 변환 / 변환한 이진수를 합하고(결과는 십진수로 return), 내장함수 format을 이용하여 다시 이진수로 변환 \n",
    "                                                        # format(십진수, 'b') -> 접두어(0bxxxx)가 생략된 이진수로 / format(십진수, '#b') -> 접두어가 붙은 이진수로 \n",
    "solution(\"10\", \"11\")"
   ]
  }
 ],
 "metadata": {
  "kernelspec": {
   "display_name": "Python 3 (ipykernel)",
   "language": "python",
   "name": "python3"
  },
  "language_info": {
   "codemirror_mode": {
    "name": "ipython",
    "version": 3
   },
   "file_extension": ".py",
   "mimetype": "text/x-python",
   "name": "python",
   "nbconvert_exporter": "python",
   "pygments_lexer": "ipython3",
   "version": "3.10.7"
  }
 },
 "nbformat": 4,
 "nbformat_minor": 5
}
