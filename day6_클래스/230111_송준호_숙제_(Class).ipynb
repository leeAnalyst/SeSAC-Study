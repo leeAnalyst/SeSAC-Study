{
 "cells": [
  {
   "cell_type": "markdown",
   "id": "f3ab3617-2304-4035-b5d1-fa3c9b973466",
   "metadata": {},
   "source": [
    "5. 생성자에서 종목명, 종목코드, PER, PBR, 배당수익률을 입력 받을 수 있도록 생성자를 수정하세요. PER, PBR, 배당수익률은 float 타입입니다."
   ]
  },
  {
   "cell_type": "code",
   "execution_count": 2,
   "id": "30e93aaa-4fa9-4c9b-9061-9d685b345869",
   "metadata": {},
   "outputs": [],
   "source": [
    "class Stock:\n",
    "    def __init__(self, name, code, PER, PBR, DR):\n",
    "        self.name = name\n",
    "        self.code = code\n",
    "        self.PER = float(PER)\n",
    "        self.PBR = float(PBR)\n",
    "        self.DR = float(DR)\n",
    "    \n",
    "    def set_name(self, name):\n",
    "        self.name = name\n",
    "    \n",
    "    def set_code(self, code):\n",
    "        self.code = code\n",
    "    \n",
    "    def set_PER(self, PER):\n",
    "        self.PER = PER\n",
    "    \n",
    "    def set_PBR(self, PBR):\n",
    "        self.PBR = PBR\n",
    "    \n",
    "    def set_DR(self, DR):\n",
    "        self.DR = DR\n",
    "    \n",
    "    def get_name(self):\n",
    "        return self.name\n",
    "    \n",
    "    def get_code(self):\n",
    "        return self.code\n",
    "    \n",
    "    def get_PER(self):\n",
    "        return self.PER\n",
    "    \n",
    "    def get_PBR(self):\n",
    "        return self.PBR\n",
    "    \n",
    "    def get_DR(self):\n",
    "        return self.DR"
   ]
  },
  {
   "cell_type": "code",
   "execution_count": 3,
   "id": "3f5847e5-0f98-4bd0-a35b-a1d04e65d391",
   "metadata": {},
   "outputs": [
    {
     "name": "stdout",
     "output_type": "stream",
     "text": [
      "2.31\n"
     ]
    }
   ],
   "source": [
    "삼성 = Stock(\"삼성전자\",'005930', 2.31, 1.23, 0.3)\n",
    "print(삼성.get_PER())"
   ]
  },
  {
   "cell_type": "markdown",
   "id": "a713a8ce-7ca8-4260-8928-83c3b38a40be",
   "metadata": {},
   "source": [
    "6. 아래의 표를 참조하여 3종목에 대해 객체를 생성하고 이를 파이썬 리스트에 저장하세요. 파이썬 리스트에 저장된 각 종목에 대해 for 루프를 통해 종목코드와 PER을 출력해보세요.\n",
    "\n",
    "<table>\n",
    "<thead>\n",
    "<tr>\n",
    "<th>종목명</th>\n",
    "<th>종목코드</th>\n",
    "<th>PER</th>\n",
    "<th>PBR</th>\n",
    "<th>배당수익률</th>\n",
    "</tr>\n",
    "</thead>\n",
    "<tbody>\n",
    "<tr>\n",
    "<td>삼성전자</td>\n",
    "<td>005930</td>\n",
    "<td>15.79</td>\n",
    "<td>1.33</td>\n",
    "<td>2.83</td>\n",
    "</tr>\n",
    "<tr>\n",
    "<td>현대차</td>\n",
    "<td>005380</td>\n",
    "<td>8.70</td>\n",
    "<td>0.35</td>\n",
    "<td>4.27</td>\n",
    "</tr>\n",
    "<tr>\n",
    "<td>LG전자</td>\n",
    "<td>066570</td>\n",
    "<td>317.34</td>\n",
    "<td>0.69</td>\n",
    "<td>1.37</td>\n",
    "</tr>\n",
    "</tbody>\n",
    "</table>"
   ]
  },
  {
   "cell_type": "code",
   "execution_count": 9,
   "id": "4cc79905-ad17-4f98-9ac4-6b4f12dab639",
   "metadata": {},
   "outputs": [
    {
     "name": "stdout",
     "output_type": "stream",
     "text": [
      "005930 15.79\n",
      "005380 8.7\n",
      "066570 317.34\n"
     ]
    }
   ],
   "source": [
    "삼성전자 = Stock(\"삼성전자\", \"005930\", 15.79, 1.33, 2.83)\n",
    "현대차 = Stock('현재차', '005380', 8.70, 0.35, 4.27)\n",
    "LG전자 = Stock('LG전자', '066570', 317.34, 0.69, 1.37)\n",
    "\n",
    "python_list=[삼성전자,현대차,LG전자]\n",
    "\n",
    "for i in python_list:\n",
    "    print(i.code, i.PER)"
   ]
  }
 ],
 "metadata": {
  "kernelspec": {
   "display_name": "Python 3 (ipykernel)",
   "language": "python",
   "name": "python3"
  },
  "language_info": {
   "codemirror_mode": {
    "name": "ipython",
    "version": 3
   },
   "file_extension": ".py",
   "mimetype": "text/x-python",
   "name": "python",
   "nbconvert_exporter": "python",
   "pygments_lexer": "ipython3",
   "version": "3.11.1"
  }
 },
 "nbformat": 4,
 "nbformat_minor": 5
}
