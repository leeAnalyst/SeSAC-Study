{
 "cells": [
  {
   "cell_type": "markdown",
   "id": "5e54edff-a45d-4fa7-b520-995d8a4e8812",
   "metadata": {},
   "source": [
    "## 객체\n",
    ": 속성(상태, 특징)을 갖고 있으며 행위(행동, 동작, 기능)를 할 수 있는 대상\n",
    "\n",
    "* 클래스는 객체를 만들기 위한 기본 틀, 객체는 클래스로부터 만들어진 결과<br>\n",
    "ex) 클래스: 붕어빵 틀, 객체: 팥붕어빵, 슈크림붕어빵...\n",
    "\n",
    "## 클래스 선언\n",
    "* 클래스 선언 시 class 키워드로 시작해서 클래스명을 정해줌\n",
    "* 클래스명은 대문자로 시작함\n",
    "* 클래스에서 정의하는 함수의 첫 번째 매개변수는 self\n",
    "* init함수는 클래스의 인스턴스가 생성될 때 실행됨\n",
    "* init은 말그대로 초기화함수이므로 객체의 속성을 초기화하는 등 기능을 함\n",
    "    \n",
    "```\n",
    "def 클래스명:\n",
    "    변수 지정\n",
    "    def __init__(self, [매개변수1, ...]):\n",
    "        ...\n",
    "    def 함수명(self, [매개변수1, ...]):\n",
    "        ...\n",
    "```\n",
    "\n",
    "    "
   ]
  },
  {
   "cell_type": "code",
   "execution_count": 1,
   "id": "2287fbed-3ed2-4aa1-b338-58351b50f18f",
   "metadata": {},
   "outputs": [],
   "source": [
    "class Person():\n",
    "    def __init__(self, name, position):\n",
    "        self.name = name\n",
    "        self.position = position\n",
    "        \n",
    "    def walk(self):\n",
    "        self.position = self.position+1\n",
    "        print(f'{self.name}이 {self.position}으로 이동 중...')\n",
    "        "
   ]
  },
  {
   "cell_type": "markdown",
   "id": "d81bda80-270b-4977-8772-fa4afec8e4c2",
   "metadata": {},
   "source": [
    "### 객체 생성 및 활용\n",
    "* 객체명 = 클래스명([인수1, ...])\n",
    "* 다음과 같이 변수에 접근해서 객체의 속성을 가져옴\n",
    "    * 객체명.변수명\n",
    "* 메서드 또한 .연산자로 접근가능\n",
    "    * self는 입력하지 않음\n",
    "    * 객체명.메서드명([인수1, ...])"
   ]
  },
  {
   "cell_type": "code",
   "execution_count": 2,
   "id": "3a3fd2e5-0399-4c6a-b3f2-682f8fec8ba5",
   "metadata": {},
   "outputs": [],
   "source": [
    "person1 = Person('미란', 0)"
   ]
  },
  {
   "cell_type": "code",
   "execution_count": 5,
   "id": "6534fe1a-26fd-46e4-b98c-82a0d0dc0d05",
   "metadata": {},
   "outputs": [
    {
     "name": "stdout",
     "output_type": "stream",
     "text": [
      "이름: 미란 초기 위치: 1\n"
     ]
    }
   ],
   "source": [
    "print(f\"이름: {person1.name} 초기 위치: {person1.position}\")"
   ]
  },
  {
   "cell_type": "code",
   "execution_count": 9,
   "id": "3d84a718-b35a-4b81-bce1-227dc4fd71b2",
   "metadata": {},
   "outputs": [
    {
     "name": "stdout",
     "output_type": "stream",
     "text": [
      "미란이 5으로 이동 중...\n"
     ]
    }
   ],
   "source": [
    "person1.walk()"
   ]
  },
  {
   "cell_type": "code",
   "execution_count": 10,
   "id": "eb1d26f9-ebcd-4cb6-ae5e-7bb065f43046",
   "metadata": {},
   "outputs": [
    {
     "name": "stdout",
     "output_type": "stream",
     "text": [
      "선영이 11으로 이동 중...\n"
     ]
    }
   ],
   "source": [
    "person2 = Person('선영', 10)\n",
    "\n",
    "person2.walk()"
   ]
  },
  {
   "cell_type": "markdown",
   "id": "c2694bdc-c24b-46b2-8ff2-380252a73ce7",
   "metadata": {},
   "source": [
    "## 연습문제 (https://wikidocs.net/7036)"
   ]
  },
  {
   "cell_type": "markdown",
   "id": "9bf9863f-b727-4a7f-a661-c27d6f14c952",
   "metadata": {},
   "source": [
    "1. Stock 클래스의 객체가 생성될 때 종목명과 종목코드를 입력 받을 수 있도록 생성자를 정의해보세요."
   ]
  },
  {
   "cell_type": "markdown",
   "id": "69192d74-b909-4f89-8694-f1fcce5b00fd",
   "metadata": {},
   "source": []
  },
  {
   "cell_type": "markdown",
   "id": "c5bb1c4b-b0f7-488b-aca9-86f8cb46fa93",
   "metadata": {},
   "source": [
    "2. 객체에 종목명을 입력할 수 있는 set_name 메서드를 추가해보세요."
   ]
  },
  {
   "cell_type": "code",
   "execution_count": null,
   "id": "b773dbfe-ef50-433a-966d-fd7fcc2c9fe0",
   "metadata": {},
   "outputs": [],
   "source": []
  },
  {
   "cell_type": "markdown",
   "id": "f7397562-ac1b-493c-a5ce-44ee5cb91aa0",
   "metadata": {},
   "source": [
    "3. 객체에 종목코드를 입력할 수 있는 set_code 메서드를 추가해보세요."
   ]
  },
  {
   "cell_type": "code",
   "execution_count": null,
   "id": "8cf654c5-f4ac-498b-bf2f-c63e2da1aa10",
   "metadata": {},
   "outputs": [],
   "source": []
  },
  {
   "cell_type": "markdown",
   "id": "ce7af6d4-0b5e-462a-90f5-27b1a85a9c03",
   "metadata": {},
   "source": [
    "4. 종목명과 종목코드를 리턴하는 get_name, get_code 메서드를 추가하세요. 해당 메서드를 사용하여 종목명과 종목코드를 얻고 이를 출력해보세요.<br>\n",
    "```\n",
    "삼성 = Stock(\"삼성전자\", \"005930\")\n",
    "```"
   ]
  },
  {
   "cell_type": "code",
   "execution_count": null,
   "id": "263b34d4-e63d-4596-b0b1-be69f9dc0c1c",
   "metadata": {},
   "outputs": [],
   "source": []
  },
  {
   "cell_type": "markdown",
   "id": "e72718f2-dfd5-4f98-aa1b-699c7ba0b015",
   "metadata": {},
   "source": [
    "5. 생성자에서 종목명, 종목코드, PER, PBR, 배당수익률을 입력 받을 수 있도록 생성자를 수정하세요. PER, PBR, 배당수익률은 float 타입입니다."
   ]
  },
  {
   "cell_type": "code",
   "execution_count": null,
   "id": "e7881462-50a8-44bd-bf00-bcf854ad85fd",
   "metadata": {},
   "outputs": [],
   "source": []
  },
  {
   "cell_type": "markdown",
   "id": "05d1ae7a-88ce-489a-bb1b-d511759b3eca",
   "metadata": {},
   "source": [
    "6. 아래의 표를 참조하여 3종목에 대해 객체를 생성하고 이를 파이썬 리스트에 저장하세요. 파이썬 리스트에 저장된 각 종목에 대해 for 루프를 통해 종목코드와 PER을 출력해보세요.\n",
    "\n",
    "<table>\n",
    "<thead>\n",
    "<tr>\n",
    "<th>종목명</th>\n",
    "<th>종목코드</th>\n",
    "<th>PER</th>\n",
    "<th>PBR</th>\n",
    "<th>배당수익률</th>\n",
    "</tr>\n",
    "</thead>\n",
    "<tbody>\n",
    "<tr>\n",
    "<td>삼성전자</td>\n",
    "<td>005930</td>\n",
    "<td>15.79</td>\n",
    "<td>1.33</td>\n",
    "<td>2.83</td>\n",
    "</tr>\n",
    "<tr>\n",
    "<td>현대차</td>\n",
    "<td>005380</td>\n",
    "<td>8.70</td>\n",
    "<td>0.35</td>\n",
    "<td>4.27</td>\n",
    "</tr>\n",
    "<tr>\n",
    "<td>LG전자</td>\n",
    "<td>066570</td>\n",
    "<td>317.34</td>\n",
    "<td>0.69</td>\n",
    "<td>1.37</td>\n",
    "</tr>\n",
    "</tbody>\n",
    "</table>"
   ]
  },
  {
   "cell_type": "code",
   "execution_count": null,
   "id": "499b6591-d7c2-4a22-99e7-60cf2dcbe369",
   "metadata": {},
   "outputs": [],
   "source": []
  },
  {
   "cell_type": "markdown",
   "id": "9ef77848-3996-4eda-8ac2-104dd9901b6f",
   "metadata": {
    "jp-MarkdownHeadingCollapsed": true,
    "tags": []
   },
   "source": [
    "# 링크드리스트 (추후 진행)\n",
    "(https://lucaseo.github.io/posts/2021-02-01-python-datastructure-linked-list/)"
   ]
  }
 ],
 "metadata": {
  "kernelspec": {
   "display_name": "Python 3 (ipykernel)",
   "language": "python",
   "name": "python3"
  },
  "language_info": {
   "codemirror_mode": {
    "name": "ipython",
    "version": 3
   },
   "file_extension": ".py",
   "mimetype": "text/x-python",
   "name": "python",
   "nbconvert_exporter": "python",
   "pygments_lexer": "ipython3",
   "version": "3.9.13"
  }
 },
 "nbformat": 4,
 "nbformat_minor": 5
}
