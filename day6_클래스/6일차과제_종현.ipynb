{
 "cells": [
  {
   "cell_type": "code",
   "execution_count": 1,
   "id": "20fd9942-310d-493e-9a9e-620cd91ac773",
   "metadata": {},
   "outputs": [],
   "source": [
    "# 사용하라고 한 건 다 사용했습니다........."
   ]
  },
  {
   "cell_type": "markdown",
   "id": "65bbc715-4f49-4663-93a7-795865428841",
   "metadata": {},
   "source": [
    "5. 생성자에서 종목명, 종목코드, PER, PBR, 배당수익률을 입력 받을 수 있도록 생성자를 수정하세요. PER, PBR, 배당수익률은 float 타입입니다."
   ]
  },
  {
   "cell_type": "code",
   "execution_count": 14,
   "id": "e824b358-a552-471f-ba58-ea3434c61e92",
   "metadata": {},
   "outputs": [],
   "source": [
    "class Stock:\n",
    "    def __init__(self, stockname, stockcode, PER, PBR, DYR):\n",
    "        self.stockname = stockname\n",
    "        self.stockcode = stockcode\n",
    "        self.per = float(PER)\n",
    "        self.pbr = float(PBR)\n",
    "        self.dyr = float(DYR)\n",
    "    def set_name(self, stockname):\n",
    "        self.stockname = stockname\n",
    "    def set_code(self, stockcode):\n",
    "        self.stockcode = stockcode\n",
    "    def get_name(self):\n",
    "        return self.stockname\n",
    "    def get_code(self):\n",
    "        return self.stockcode\n",
    "    def get_per(self):\n",
    "        return self.per\n",
    "    def get_pbr(self):\n",
    "        return self.pbr\n",
    "    def get_dyr(self):\n",
    "        return self.dyr"
   ]
  },
  {
   "cell_type": "markdown",
   "id": "c5d23974-60e7-4265-aff7-c05cbdc239ae",
   "metadata": {},
   "source": [
    "6. 아래의 표를 참조하여 3종목에 대해 객체를 생성하고 이를 파이썬 리스트에 저장하세요. 파이썬 리스트에 저장된 각 종목에 대해 for 루프를 통해 종목코드와 PER을 출력해보세요.\n",
    "\n",
    "<table>\n",
    "<thead>\n",
    "<tr>\n",
    "<th>종목명</th>\n",
    "<th>종목코드</th>\n",
    "<th>PER</th>\n",
    "<th>PBR</th>\n",
    "<th>배당수익률</th>\n",
    "</tr>\n",
    "</thead>\n",
    "<tbody>\n",
    "<tr>\n",
    "<td>삼성전자</td>\n",
    "<td>005930</td>\n",
    "<td>15.79</td>\n",
    "<td>1.33</td>\n",
    "<td>2.83</td>\n",
    "</tr>\n",
    "<tr>\n",
    "<td>현대차</td>\n",
    "<td>005380</td>\n",
    "<td>8.70</td>\n",
    "<td>0.35</td>\n",
    "<td>4.27</td>\n",
    "</tr>\n",
    "<tr>\n",
    "<td>LG전자</td>\n",
    "<td>066570</td>\n",
    "<td>317.34</td>\n",
    "<td>0.69</td>\n",
    "<td>1.37</td>\n",
    "</tr>\n",
    "</tbody>\n",
    "</table>"
   ]
  },
  {
   "cell_type": "code",
   "execution_count": 37,
   "id": "f16ed292-e0a6-4fa8-8c6e-08b9693d38a4",
   "metadata": {},
   "outputs": [
    {
     "name": "stdout",
     "output_type": "stream",
     "text": [
      "['삼성전자', '005930', 15.79, 1.33, 2.83, '현대차', '005380', 8.7, 0.35, 4.27, 'LG전자', '066570', 317.34, 0.69, 1.37]\n"
     ]
    }
   ],
   "source": [
    "삼성 = Stock('삼성전자', '005930', 15.79, 1.33, 2.83)\n",
    "현대 = Stock('현대차', '005380', 8.70, 0.35, 4.27)\n",
    "LG = Stock('LG전자', '066570', 317.34, 0.69, 1.37)\n",
    "\n",
    "stock_li = [삼성.get_name(), 삼성.get_code(), 삼성.get_per(), 삼성.get_pbr(), 삼성.get_dyr(), 현대.get_name(), 현대.get_code(), 현대.get_per(), 현대.get_pbr(), 현대.get_dyr(),LG.get_name(), LG.get_code(), LG.get_per(), LG.get_pbr(), LG.get_dyr()]\n",
    "print(stock_li)"
   ]
  },
  {
   "cell_type": "code",
   "execution_count": 40,
   "id": "a4830e2a-5b0c-42e2-939e-907145999212",
   "metadata": {
    "tags": []
   },
   "outputs": [
    {
     "name": "stdout",
     "output_type": "stream",
     "text": [
      "005930\n",
      "15.79\n",
      "005380\n",
      "8.7\n",
      "066570\n",
      "317.34\n"
     ]
    }
   ],
   "source": [
    "for i in stock_li:\n",
    "    if i == '삼성전자':\n",
    "        print(stock_li[1])\n",
    "        print(stock_li[2])\n",
    "    elif i == '현대차':\n",
    "        print(stock_li[6])\n",
    "        print(stock_li[7])\n",
    "    elif i == 'LG전자':\n",
    "        print(stock_li[11])\n",
    "        print(stock_li[12])"
   ]
  }
 ],
 "metadata": {
  "kernelspec": {
   "display_name": "Python 3 (ipykernel)",
   "language": "python",
   "name": "python3"
  },
  "language_info": {
   "codemirror_mode": {
    "name": "ipython",
    "version": 3
   },
   "file_extension": ".py",
   "mimetype": "text/x-python",
   "name": "python",
   "nbconvert_exporter": "python",
   "pygments_lexer": "ipython3",
   "version": "3.10.7"
  }
 },
 "nbformat": 4,
 "nbformat_minor": 5
}
