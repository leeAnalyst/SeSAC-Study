{
 "cells": [
  {
   "cell_type": "markdown",
   "id": "1983218f-8eb1-4a24-9cc3-d34021b97ec8",
   "metadata": {
    "tags": []
   },
   "source": [
    "### 등수 매기기 (120882)\n",
    "문제 : 영어 점수와 수학 점수의 평균 점수를 기준으로 학생들의 등수를 매기려고 합니다. 영어 점수와 수학 점수를 담은 2차원 정수 배열 score가 주어질 때, 영어 점수와 수학 점수의 평균을 기준으로 매긴 등수를 담은 배열을 return하도록 solution 함수를 완성해주세요."
   ]
  },
  {
   "cell_type": "code",
   "execution_count": 108,
   "id": "b60cf092-ac2f-4b60-ace6-bcc9196d1901",
   "metadata": {},
   "outputs": [
    {
     "data": {
      "text/plain": [
       "[4, 4, 6, 2, 2, 1, 7]"
      ]
     },
     "execution_count": 108,
     "metadata": {},
     "output_type": "execute_result"
    }
   ],
   "source": [
    "def solution(score):    \n",
    "    score_mean = []\n",
    "    result = []\n",
    "    for i in score:\n",
    "        score_mean.append(sum(i)/len(i))            # score_mean 리스트에 각 학생의 수학과 영어의 평균값을 구하여 append해줌\n",
    "    sort_mean = sorted(score_mean, reverse=True)    # sort_mean 리스트에 score_mean을 내림차순으로 정렬\n",
    "    for i in score_mean:                            # score_mean을 for반복문으로\n",
    "        result.append(sort_mean.index(i)+1)         # result에 정렬된 sort_mean의 index에 +1을 해준 값(순위는 1위부터이므로)을 append해준다\n",
    "    return result\n",
    "\n",
    "solution([[80, 70], [70, 80], [30, 50], [90, 100], [100, 90], [100, 100], [10, 30]])        "
   ]
  }
 ],
 "metadata": {
  "kernelspec": {
   "display_name": "Python 3 (ipykernel)",
   "language": "python",
   "name": "python3"
  },
  "language_info": {
   "codemirror_mode": {
    "name": "ipython",
    "version": 3
   },
   "file_extension": ".py",
   "mimetype": "text/x-python",
   "name": "python",
   "nbconvert_exporter": "python",
   "pygments_lexer": "ipython3",
   "version": "3.10.7"
  }
 },
 "nbformat": 4,
 "nbformat_minor": 5
}
