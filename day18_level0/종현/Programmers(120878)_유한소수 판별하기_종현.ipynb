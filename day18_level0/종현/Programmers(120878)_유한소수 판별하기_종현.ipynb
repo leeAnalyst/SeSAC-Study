{
 "cells": [
  {
   "cell_type": "markdown",
   "id": "22170b3a-3307-4b2d-8894-ac88ce00c94d",
   "metadata": {},
   "source": [
    "### 유한소수 판별하기 (120878)\n",
    "문제 : 소수점 아래 숫자가 계속되지 않고 유한개인 소수를 유한소수라고 합니다. 분수를 소수로 고칠 때 유한소수로 나타낼 수 있는 분수인지 판별하려고 합니다. 유한소수가 되기 위한 분수의 조건은 다음과 같습니다.\n",
    "\n",
    " - 기약분수로 나타내었을 때, 분모의 소인수가 2와 5만 존재해야 합니다.\n",
    " \n",
    "두 정수 a와 b가 매개변수로 주어질 때, a/b가 유한소수이면 1을, 무한소수라면 2를 return하도록 solution 함수를 완성해주세요."
   ]
  },
  {
   "cell_type": "code",
   "execution_count": 8,
   "id": "94110edc-65fc-457f-8cf6-a0c39fd73a69",
   "metadata": {},
   "outputs": [
    {
     "data": {
      "text/plain": [
       "1"
      ]
     },
     "execution_count": 8,
     "metadata": {},
     "output_type": "execute_result"
    }
   ],
   "source": [
    "import math\n",
    "                                     # 분모의 소인수가 2, 5만 존재해야 한다.\n",
    "def solution(a, b):\n",
    "    b //= math.gcd(a, b)             # 최대공약수를 구하는 함수인 gcd를 사용해 a와 b의 최대공약수를 구하고 b // 최대공약수로 나누어 b에 다시 대입한다.\n",
    "    while b%2 == 0:                  # 위에서 변경된 b값을 2로 나눈 나머지가 0일 동안,\n",
    "        b //= 2                      # b를 계속 2로 나누어 그 몫을 다시 b에 대입해준다.\n",
    "    while b%5 == 0:                  # 위와 같은 방식으로 5를 나눈 나머지가 0일 동안,\n",
    "        b //= 5                      # b를 계속 5로 나눈 몫을 b에 대입해준다.\n",
    "    return 1 if b == 1 else 2        # b가 1일 경우(유한소수) 1을, 아닌 경우 2를 return\n",
    "\n",
    "solution(7, 20)"
   ]
  }
 ],
 "metadata": {
  "kernelspec": {
   "display_name": "Python 3 (ipykernel)",
   "language": "python",
   "name": "python3"
  },
  "language_info": {
   "codemirror_mode": {
    "name": "ipython",
    "version": 3
   },
   "file_extension": ".py",
   "mimetype": "text/x-python",
   "name": "python",
   "nbconvert_exporter": "python",
   "pygments_lexer": "ipython3",
   "version": "3.10.7"
  }
 },
 "nbformat": 4,
 "nbformat_minor": 5
}
