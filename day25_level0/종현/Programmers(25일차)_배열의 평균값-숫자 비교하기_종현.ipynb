{
 "cells": [
  {
   "cell_type": "markdown",
   "id": "9d9fb376-eb32-4e3d-b098-3b5b4d51192b",
   "metadata": {},
   "source": [
    "### 배열의 평균값 (120817)\n",
    "문제 : 정수 배열 numbers가 매개변수로 주어집니다. numbers의 원소의 평균값을 return하도록 solution 함수를 완성해주세요."
   ]
  },
  {
   "cell_type": "code",
   "execution_count": 43,
   "id": "2518f756-dde4-46cc-98c1-3cf542600c69",
   "metadata": {},
   "outputs": [
    {
     "data": {
      "text/plain": [
       "5.5"
      ]
     },
     "execution_count": 43,
     "metadata": {},
     "output_type": "execute_result"
    }
   ],
   "source": [
    "def solution(numbers):\n",
    "    sums = 0\n",
    "    for i in numbers[0:]:\n",
    "        sums += i\n",
    "    return sums / len(numbers)\n",
    "\n",
    "solution([1, 2, 3, 4, 5, 6, 7, 8, 9, 10])"
   ]
  },
  {
   "cell_type": "code",
   "execution_count": 4,
   "id": "e84a2774-f3d7-4822-af16-ce0d0274ecae",
   "metadata": {},
   "outputs": [
    {
     "data": {
      "text/plain": [
       "5.5"
      ]
     },
     "execution_count": 4,
     "metadata": {},
     "output_type": "execute_result"
    }
   ],
   "source": [
    "def solution(numbers):\n",
    "    return sum(numbers) / len(numbers)\n",
    "solution([1, 2, 3, 4, 5, 6, 7, 8, 9, 10])"
   ]
  },
  {
   "cell_type": "code",
   "execution_count": 5,
   "id": "3d4de5a6-cd19-4bef-91bb-31df97e9d233",
   "metadata": {},
   "outputs": [
    {
     "data": {
      "text/plain": [
       "5.5"
      ]
     },
     "execution_count": 5,
     "metadata": {},
     "output_type": "execute_result"
    }
   ],
   "source": [
    "import numpy as np\n",
    "\n",
    "def solution(numbers):\n",
    "    return np.mean(numbers)\n",
    "solution([1, 2, 3, 4, 5, 6, 7, 8, 9, 10])"
   ]
  },
  {
   "cell_type": "code",
   "execution_count": null,
   "id": "0dd6ba9b-ead9-4b23-b4af-7ea87e668865",
   "metadata": {},
   "outputs": [],
   "source": []
  },
  {
   "cell_type": "markdown",
   "id": "100a5c33-9e5b-4baf-aa46-bc6a2da9c081",
   "metadata": {},
   "source": [
    "### 피자 나눠 먹기(3) (120816)\n",
    "문제 : 머쓱이네 피자가게는 피자를 두 조각에서 열 조각까지 원하는 조각 수로 잘라줍니다. 피자 조각 수 slice와 피자를 먹는 사람의 수 n이 매개변수로 주어질 때, n명의 사람이 최소 한 조각 이상 피자를 먹으려면 최소 몇 판의 피자를 시켜야 하는지를 return 하도록 solution 함수를 완성해보세요."
   ]
  },
  {
   "cell_type": "code",
   "execution_count": 7,
   "id": "0db83e09-3b66-4a2c-9bbd-1091827ef5b6",
   "metadata": {},
   "outputs": [
    {
     "data": {
      "text/plain": [
       "2"
      ]
     },
     "execution_count": 7,
     "metadata": {},
     "output_type": "execute_result"
    }
   ],
   "source": [
    "def solution(slice, n):\n",
    "    return ((n-1) // slice) + 1\n",
    "\n",
    "solution(7, 10)"
   ]
  },
  {
   "cell_type": "code",
   "execution_count": null,
   "id": "fb48ad7e-775c-48a9-9c73-a075cefcff11",
   "metadata": {},
   "outputs": [],
   "source": []
  },
  {
   "cell_type": "markdown",
   "id": "d9eeaa39-ae4a-4c9f-bbf5-7affbc209d3a",
   "metadata": {},
   "source": [
    "### 피자 나눠 먹기(2) (120815)\n",
    "문제 : 머쓱이네 피자가게는 피자를 여섯 조각으로 잘라 줍니다. 피자를 나눠먹을 사람의 수 n이 매개변수로 주어질 때, n명이 주문한 피자를 남기지 않고 모두 같은 수의 피자 조각을 먹어야 한다면 최소 몇 판을 시켜야 하는지를 return 하도록 solution 함수를 완성해보세요."
   ]
  },
  {
   "cell_type": "code",
   "execution_count": 29,
   "id": "ef123d03-8192-4044-aeda-1ffbf348042c",
   "metadata": {},
   "outputs": [
    {
     "data": {
      "text/plain": [
       "50"
      ]
     },
     "execution_count": 29,
     "metadata": {},
     "output_type": "execute_result"
    }
   ],
   "source": [
    "# 몇몇 test case에서 런타임 오류가 남\n",
    "\n",
    "def solution(n):\n",
    "    result = []\n",
    "    for i in range(1, n+1):\n",
    "        if (n*i)%6 == 0:\n",
    "            result.append((n*i)//6)\n",
    "    return result[0]\n",
    "\n",
    "solution(100)"
   ]
  },
  {
   "cell_type": "code",
   "execution_count": 33,
   "id": "4bf19273-861c-4605-8756-a6b1d873fd3a",
   "metadata": {},
   "outputs": [
    {
     "data": {
      "text/plain": [
       "50"
      ]
     },
     "execution_count": 33,
     "metadata": {},
     "output_type": "execute_result"
    }
   ],
   "source": [
    "# 위 코드와 마찬가지로 런타임 오류가 나지만 list comprehension으로 줄인 코드\n",
    "\n",
    "def solution(n):\n",
    "    return [(n*i)//6 for i in range(1, n+1) if (n*i)%6 == 0][0]\n",
    "\n",
    "solution(100)"
   ]
  },
  {
   "cell_type": "code",
   "execution_count": 35,
   "id": "a8624db5-aca7-4351-bba6-75bcca42c75b",
   "metadata": {},
   "outputs": [
    {
     "data": {
      "text/plain": [
       "2"
      ]
     },
     "execution_count": 35,
     "metadata": {},
     "output_type": "execute_result"
    }
   ],
   "source": [
    "# 고민 결과, 런타임 오류가 나는 이유는 (n*i)%6 == 0인 조건만 리스트에 추가하므로, 그렇지 않은 경우엔 리스트에 추가되는 값이 없어 result[0]이 에러를 발생시키는 것으로 판단.\n",
    "# else 조건을 줘도 계속 런타임오류가 남..\n",
    "def solution(n):\n",
    "    for i in range(1, n+1):\n",
    "        if (n*i)%6 == 0:\n",
    "            return (n*i)//6\n",
    "        else:\n",
    "            pass # 6으로 나누어 떨어지는 경우가 없는 경우 pass\n",
    "\n",
    "solution(4)"
   ]
  },
  {
   "cell_type": "code",
   "execution_count": 42,
   "id": "d25909c9-b7cf-4631-a55f-ceb205c71b90",
   "metadata": {},
   "outputs": [
    {
     "data": {
      "text/plain": [
       "50"
      ]
     },
     "execution_count": 42,
     "metadata": {},
     "output_type": "execute_result"
    }
   ],
   "source": [
    "# 결국 최소공배수와 최대공약수를 구하는 문제였고, math라이브러리를 사용하여 풀 수 있을 것이라 판단. \n",
    "\n",
    "import math\n",
    "def solution(n):\n",
    "    return ((n*6) // math.gcd(n, 6)) // 6        # (n*6) // math.gcd(n, 6))  -> n과 6의 최소 공배수 \n",
    "                                                 # math.gcd(n, 6)  -> 최대 공약수\n",
    "solution(100)                                    # 몇판인지 return해야 하기 때문에 최소공배수를 6으로 나눈 결과를 return한다."
   ]
  },
  {
   "cell_type": "code",
   "execution_count": null,
   "id": "8cb8ef84-77ca-4241-b18d-4ae66104d3dd",
   "metadata": {},
   "outputs": [],
   "source": []
  },
  {
   "cell_type": "markdown",
   "id": "a5c8cd36-e00a-4d6f-9bdb-f1f3e856c83b",
   "metadata": {},
   "source": [
    "### 짝수는 싫어요 (120813)\n",
    "문제 : 정수 n이 매개변수로 주어질 때, n 이하의 홀수가 오름차순으로 담긴 배열을 return하도록 solution 함수를 완성해주세요."
   ]
  },
  {
   "cell_type": "code",
   "execution_count": 44,
   "id": "3128e2fd-968f-4eba-9666-97fc78b09ee4",
   "metadata": {},
   "outputs": [
    {
     "data": {
      "text/plain": [
       "[1, 3, 5, 7, 9]"
      ]
     },
     "execution_count": 44,
     "metadata": {},
     "output_type": "execute_result"
    }
   ],
   "source": [
    "def solution(n):\n",
    "    result = []\n",
    "    for i in range(1, n+1):\n",
    "        if i%2 != 0:\n",
    "            result.append(i)\n",
    "    return result\n",
    "\n",
    "solution(10)"
   ]
  },
  {
   "cell_type": "code",
   "execution_count": 46,
   "id": "1c06bd88-f839-48ce-84ef-5a880b0f6047",
   "metadata": {},
   "outputs": [
    {
     "data": {
      "text/plain": [
       "[1, 3, 5, 7, 9]"
      ]
     },
     "execution_count": 46,
     "metadata": {},
     "output_type": "execute_result"
    }
   ],
   "source": [
    "def solution(n):\n",
    "    return [i for i in range(1, n+1) if i%2 != 0]\n",
    "\n",
    "solution(10)"
   ]
  },
  {
   "cell_type": "code",
   "execution_count": null,
   "id": "1a1281fd-4433-4d96-891a-a4af447c88ef",
   "metadata": {},
   "outputs": [],
   "source": []
  },
  {
   "cell_type": "markdown",
   "id": "43a3c6cc-19ff-479d-a6ae-7e5512c896bd",
   "metadata": {},
   "source": [
    "### 최빈값 구하기 (120812)\n",
    "문제 : 최빈값은 주어진 값 중에서 가장 자주 나오는 값을 의미합니다. 정수 배열 array가 매개변수로 주어질 때, 최빈값을 return 하도록 solution 함수를 완성해보세요. 최빈값이 여러 개면 -1을 return 합니다."
   ]
  },
  {
   "cell_type": "code",
   "execution_count": 68,
   "id": "fb8da1d9-0ed5-461b-b6ee-c06962ab2b8b",
   "metadata": {},
   "outputs": [
    {
     "data": {
      "text/plain": [
       "1"
      ]
     },
     "execution_count": 68,
     "metadata": {},
     "output_type": "execute_result"
    }
   ],
   "source": [
    "def solution(array):\n",
    "    count = {}\n",
    "    for num in array:                        # array를 for반복문으로 돌며 \n",
    "        if num in count:                     # count 딕셔너리에 num이 있는 경우\n",
    "            count[num] += 1                  # 딕셔너리안 key값이 num인 경우에 value에 1씩 더해준다.\n",
    "        else:\n",
    "            count[num] = 1                   # 그렇지 않은 경우 count[num]은 1\n",
    "    mode = max(count, key=lambda x: count[x])  # 가장 빈도가 높은 숫자\n",
    "    if list(count.values()).count(count[mode]) > 1:  # 최빈값이 두 개 이상인 경우\n",
    "        return -1\n",
    "    else:\n",
    "        return mode\n",
    "    \n",
    "solution([1])"
   ]
  },
  {
   "cell_type": "code",
   "execution_count": null,
   "id": "7b76efc3-b0e5-4233-94c7-723afd871a06",
   "metadata": {},
   "outputs": [],
   "source": []
  },
  {
   "cell_type": "markdown",
   "id": "bcc89baa-5d03-4de6-a847-c4c2a6fac95d",
   "metadata": {},
   "source": [
    "### 중앙값 구하기 (120811)\n",
    "문제 : 중앙값은 어떤 주어진 값들을 크기의 순서대로 정렬했을 때 가장 중앙에 위치하는 값을 의미합니다. 예를 들어 1, 2, 7, 10, 11의 중앙값은 7입니다. 정수 배열 array가 매개변수로 주어질 때, 중앙값을 return 하도록 solution 함수를 완성해보세요."
   ]
  },
  {
   "cell_type": "code",
   "execution_count": 125,
   "id": "ffad26a7-c037-4cd2-a0c7-64451d2dda2c",
   "metadata": {},
   "outputs": [
    {
     "data": {
      "text/plain": [
       "0"
      ]
     },
     "execution_count": 125,
     "metadata": {},
     "output_type": "execute_result"
    }
   ],
   "source": [
    "def solution(array):\n",
    "    sorted_array = sorted(array)          # 입력받은 array를 sorted\n",
    "    med_index = len(array)//2             # 중앙값의 index는 array의 길이를 2로 나눈 몫\n",
    "    return sorted_array[med_index]        # 정렬된 array의 위에서 구한 중앙값index를 넣어 값을 return\n",
    "\n",
    "solution([9, -1, 0])"
   ]
  },
  {
   "cell_type": "code",
   "execution_count": null,
   "id": "243decb0-8eda-4c93-bb05-874e427cb072",
   "metadata": {},
   "outputs": [],
   "source": []
  },
  {
   "cell_type": "markdown",
   "id": "4882964b-fce6-466f-96e1-2bc988791176",
   "metadata": {},
   "source": [
    "### 나머지 구하기 (120810)\n",
    "문제 : 정수 num1, num2가 매개변수로 주어질 때, num1를 num2로 나눈 나머지를 return 하도록 solution 함수를 완성해주세요."
   ]
  },
  {
   "cell_type": "code",
   "execution_count": 126,
   "id": "4d009655-f488-43bd-a6e7-857b59ad3680",
   "metadata": {},
   "outputs": [
    {
     "data": {
      "text/plain": [
       "1"
      ]
     },
     "execution_count": 126,
     "metadata": {},
     "output_type": "execute_result"
    }
   ],
   "source": [
    "def solution(num1, num2):\n",
    "    return int(num1 % num2)\n",
    "\n",
    "solution(3, 2)"
   ]
  },
  {
   "cell_type": "code",
   "execution_count": null,
   "id": "cb2141d6-ddd8-43bf-a3cb-277bcdd7ae9e",
   "metadata": {},
   "outputs": [],
   "source": []
  },
  {
   "cell_type": "markdown",
   "id": "e5d19772-3259-4da0-a060-1167984e79a6",
   "metadata": {},
   "source": [
    "### 배열 두 배 만들기 (120809)\n",
    "문제 : 정수 배열 numbers가 매개변수로 주어집니다. numbers의 각 원소에 두배한 원소를 가진 배열을 return하도록 solution 함수를 완성해주세요."
   ]
  },
  {
   "cell_type": "code",
   "execution_count": 127,
   "id": "13126ad2-9d1e-4005-bac1-a3b5bb2e38cf",
   "metadata": {},
   "outputs": [
    {
     "data": {
      "text/plain": [
       "[2, 4, 6, 8, 10]"
      ]
     },
     "execution_count": 127,
     "metadata": {},
     "output_type": "execute_result"
    }
   ],
   "source": [
    "def solution(numbers):\n",
    "    return [num*2 for num in numbers]\n",
    "\n",
    "solution([1, 2, 3, 4, 5])"
   ]
  },
  {
   "cell_type": "code",
   "execution_count": null,
   "id": "9ea3d349-cec0-4eb5-b614-ba79f7c35416",
   "metadata": {},
   "outputs": [],
   "source": []
  },
  {
   "cell_type": "markdown",
   "id": "b29a10ba-70f8-4935-a88a-79d8322399cc",
   "metadata": {},
   "source": [
    "### 분수의 덧셈 (120808)\n",
    "문제 : 첫 번째 분수의 분자와 분모를 뜻하는 numer1, denom1, 두 번째 분수의 분자와 분모를 뜻하는 numer2, denom2가 매개변수로 주어집니다. 두 분수를 더한 값을 기약 분수로 나타냈을 때 분자와 분모를 순서대로 담은 배열을 return 하도록 solution 함수를 완성해보세요."
   ]
  },
  {
   "cell_type": "code",
   "execution_count": 128,
   "id": "ac8d514e-eb59-4bc8-9f0c-c3a6cb520a6b",
   "metadata": {},
   "outputs": [
    {
     "data": {
      "text/plain": [
       "[5, 4]"
      ]
     },
     "execution_count": 128,
     "metadata": {},
     "output_type": "execute_result"
    }
   ],
   "source": [
    "import math\n",
    "\n",
    "def solution(numer1, denom1, numer2, denom2):\n",
    "    numer = numer1*denom2 + numer2*denom1\n",
    "    denom = denom1*denom2\n",
    "    gcd = math.gcd(numer, denom)\n",
    "    return [numer//gcd, denom//gcd]\n",
    "\n",
    "solution(1, 2, 3, 4)"
   ]
  },
  {
   "cell_type": "code",
   "execution_count": null,
   "id": "4da20972-d615-4f9a-971c-54943b319590",
   "metadata": {},
   "outputs": [],
   "source": []
  },
  {
   "cell_type": "markdown",
   "id": "f2b8248b-7c72-45fb-bd51-38c4e570b3fb",
   "metadata": {},
   "source": [
    "### 숫자 비교하기 (120807)\n",
    "문제 : 정수 num1과 num2가 매개변수로 주어집니다. 두 수가 같으면 1 다르면 -1을 retrun하도록 solution 함수를 완성해주세요."
   ]
  },
  {
   "cell_type": "code",
   "execution_count": 129,
   "id": "65c5488a-f317-4807-9ad6-effbceb80b84",
   "metadata": {},
   "outputs": [
    {
     "data": {
      "text/plain": [
       "-1"
      ]
     },
     "execution_count": 129,
     "metadata": {},
     "output_type": "execute_result"
    }
   ],
   "source": [
    "def solution(num1, num2):\n",
    "    if num1 == num2:\n",
    "        return(int(1))\n",
    "    else:\n",
    "        return(int(-1))\n",
    "    \n",
    "solution(2, 3)"
   ]
  },
  {
   "cell_type": "code",
   "execution_count": 130,
   "id": "a6c26a8c-dad3-44a9-a4f4-780ec04c18fb",
   "metadata": {},
   "outputs": [
    {
     "data": {
      "text/plain": [
       "-1"
      ]
     },
     "execution_count": 130,
     "metadata": {},
     "output_type": "execute_result"
    }
   ],
   "source": [
    "def solution(num1, num2):\n",
    "    return int(1) if num1 == num2 else int(-1)\n",
    "\n",
    "solution(2, 3)"
   ]
  }
 ],
 "metadata": {
  "kernelspec": {
   "display_name": "Python 3 (ipykernel)",
   "language": "python",
   "name": "python3"
  },
  "language_info": {
   "codemirror_mode": {
    "name": "ipython",
    "version": 3
   },
   "file_extension": ".py",
   "mimetype": "text/x-python",
   "name": "python",
   "nbconvert_exporter": "python",
   "pygments_lexer": "ipython3",
   "version": "3.10.7"
  }
 },
 "nbformat": 4,
 "nbformat_minor": 5
}
