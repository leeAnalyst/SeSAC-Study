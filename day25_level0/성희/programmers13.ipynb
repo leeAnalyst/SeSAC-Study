{
 "cells": [
  {
   "cell_type": "markdown",
   "id": "9c986739-518f-45ff-8cad-f9ee44983784",
   "metadata": {},
   "source": [
    "# 배열의 평균값"
   ]
  },
  {
   "cell_type": "code",
   "execution_count": 75,
   "id": "cbe301e8-cefe-4d92-aed2-74ece9c8df7d",
   "metadata": {},
   "outputs": [],
   "source": [
    "numbers = [1, 2, 3, 4, 5, 6, 7, 8, 9, 10]"
   ]
  },
  {
   "cell_type": "code",
   "execution_count": 76,
   "id": "6125d342-c8e2-49b2-9075-6f1a257f79ea",
   "metadata": {
    "tags": []
   },
   "outputs": [
    {
     "data": {
      "text/plain": [
       "5.5"
      ]
     },
     "execution_count": 76,
     "metadata": {},
     "output_type": "execute_result"
    }
   ],
   "source": [
    "sum(numbers) / len(numbers)"
   ]
  },
  {
   "cell_type": "markdown",
   "id": "8f142cf2-4773-4650-933b-c31ef2b50428",
   "metadata": {},
   "source": [
    "# 피자 나눠 먹기 (3)"
   ]
  },
  {
   "cell_type": "code",
   "execution_count": 77,
   "id": "d1f735f0-6137-447e-9dad-efabbf7daed1",
   "metadata": {},
   "outputs": [],
   "source": [
    "slice = 7\n",
    "n = 10"
   ]
  },
  {
   "cell_type": "code",
   "execution_count": 79,
   "id": "1e80b305-21fd-4c9f-830a-7b3ba9cb66db",
   "metadata": {
    "tags": []
   },
   "outputs": [
    {
     "name": "stdout",
     "output_type": "stream",
     "text": [
      "2\n"
     ]
    }
   ],
   "source": [
    "if n % slice == 0:\n",
    "    print( n // slice)\n",
    "else:\n",
    "    print( (n // slice) + 1) "
   ]
  },
  {
   "cell_type": "markdown",
   "id": "8a71fe8a-268a-47b2-bbf6-f7270cdb3b01",
   "metadata": {},
   "source": [
    "# 피자 나눠 먹기 (2)"
   ]
  },
  {
   "cell_type": "code",
   "execution_count": 85,
   "id": "d5be7d2b-aa1c-4fad-bb20-ea8a30ec7dcb",
   "metadata": {},
   "outputs": [
    {
     "name": "stdout",
     "output_type": "stream",
     "text": [
      "5\n"
     ]
    }
   ],
   "source": [
    "n = 10\n",
    "answer = 1 \n",
    "while (answer*6) % n != 0:  # 판수를 하나씩 올려서 남는 조각이 없으면 while문 나온다\n",
    "    answer += 1\n",
    "print(answer)"
   ]
  },
  {
   "cell_type": "markdown",
   "id": "5cc3ae9a-33c8-4803-82d4-04a334d2ed73",
   "metadata": {},
   "source": [
    "# 피자 나눠 먹기 (1)"
   ]
  },
  {
   "cell_type": "code",
   "execution_count": 86,
   "id": "e4373b34-6993-4ba4-b784-60ab98eb019c",
   "metadata": {},
   "outputs": [],
   "source": [
    "n = 15"
   ]
  },
  {
   "cell_type": "code",
   "execution_count": 89,
   "id": "bcddc0da-efc0-486f-8cdc-98dd80e29118",
   "metadata": {
    "tags": []
   },
   "outputs": [
    {
     "name": "stdout",
     "output_type": "stream",
     "text": [
      "2\n"
     ]
    }
   ],
   "source": [
    "if n % 7 == 0:\n",
    "    print(n // 7)\n",
    "else: \n",
    "    print(n // 7 + 1)"
   ]
  },
  {
   "cell_type": "markdown",
   "id": "04df0934-cf34-479c-929b-6902d708b9c8",
   "metadata": {},
   "source": [
    "# 짝수는 싫어요"
   ]
  },
  {
   "cell_type": "code",
   "execution_count": 96,
   "id": "127cf333-b23a-489b-a751-f0e6b7edf316",
   "metadata": {},
   "outputs": [
    {
     "data": {
      "text/plain": [
       "[1, 3, 5, 7, 9]"
      ]
     },
     "execution_count": 97,
     "metadata": {},
     "output_type": "execute_result"
    }
   ],
   "source": [
    "n = 10\n",
    "[ i for i in range(1, n+1, 2)]"
   ]
  },
  {
   "cell_type": "markdown",
   "id": "22fa11aa-fbaf-4305-8a50-1a4d2998b0d7",
   "metadata": {},
   "source": [
    "# 최빈값 구하기"
   ]
  },
  {
   "cell_type": "code",
   "execution_count": 139,
   "id": "91b27612-c8ac-4e35-877a-de60baf1f480",
   "metadata": {},
   "outputs": [],
   "source": [
    "array = [1, 2, 5, 5, 5, 4]\n"
   ]
  },
  {
   "cell_type": "code",
   "execution_count": 149,
   "id": "a3784aa4-fb7f-430b-9dfd-25981a5f664f",
   "metadata": {
    "tags": []
   },
   "outputs": [
    {
     "name": "stdout",
     "output_type": "stream",
     "text": [
      "5\n"
     ]
    }
   ],
   "source": [
    "dic = {}\n",
    "for i in array:\n",
    "    dic[i] = array.count(i) # {1: 1, 2: 1, 5: 3, 4: 1} 5일때 빈도수값은 3\n",
    "\n",
    "result = []\n",
    "for k in dic.keys():\n",
    "    if dic[k] == max(dic.values()): # 최빈값일때 keys\n",
    "        result.append(k)\n",
    "        \n",
    "if len(result) >= 2:  # 2개이상이면 -1\n",
    "    print(-1)\n",
    "else:\n",
    "    print(result[0])\n",
    "    \n",
    "    "
   ]
  },
  {
   "cell_type": "code",
   "execution_count": null,
   "id": "85b6da12-44e7-4496-8a98-c0624e2b4375",
   "metadata": {},
   "outputs": [],
   "source": []
  },
  {
   "cell_type": "markdown",
   "id": "70094c0a-13e6-40c2-a6e6-b0e5ad80cf3d",
   "metadata": {},
   "source": [
    "# 중앙값 구하기"
   ]
  },
  {
   "cell_type": "code",
   "execution_count": 167,
   "id": "ea61ce69-6b67-4543-9e19-9b9e545ed824",
   "metadata": {},
   "outputs": [],
   "source": [
    "array = [1, 2, 7, 10, 11]\n",
    "array = sorted(array)"
   ]
  },
  {
   "cell_type": "code",
   "execution_count": 166,
   "id": "9f77dd62-d3d0-4d4e-bfe8-44f761306ca1",
   "metadata": {
    "tags": []
   },
   "outputs": [
    {
     "data": {
      "text/plain": [
       "7"
      ]
     },
     "execution_count": 166,
     "metadata": {},
     "output_type": "execute_result"
    }
   ],
   "source": [
    "array[int((len(array)-1)/2)]"
   ]
  },
  {
   "cell_type": "markdown",
   "id": "a79ccf2c-81ad-4eed-8e96-431453327ac9",
   "metadata": {},
   "source": [
    "# 나머지 구하기"
   ]
  },
  {
   "cell_type": "code",
   "execution_count": 168,
   "id": "6dd19c00-539c-421a-89ee-73812ef821d2",
   "metadata": {},
   "outputs": [],
   "source": [
    "num1 = 3\n",
    "num2 = 2"
   ]
  },
  {
   "cell_type": "code",
   "execution_count": 169,
   "id": "0e10b491-ccb5-4c15-bd4a-7e058fc08bc0",
   "metadata": {
    "tags": []
   },
   "outputs": [
    {
     "data": {
      "text/plain": [
       "1"
      ]
     },
     "execution_count": 169,
     "metadata": {},
     "output_type": "execute_result"
    }
   ],
   "source": [
    "num1 % num2"
   ]
  },
  {
   "cell_type": "markdown",
   "id": "114b4319-1acd-4fd5-a8f4-6e26180615bc",
   "metadata": {},
   "source": [
    "# 배열 두배만들기"
   ]
  },
  {
   "cell_type": "code",
   "execution_count": 242,
   "id": "ed521cac-353b-4ef1-80ed-166c58f84bbb",
   "metadata": {},
   "outputs": [],
   "source": [
    "def solution(numbers):  \n",
    "    return [num*2 for num in numbers]"
   ]
  },
  {
   "cell_type": "markdown",
   "id": "ad03e3de-1a1d-4b03-aedd-0822f4b069d1",
   "metadata": {},
   "source": [
    "# 분수의 덧셈"
   ]
  },
  {
   "cell_type": "markdown",
   "id": "967513fc-8602-4440-a84f-928a64dde695",
   "metadata": {},
   "source": [
    "1. 분모의 공통분모\n",
    "2. 분자들을 변환후 덧셈."
   ]
  },
  {
   "cell_type": "code",
   "execution_count": 234,
   "id": "a49da14e-659e-443e-8284-0ed46c761b0a",
   "metadata": {
    "tags": []
   },
   "outputs": [],
   "source": [
    "numer1, numer2 = 77, 35\n",
    "denom1, denom2 = 16, 30"
   ]
  },
  {
   "cell_type": "code",
   "execution_count": 239,
   "id": "d7df63bd-123b-4eb8-bc88-d6fa386c996d",
   "metadata": {},
   "outputs": [
    {
     "name": "stdout",
     "output_type": "stream",
     "text": [
      "[287, 48]\n"
     ]
    }
   ],
   "source": [
    "#1. denom의 최소공배수 (D)\n",
    "\n",
    "mul = []\n",
    "for num1 in range(1, denom1+1):\n",
    "    for num2 in range(1, denom2+1):\n",
    "        if denom1 * num2 == denom2 * num1:  # 분모에 곱할 mul을 구한다\n",
    "            mul.append([num2, num1])  # mul = [[2, 1], [4, 2]]\n",
    "mul = sorted(mul)\n",
    "\n",
    "#2. 분자의 덧셈 , 공통분모\n",
    "A = numer1 * mul[0][0] + numer2 * mul[0][1]  # 1*2 + 3*1 = 5\n",
    "B = denom1 * mul[0][0] \n",
    "\n",
    "#3. 분자와 분모의 최대공약수\n",
    "Ayanksu = []\n",
    "for num in range(1, A+1):\n",
    "    if A % num == 0:\n",
    "        Ayanksu.append(num)\n",
    "        \n",
    "Byanksu = []\n",
    "for num in range(1, B+1):\n",
    "    if B % num == 0:\n",
    "        Byanksu.append(num)\n",
    "        \n",
    "for y in Ayanksu:\n",
    "    if y in Byanksu:\n",
    "        same_yanksu = y\n",
    "\n",
    "#4. 최대공약수로 나눠주기\n",
    "print([A//same_yanksu, B//same_yanksu])"
   ]
  },
  {
   "cell_type": "code",
   "execution_count": 241,
   "id": "0de93b6e-3019-4ab2-96cb-d66c1da74bc5",
   "metadata": {},
   "outputs": [],
   "source": [
    "import math\n",
    "\n",
    "def solution(denum1, num1, denum2, num2):\n",
    "    denum = denum1 * num2 + denum2 * num1\n",
    "    num = num1 * num2\n",
    "    gcd = math.gcd(denum, num)  # gcd = 최대공약수\n",
    "    return [denum//gcd, num//gcd]"
   ]
  },
  {
   "cell_type": "code",
   "execution_count": null,
   "id": "7e7ab301-6052-4fdf-9fe1-562da9227ac7",
   "metadata": {
    "tags": []
   },
   "outputs": [],
   "source": []
  },
  {
   "cell_type": "markdown",
   "id": "a55106c2-fd8d-49dc-851b-34626928b8c0",
   "metadata": {},
   "source": [
    "#"
   ]
  },
  {
   "cell_type": "code",
   "execution_count": null,
   "id": "90aca950-2ec6-4e26-8f30-9a69ddea16ac",
   "metadata": {},
   "outputs": [],
   "source": []
  },
  {
   "cell_type": "code",
   "execution_count": null,
   "id": "5f85579f-2e23-4398-91f3-68146b8c9cdc",
   "metadata": {
    "jupyter": {
     "source_hidden": true
    },
    "tags": []
   },
   "outputs": [],
   "source": []
  }
 ],
 "metadata": {
  "kernelspec": {
   "display_name": "Python 3 (ipykernel)",
   "language": "python",
   "name": "python3"
  },
  "language_info": {
   "codemirror_mode": {
    "name": "ipython",
    "version": 3
   },
   "file_extension": ".py",
   "mimetype": "text/x-python",
   "name": "python",
   "nbconvert_exporter": "python",
   "pygments_lexer": "ipython3",
   "version": "3.10.8"
  }
 },
 "nbformat": 4,
 "nbformat_minor": 5
}
