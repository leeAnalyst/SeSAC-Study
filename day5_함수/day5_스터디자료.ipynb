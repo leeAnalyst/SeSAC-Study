{
 "cells": [
  {
   "cell_type": "markdown",
   "id": "4e54d834-4a8a-42e5-bfa1-bd8fc52c4414",
   "metadata": {
    "tags": []
   },
   "source": [
    "# 함수 (1/6)\n",
    "\n",
    ": 특정 기능을 수행하는 코드 모음\n",
    "### 함수 기본 형태\n",
    "```\n",
    "def 함수명([매개변수1, ...]):\n",
    "    ...\n",
    "    [return 반환값]\n",
    "```\n",
    "\n",
    "### 함수 호출\n",
    "```\n",
    "함수명([인수1, ...])\n",
    "\n",
    "```\n",
    "<hr>\n",
    "&nbsp;&nbsp;&nbsp; cf) 매개변수 vs 인수<br>\n",
    "&nbsp;&nbsp;&nbsp;&nbsp;: 매개변수(parameter)는 함수 입력값을 함수 내부에서 사용하는 변수 = 인자<br>\n",
    "&nbsp;&nbsp;&nbsp;&nbsp;: 인수(argument)는 함수 호출 시 전달하는 입력 값 <br>\n",
    "\n",
    "\n",
    "### 매개변수도 없고 반환값도 없는 함수"
   ]
  },
  {
   "cell_type": "code",
   "execution_count": 1,
   "id": "d24201a0-c57b-4546-970f-c18cea54d91a",
   "metadata": {},
   "outputs": [
    {
     "name": "stdout",
     "output_type": "stream",
     "text": [
      "Hello\n"
     ]
    }
   ],
   "source": [
    "def hello():\n",
    "    print(\"Hello\")\n",
    "    \n",
    "hello()"
   ]
  },
  {
   "cell_type": "markdown",
   "id": "d76a9e19-1ce1-4ee5-b927-1e8af1cf3e5b",
   "metadata": {},
   "source": [
    "### 매개변수는 있지만 반환값이 없는 함수"
   ]
  },
  {
   "cell_type": "code",
   "execution_count": 3,
   "id": "82231ae3-703a-4e89-b811-ddcf0b3f8cad",
   "metadata": {},
   "outputs": [
    {
     "name": "stdout",
     "output_type": "stream",
     "text": [
      "Hello 미란\n",
      "None\n"
     ]
    }
   ],
   "source": [
    "def hello(name):\n",
    "    print(\"Hello\", name)\n",
    "    \n",
    "print(hello(\"미란\"))"
   ]
  },
  {
   "cell_type": "markdown",
   "id": "698b9e43-b810-4e61-9c80-16f17ac092fe",
   "metadata": {},
   "source": [
    "### 매개변수도 있고 반환값도 있는 함수"
   ]
  },
  {
   "cell_type": "code",
   "execution_count": 6,
   "id": "ef3d92ce-9835-4adc-93d2-df9c9bd2ad24",
   "metadata": {},
   "outputs": [
    {
     "name": "stdout",
     "output_type": "stream",
     "text": [
      "Hello 미란\n"
     ]
    }
   ],
   "source": [
    "def hello(name='성희'):\n",
    "    return \"Hello \" + name\n",
    "    \n",
    "print(hello(\"미란\"))"
   ]
  },
  {
   "cell_type": "code",
   "execution_count": 5,
   "id": "52154938-d5bf-4c89-bc95-ef2d84f5016f",
   "metadata": {},
   "outputs": [
    {
     "name": "stdout",
     "output_type": "stream",
     "text": [
      "Hello 성희\n"
     ]
    }
   ],
   "source": [
    "def hello(name='성희'):\n",
    "    return \"Hello \" + name\n",
    "    \n",
    "print(hello())"
   ]
  },
  {
   "cell_type": "markdown",
   "id": "5bb3deed-b54f-46c9-8b52-86e06ec300b8",
   "metadata": {},
   "source": [
    "* get_avg 이름을 가진 함수를 만들고 평균을 반환해주세요"
   ]
  },
  {
   "cell_type": "code",
   "execution_count": 7,
   "id": "7badf9ec-6063-48d2-8007-dd3b4e1788a8",
   "metadata": {},
   "outputs": [
    {
     "name": "stdout",
     "output_type": "stream",
     "text": [
      "5.0\n"
     ]
    }
   ],
   "source": [
    "def get_avg(li):\n",
    "    return sum(li)/len(li)\n",
    "\n",
    "print(get_avg([1, 2, 3, 4, 5, 6, 7, 8, 9])) # 5\n",
    "    "
   ]
  },
  {
   "cell_type": "markdown",
   "id": "e83e00d2-b336-4f01-ad68-4cf8b5cc3b43",
   "metadata": {},
   "source": [
    "* cal_even 이름을 가진 함수를 만들고 주어진 리스트의 짝수만 n배를 한 리스트를 반환해주세요."
   ]
  },
  {
   "cell_type": "code",
   "execution_count": 10,
   "id": "ea147597-1c7c-4e6e-aeb1-5676a30a0503",
   "metadata": {},
   "outputs": [
    {
     "name": "stdout",
     "output_type": "stream",
     "text": [
      "[2, 4]\n",
      "[1, 4, 3, 8, 5]\n"
     ]
    }
   ],
   "source": [
    "def cal_even(li, n):\n",
    "    return [i*n if i%2 == 0 else i for i in li]\n",
    "\n",
    "def get_even(li):\n",
    "    return [i for i in li if i % 2 == 0]\n",
    "print(get_even([1, 2, 3, 4, 5]))\n",
    "print(cal_even([1, 2, 3, 4, 5], 2)) # (리스트, N)을 넣는 함수 => 짝수의 두배가 되는 리스트 반환 \n",
    "\n",
    "# [1, 4, 3, 8, 5]"
   ]
  },
  {
   "cell_type": "markdown",
   "id": "58bbbdd6-1391-4bf3-8068-d69e3683b537",
   "metadata": {},
   "source": [
    "### 내장함수"
   ]
  },
  {
   "cell_type": "markdown",
   "id": "e2fb4462-02f6-455c-9ee8-45fefe2f03ba",
   "metadata": {},
   "source": [
    "### 형변환 함수\n",
    "\n",
    "* 정수, 실수, 문자열\n",
    "\n",
    "    * int(), float(), str()\n",
    "    \n",
    "* 리스트, 튜플, 세트\n",
    "    * list(), tuple(), set()\n",
    "    "
   ]
  },
  {
   "cell_type": "markdown",
   "id": "4b721d93-b3b9-4c8f-984b-d42008469aff",
   "metadata": {},
   "source": [
    "* 합계: sum()\n",
    "* 절대값: abs()\n",
    "* 최솟값: min()\n",
    "* 최댓값: max()\n",
    "* 인덱스, 값 열거: enumerate()\n",
    "* 동일 개수 시퀀스 데이터 묶음: zip()\n",
    "\n",
    "(https://wikidocs.net/32)"
   ]
  },
  {
   "cell_type": "markdown",
   "id": "d3ac8d5c-0f52-48bc-8234-cadcd752524d",
   "metadata": {
    "tags": []
   },
   "source": [
    "### 재귀함수\n",
    "(https://manniz.tistory.com/entry/Python%ED%8C%8C%EC%9D%B4%EC%8D%AC-%ED%8C%A9%ED%86%A0%EB%A6%AC%EC%96%BCfactorial-%EA%B5%AC%ED%98%84-3%EA%B0%80%EC%A7%80-%EB%B0%A9%EB%B2%95for%EC%9E%AC%EA%B7%80math%EC%86%8C%EC%8A%A4-%EC%BD%94%EB%93%9C)\n",
    "(https://codingalzi.github.io/pybook/recursion.html)"
   ]
  },
  {
   "cell_type": "code",
   "execution_count": 7,
   "id": "8ef4a803-4ccc-488e-ac25-159b3d02de6b",
   "metadata": {},
   "outputs": [
    {
     "name": "stdout",
     "output_type": "stream",
     "text": [
      "3\n",
      "2\n",
      "1\n",
      "발사!\n"
     ]
    }
   ],
   "source": [
    "def countdown(n):\n",
    "    if n <= 0:\n",
    "        print('발사!')\n",
    "    else:\n",
    "        print(n)\n",
    "        countdown(n-1)\n",
    "countdown(3)"
   ]
  },
  {
   "cell_type": "code",
   "execution_count": 4,
   "id": "48165681-e3a0-48bb-9339-013016833078",
   "metadata": {},
   "outputs": [
    {
     "name": "stdin",
     "output_type": "stream",
     "text": [
      " 3\n"
     ]
    },
    {
     "name": "stdout",
     "output_type": "stream",
     "text": [
      "6\n"
     ]
    }
   ],
   "source": [
    "# for문 사용\n",
    "n = int(input())\n",
    "result = 1\n",
    "for item in range(1, n+1):\n",
    "    result *= item\n",
    "print(result)"
   ]
  },
  {
   "cell_type": "code",
   "execution_count": 6,
   "id": "5e839fc4-5e8e-482b-826f-a079e9e1f160",
   "metadata": {},
   "outputs": [
    {
     "name": "stdin",
     "output_type": "stream",
     "text": [
      " 3\n"
     ]
    },
    {
     "name": "stdout",
     "output_type": "stream",
     "text": [
      "6\n"
     ]
    }
   ],
   "source": [
    "# 재귀함수\n",
    "def get_factorial(n):\n",
    "    if(n > 1):\n",
    "        return n * get_factorial(n - 1)\n",
    "    else:\n",
    "        return 1\n",
    "\n",
    "num = int(input())\n",
    "print(get_factorial(num))"
   ]
  }
 ],
 "metadata": {
  "kernelspec": {
   "display_name": "Python 3 (ipykernel)",
   "language": "python",
   "name": "python3"
  },
  "language_info": {
   "codemirror_mode": {
    "name": "ipython",
    "version": 3
   },
   "file_extension": ".py",
   "mimetype": "text/x-python",
   "name": "python",
   "nbconvert_exporter": "python",
   "pygments_lexer": "ipython3",
   "version": "3.9.13"
  }
 },
 "nbformat": 4,
 "nbformat_minor": 5
}
