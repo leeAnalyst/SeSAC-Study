{
 "cells": [
  {
   "cell_type": "markdown",
   "id": "5502b4ac-1f93-4faa-a4e7-4be8b7db702e",
   "metadata": {},
   "source": [
    "## 정올 401번\n",
    "- 20 이하의 자연수 N을 입력받아 재귀함수를 이용해서 \"recursive\"를 N번 출력하는 프로그램을 작성하\n",
    "시오. "
   ]
  },
  {
   "cell_type": "code",
   "execution_count": 42,
   "id": "fcf45283-8d91-4ccc-a8de-e3b658862e6c",
   "metadata": {},
   "outputs": [
    {
     "name": "stdin",
     "output_type": "stream",
     "text": [
      " 2\n"
     ]
    },
    {
     "name": "stdout",
     "output_type": "stream",
     "text": [
      "recursive\n",
      "recursive\n"
     ]
    }
   ],
   "source": [
    "N = int(input())\n",
    "for num_idx in range(N):\n",
    "    print('recursive')\n",
    "    num_idx -= 1"
   ]
  },
  {
   "cell_type": "markdown",
   "id": "6ad99b47-0e06-4822-a33a-0b54904c6308",
   "metadata": {},
   "source": [
    "## 정올 9628번\n",
    "- 50 이하의 자연수 N을 입력받아 재귀호출을 이용하여 피보나치 수열에서 N번째 수를 출력하는 프로그램을 작성하시오.\n",
    "\n",
    "피보나치 수열이란 첫 번째와 두 번째 수는 1이고 세 번째 수부터는 바로 앞 두 수의 합으로 구성된 수열이다. (1 1 2 3 5 8 13 21 ...)"
   ]
  },
  {
   "cell_type": "code",
   "execution_count": 97,
   "id": "af3c2de3-fddd-4d39-9244-db9126f2b8db",
   "metadata": {
    "tags": []
   },
   "outputs": [
    {
     "name": "stdin",
     "output_type": "stream",
     "text": [
      " 7\n"
     ]
    },
    {
     "name": "stdout",
     "output_type": "stream",
     "text": [
      "[1, 1, 2, 3, 5, 8, 13]\n"
     ]
    }
   ],
   "source": [
    "n = int(input())\n",
    "result_li = []\n",
    "\n",
    "for num in range(n):\n",
    "    if num <= 1:\n",
    "        result = 1\n",
    "    else:\n",
    "        result = result_li[num-1] + result_li[num-2]\n",
    "         \n",
    "    result_li.append(result)\n",
    "print(result_li)"
   ]
  },
  {
   "cell_type": "code",
   "execution_count": 93,
   "id": "7ac67c11-068c-47d8-b88a-59e8a4f354ae",
   "metadata": {},
   "outputs": [
    {
     "ename": "SyntaxError",
     "evalue": "invalid syntax (2447059027.py, line 6)",
     "output_type": "error",
     "traceback": [
      "\u001b[1;36m  Cell \u001b[1;32mIn [93], line 6\u001b[1;36m\u001b[0m\n\u001b[1;33m    return [num for num in range(n) n + get_factorial(n - 1)]\u001b[0m\n\u001b[1;37m                                    ^\u001b[0m\n\u001b[1;31mSyntaxError\u001b[0m\u001b[1;31m:\u001b[0m invalid syntax\n"
     ]
    }
   ],
   "source": [
    "result_li = []\n",
    "def get_factorial(n):\n",
    "    if(n <= 1):\n",
    "        return 1\n",
    "    else:\n",
    "        return [num for num in range(n) n + get_factorial(n - 1)]\n",
    "    reslut_li.append(get_factorial(n))\n",
    "num = int(input())\n",
    "print(get_factorial(n))"
   ]
  }
 ],
 "metadata": {
  "kernelspec": {
   "display_name": "Python 3 (ipykernel)",
   "language": "python",
   "name": "python3"
  },
  "language_info": {
   "codemirror_mode": {
    "name": "ipython",
    "version": 3
   },
   "file_extension": ".py",
   "mimetype": "text/x-python",
   "name": "python",
   "nbconvert_exporter": "python",
   "pygments_lexer": "ipython3",
   "version": "3.10.7"
  }
 },
 "nbformat": 4,
 "nbformat_minor": 5
}
