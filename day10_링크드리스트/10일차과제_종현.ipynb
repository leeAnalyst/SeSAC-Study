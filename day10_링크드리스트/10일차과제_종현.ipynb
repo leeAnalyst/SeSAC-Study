{
 "cells": [
  {
   "cell_type": "markdown",
   "id": "d56d059c-69f2-4e4b-b752-9c2d9339f5a0",
   "metadata": {},
   "source": [
    "### 1. Linked List reset"
   ]
  },
  {
   "cell_type": "code",
   "execution_count": 1,
   "id": "ef9bc920-0a10-4ac7-b735-b813f35e317c",
   "metadata": {},
   "outputs": [],
   "source": [
    "class LinkedList:\n",
    "    def __init__(self, value):\n",
    "        self.head = Node(value)   # class LinkedList의 head를 위에서 설정한 Node클래스를 이용(data와 Next=None설정) value를 data에 집어 넣는다.)"
   ]
  },
  {
   "cell_type": "markdown",
   "id": "be07613b-f82d-4e9c-bd50-015ea37807a6",
   "metadata": {},
   "source": [
    "### 2. Linked List에 data 추가"
   ]
  },
  {
   "cell_type": "code",
   "execution_count": 2,
   "id": "c92dacef-e0a9-42c1-890c-fa1d39cfdac6",
   "metadata": {},
   "outputs": [],
   "source": [
    "class LinkedList:\n",
    "    def __init__(self, value):\n",
    "        self.head = Node(value)\n",
    "    def append(self, value):        \n",
    "        cur = self.head              # cur : 탐색 node  / cur변수에 self.head를 지정하고\n",
    "        while cur.next is not None:  # while문을 도는 동안 cur.next가 None일 때까지\n",
    "            cur = cur.next           # cur = cur.next가 되며 탐색node가 이동\n",
    "        cur.next = Node(value)       # cur.next가 None이 되면 while문을 빠져나와 cur.next = Node(value)가 추가됨 / self.head와는 다른 값"
   ]
  },
  {
   "cell_type": "markdown",
   "id": "68817e37-1dbe-4f22-9cfe-4e4e15153949",
   "metadata": {},
   "source": [
    "### 3. Linked List의 모든 data 출력"
   ]
  },
  {
   "cell_type": "code",
   "execution_count": 3,
   "id": "ea8e8690-1f4a-44c2-8075-98da2ff09ac2",
   "metadata": {},
   "outputs": [],
   "source": [
    "class LinkedList:\n",
    "    def __init__(self, value):\n",
    "        self.head = Node(value)\n",
    "    def append(self, value):\n",
    "        cur = self.head\n",
    "        while cur.next is not None:\n",
    "            cur = cur.next\n",
    "        cur.next = Node(value)\n",
    "    def print_all(self):             \n",
    "        cur = self.head              # cur = self.head를 시작으로\n",
    "        while cur is not None:       # while문을 돌며 None이 나올 때까지 \n",
    "            print(cur.data)          # cur.data를 출력한다.\n",
    "            cur = cur.next           # cur is not None까지 cur = cur.next로 변경된다."
   ]
  },
  {
   "cell_type": "markdown",
   "id": "715bcd41-94f6-4c8f-9dd0-4ce24ea59b6e",
   "metadata": {},
   "source": [
    "### 4. index 번째 원소 가져오기"
   ]
  },
  {
   "cell_type": "code",
   "execution_count": 4,
   "id": "14e865a6-cb79-48b6-a8e4-daf181f66d2c",
   "metadata": {},
   "outputs": [],
   "source": [
    "class LinkedList:\n",
    "    def __init__(self, value):\n",
    "        self.head = Node(value) \n",
    "        \n",
    "    def append(self, value):\n",
    "        cur = self.head           # cur은 탐색 노드\n",
    "        while cur.next is not None:\n",
    "            cur = cur.next          \n",
    "        cur.next = Node(value)\n",
    "        \n",
    "    def print_all(self):\n",
    "        cur = self.head\n",
    "        while cur is not None:\n",
    "            print(cur.data)\n",
    "            cur = cur.next\n",
    "            \n",
    "    def get_node(self, index):    # index를 매개변수로 가지는 def_node함수\n",
    "        cur = self.head\n",
    "        count = 0                 # self.head부터 cur가 탐색을 하기에 count=0, 시작값\n",
    "        while count < index:      # 매개변수로 받은 index값이 count보다 작을 때 while문이 돌아간다.\n",
    "            cur = cur.next        # cur = cur.next 로 값이 다음으로 계속 이동하며 \n",
    "            count += 1            # count에 1씩 더해준다.\n",
    "        return cur                # index = count가 되는 순간 while문을 빠져나오며 cur값을 return"
   ]
  },
  {
   "cell_type": "markdown",
   "id": "61cb33ab-6738-4a51-85ab-3df35ae9c148",
   "metadata": {},
   "source": [
    "### 5. 해당 index에 데이터 추가"
   ]
  },
  {
   "cell_type": "code",
   "execution_count": 5,
   "id": "ada17ef1-9390-47cf-abc2-4667af27edad",
   "metadata": {},
   "outputs": [],
   "source": [
    "class LinkedList:\n",
    "    def __init__(self, value):\n",
    "        self.head = Node(value) \n",
    "        \n",
    "    def append(self, value):\n",
    "        cur = self.head # cur은 탐색 노드\n",
    "        while cur.next is not None:\n",
    "            cur = cur.next          \n",
    "        cur.next = Node(value)\n",
    "        \n",
    "    def print_all(self):\n",
    "        cur = self.head\n",
    "        while cur is not None:\n",
    "            print(cur.data)\n",
    "            cur = cur.next\n",
    "            \n",
    "    def get_node(self, index):\n",
    "        node = self.head\n",
    "        count = 0\n",
    "        while count < index:\n",
    "            node = node.next\n",
    "            count += 1\n",
    "        return node\n",
    "    \n",
    "    def add_node(self, index, value):     # index와 value를 매개변수로 갖는 add_node함수\n",
    "        new_node = Node(value)            # 새로 추가할 new_node 에 Node함수(value를 매개변수로 data에 값추가)대입\n",
    "        if index == 0:                    # index == 0 일때 (self.head)\n",
    "            new_node.next = self.head     # 새로 추가될 new_node.next = self.head로 지정(맨 처음값 앞에 new_node를 추가)\n",
    "            self.head = new_node          # self.head = new_node(새로 추가된 new_node를 self.head로 지정)\n",
    "            return\n",
    "\n",
    "        node = self.get_node(index - 1)   # index == 0이 아닌 경우, self.get_node로 return받는 node의 (index - 1)위치를 node로 지정\n",
    "        next_node = node.next             # next_node변수에 위에서 지정한 node의 다음인 node.next를 대입\n",
    "        node.next = new_node              # node.next를 new_node로 변경\n",
    "        new_node.next = next_node         # 새로 추가된 new_node의 next를 next_node로 다시 변경"
   ]
  },
  {
   "cell_type": "markdown",
   "id": "509a1b6c-238e-4015-9b17-9eee1a10861a",
   "metadata": {},
   "source": [
    "### 6. index번째 원소 삭제"
   ]
  },
  {
   "cell_type": "code",
   "execution_count": 6,
   "id": "cefb4a3e-0114-4774-8fd0-7b6da5a699a3",
   "metadata": {},
   "outputs": [],
   "source": [
    "class LinkedList:\n",
    "    def __init__(self, value):\n",
    "        self.head = Node(value) \n",
    "        \n",
    "    def append(self, value):\n",
    "        cur = self.head # cur은 탐색 노드\n",
    "        while cur.next is not None:\n",
    "            cur = cur.next          \n",
    "        cur.next = Node(value)\n",
    "        \n",
    "    def print_all(self):\n",
    "        cur = self.head\n",
    "        while cur is not None:\n",
    "            print(cur.data)\n",
    "            cur = cur.next\n",
    "            \n",
    "    def get_node(self, index):\n",
    "        node = self.head\n",
    "        count = 0\n",
    "        while count < index:\n",
    "            node = node.next\n",
    "            count += 1\n",
    "        return node\n",
    "    \n",
    "    def add_node(self, index, value):\n",
    "        new_node = Node(value)\n",
    "        if index == 0:\n",
    "            new_node.next = self.head\n",
    "            self.head = new_node\n",
    "            return\n",
    "\n",
    "        node = self.get_node(index - 1)\n",
    "        next_node = node.next\n",
    "        node.next = new_node\n",
    "        new_node.next = next_node\n",
    "        \n",
    "    def delete_node(self, index):         # index를 매개변수로\n",
    "        if index == 0:\n",
    "            self.head = self.head.next    # index == 0 일때 self.head를 그 다음node로 지정 \n",
    "            return\n",
    "        node = self.get_node(index - 1)   # 삭제할 위치의 앞 node를 node변수로 지정하고\n",
    "        node.next = node.next.next        # node의 next를 삭제할 위치의 다음 node로 지정하여 삭제할 위치를 건너뛰어 연결해준다."
   ]
  }
 ],
 "metadata": {
  "kernelspec": {
   "display_name": "Python 3 (ipykernel)",
   "language": "python",
   "name": "python3"
  },
  "language_info": {
   "codemirror_mode": {
    "name": "ipython",
    "version": 3
   },
   "file_extension": ".py",
   "mimetype": "text/x-python",
   "name": "python",
   "nbconvert_exporter": "python",
   "pygments_lexer": "ipython3",
   "version": "3.10.7"
  }
 },
 "nbformat": 4,
 "nbformat_minor": 5
}
