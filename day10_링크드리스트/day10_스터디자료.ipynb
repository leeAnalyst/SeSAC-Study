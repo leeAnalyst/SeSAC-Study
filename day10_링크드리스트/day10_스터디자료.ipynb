{
 "cells": [
  {
   "attachments": {
    "f26536a8-ca33-4746-8d24-60ad26161a9f.png": {
     "image/png": "[encoded data removed]"
    }
   },
   "cell_type": "markdown",
   "id": "2527c474-173f-4325-bee6-f27049c93aab",
   "metadata": {},
   "source": [
    "# 링크드 리스트 (01/25)\n",
    "![image.png](attachment:f26536a8-ca33-4746-8d24-60ad26161a9f.png)\n",
    "\n",
    ": 각 노드가 데이터와 포인터를 가지고 한 줄로 연결되어 있는 방식으로 데이터를 저장하는 자료 구조\n",
    "\n",
    "* 데이터를 담고 있는 노드들이 연결되어 있는데, 노드의 포인터가 다음이나 이전의 노드와의 연결을 담당\n",
    "\n",
    "(https://ko.wikipedia.org/wiki/%EC%97%B0%EA%B2%B0_%EB%A6%AC%EC%8A%A4%ED%8A%B8)"
   ]
  },
  {
   "cell_type": "markdown",
   "id": "b86d427f-59e3-4960-989f-a7481f0023ed",
   "metadata": {},
   "source": [
    "* 예를 들면 화물열차\n",
    "\n",
    "    * train_compartments = [\"기관실\"] -> [\"시멘트\"] -> [\"자갈\"] -> [\"밀가루\"] -> [\"우편\"]\n",
    "    * 배열은 인덱스로 바로 접근은 가능하지만 링크드리스트는 포인터를 통해 이동하여 접근\n",
    "    * 배열은 중간 삽입/삭제가 어렵지만 링크드리스트는 쉬움"
   ]
  },
  {
   "cell_type": "code",
   "execution_count": 1,
   "id": "0ed32505-ca3c-4d78-bec7-6291f4960483",
   "metadata": {},
   "outputs": [],
   "source": [
    "class Node:\n",
    "    def __init__(self, data):\n",
    "        self.data = data\n",
    "        self.next = None"
   ]
  },
  {
   "cell_type": "code",
   "execution_count": 2,
   "id": "fab9f372-9bef-46ee-8bc1-526657880bd7",
   "metadata": {},
   "outputs": [],
   "source": [
    "node1 = Node(2)"
   ]
  },
  {
   "cell_type": "code",
   "execution_count": 5,
   "id": "a85d8237-1014-4d3c-9de2-87d39e7d8529",
   "metadata": {},
   "outputs": [
    {
     "data": {
      "text/plain": [
       "2"
      ]
     },
     "execution_count": 5,
     "metadata": {},
     "output_type": "execute_result"
    }
   ],
   "source": [
    "node1.data"
   ]
  },
  {
   "cell_type": "code",
   "execution_count": 6,
   "id": "28c27114-06fe-4a3c-8616-afff47aa965a",
   "metadata": {},
   "outputs": [],
   "source": [
    "node1.next"
   ]
  },
  {
   "cell_type": "markdown",
   "id": "a9d8aca8-628a-4b50-9a05-6dca582354ca",
   "metadata": {},
   "source": [
    "* LinkdList 는 self.head 에 시작하는 노드를 저장한다.\n",
    "* 다음 노드를 보기 위해서는 각 노드의 next 를 조회해서 찾아가야 한다."
   ]
  },
  {
   "cell_type": "markdown",
   "id": "8d97c860-0af8-4f60-b24e-707952ea1cf0",
   "metadata": {},
   "source": [
    "### 링크드 리스트 초기화"
   ]
  },
  {
   "cell_type": "code",
   "execution_count": 7,
   "id": "8114f347-f98e-474b-8084-1b4a19693106",
   "metadata": {},
   "outputs": [],
   "source": [
    "class LinkedList:\n",
    "    def __init__(self, value):\n",
    "        self.head = Node(value)"
   ]
  },
  {
   "cell_type": "code",
   "execution_count": 8,
   "id": "6ff6593a-70a3-45a8-bb94-d79b9e162c55",
   "metadata": {},
   "outputs": [],
   "source": [
    "li1 = LinkedList(2)"
   ]
  },
  {
   "cell_type": "code",
   "execution_count": 9,
   "id": "eb89d77d-6de1-41bc-880b-7cecfc4a6058",
   "metadata": {},
   "outputs": [
    {
     "data": {
      "text/plain": [
       "<__main__.Node at 0x1a3c75ee9a0>"
      ]
     },
     "execution_count": 9,
     "metadata": {},
     "output_type": "execute_result"
    }
   ],
   "source": [
    "li1.head"
   ]
  },
  {
   "cell_type": "code",
   "execution_count": 10,
   "id": "3215bc67-537d-4cf6-8a0f-d714031f1986",
   "metadata": {},
   "outputs": [
    {
     "data": {
      "text/plain": [
       "2"
      ]
     },
     "execution_count": 10,
     "metadata": {},
     "output_type": "execute_result"
    }
   ],
   "source": [
    "li1.head.data"
   ]
  },
  {
   "cell_type": "markdown",
   "id": "7d294ca1-4b6a-4e23-baaa-db3ff38c6b6c",
   "metadata": {},
   "source": [
    "### 링크드 리스트에 데이터 추가"
   ]
  },
  {
   "cell_type": "code",
   "execution_count": 14,
   "id": "61f40e49-6b07-45b1-b51a-6bf8a543668c",
   "metadata": {},
   "outputs": [],
   "source": [
    "class LinkedList:\n",
    "    def __init__(self, value):\n",
    "        self.head = Node(value) \n",
    "        \n",
    "    def append(self, value):\n",
    "        cur = self.head # cur은 탐색 노드\n",
    "        while cur.next is not None:\n",
    "            cur = cur.next          \n",
    "        cur.next = Node(value)"
   ]
  },
  {
   "cell_type": "markdown",
   "id": "410b8b09-7a3e-4f0b-9f1b-252477a13f3b",
   "metadata": {},
   "source": [
    "### 모든 데이터 출력"
   ]
  },
  {
   "cell_type": "code",
   "execution_count": 15,
   "id": "7327dbba-a06a-4598-9cc1-20d68c7f0291",
   "metadata": {},
   "outputs": [],
   "source": [
    "class LinkedList:\n",
    "    def __init__(self, value):\n",
    "        self.head = Node(value) \n",
    "        \n",
    "    def append(self, value):\n",
    "        # self.head = head node\n",
    "        cur = self.head # cur은 탐색 노드\n",
    "        while cur.next is not None:\n",
    "            cur = cur.next          \n",
    "        cur.next = Node(value)\n",
    "        \n",
    "    def print_all(self):\n",
    "        pass\n",
    "        # 생각해봅시당!!"
   ]
  },
  {
   "cell_type": "code",
   "execution_count": 17,
   "id": "a25c7f23-ce0a-48c8-89d5-3e03e647d1a7",
   "metadata": {},
   "outputs": [],
   "source": [
    "li1 = LinkedList(2)\n",
    "li1.append(3)"
   ]
  },
  {
   "cell_type": "markdown",
   "id": "a99a665f-b653-4707-b475-54efffdb3193",
   "metadata": {},
   "source": [
    "### index번째 원소 가져오기"
   ]
  },
  {
   "cell_type": "code",
   "execution_count": 18,
   "id": "0debd8d4-0479-40d0-8b60-2b3393e0ae8a",
   "metadata": {},
   "outputs": [],
   "source": [
    "class LinkedList:\n",
    "    def __init__(self, value):\n",
    "        self.head = Node(value) \n",
    "        \n",
    "    def append(self, value):\n",
    "        cur = self.head # cur은 탐색 노드\n",
    "        while cur.next is not None:\n",
    "            cur = cur.next          \n",
    "        cur.next = Node(value)\n",
    "        \n",
    "    def print_all(self):\n",
    "        cur = self.head\n",
    "        while cur is not None:\n",
    "            print(cur.data)\n",
    "            cur = cur.next\n",
    "            \n",
    "    def get_node(self, index):\n",
    "        return \"??????\""
   ]
  },
  {
   "cell_type": "code",
   "execution_count": 20,
   "id": "85130abe-b538-4409-aa0a-b148a35c1a08",
   "metadata": {},
   "outputs": [
    {
     "name": "stdout",
     "output_type": "stream",
     "text": [
      "2\n",
      "3\n"
     ]
    }
   ],
   "source": [
    "li1 = LinkedList(2)\n",
    "li1.append(3)\n",
    "li1.print_all()"
   ]
  },
  {
   "cell_type": "code",
   "execution_count": 21,
   "id": "1c53f427-b86d-4df0-a59d-5efee71362bc",
   "metadata": {},
   "outputs": [],
   "source": [
    "class LinkedList:\n",
    "    def __init__(self, value):\n",
    "        self.head = Node(value) \n",
    "        \n",
    "    def append(self, value):\n",
    "        cur = self.head # cur은 탐색 노드\n",
    "        while cur.next is not None:\n",
    "            cur = cur.next          \n",
    "        cur.next = Node(value)\n",
    "        \n",
    "    def print_all(self):\n",
    "        cur = self.head\n",
    "        while cur is not None:\n",
    "            print(cur.data)\n",
    "            cur = cur.next\n",
    "            \n",
    "    def get_node(self, index):\n",
    "        cur = self.head\n",
    "        count = 0\n",
    "        while count < index:\n",
    "            cur = cur.next\n",
    "            count += 1\n",
    "        return cur\n",
    "    "
   ]
  },
  {
   "cell_type": "code",
   "execution_count": 25,
   "id": "5239c01e-c175-464a-995c-533696845725",
   "metadata": {},
   "outputs": [
    {
     "name": "stdout",
     "output_type": "stream",
     "text": [
      "2\n",
      "3\n",
      "2\n",
      "5\n"
     ]
    }
   ],
   "source": [
    "li1 = LinkedList(2)\n",
    "li1.append(3)\n",
    "li1.print_all()\n",
    "li1.get_node(1).data = 5\n",
    "li1.print_all()"
   ]
  },
  {
   "cell_type": "markdown",
   "id": "25b75f22-2299-4f22-bd44-9d4939f2fbd0",
   "metadata": {},
   "source": [
    "### 해당 index에 데이터 추가"
   ]
  },
  {
   "cell_type": "code",
   "execution_count": null,
   "id": "e117d5b0-3502-4d83-b0f3-26f341468447",
   "metadata": {},
   "outputs": [],
   "source": [
    "class LinkedList:\n",
    "    def __init__(self, value):\n",
    "        self.head = Node(value) \n",
    "        \n",
    "    def append(self, value):\n",
    "        cur = self.head # cur은 탐색 노드\n",
    "        while cur.next is not None:\n",
    "            cur = cur.next          \n",
    "        cur.next = Node(value)\n",
    "        \n",
    "    def print_all(self):\n",
    "        cur = self.head\n",
    "        while cur is not None:\n",
    "            print(cur.data)\n",
    "            cur = cur.next\n",
    "            \n",
    "    def get_node(self, index):\n",
    "        node = self.head\n",
    "        count = 0\n",
    "        while count < index:\n",
    "            node = node.next\n",
    "            count += 1\n",
    "        return node\n",
    "    \n",
    "    def add_node(self, index, value):\n",
    "        new_node = Node(value)\n",
    "        if index == 0:\n",
    "            new_node.next = self.head\n",
    "            self.head = new_node\n",
    "            return\n",
    "\n",
    "        node = self.get_node(index - 1)\n",
    "        next_node = node.next\n",
    "        node.next = new_node\n",
    "        new_node.next = next_node"
   ]
  },
  {
   "cell_type": "markdown",
   "id": "fdbd212c-afad-4d19-9ce7-2ffa6b98f3a8",
   "metadata": {},
   "source": [
    "### index번째 원소 삭제"
   ]
  },
  {
   "cell_type": "code",
   "execution_count": 12,
   "id": "21321add-d07d-461b-9dbc-f8401d8b9d33",
   "metadata": {},
   "outputs": [],
   "source": [
    "class LinkedList:\n",
    "    def __init__(self, value):\n",
    "        self.head = Node(value) \n",
    "        \n",
    "    def append(self, value):\n",
    "        cur = self.head # cur은 탐색 노드\n",
    "        while cur.next is not None:\n",
    "            cur = cur.next          \n",
    "        cur.next = Node(value)\n",
    "        \n",
    "    def print_all(self):\n",
    "        cur = self.head\n",
    "        while cur is not None:\n",
    "            print(cur.data)\n",
    "            cur = cur.next\n",
    "            \n",
    "    def get_node(self, index):\n",
    "        node = self.head\n",
    "        count = 0\n",
    "        while count < index:\n",
    "            node = node.next\n",
    "            count += 1\n",
    "        return node\n",
    "    \n",
    "    def add_node(self, index, value):\n",
    "        new_node = Node(value)\n",
    "        if index == 0:\n",
    "            new_node.next = self.head\n",
    "            self.head = new_node\n",
    "            return\n",
    "\n",
    "        node = self.get_node(index - 1)\n",
    "        next_node = node.next\n",
    "        node.next = new_node\n",
    "        new_node.next = next_node\n",
    "        \n",
    "    def delete_node(self, index):\n",
    "        if index == 0:\n",
    "            self.head = self.head.next\n",
    "            return\n",
    "        node = self.get_node(index - 1)\n",
    "        node.next = node.next.next"
   ]
  },
  {
   "cell_type": "markdown",
   "id": "5b88d743-2d5a-40d7-acec-6b8bf321585c",
   "metadata": {},
   "source": [
    "## 심화\n",
    "* https://leetcode.com/problems/design-browser-history/"
   ]
  }
 ],
 "metadata": {
  "kernelspec": {
   "display_name": "Python 3 (ipykernel)",
   "language": "python",
   "name": "python3"
  },
  "language_info": {
   "codemirror_mode": {
    "name": "ipython",
    "version": 3
   },
   "file_extension": ".py",
   "mimetype": "text/x-python",
   "name": "python",
   "nbconvert_exporter": "python",
   "pygments_lexer": "ipython3",
   "version": "3.9.13"
  }
 },
 "nbformat": 4,
 "nbformat_minor": 5
}
