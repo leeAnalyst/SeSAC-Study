{
 "cells": [
  {
   "cell_type": "markdown",
   "id": "4ce12f0e-6a2c-4200-bdb9-7d5d6f417c47",
   "metadata": {},
   "source": [
    "\n",
    "1. i부터 나눠서 정수인지보자.\n"
   ]
  },
  {
   "cell_type": "code",
   "execution_count": 5,
   "id": "44b5352c-d34e-4ca8-8093-840779b73b5e",
   "metadata": {},
   "outputs": [
    {
     "name": "stdout",
     "output_type": "stream",
     "text": [
      "[1, 29]\n"
     ]
    }
   ],
   "source": [
    "n = 29\n",
    "result = []\n",
    "for i in range(1, n+1):\n",
    "    s = n // i\n",
    "    if n % i == 0:\n",
    "        result.append(i)\n",
    "print(result)"
   ]
  },
  {
   "cell_type": "code",
   "execution_count": 7,
   "id": "dc16e8d9-9033-4ef1-bc20-1b80cb62c1ae",
   "metadata": {},
   "outputs": [
    {
     "data": {
      "text/plain": [
       "[1, 29]"
      ]
     },
     "execution_count": 7,
     "metadata": {},
     "output_type": "execute_result"
    }
   ],
   "source": [
    "result = [ i for i in range(1, n+1) if n % i == 0]\n",
    "result"
   ]
  },
  {
   "cell_type": "markdown",
   "id": "a68b030b-fbb0-4bf8-8ab8-2a744a5244cf",
   "metadata": {},
   "source": [
    "# 편지"
   ]
  },
  {
   "cell_type": "code",
   "execution_count": 8,
   "id": "a56bb2eb-7874-4e37-a2b6-ea3cf00e6df9",
   "metadata": {},
   "outputs": [
    {
     "data": {
      "text/plain": [
       "15"
      ]
     },
     "execution_count": 8,
     "metadata": {},
     "output_type": "execute_result"
    }
   ],
   "source": [
    "len(\"happy birthday!\")"
   ]
  },
  {
   "cell_type": "code",
   "execution_count": null,
   "id": "0627deb6-8147-48b2-8736-3cbc4b57aa05",
   "metadata": {},
   "outputs": [],
   "source": []
  },
  {
   "cell_type": "markdown",
   "id": "9a68478f-9a88-4aa2-b240-bb75ec7ada6d",
   "metadata": {},
   "source": [
    "# 가장 큰 수 찾기"
   ]
  },
  {
   "cell_type": "code",
   "execution_count": 21,
   "id": "eda61d9e-ec19-4b03-b66d-687c5a7a8e2c",
   "metadata": {},
   "outputs": [
    {
     "name": "stdout",
     "output_type": "stream",
     "text": [
      "[8, 1]\n"
     ]
    }
   ],
   "source": [
    "array = [1, 8, 3]\n",
    "print([max(array), array.index(max(array))])"
   ]
  },
  {
   "cell_type": "code",
   "execution_count": null,
   "id": "477141e4-1516-44b0-9628-96b87fd32e7f",
   "metadata": {},
   "outputs": [],
   "source": []
  },
  {
   "cell_type": "markdown",
   "id": "167575eb-6696-4b62-b854-164922074db5",
   "metadata": {},
   "source": [
    "# 문자열 계산하기"
   ]
  },
  {
   "cell_type": "markdown",
   "id": "0a97c7c4-aa78-4311-8b5a-c6e976f14168",
   "metadata": {},
   "source": [
    "문제분석\n",
    "1. 연산자는 +, -만 존재합니다.\n",
    "2. 문자열의 시작과 끝에는 공백이 없습니다\n",
    "3. my_string에는 연산자가 적어도 하나 포함되어 있습니다.\n",
    "  -> 하나 이상인경우도 생각할 것.\n",
    "\n",
    "1. split으로 나눠서 if문으로 숫자, + , - 나누어서 해결? \n",
    "for 문 돌려서 여러게의 연산이"
   ]
  },
  {
   "cell_type": "code",
   "execution_count": 25,
   "id": "2b49aadb-26eb-4b67-930b-eeb4f110ad38",
   "metadata": {},
   "outputs": [],
   "source": [
    "my_string = \"3 + 4\""
   ]
  },
  {
   "cell_type": "code",
   "execution_count": 26,
   "id": "67066bae-24ec-4586-ba1f-2714de9f3089",
   "metadata": {},
   "outputs": [],
   "source": [
    "m = my_string.split()"
   ]
  },
  {
   "cell_type": "code",
   "execution_count": 52,
   "id": "38c8f37c-cc30-4e61-8454-e356aeb77b45",
   "metadata": {},
   "outputs": [
    {
     "name": "stdout",
     "output_type": "stream",
     "text": [
      "1\n"
     ]
    }
   ],
   "source": [
    "my_string = \"3 + 4 - 6\"\n",
    "m = my_string.split()\n",
    "number, operater = [], []\n",
    "oper = []\n",
    "for word in m:\n",
    "    if word == '+' or word == '-':\n",
    "        oper.append(word)\n",
    "    else:\n",
    "        number.append(int(word))\n",
    "\n",
    "result = number[0]\n",
    "for n in range(len(oper)):\n",
    "    if oper[n] == '+':\n",
    "        result += number[n+1]\n",
    "    else:\n",
    "        result -= number[n+1]\n",
    "print(result)"
   ]
  },
  {
   "cell_type": "code",
   "execution_count": 51,
   "id": "8cb358c6-eb90-4dbc-9b1b-7de6bd1b186b",
   "metadata": {},
   "outputs": [
    {
     "data": {
      "text/plain": [
       "1"
      ]
     },
     "execution_count": 51,
     "metadata": {},
     "output_type": "execute_result"
    }
   ],
   "source": [
    "eval(my_string)"
   ]
  },
  {
   "cell_type": "code",
   "execution_count": null,
   "id": "4441cfee-0b56-48bb-b62c-4d608535114c",
   "metadata": {},
   "outputs": [],
   "source": []
  },
  {
   "cell_type": "markdown",
   "id": "08a29211-566c-4816-bd5c-eba04c280474",
   "metadata": {},
   "source": [
    "# 배열의 유사도"
   ]
  },
  {
   "cell_type": "markdown",
   "id": "9043e917-fe83-440f-813f-7ffa3d8108c5",
   "metadata": {},
   "source": [
    "이중 for구문으로 해결하자"
   ]
  },
  {
   "cell_type": "code",
   "execution_count": null,
   "id": "a0766448-cd5c-49b2-8725-827ceff05b7f",
   "metadata": {},
   "outputs": [],
   "source": []
  },
  {
   "cell_type": "code",
   "execution_count": 53,
   "id": "cd4c8c14-bfeb-466a-8d50-bce2ca7e0dc4",
   "metadata": {},
   "outputs": [],
   "source": [
    "s1 = [\"a\", \"b\", \"c\"]\n",
    "s2 = [\"com\", \"b\", \"d\", \"p\", \"c\"]\n",
    "\n",
    "count = 0\n",
    "for word1 in s1:\n",
    "    for word2 in s2:\n",
    "        if word1 == word2:\n",
    "            count += 1\n",
    "print(count)"
   ]
  },
  {
   "cell_type": "code",
   "execution_count": null,
   "id": "72f72f92-9e7d-46b2-ab0d-9bca71b0988b",
   "metadata": {},
   "outputs": [],
   "source": []
  },
  {
   "cell_type": "markdown",
   "id": "9a202593-0d5e-4d85-9427-c4b74d77dbaf",
   "metadata": {},
   "source": [
    "# 숫자찾기"
   ]
  },
  {
   "cell_type": "markdown",
   "id": "5bd269d3-b7d0-448e-a98a-ba771e4a5a6b",
   "metadata": {},
   "source": [
    "문제분석\n",
    "num = 29183\n",
    "k = 1\n",
    "1. 232443에서 4는 4번째에 처음 등장합니다. list화하면 4번째."
   ]
  },
  {
   "cell_type": "code",
   "execution_count": 101,
   "id": "e9dfb9ad-5eb8-47c1-8368-8c7ae8fb15c4",
   "metadata": {},
   "outputs": [
    {
     "name": "stdout",
     "output_type": "stream",
     "text": [
      "4\n"
     ]
    }
   ],
   "source": [
    "num = 232443\n",
    "k = 4\n",
    "\n",
    "num = list(str(num))\n",
    "k = str(k)\n",
    "\n",
    "if k in num:\n",
    "    print(num.index(k)+1)\n",
    "else:\n",
    "    print(-1)"
   ]
  },
  {
   "cell_type": "code",
   "execution_count": null,
   "id": "dfde281a-5f6a-4eb7-850a-53120716d50e",
   "metadata": {},
   "outputs": [
    {
     "data": {
      "text/plain": [
       "4"
      ]
     },
     "execution_count": 103,
     "metadata": {},
     "output_type": "execute_result"
    }
   ],
   "source": [
    "num.index(k)+1 if k in num else -1"
   ]
  }
 ],
 "metadata": {
  "kernelspec": {
   "display_name": "Python 3 (ipykernel)",
   "language": "python",
   "name": "python3"
  },
  "language_info": {
   "codemirror_mode": {
    "name": "ipython",
    "version": 3
   },
   "file_extension": ".py",
   "mimetype": "text/x-python",
   "name": "python",
   "nbconvert_exporter": "python",
   "pygments_lexer": "ipython3",
   "version": "3.10.8"
  }
 },
 "nbformat": 4,
 "nbformat_minor": 5
}
