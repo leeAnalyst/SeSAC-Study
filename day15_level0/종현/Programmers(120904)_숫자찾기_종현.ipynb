{
 "cells": [
  {
   "cell_type": "code",
   "execution_count": 52,
   "id": "54696fa6-59de-4a84-8ce4-8b3434dbfe2a",
   "metadata": {},
   "outputs": [
    {
     "data": {
      "text/plain": [
       "3"
      ]
     },
     "execution_count": 52,
     "metadata": {},
     "output_type": "execute_result"
    }
   ],
   "source": [
    "# Programmers(120904)_숫자 찾기\n",
    "def solution(num, k):\n",
    "    num1 = list(str(num))       # 입력받은 num을 문자열로 형변환 후 for문을 돌리기 위해 한번 더 list로 형변환 \n",
    "    count = 0                   # 횟수를 세기 위해 count = 0 시작값을 지정\n",
    "    for i in range(len(num1)):  # num1의 길이만큼 for문을 돌며      \n",
    "        if num1[i] == str(k):   # num1의 인덱스값을 차례대로 형변환한 k와 비교하면서 만약 값이 같다면, (여기서 i와 k는 둘다 문자열)\n",
    "            return count + 1    # count에 +1을 한 값을 return (0부터 시작하는 index값이 아니므로 1을 더해준다.)\n",
    "        else:\n",
    "            count += 1          # 같지 않은 경우 count에 1씩 더해준다.\n",
    "    return -1                   # for문에 해당하지 않는다면 -1을 return\n",
    "                   \n",
    "solution(29183, 1)"
   ]
  },
  {
   "cell_type": "code",
   "execution_count": null,
   "id": "51d97d7b-3dc8-4bea-8dc4-1c399b72e799",
   "metadata": {},
   "outputs": [],
   "source": [
    "# 가장 큰 수 찾기\n",
    "\n",
    "# 편지"
   ]
  }
 ],
 "metadata": {
  "kernelspec": {
   "display_name": "Python 3 (ipykernel)",
   "language": "python",
   "name": "python3"
  },
  "language_info": {
   "codemirror_mode": {
    "name": "ipython",
    "version": 3
   },
   "file_extension": ".py",
   "mimetype": "text/x-python",
   "name": "python",
   "nbconvert_exporter": "python",
   "pygments_lexer": "ipython3",
   "version": "3.10.7"
  }
 },
 "nbformat": 4,
 "nbformat_minor": 5
}
