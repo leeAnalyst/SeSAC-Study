{
 "cells": [
  {
   "cell_type": "code",
   "execution_count": 26,
   "id": "e6d90deb-4177-4e32-ad80-086b37fdd62f",
   "metadata": {},
   "outputs": [
    {
     "data": {
      "text/plain": [
       "14"
      ]
     },
     "execution_count": 26,
     "metadata": {},
     "output_type": "execute_result"
    }
   ],
   "source": [
    "# Programmers(120902)_문자열 계산하기\n",
    "\n",
    "def solution(my_string):\n",
    "    return eval(my_string)    # google에 혹시 문자열을 계산할 수 있는 함수가 있는지 찾아봄 \n",
    "            \n",
    "solution(\"3 + 4 + 7\")"
   ]
  },
  {
   "cell_type": "code",
   "execution_count": 25,
   "id": "363b9f96-f9af-4e56-8ec9-c773fc7eb2d8",
   "metadata": {},
   "outputs": [
    {
     "data": {
      "text/plain": [
       "0"
      ]
     },
     "execution_count": 25,
     "metadata": {},
     "output_type": "execute_result"
    }
   ],
   "source": [
    "def solution(my_string):\n",
    "    return sum(int(i) for i in my_string.replace(' - ', ' + -').split(' + '))\n",
    "\n",
    "solution(\"3 + 4 - 7\")"
   ]
  },
  {
   "cell_type": "code",
   "execution_count": null,
   "id": "1d063d17-0e1e-4000-adf4-971621e7aedd",
   "metadata": {},
   "outputs": [],
   "source": []
  }
 ],
 "metadata": {
  "kernelspec": {
   "display_name": "Python 3 (ipykernel)",
   "language": "python",
   "name": "python3"
  },
  "language_info": {
   "codemirror_mode": {
    "name": "ipython",
    "version": 3
   },
   "file_extension": ".py",
   "mimetype": "text/x-python",
   "name": "python",
   "nbconvert_exporter": "python",
   "pygments_lexer": "ipython3",
   "version": "3.10.7"
  }
 },
 "nbformat": 4,
 "nbformat_minor": 5
}
