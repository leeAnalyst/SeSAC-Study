{
 "cells": [
  {
   "cell_type": "code",
   "execution_count": 1,
   "id": "c2a5e303-de43-480d-839e-9abdf7a24562",
   "metadata": {},
   "outputs": [
    {
     "data": {
      "text/plain": [
       "2"
      ]
     },
     "execution_count": 1,
     "metadata": {},
     "output_type": "execute_result"
    }
   ],
   "source": [
    "# Programmers(120903)_배열의 유사도\n",
    "\n",
    "def solution(s1, s2):\n",
    "    count = 0                 # s와 s_1이 같은 횟수를 세기 위해 count = 0, 공간을 만들어 줌 \n",
    "    for s in s2:              # s2와\n",
    "        for s_1 in s1:        # s1을 2중 for문으로 각각의 원소를 비교해줌\n",
    "            if s == s_1:      # 해당하는 원소들인 s와 s_1이 같을 때\n",
    "                count += 1    # count를 1씩 더해주어   \n",
    "    return count              # count를 return한다.\n",
    "\n",
    "solution([\"a\", \"b\", \"c\"], [\"com\", \"b\", \"d\", \"p\", \"c\"])"
   ]
  },
  {
   "cell_type": "code",
   "execution_count": null,
   "id": "581da7d7-1560-4b2a-9b97-95cce5d6d0de",
   "metadata": {},
   "outputs": [],
   "source": [
    "def solution(s1, s2):\n",
    "    return len(set(s1)&set(s2))     # set함수로 형변환 후 두 set의 교집합의 길이를 return / sa;ldjfkl;asjdfkl;asjf겁나 간단하네 썪을"
   ]
  }
 ],
 "metadata": {
  "kernelspec": {
   "display_name": "Python 3 (ipykernel)",
   "language": "python",
   "name": "python3"
  },
  "language_info": {
   "codemirror_mode": {
    "name": "ipython",
    "version": 3
   },
   "file_extension": ".py",
   "mimetype": "text/x-python",
   "name": "python",
   "nbconvert_exporter": "python",
   "pygments_lexer": "ipython3",
   "version": "3.10.7"
  }
 },
 "nbformat": 4,
 "nbformat_minor": 5
}
