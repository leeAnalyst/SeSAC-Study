{
 "cells": [
  {
   "cell_type": "code",
   "execution_count": 14,
   "id": "f8f0128e-007a-42f5-8be4-b8602030a5fa",
   "metadata": {},
   "outputs": [
    {
     "data": {
      "text/plain": [
       "[8, 1]"
      ]
     },
     "execution_count": 14,
     "metadata": {},
     "output_type": "execute_result"
    }
   ],
   "source": [
    "# Programmers(120899)_가장 큰 수 찾기\n",
    "import numpy as np\n",
    "\n",
    "def solution(array):\n",
    "    return [max(array), np.argmax(array)]      # array의 최대값과 numpy의 argmax를 사용해 최대값이 가지는 index값을 반환\n",
    "                                               # but..... programmers에선 외부모듈인 numpy 사용불가 ㅠㅠ\n",
    "solution([1, 8, 3])"
   ]
  },
  {
   "cell_type": "code",
   "execution_count": 38,
   "id": "24a7deb0-f41f-4b40-9062-824114b08be3",
   "metadata": {},
   "outputs": [
    {
     "data": {
      "text/plain": [
       "[8, 1]"
      ]
     },
     "execution_count": 38,
     "metadata": {},
     "output_type": "execute_result"
    }
   ],
   "source": [
    "def solution(array):\n",
    "    for i, v in enumerate(array):          # enumerate를 사용하여\n",
    "        if max(array) == array[i]:         # array의 최대값과 array의 index i를 가지는 값이 같다면 \n",
    "            return [v, i]                  # 그에 해당하는 값과 index를 return\n",
    "solution([1, 8, 3])   "
   ]
  },
  {
   "cell_type": "code",
   "execution_count": 39,
   "id": "ea9fe5e4-a3a2-4002-915a-e5d5de666915",
   "metadata": {},
   "outputs": [
    {
     "data": {
      "text/plain": [
       "[8, 1]"
      ]
     },
     "execution_count": 39,
     "metadata": {},
     "output_type": "execute_result"
    }
   ],
   "source": [
    "def solution(array):\n",
    "    return [max(array), array.index(max(array))]    # 최대값과 최대값이 array에서 가지는 index값을 반환\n",
    "solution([1, 8, 3])"
   ]
  }
 ],
 "metadata": {
  "kernelspec": {
   "display_name": "Python 3 (ipykernel)",
   "language": "python",
   "name": "python3"
  },
  "language_info": {
   "codemirror_mode": {
    "name": "ipython",
    "version": 3
   },
   "file_extension": ".py",
   "mimetype": "text/x-python",
   "name": "python",
   "nbconvert_exporter": "python",
   "pygments_lexer": "ipython3",
   "version": "3.10.7"
  }
 },
 "nbformat": 4,
 "nbformat_minor": 5
}
