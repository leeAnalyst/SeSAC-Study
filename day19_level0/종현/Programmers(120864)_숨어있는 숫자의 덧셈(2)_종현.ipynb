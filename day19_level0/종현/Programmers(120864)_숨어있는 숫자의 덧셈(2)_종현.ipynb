{
 "cells": [
  {
   "cell_type": "markdown",
   "id": "15ca80f5-b938-4f72-bc2f-f02f51719d12",
   "metadata": {},
   "source": [
    "### 숨어있는 숫자의 덧셈(2) (120864)\n",
    "문제 : 문자열 my_string이 매개변수로 주어집니다. my_string은 소문자, 대문자, 자연수로만 구성되어있습니다. my_string안의 자연수들의 합을 return하도록 solution 함수를 완성해주세요."
   ]
  },
  {
   "cell_type": "code",
   "execution_count": 10,
   "id": "b5751ce1-7241-4a3d-adb4-21eb8d363ae2",
   "metadata": {},
   "outputs": [],
   "source": [
    "import re"
   ]
  },
  {
   "cell_type": "code",
   "execution_count": 17,
   "id": "eb9cc189-ee59-4e59-a4c0-afdcea93fad9",
   "metadata": {},
   "outputs": [
    {
     "name": "stdout",
     "output_type": "stream",
     "text": [
      "['1', '2', '34']\n"
     ]
    },
    {
     "data": {
      "text/plain": [
       "37"
      ]
     },
     "execution_count": 17,
     "metadata": {},
     "output_type": "execute_result"
    }
   ],
   "source": [
    "def solution(my_string):\n",
    "    numbers = re.findall(r'\\d+', my_string)    # 문자열 속 패턴을 가지는(r'\\d+'') 숫자를 리스트 형태(문자열)로 반환 \n",
    "    result = 0\n",
    "    print(numbers)\n",
    "    for i in numbers:\n",
    "        result += int(i)                      # for문을 이용해 각 원소를 int(정수형)로 변환하여 합산한 결과를 result에 대입\n",
    "    return result\n",
    "\n",
    "solution(\"aAb1B2cC34oOp\")"
   ]
  }
 ],
 "metadata": {
  "kernelspec": {
   "display_name": "Python 3 (ipykernel)",
   "language": "python",
   "name": "python3"
  },
  "language_info": {
   "codemirror_mode": {
    "name": "ipython",
    "version": 3
   },
   "file_extension": ".py",
   "mimetype": "text/x-python",
   "name": "python",
   "nbconvert_exporter": "python",
   "pygments_lexer": "ipython3",
   "version": "3.10.7"
  }
 },
 "nbformat": 4,
 "nbformat_minor": 5
}
