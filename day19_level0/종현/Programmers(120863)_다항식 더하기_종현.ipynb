{
 "cells": [
  {
   "cell_type": "markdown",
   "id": "47381c1d-a897-413e-b4ad-aae71b4f7db1",
   "metadata": {},
   "source": [
    "### 다항식 더하기 (120863)\n",
    "문제 : 한 개 이상의 항의 합으로 이루어진 식을 다항식이라고 합니다. 다항식을 계산할 때는 동류항끼리 계산해 정리합니다. 덧셈으로 이루어진 다항식 polynomial이 매개변수로 주어질 때, 동류항끼리 더한 결괏값을 문자열로 return 하도록 solution 함수를 완성해보세요. 같은 식이라면 가장 짧은 수식을 return 합니다."
   ]
  },
  {
   "cell_type": "code",
   "execution_count": null,
   "id": "c589ec72-7dbc-4749-96c9-6dc33d548937",
   "metadata": {},
   "outputs": [],
   "source": [
    "# ' + ' 기준으로 split을 하여 상수항과 x항을 구분할 수 있다면?\n",
    "# x항 앞에 숫자를 따로 계산할 수 있다면? (x항 계수가 1인 경우는?)\n",
    "# 계수를 구한 후, f문자열 형식으로 'x'를 집어 넣기....?"
   ]
  },
  {
   "cell_type": "code",
   "execution_count": 52,
   "id": "1486125c-dcd3-4432-aabb-4995a61ccfa7",
   "metadata": {},
   "outputs": [
    {
     "data": {
      "text/plain": [
       "'4x + 7'"
      ]
     },
     "execution_count": 52,
     "metadata": {},
     "output_type": "execute_result"
    }
   ],
   "source": [
    "def solution(polynomial):\n",
    "    answer = [0, 0]                                         # 각 항의 계수를 집어넣을 공간 마련\n",
    "    for s in polynomial.split(' + '):                       # 매개변수 문자열을 ' + '기준으로 split하여 for반복문 돌림\n",
    "        if s[-1] == 'x':                                    # s의 마지막 값이 'x'인 경우                                                        \n",
    "            if len(s) == 1:                                 # s의 길이가 1이면 '1x'이므로\n",
    "                answer[0] += 1                              # answer[0]에 1을 더해준다\n",
    "            else:\n",
    "                answer[0] += int(s[:-1])                    # 그 밖의 경우엔 s의 마지막의 앞 값을 슬라싱하여 answer[0]에 더해준다. \n",
    "        else:\n",
    "            answer[1] += int(s)                             # s의 마지막 값이 'x'가 아닌 경우(즉, 상수항)엔 s를 int로 형변환한 후 answer[1]에 더해준다.\n",
    "    result = []\n",
    "    if answer[0]:                                                    \n",
    "        result.append(str(answer[0]) + 'x')                 # answer[0]부터 answer[0]의 값이 1일 경우 'x'이므로 'x'만 append해주고, 그 밖의 경우엔 f문자열을 사용하여 'nx'형태로 append해준다.\n",
    "        if answer[0] == 1:\n",
    "            result.append('x')\n",
    "    if answer[1]:\n",
    "        result.append(str(answer[1]))                              # answer[1]은 그대로 f문자열형식을 이용해 result에 append해준다.\n",
    "    return ' + '.join(result)                                        # join함수를 사용하여 사이사이 '+'를 집어넣어 합쳐준다.\n",
    "\n",
    "solution(\"3x + 7 + x\")"
   ]
  },
  {
   "cell_type": "code",
   "execution_count": 53,
   "id": "49a7f910-3363-47a4-bf5b-0f4e95450e36",
   "metadata": {},
   "outputs": [
    {
     "data": {
      "text/plain": [
       "'4x + 7'"
      ]
     },
     "execution_count": 53,
     "metadata": {},
     "output_type": "execute_result"
    }
   ],
   "source": [
    "def solution(polynomial):\n",
    "    answer = [0, 0]                                                    # 각 항의 계수를 집어넣을 공간 마련\n",
    "    for s in polynomial.split(' + '):                                  # 매개변수 문자열을 ' + '기준으로 split하여 for반복문 돌림\n",
    "        if s[-1] == 'x':                                    # s의 마지막 값이 'x'인 경우\n",
    "            answer[0] += int(1 if len(s) == 1 else s[:-1])  # answer[0]에 '1x'일 경우(='x') 1을 더하고, 나머지 경우엔 'x'를 빼고 앞의 숫자를 더해준다.\n",
    "        else:\n",
    "            answer[1] += int(s)                             # 그밖의 경우(즉, 상수항)엔 s를 int로 형변환한 후 answer[1]에 더해준다.\n",
    "    result = []\n",
    "    if answer[0]:                                                    \n",
    "        result.append('x' if answer[0] == 1 else f'{answer[0]}x')  # answer[0]부터 answer[0]의 값이 1일 경우 'x'이므로 'x'만 append해주고, 그 밖의 경우엔 f문자열을 사용하여 'nx'형태로 append해준다.\n",
    "    if answer[1]:\n",
    "        result.append(f'{answer[1]}')                              # answer[1]은 그대로 f문자열형식을 이용해 result에 append해준다.\n",
    "    return ' + '.join(result)                                        # join함수를 사용하여 사이사이 '+'를 집어넣어 합쳐준다.\n",
    "\n",
    "solution(\"3x + 7 + x\")"
   ]
  }
 ],
 "metadata": {
  "kernelspec": {
   "display_name": "Python 3 (ipykernel)",
   "language": "python",
   "name": "python3"
  },
  "language_info": {
   "codemirror_mode": {
    "name": "ipython",
    "version": 3
   },
   "file_extension": ".py",
   "mimetype": "text/x-python",
   "name": "python",
   "nbconvert_exporter": "python",
   "pygments_lexer": "ipython3",
   "version": "3.10.7"
  }
 },
 "nbformat": 4,
 "nbformat_minor": 5
}
