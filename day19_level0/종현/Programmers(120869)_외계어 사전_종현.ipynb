{
 "cells": [
  {
   "cell_type": "markdown",
   "id": "cafe9a8b-cbeb-40ca-a86a-20da8dfd49f9",
   "metadata": {},
   "source": [
    "### 외계어 사전 (120869)\n",
    "문제 : PROGRAMMERS-962 행성에 불시착한 우주비행사 머쓱이는 외계행성의 언어를 공부하려고 합니다. 알파벳이 담긴 배열 spell과 외계어 사전 dic이 매개변수로 주어집니다. spell에 담긴 알파벳을 한번씩만 모두 사용한 단어가 dic에 존재한다면 1, 존재하지 않는다면 2를 return하도록 solution 함수를 완성해주세요."
   ]
  },
  {
   "cell_type": "code",
   "execution_count": 55,
   "id": "67f76be2-b0a7-4752-8de9-17c661a6b10a",
   "metadata": {},
   "outputs": [
    {
     "data": {
      "text/plain": [
       "1"
      ]
     },
     "execution_count": 55,
     "metadata": {},
     "output_type": "execute_result"
    }
   ],
   "source": [
    "def solution(spell, dic):\n",
    "    for j in dic:\n",
    "        if ''.join(sorted(spell)) == ''.join(sorted(j)):          # spell을 sorted하여 join으로 합치고, for반복문으로 받은 j(즉, dic의 원소들)를 역시 sorted하여 join으로 합쳐 같은 지 비교한다.\n",
    "            return 1                                             \n",
    "    return 2\n",
    "solution([\"z\", \"d\", \"x\"],  [\"def\", \"dww\", \"dzx\", \"loveaw\"])"
   ]
  },
  {
   "cell_type": "code",
   "execution_count": 52,
   "id": "04108e9f-9bde-4fe2-bfa8-7c9727d48d96",
   "metadata": {},
   "outputs": [
    {
     "data": {
      "text/plain": [
       "'dxz'"
      ]
     },
     "execution_count": 52,
     "metadata": {},
     "output_type": "execute_result"
    }
   ],
   "source": [
    "''.join(sorted(['z', 'd', 'x']))  "
   ]
  },
  {
   "cell_type": "code",
   "execution_count": 53,
   "id": "7bd6f290-2524-4468-be00-0e00b3d0c927",
   "metadata": {},
   "outputs": [
    {
     "data": {
      "text/plain": [
       "'dxz'"
      ]
     },
     "execution_count": 53,
     "metadata": {},
     "output_type": "execute_result"
    }
   ],
   "source": [
    "''.join(sorted('dzx'))"
   ]
  },
  {
   "cell_type": "code",
   "execution_count": null,
   "id": "994b5537-87e2-4b38-a98d-91ea21a23592",
   "metadata": {},
   "outputs": [],
   "source": []
  }
 ],
 "metadata": {
  "kernelspec": {
   "display_name": "Python 3 (ipykernel)",
   "language": "python",
   "name": "python3"
  },
  "language_info": {
   "codemirror_mode": {
    "name": "ipython",
    "version": 3
   },
   "file_extension": ".py",
   "mimetype": "text/x-python",
   "name": "python",
   "nbconvert_exporter": "python",
   "pygments_lexer": "ipython3",
   "version": "3.10.7"
  }
 },
 "nbformat": 4,
 "nbformat_minor": 5
}
