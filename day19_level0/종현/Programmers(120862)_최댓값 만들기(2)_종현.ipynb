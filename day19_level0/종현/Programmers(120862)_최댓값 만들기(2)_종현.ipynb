{
 "cells": [
  {
   "cell_type": "markdown",
   "id": "506f3961-9796-41b3-bb51-60a4b20684f6",
   "metadata": {},
   "source": [
    "### 최댓값 만들기(2) (120862)\n",
    "문제 : 정수 배열 numbers가 매개변수로 주어집니다. numbers의 원소 중 두 개를 곱해 만들 수 있는 최댓값을 return하도록 solution 함수를 완성해주세요."
   ]
  },
  {
   "cell_type": "code",
   "execution_count": 25,
   "id": "a7547dfe-1600-455d-abc3-d925c1368419",
   "metadata": {},
   "outputs": [
    {
     "data": {
      "text/plain": [
       "600"
      ]
     },
     "execution_count": 25,
     "metadata": {},
     "output_type": "execute_result"
    }
   ],
   "source": [
    "def solution(numbers):\n",
    "    numbers = sorted(numbers, reverse=True)                            # numbers 리스트를 내림차순으로 정렬한후 다시 numbers에 대입\n",
    "    minus_list = []                                                    # 음수를 집어넣을 빈 리스트 생성\n",
    "    for i in numbers:                                                  # numbers를 for반복문으로\n",
    "        if i < 0:                                                      # i가 0보다 작을 경우 음수이므로\n",
    "            minus_list.append(i)                                       # minus_list에 append해준다.\n",
    "            if len(minus_list) >= 2:                                   # 만약 minus_list의 길이가 2보다 클 경우, 두 음수를 더해준 값이 최대값이 될 수도 있으므로,\n",
    "                minus_list = sorted(minus_list, reverse=True)               # minus_list를 내림차순으로 sorted하여 다시 대입한 후,  \n",
    "                if numbers[0] * numbers[1] < minus_list[0] * minus_list[1]:  # numbers[0]*numbers[1]과 대조하여 minus_list[0] * minus_list[1]이 더 클 경우\n",
    "                    return minus_list[0] * minus_list[1]                     # 그 값을 return한다.\n",
    "        \n",
    "    return numbers[0] * numbers[1]                                      # 그 이외의 경우엔 sorted된 numbers의 0번째와 1번째 index값을 가진 값을 곱하여 return한다.\n",
    "            \n",
    "solution([10, 20, 30, 5, 5, 20, 5])"
   ]
  },
  {
   "cell_type": "code",
   "execution_count": null,
   "id": "78c73ea7-96bd-496f-9e5e-75b01577016a",
   "metadata": {},
   "outputs": [],
   "source": []
  }
 ],
 "metadata": {
  "kernelspec": {
   "display_name": "Python 3 (ipykernel)",
   "language": "python",
   "name": "python3"
  },
  "language_info": {
   "codemirror_mode": {
    "name": "ipython",
    "version": 3
   },
   "file_extension": ".py",
   "mimetype": "text/x-python",
   "name": "python",
   "nbconvert_exporter": "python",
   "pygments_lexer": "ipython3",
   "version": "3.10.7"
  }
 },
 "nbformat": 4,
 "nbformat_minor": 5
}
