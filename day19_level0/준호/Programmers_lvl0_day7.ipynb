{
 "cells": [
  {
   "cell_type": "code",
   "execution_count": null,
   "id": "4e52f480-bcb6-4912-aea0-747ccb62da10",
   "metadata": {},
   "outputs": [],
   "source": [
    "#외계어사전\n",
    "def solution(spell, dic):\n",
    "    for i in spell:\n",
    "        for j in dic[:]:\n",
    "            if i not in j:\n",
    "                dic.remove(j)\n",
    "\n",
    "    if dic==[]:\n",
    "        return 2\n",
    "    else:\n",
    "        return 1"
   ]
  },
  {
   "cell_type": "code",
   "execution_count": null,
   "id": "6b0fdb96-3945-4e2f-ac20-8cc67ff661f0",
   "metadata": {},
   "outputs": [],
   "source": [
    "#삼각형의 완성조건(2)\n",
    "def solution(sides):\n",
    "    answer = sorted(sides, reverse=True)\n",
    "    return answer[-1] + (answer[-1]-1)"
   ]
  },
  {
   "cell_type": "code",
   "execution_count": null,
   "id": "12319af4-50ea-4e56-b88e-f89c2308b0db",
   "metadata": {},
   "outputs": [],
   "source": [
    "#최대값 만들기(2)\n",
    "def solution(numbers):\n",
    "    sn = sorted(numbers)\n",
    "    if sn[0]*sn[1] > sn[-1]*sn[-2]:\n",
    "        return sn[0]*sn[1]\n",
    "    else:\n",
    "        return sn[-1]*sn[-2]"
   ]
  },
  {
   "cell_type": "code",
   "execution_count": null,
   "id": "c0f484ec-b8ee-47ae-9fd5-98259eb1cb8d",
   "metadata": {},
   "outputs": [],
   "source": []
  }
 ],
 "metadata": {
  "kernelspec": {
   "display_name": "Python 3 (ipykernel)",
   "language": "python",
   "name": "python3"
  },
  "language_info": {
   "codemirror_mode": {
    "name": "ipython",
    "version": 3
   },
   "file_extension": ".py",
   "mimetype": "text/x-python",
   "name": "python",
   "nbconvert_exporter": "python",
   "pygments_lexer": "ipython3",
   "version": "3.11.1"
  }
 },
 "nbformat": 4,
 "nbformat_minor": 5
}
