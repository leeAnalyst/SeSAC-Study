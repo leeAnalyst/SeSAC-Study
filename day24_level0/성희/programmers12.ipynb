{
 "cells": [
  {
   "cell_type": "code",
   "execution_count": null,
   "id": "42e68d63-83e8-414c-bf7f-e8eedada824d",
   "metadata": {},
   "outputs": [],
   "source": []
  },
  {
   "cell_type": "markdown",
   "id": "1829c51a-e8c1-4c78-81ce-51725d034c0e",
   "metadata": {},
   "source": [
    "# 각도기"
   ]
  },
  {
   "cell_type": "markdown",
   "id": "47b3cae4-fe2a-4b9f-bc94-0c2c171ae815",
   "metadata": {},
   "source": [
    "약수로만 해도되나?"
   ]
  },
  {
   "cell_type": "code",
   "execution_count": null,
   "id": "7846b36e-f20c-45f1-a4f4-7a75ff534934",
   "metadata": {},
   "outputs": [],
   "source": [
    "angle = 70\n",
    "if angle < 90:\n",
    "    return 1\n",
    "elif angle == 90:\n",
    "    return 2\n",
    "elif angle < 180:\n",
    "    return 3\n",
    "elif angle == 180:\n",
    "    return 4\n"
   ]
  },
  {
   "cell_type": "code",
   "execution_count": null,
   "id": "342220a6-8000-442b-af67-a7f03dae24de",
   "metadata": {},
   "outputs": [],
   "source": []
  },
  {
   "cell_type": "markdown",
   "id": "1d4d2c86-273f-42be-a8bd-d6fc3b31a7cf",
   "metadata": {},
   "source": [
    "<b>더하기 생각."
   ]
  },
  {
   "cell_type": "markdown",
   "id": "075f6dda-e7f1-4733-be85-3b401fd91346",
   "metadata": {},
   "source": [
    "# 특정 문자 제거하기"
   ]
  },
  {
   "cell_type": "markdown",
   "id": "6e350808-7124-4570-aac6-98a2d1c7e5df",
   "metadata": {},
   "source": [
    "약수로만 해도되나?"
   ]
  },
  {
   "cell_type": "code",
   "execution_count": 1,
   "id": "bd894474-af47-4485-8b06-c5a3ac9f3e26",
   "metadata": {},
   "outputs": [],
   "source": [
    "my_string = \"abcdef\"\n",
    "letter = \"f\""
   ]
  },
  {
   "cell_type": "code",
   "execution_count": 2,
   "id": "d1103139-5720-4488-ba16-fd9a00e879cc",
   "metadata": {},
   "outputs": [
    {
     "data": {
      "text/plain": [
       "'abcde'"
      ]
     },
     "execution_count": 2,
     "metadata": {},
     "output_type": "execute_result"
    }
   ],
   "source": [
    "my_string.replace(letter, '')"
   ]
  },
  {
   "cell_type": "markdown",
   "id": "98026999-254f-42c2-bbf9-5883194a7941",
   "metadata": {},
   "source": [
    "<b>더하기 생각."
   ]
  },
  {
   "cell_type": "markdown",
   "id": "3e8bc49a-bdce-4a63-ad7e-8e3bdb1ca5f6",
   "metadata": {},
   "source": [
    "# 문자 반복 출력하기"
   ]
  },
  {
   "cell_type": "code",
   "execution_count": 3,
   "id": "70df7b0b-7ff4-4107-9292-8e27bbb22248",
   "metadata": {},
   "outputs": [],
   "source": [
    "my_string = \"hello\"\n",
    "n = 3"
   ]
  },
  {
   "cell_type": "code",
   "execution_count": 6,
   "id": "69e4a218-07a3-46b3-b606-d7616edc9d9e",
   "metadata": {},
   "outputs": [
    {
     "data": {
      "text/plain": [
       "'hhheeellllllooo'"
      ]
     },
     "execution_count": 6,
     "metadata": {},
     "output_type": "execute_result"
    }
   ],
   "source": [
    "result = []\n",
    "for word in list(my_string):\n",
    "    for _ in range(n):\n",
    "        result.append(word)\n",
    "return ''.join(result)"
   ]
  },
  {
   "cell_type": "markdown",
   "id": "ca1f1f74-5576-4d79-a7ac-291c2ed0711e",
   "metadata": {},
   "source": [
    "# 직각삼각형 출력하기"
   ]
  },
  {
   "cell_type": "code",
   "execution_count": 14,
   "id": "da062a78-eb62-4d4a-9e9d-3156811e740f",
   "metadata": {},
   "outputs": [
    {
     "name": "stdout",
     "output_type": "stream",
     "text": [
      "*\n",
      "**\n",
      "***\n"
     ]
    }
   ],
   "source": [
    "n = 3\n",
    "for i in range(1,n+1):\n",
    "    print('*' *i)"
   ]
  },
  {
   "cell_type": "markdown",
   "id": "69f526e0-fa2b-4d0d-b53a-929cb163b9a4",
   "metadata": {},
   "source": [
    "# 문자열 뒤집기"
   ]
  },
  {
   "cell_type": "code",
   "execution_count": 55,
   "id": "308bc1e2-595f-473a-adaf-a6cb4c1c6e5d",
   "metadata": {},
   "outputs": [],
   "source": [
    "my_string = \"jaron\""
   ]
  },
  {
   "cell_type": "code",
   "execution_count": 52,
   "id": "4e6eb14f-33ce-4a39-8d1b-cd36cdde9244",
   "metadata": {},
   "outputs": [
    {
     "data": {
      "text/plain": [
       "['n', 'o', 'r', 'a', 'j']"
      ]
     },
     "execution_count": 52,
     "metadata": {},
     "output_type": "execute_result"
    }
   ],
   "source": [
    "list(reversed(\"jaron\"))"
   ]
  },
  {
   "cell_type": "code",
   "execution_count": 53,
   "id": "f86150d4-8e60-4be8-bfde-fcca6a1c364f",
   "metadata": {},
   "outputs": [
    {
     "data": {
      "text/plain": [
       "'noraj'"
      ]
     },
     "execution_count": 53,
     "metadata": {},
     "output_type": "execute_result"
    }
   ],
   "source": [
    "my_string[::-1]"
   ]
  },
  {
   "cell_type": "markdown",
   "id": "065ed63b-57ec-4bd5-bc4f-8b12a96c50c7",
   "metadata": {},
   "source": [
    "# 배열 뒤집기"
   ]
  },
  {
   "cell_type": "code",
   "execution_count": 56,
   "id": "aab9e2d6-b8cc-422d-9444-f46769d1a758",
   "metadata": {},
   "outputs": [],
   "source": [
    "num_list = [1, 2, 3, 4, 5]"
   ]
  },
  {
   "cell_type": "code",
   "execution_count": 57,
   "id": "e2bf69ed-2959-4327-80f8-f3ec287d6c76",
   "metadata": {},
   "outputs": [
    {
     "data": {
      "text/plain": [
       "[5, 4, 3, 2, 1]"
      ]
     },
     "execution_count": 57,
     "metadata": {},
     "output_type": "execute_result"
    }
   ],
   "source": [
    "num_list[::-1]"
   ]
  },
  {
   "cell_type": "markdown",
   "id": "cfcba322-e0e9-4c44-a56b-22d01437897c",
   "metadata": {},
   "source": [
    "# 나이 출력"
   ]
  },
  {
   "cell_type": "code",
   "execution_count": 60,
   "id": "6f6cff30-4d2a-4775-a8dd-965d8f4efcaa",
   "metadata": {},
   "outputs": [
    {
     "data": {
      "text/plain": [
       "1983"
      ]
     },
     "execution_count": 60,
     "metadata": {},
     "output_type": "execute_result"
    }
   ],
   "source": [
    "age =40\n",
    "\n",
    "2022 -age +1"
   ]
  },
  {
   "cell_type": "code",
   "execution_count": null,
   "id": "fdc5fd60-55ef-457a-83e8-9cbf46621e3f",
   "metadata": {},
   "outputs": [],
   "source": []
  },
  {
   "cell_type": "markdown",
   "id": "90e12268-3f70-4097-b9f4-89e34b2d5b1b",
   "metadata": {},
   "source": [
    "# 아이스 아메리카노"
   ]
  },
  {
   "cell_type": "code",
   "execution_count": 61,
   "id": "2977b7e0-28e2-4472-bcd4-50e27f86ac38",
   "metadata": {},
   "outputs": [
    {
     "data": {
      "text/plain": [
       "[1, 0]"
      ]
     },
     "execution_count": 61,
     "metadata": {},
     "output_type": "execute_result"
    }
   ],
   "source": [
    "americano = 5500\n",
    "[money // americano, money % americano]\n"
   ]
  },
  {
   "cell_type": "code",
   "execution_count": null,
   "id": "0693e53a-cb32-4376-9d47-b406a26c938f",
   "metadata": {},
   "outputs": [],
   "source": []
  },
  {
   "cell_type": "markdown",
   "id": "9c986739-518f-45ff-8cad-f9ee44983784",
   "metadata": {},
   "source": [
    "# 옷가게 할인받기"
   ]
  },
  {
   "cell_type": "code",
   "execution_count": 74,
   "id": "cbe301e8-cefe-4d92-aed2-74ece9c8df7d",
   "metadata": {},
   "outputs": [
    {
     "name": "stdout",
     "output_type": "stream",
     "text": [
      "464000\n"
     ]
    }
   ],
   "source": [
    "price = 580000\n",
    "\n",
    "if price >= 500000:\n",
    "    print( int( 0.8 * price))\n",
    "elif price >= 300000:\n",
    "    print( int( 0.9 * price))\n",
    "elif price >= 100000:\n",
    "    print( int(0.95 * price))   \n",
    "else:\n",
    "    print( price)"
   ]
  },
  {
   "cell_type": "code",
   "execution_count": 72,
   "id": "6125d342-c8e2-49b2-9075-6f1a257f79ea",
   "metadata": {},
   "outputs": [
    {
     "data": {
      "text/plain": [
       "551000.0"
      ]
     },
     "execution_count": 72,
     "metadata": {},
     "output_type": "execute_result"
    }
   ],
   "source": [
    " 580000 * 0.95"
   ]
  }
 ],
 "metadata": {
  "kernelspec": {
   "display_name": "Python 3 (ipykernel)",
   "language": "python",
   "name": "python3"
  },
  "language_info": {
   "codemirror_mode": {
    "name": "ipython",
    "version": 3
   },
   "file_extension": ".py",
   "mimetype": "text/x-python",
   "name": "python",
   "nbconvert_exporter": "python",
   "pygments_lexer": "ipython3",
   "version": "3.10.8"
  }
 },
 "nbformat": 4,
 "nbformat_minor": 5
}
