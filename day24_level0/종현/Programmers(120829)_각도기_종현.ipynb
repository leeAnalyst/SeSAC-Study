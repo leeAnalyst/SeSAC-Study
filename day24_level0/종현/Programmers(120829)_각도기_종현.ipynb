{
 "cells": [
  {
   "cell_type": "markdown",
   "id": "2ecd9aff-2150-4f33-b907-8a47c04e418d",
   "metadata": {},
   "source": [
    "### 각도기 (120829)\n",
    "문제 : 각에서 0도 초과 90도 미만은 예각, 90도는 직각, 90도 초과 180도 미만은 둔각 180도는 평각으로 분류합니다. 각 angle이 매개변수로 주어질 때 예각일 때 1, 직각일 때 2, 둔각일 때 3, 평각일 때 4를 return하도록 solution 함수를 완성해주세요."
   ]
  },
  {
   "cell_type": "code",
   "execution_count": 1,
   "id": "67582f74-df7a-4c22-b3ba-15c57b896f44",
   "metadata": {},
   "outputs": [
    {
     "data": {
      "text/plain": [
       "1"
      ]
     },
     "execution_count": 1,
     "metadata": {},
     "output_type": "execute_result"
    }
   ],
   "source": [
    "def solution(angle):\n",
    "    if 0 < angle < 90:     # angle이 0 ~ 90도 사이의 값일 경우, 예각일 경우\n",
    "        answer = 1         # answer = 1\n",
    "    elif angle == 90:      # angle = 90, 직각일 경우\n",
    "        answer = 2         # answer = 2\n",
    "    elif angle == 180:     # angle이 180일 경우, 평각일 경우\n",
    "        answer = 4         # 4를 return\n",
    "    else:                  # 둔각일 경우, 3을 return\n",
    "        answer = 3\n",
    "    return answer\n",
    "\n",
    "solution(70)"
   ]
  }
 ],
 "metadata": {
  "kernelspec": {
   "display_name": "Python 3 (ipykernel)",
   "language": "python",
   "name": "python3"
  },
  "language_info": {
   "codemirror_mode": {
    "name": "ipython",
    "version": 3
   },
   "file_extension": ".py",
   "mimetype": "text/x-python",
   "name": "python",
   "nbconvert_exporter": "python",
   "pygments_lexer": "ipython3",
   "version": "3.10.7"
  }
 },
 "nbformat": 4,
 "nbformat_minor": 5
}
