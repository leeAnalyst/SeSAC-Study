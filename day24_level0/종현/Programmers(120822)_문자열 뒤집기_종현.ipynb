{
 "cells": [
  {
   "cell_type": "markdown",
   "id": "4144535b-6d99-4596-a6ae-f4b5e61fbbad",
   "metadata": {},
   "source": [
    "### 문자열 뒤집기 (120822)\n",
    "문제 : 문자열 my_string이 매개변수로 주어집니다. my_string을 거꾸로 뒤집은 문자열을 return하도록 solution 함수를 완성해주세요."
   ]
  },
  {
   "cell_type": "code",
   "execution_count": 2,
   "id": "0f963471-d04d-41a9-a8e2-2c419942edff",
   "metadata": {},
   "outputs": [
    {
     "data": {
      "text/plain": [
       "'noraj'"
      ]
     },
     "execution_count": 2,
     "metadata": {},
     "output_type": "execute_result"
    }
   ],
   "source": [
    "# for문으로 하나씩 하나씩 새로운 문자열 앞에 더해주어 reverse된 문자열을 만드는 방법\n",
    "\n",
    "def solution(my_string):\n",
    "    reverse_str = ''\n",
    "    for s in my_string:\n",
    "        reverse_str = s + reverse_str\n",
    "    return(reverse_str)\n",
    "\n",
    "solution(\"jaron\")"
   ]
  },
  {
   "cell_type": "code",
   "execution_count": 1,
   "id": "ed6950b0-4d3d-42d9-867f-c1eb2da6b969",
   "metadata": {},
   "outputs": [
    {
     "data": {
      "text/plain": [
       "'noraj'"
      ]
     },
     "execution_count": 1,
     "metadata": {},
     "output_type": "execute_result"
    }
   ],
   "source": [
    "# for반복문으로 my_string자체를 reversed한 list를 join으로 합쳐 return\n",
    "\n",
    "def solution(my_string):\n",
    "    return ''.join([s for s in reversed(my_string)])\n",
    "\n",
    "solution(\"jaron\")"
   ]
  },
  {
   "cell_type": "code",
   "execution_count": 3,
   "id": "9d56c1d8-4d98-4d25-8bb4-8d00a1b78a11",
   "metadata": {},
   "outputs": [
    {
     "data": {
      "text/plain": [
       "'noraj'"
      ]
     },
     "execution_count": 3,
     "metadata": {},
     "output_type": "execute_result"
    }
   ],
   "source": [
    "# my_string을 거꾸로 return하는 간결한 code\n",
    "\n",
    "def solution(my_string):\n",
    "    return my_string[::-1]\n",
    "\n",
    "solution('jaron')"
   ]
  }
 ],
 "metadata": {
  "kernelspec": {
   "display_name": "Python 3 (ipykernel)",
   "language": "python",
   "name": "python3"
  },
  "language_info": {
   "codemirror_mode": {
    "name": "ipython",
    "version": 3
   },
   "file_extension": ".py",
   "mimetype": "text/x-python",
   "name": "python",
   "nbconvert_exporter": "python",
   "pygments_lexer": "ipython3",
   "version": "3.10.7"
  }
 },
 "nbformat": 4,
 "nbformat_minor": 5
}
