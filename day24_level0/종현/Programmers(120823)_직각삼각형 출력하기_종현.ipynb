{
 "cells": [
  {
   "cell_type": "markdown",
   "id": "fe101c20-a886-4f9c-b9ad-7c8566f8b402",
   "metadata": {},
   "source": [
    "### 직각삼각형 출력하기 (120823)\n",
    "문제 : \" * \"의 높이와 너비를 1이라고 했을 때, \"*\"을 이용해 직각 이등변 삼각형을 그리려고합니다. 정수 n 이 주어지면 높이와 너비가 n 인 직각 이등변 삼각형을 출력하도록 코드를 작성해보세요."
   ]
  },
  {
   "cell_type": "code",
   "execution_count": 28,
   "id": "25ba909a-3b36-4202-bd50-bdaa9f62a03b",
   "metadata": {},
   "outputs": [
    {
     "name": "stdout",
     "output_type": "stream",
     "text": [
      "*\n",
      "**\n",
      "***\n"
     ]
    }
   ],
   "source": [
    "def solution(n):\n",
    "    for i in range(1, n+1):     # 1부터 n까지 반복\n",
    "        print('*'*i)            # i개 만큼 '*' 출력\n",
    "\n",
    "solution(3)                     # n = 3일 때 출력 결과"
   ]
  },
  {
   "cell_type": "code",
   "execution_count": 32,
   "id": "db746387-41a7-4c86-8639-ba985ea5cc15",
   "metadata": {},
   "outputs": [
    {
     "name": "stdin",
     "output_type": "stream",
     "text": [
      " 3\n"
     ]
    },
    {
     "name": "stdout",
     "output_type": "stream",
     "text": [
      "*\n",
      "**\n",
      "***\n"
     ]
    },
    {
     "data": {
      "text/plain": [
       "[None, None, None]"
      ]
     },
     "execution_count": 32,
     "metadata": {},
     "output_type": "execute_result"
    }
   ],
   "source": [
    "n = int(input())\n",
    "[print('*'*i) for i in range(1, n+1)]"
   ]
  },
  {
   "cell_type": "code",
   "execution_count": 29,
   "id": "53531437-c234-4e4d-a9d2-6491fc91e3a7",
   "metadata": {},
   "outputs": [
    {
     "name": "stdin",
     "output_type": "stream",
     "text": [
      " 3\n"
     ]
    },
    {
     "name": "stdout",
     "output_type": "stream",
     "text": [
      "*\n",
      "**\n",
      "***\n"
     ]
    }
   ],
   "source": [
    "# programmers에서 함수 형태의 code가 아닌 n을 input으로 받는 형식으로 제출해야함\n",
    "\n",
    "print('\\n'.join('*' * (i+1) for i in range(int(input()))))\n",
    "\n",
    "# 별표(*)로 삼각형을 출력하는 한 줄짜리 코드. \n",
    "# 코드는 n이라는 정수형 입력을 받는다. \n",
    "# 이 입력은 삼각형의 높이와 너비를 나타낸다. \n",
    "# 그리고 range(0, n)에서 각각의 i에 대해 길이가 i+1인 별표(*)의 리스트를 만든다. \n",
    "# 마지막으로, 리스트를 개행 문자('\\n')로 연결하여 삼각형 모양을 출력."
   ]
  }
 ],
 "metadata": {
  "kernelspec": {
   "display_name": "Python 3 (ipykernel)",
   "language": "python",
   "name": "python3"
  },
  "language_info": {
   "codemirror_mode": {
    "name": "ipython",
    "version": 3
   },
   "file_extension": ".py",
   "mimetype": "text/x-python",
   "name": "python",
   "nbconvert_exporter": "python",
   "pygments_lexer": "ipython3",
   "version": "3.10.7"
  }
 },
 "nbformat": 4,
 "nbformat_minor": 5
}
