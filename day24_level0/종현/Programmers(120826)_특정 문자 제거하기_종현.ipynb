{
 "cells": [
  {
   "cell_type": "markdown",
   "id": "749b6e9f-59f0-4113-87c6-758c7081f6ba",
   "metadata": {},
   "source": [
    "### 특정 문자 제거하기 (120826)\n",
    "문제 : 문자열 my_string과 문자 letter이 매개변수로 주어집니다. my_string에서 letter를 제거한 문자열을 return하도록 solution 함수를 완성해주세요."
   ]
  },
  {
   "cell_type": "code",
   "execution_count": 9,
   "id": "6e256f73-39ae-4ec2-a9c4-905a8b2bfb76",
   "metadata": {},
   "outputs": [
    {
     "data": {
      "text/plain": [
       "'abcde'"
      ]
     },
     "execution_count": 9,
     "metadata": {},
     "output_type": "execute_result"
    }
   ],
   "source": [
    "def solution(my_string, letter):\n",
    "    return my_string.replace(letter, '')\n",
    "\n",
    "solution(\"abcdef\", 'f')"
   ]
  },
  {
   "cell_type": "code",
   "execution_count": 12,
   "id": "3dd65017-6aae-4ef9-8fb4-1605e49cf47c",
   "metadata": {},
   "outputs": [
    {
     "data": {
      "text/plain": [
       "'abcde'"
      ]
     },
     "execution_count": 12,
     "metadata": {},
     "output_type": "execute_result"
    }
   ],
   "source": [
    "def solution(my_string, letter):\n",
    "    return ''.join([char for char in my_string if char != letter])\n",
    "\n",
    "solution(\"abcdef\", 'f')"
   ]
  }
 ],
 "metadata": {
  "kernelspec": {
   "display_name": "Python 3 (ipykernel)",
   "language": "python",
   "name": "python3"
  },
  "language_info": {
   "codemirror_mode": {
    "name": "ipython",
    "version": 3
   },
   "file_extension": ".py",
   "mimetype": "text/x-python",
   "name": "python",
   "nbconvert_exporter": "python",
   "pygments_lexer": "ipython3",
   "version": "3.10.7"
  }
 },
 "nbformat": 4,
 "nbformat_minor": 5
}
