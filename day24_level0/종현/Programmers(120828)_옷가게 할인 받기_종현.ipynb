{
 "cells": [
  {
   "cell_type": "markdown",
   "id": "dca5151a-74a2-4f20-a301-9522a49a086c",
   "metadata": {},
   "source": [
    "### 옷가게 할인 받기 (120818)\n",
    "문제 : 머쓱이네 옷가게는 10만 원 이상 사면 5%, 30만 원 이상 사면 10%, 50만 원 이상 사면 20%를 할인해줍니다. 구매한 옷의 가격 price가 주어질 때, 지불해야 할 금액을 return 하도록 solution 함수를 완성해보세요."
   ]
  },
  {
   "cell_type": "code",
   "execution_count": 21,
   "id": "d83688d2-1cd7-4815-ab71-2c401b4aa664",
   "metadata": {},
   "outputs": [],
   "source": [
    "def solution(price):\n",
    "    if 100000 <= price < 300000:\n",
    "        return price - int(price*0.05)\n",
    "    elif 300000 <= price < 500000:\n",
    "        return price - int(price*0.1)\n",
    "    elif 500000 <= price:\n",
    "        return price - int(price*0.2)     # 소수점 이하를 버린 정수를 return해야 하기 때문에 할인가격을 int로 형변환한 후 빼준다.\n",
    "\n",
    "solution(80000)"
   ]
  },
  {
   "cell_type": "code",
   "execution_count": 20,
   "id": "7b1496ee-fab4-4f3e-954b-31956f7b2507",
   "metadata": {},
   "outputs": [
    {
     "data": {
      "text/plain": [
       "80000"
      ]
     },
     "execution_count": 20,
     "metadata": {},
     "output_type": "execute_result"
    }
   ],
   "source": [
    "def solution(price):\n",
    "    if 500000 <= price:\n",
    "        return int(price - price*0.2)\n",
    "    elif 300000 <= price:\n",
    "        return int(price - price*0.1)\n",
    "    elif 100000 <= price:\n",
    "        return int(price - price*0.05)    # 소수점 이하를 버린 정수를 return해야 하기 때문에 할인가격을 int로 형변환한 후 빼준다.\n",
    "    else:\n",
    "        return price                      # 10만원 이하일땐 할인없이 정가를 받는다.\n",
    "solution(80000)"
   ]
  },
  {
   "cell_type": "code",
   "execution_count": 18,
   "id": "eb984063-c55b-446c-9ccb-ad36fd645fb9",
   "metadata": {},
   "outputs": [
    {
     "data": {
      "text/plain": [
       "324000"
      ]
     },
     "execution_count": 18,
     "metadata": {},
     "output_type": "execute_result"
    }
   ],
   "source": [
    "int(360000 - 360000*0.1)"
   ]
  },
  {
   "cell_type": "code",
   "execution_count": null,
   "id": "53d99ea0-2f2a-4096-80a0-66a2a113e769",
   "metadata": {},
   "outputs": [],
   "source": []
  }
 ],
 "metadata": {
  "kernelspec": {
   "display_name": "Python 3 (ipykernel)",
   "language": "python",
   "name": "python3"
  },
  "language_info": {
   "codemirror_mode": {
    "name": "ipython",
    "version": 3
   },
   "file_extension": ".py",
   "mimetype": "text/x-python",
   "name": "python",
   "nbconvert_exporter": "python",
   "pygments_lexer": "ipython3",
   "version": "3.10.7"
  }
 },
 "nbformat": 4,
 "nbformat_minor": 5
}
