{
 "cells": [
  {
   "cell_type": "markdown",
   "id": "1431d13e-682c-4e12-937e-32548c374420",
   "metadata": {},
   "source": [
    "### 문자 반복 출력하기 (120825)\n",
    "문제 : 문자열 my_string과 정수 n이 매개변수로 주어질 때, my_string에 들어있는 각 문자를 n만큼 반복한 문자열을 return 하도록 solution 함수를 완성해보세요."
   ]
  },
  {
   "cell_type": "code",
   "execution_count": 5,
   "id": "ff2f77a9-642f-4209-a655-486b96d75d0c",
   "metadata": {},
   "outputs": [
    {
     "data": {
      "text/plain": [
       "'hhheeellllllooo'"
      ]
     },
     "execution_count": 5,
     "metadata": {},
     "output_type": "execute_result"
    }
   ],
   "source": [
    "# 참 쉽죠잉?\n",
    "def solution(my_string, n):\n",
    "    answer = ''\n",
    "    for s in my_string:\n",
    "        answer += s*n\n",
    "    return answer\n",
    "\n",
    "solution('hello', 3)"
   ]
  },
  {
   "cell_type": "code",
   "execution_count": 4,
   "id": "de909b61-0988-48f9-bb53-a313bad43e34",
   "metadata": {},
   "outputs": [
    {
     "data": {
      "text/plain": [
       "'hhheeellllllooo'"
      ]
     },
     "execution_count": 4,
     "metadata": {},
     "output_type": "execute_result"
    }
   ],
   "source": [
    "# 위 코드를 list comprehension으로 줄인 코드\n",
    "\n",
    "def solution(my_string, n):\n",
    "    return ''.join([s*n for s in my_string])\n",
    "solution('hello', 3)"
   ]
  }
 ],
 "metadata": {
  "kernelspec": {
   "display_name": "Python 3 (ipykernel)",
   "language": "python",
   "name": "python3"
  },
  "language_info": {
   "codemirror_mode": {
    "name": "ipython",
    "version": 3
   },
   "file_extension": ".py",
   "mimetype": "text/x-python",
   "name": "python",
   "nbconvert_exporter": "python",
   "pygments_lexer": "ipython3",
   "version": "3.10.7"
  }
 },
 "nbformat": 4,
 "nbformat_minor": 5
}
