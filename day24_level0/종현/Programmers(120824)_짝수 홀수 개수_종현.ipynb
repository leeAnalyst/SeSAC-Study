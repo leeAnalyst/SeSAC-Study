{
 "cells": [
  {
   "cell_type": "markdown",
   "id": "b868b770-24cd-4f29-8cdf-dacebbf70582",
   "metadata": {},
   "source": [
    "### 짝수 홀수 개수 (120824)\n",
    "문제 : 정수가 담긴 리스트 num_list가 주어질 때, num_list의 원소 중 짝수와 홀수의 개수를 담은 배열을 return 하도록 solution 함수를 완성해보세요."
   ]
  },
  {
   "cell_type": "code",
   "execution_count": 1,
   "id": "d199b110-8fbb-4d4e-b84b-2cbf63a165cb",
   "metadata": {},
   "outputs": [
    {
     "data": {
      "text/plain": [
       "[2, 3]"
      ]
     },
     "execution_count": 1,
     "metadata": {},
     "output_type": "execute_result"
    }
   ],
   "source": [
    "def solution(num_list):\n",
    "    even = [x for x in num_list if x%2 == 0]           # 짝수만을 even변수를 가지는 list로 생성\n",
    "    return [len(even), len(num_list) - len(even)]      # 짝수 리스트의 길이, 본 리스트 길이에서 짝수 리스트 길이를 뺀 것(홀수의 갯수)을 return\n",
    "\n",
    "solution([1, 2, 3, 4, 5])"
   ]
  }
 ],
 "metadata": {
  "kernelspec": {
   "display_name": "Python 3 (ipykernel)",
   "language": "python",
   "name": "python3"
  },
  "language_info": {
   "codemirror_mode": {
    "name": "ipython",
    "version": 3
   },
   "file_extension": ".py",
   "mimetype": "text/x-python",
   "name": "python",
   "nbconvert_exporter": "python",
   "pygments_lexer": "ipython3",
   "version": "3.10.7"
  }
 },
 "nbformat": 4,
 "nbformat_minor": 5
}
