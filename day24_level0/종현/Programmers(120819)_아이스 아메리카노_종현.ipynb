{
 "cells": [
  {
   "cell_type": "markdown",
   "id": "6ca1b3b1-e572-4e64-a143-6c1edc47e487",
   "metadata": {},
   "source": [
    "### 아이스 아메리카노 (120819)\n",
    "문제 : 머쓱이는 추운 날에도 아이스 아메리카노만 마십니다. 아이스 아메리카노는 한잔에 5,500원입니다. 머쓱이가 가지고 있는 돈 money가 매개변수로 주어질 때, 머쓱이가 최대로 마실 수 있는 아메리카노의 잔 수와 남는 돈을 순서대로 담은 배열을 return 하도록 solution 함수를 완성해보세요."
   ]
  },
  {
   "cell_type": "code",
   "execution_count": 4,
   "id": "691313cd-f366-47ab-a2b2-027ea74f1039",
   "metadata": {},
   "outputs": [
    {
     "data": {
      "text/plain": [
       "[2, 4000]"
      ]
     },
     "execution_count": 4,
     "metadata": {},
     "output_type": "execute_result"
    }
   ],
   "source": [
    "def solution(money):\n",
    "    americano = 5500\n",
    "    result = [0, 0]\n",
    "    \n",
    "    if money%americano == 0:\n",
    "        result[0] += money//americano\n",
    "    else:\n",
    "        result[0] += money//americano\n",
    "        result[1] = money%americano\n",
    "        \n",
    "    return result\n",
    "\n",
    "solution(15000)"
   ]
  },
  {
   "cell_type": "code",
   "execution_count": 8,
   "id": "32d242e4-c0ff-4ffe-a9e3-2d1dd98e4fe2",
   "metadata": {},
   "outputs": [
    {
     "data": {
      "text/plain": [
       "[3, 0]"
      ]
     },
     "execution_count": 8,
     "metadata": {},
     "output_type": "execute_result"
    }
   ],
   "source": [
    "# 위 code를 극단적으로 줄인 code\n",
    "\n",
    "def solution(money):\n",
    "    return [money//5500, money%5500]\n",
    "solution(16500)"
   ]
  }
 ],
 "metadata": {
  "kernelspec": {
   "display_name": "Python 3 (ipykernel)",
   "language": "python",
   "name": "python3"
  },
  "language_info": {
   "codemirror_mode": {
    "name": "ipython",
    "version": 3
   },
   "file_extension": ".py",
   "mimetype": "text/x-python",
   "name": "python",
   "nbconvert_exporter": "python",
   "pygments_lexer": "ipython3",
   "version": "3.10.7"
  }
 },
 "nbformat": 4,
 "nbformat_minor": 5
}
