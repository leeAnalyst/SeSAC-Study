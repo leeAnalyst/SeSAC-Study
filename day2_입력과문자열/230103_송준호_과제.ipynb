{
 "cells": [
  {
   "cell_type": "code",
   "execution_count": 8,
   "id": "2d6d8599-b8d6-47cd-9b25-784706e30022",
   "metadata": {},
   "outputs": [
    {
     "name": "stdin",
     "output_type": "stream",
     "text": [
      " sylvan\n"
     ]
    },
    {
     "name": "stdout",
     "output_type": "stream",
     "text": [
      "True\n"
     ]
    }
   ],
   "source": [
    "# http://www.jungol.co.kr/bbs/board.php?bo_table=pbank&wr_id=4228&sca=pya0\n",
    "\n",
    "s = 'Pennsylvania'\n",
    "\n",
    "p = input()\n",
    "\n",
    "if p in s:\n",
    "    print(True)\n",
    "else:\n",
    "    print(False)"
   ]
  },
  {
   "cell_type": "code",
   "execution_count": 4,
   "id": "4abb0d97-efdf-4f5c-801a-5760c4fd28ff",
   "metadata": {},
   "outputs": [
    {
     "name": "stdin",
     "output_type": "stream",
     "text": [
      " 0.5 2.0\n"
     ]
    },
    {
     "name": "stdout",
     "output_type": "stream",
     "text": [
      "1.0\n"
     ]
    }
   ],
   "source": [
    "# https://codeup.kr/problem.php?id=6035\n",
    "\n",
    "a, b = input().split()\n",
    "\n",
    "f = float(a)\n",
    "s = float(b)\n",
    "\n",
    "print(f*s)"
   ]
  },
  {
   "cell_type": "code",
   "execution_count": null,
   "id": "6d6c84c4-ffdb-4cce-a45c-19519682ec2d",
   "metadata": {},
   "outputs": [],
   "source": [
    "# https://www.acmicpc.net/problem/2675\n",
    "\n",
    "#방법 1\n",
    "\n",
    "T = int(input())\n",
    "\n",
    "for _ in range(T):\n",
    "    a, b = input().split()\n",
    "    c = ''\n",
    "    for i in b:\n",
    "        c += int(a)*i\n",
    "    print(c)\n",
    "    \n",
    "#방법 2\n",
    "\n",
    "T = int(input())\n",
    "\n",
    "for _ in range(T):\n",
    "    a, b = input().split()\n",
    "    a = int(a)\n",
    "    c = [i*a for i in b]\n",
    "    print(''.join(c))"
   ]
  }
 ],
 "metadata": {
  "kernelspec": {
   "display_name": "Python 3 (ipykernel)",
   "language": "python",
   "name": "python3"
  },
  "language_info": {
   "codemirror_mode": {
    "name": "ipython",
    "version": 3
   },
   "file_extension": ".py",
   "mimetype": "text/x-python",
   "name": "python",
   "nbconvert_exporter": "python",
   "pygments_lexer": "ipython3",
   "version": "3.10.8"
  }
 },
 "nbformat": 4,
 "nbformat_minor": 5
}
