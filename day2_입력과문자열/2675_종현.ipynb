{
 "cells": [
  {
   "cell_type": "code",
   "execution_count": 57,
   "id": "b4785e63-2cb0-407c-a669-24b79ac0e6e9",
   "metadata": {},
   "outputs": [
    {
     "name": "stdin",
     "output_type": "stream",
     "text": [
      " 2\n",
      " 3 ABC\n"
     ]
    },
    {
     "name": "stdout",
     "output_type": "stream",
     "text": [
      "AAABBBCCC"
     ]
    },
    {
     "name": "stdin",
     "output_type": "stream",
     "text": [
      " 5 /htp\n"
     ]
    },
    {
     "name": "stdout",
     "output_type": "stream",
     "text": [
      "/////hhhhhtttttppppp"
     ]
    }
   ],
   "source": [
    "# BaekJoon 2675\n",
    "T = int(input())\n",
    "\n",
    "for _ in range(T):\n",
    "    R, S = map(str, input().split())\n",
    "    R = int(R)\n",
    "    for i in S:\n",
    "        print(R*i, end='')"
   ]
  },
  {
   "cell_type": "code",
   "execution_count": null,
   "id": "ed01262a-f449-46ef-9b7b-d22d75720e5f",
   "metadata": {},
   "outputs": [],
   "source": [
    "# 백준 문제자체가 어려워요!!!!!!!!!!!!!!!!!"
   ]
  }
 ],
 "metadata": {
  "kernelspec": {
   "display_name": "Python 3 (ipykernel)",
   "language": "python",
   "name": "python3"
  },
  "language_info": {
   "codemirror_mode": {
    "name": "ipython",
    "version": 3
   },
   "file_extension": ".py",
   "mimetype": "text/x-python",
   "name": "python",
   "nbconvert_exporter": "python",
   "pygments_lexer": "ipython3",
   "version": "3.10.7"
  }
 },
 "nbformat": 4,
 "nbformat_minor": 5
}
