{
 "cells": [
  {
   "cell_type": "markdown",
   "id": "fb4b6dbb-d3ee-4c79-8322-cac9c7f22c95",
   "metadata": {},
   "source": [
    "# 2. 입력과 문자열 (12/22, 목)\n",
    "## 입력\n",
    "* input()를 통한 입력받기\n",
    "    * input을 통해 입력받으면 문자열로 입력받게됨\n",
    "    * input안에 텍스트를 넣으면 입력 받을 시 입력문구로 나옴"
   ]
  },
  {
   "cell_type": "code",
   "execution_count": 2,
   "id": "141a86e2-ab41-4531-89e9-dfb48d7f1d2f",
   "metadata": {},
   "outputs": [
    {
     "name": "stdin",
     "output_type": "stream",
     "text": [
      "값을 입력하세요:  123\n"
     ]
    },
    {
     "name": "stdout",
     "output_type": "stream",
     "text": [
      "123\n",
      "<class 'str'>\n"
     ]
    }
   ],
   "source": [
    "a = input(\"값을 입력하세요: \")\n",
    "print(a)\n",
    "print(type(a))"
   ]
  },
  {
   "cell_type": "markdown",
   "id": "b48f459a-0550-4547-8455-f9aef87a4a03",
   "metadata": {},
   "source": [
    "### 123을 입력받고 2를 더한 값을 출력해주세요."
   ]
  },
  {
   "cell_type": "code",
   "execution_count": 4,
   "id": "ab5a11d7-3d5d-43c7-8d72-d480a40c1562",
   "metadata": {},
   "outputs": [
    {
     "name": "stdin",
     "output_type": "stream",
     "text": [
      " 123\n"
     ]
    },
    {
     "name": "stdout",
     "output_type": "stream",
     "text": [
      "125\n"
     ]
    }
   ],
   "source": []
  },
  {
   "cell_type": "markdown",
   "id": "0f4e587e-9c6e-4e17-9334-35896806e9c8",
   "metadata": {},
   "source": [
    "* 값을 여러 개 받는다면...?"
   ]
  },
  {
   "cell_type": "markdown",
   "id": "b9b23252-efaf-4071-9be1-6b398c3e0c2f",
   "metadata": {},
   "source": [
    "1 2 3 4를 입력받아서 정수로 변환하여<br>\n",
    "1<br>\n",
    "2<br>\n",
    "3<br>\n",
    "4<br>\n",
    "로 출력해주세요."
   ]
  },
  {
   "cell_type": "code",
   "execution_count": 7,
   "id": "3038c7ed-b0dd-44ff-90aa-9085f4a6f0f4",
   "metadata": {},
   "outputs": [
    {
     "name": "stdin",
     "output_type": "stream",
     "text": [
      " 1 2 3 4\n"
     ]
    },
    {
     "name": "stdout",
     "output_type": "stream",
     "text": [
      "1\n",
      "2\n",
      "3\n",
      "4\n"
     ]
    }
   ],
   "source": []
  },
  {
   "cell_type": "markdown",
   "id": "20ef3ac3-563c-4816-956d-9e4101d239e5",
   "metadata": {},
   "source": [
    "### split()\n",
    "* 구분자만 일단 기억하자\n",
    "* ex) split(), split(\" \"), split(\",\")"
   ]
  },
  {
   "cell_type": "code",
   "execution_count": 27,
   "id": "be6a5124-ac79-4c8c-a970-a7da7456883e",
   "metadata": {},
   "outputs": [],
   "source": [
    "# 코드를 단축해보자"
   ]
  },
  {
   "cell_type": "markdown",
   "id": "308658a2-0500-4697-b3f8-646ae1b49f7c",
   "metadata": {},
   "source": [
    "### map()\n",
    "* 기본 문법: map(변환 함수, 순회 가능한 데이터)\n",
    "* 변환하여 map 객체로 반환되므로 리스트 등으로 바꿔야함\n",
    "* 쉽게 설명하자면 순회가능한 리스트 등의 각 원소를 변환함수에 하나씩 적용함"
   ]
  },
  {
   "cell_type": "code",
   "execution_count": 24,
   "id": "7acd251d-fcfc-4621-b583-f073d8625ffa",
   "metadata": {},
   "outputs": [
    {
     "data": {
      "text/plain": [
       "[2, 3, 4, 5]"
      ]
     },
     "execution_count": 24,
     "metadata": {},
     "output_type": "execute_result"
    }
   ],
   "source": [
    "def plusOne(i):\n",
    "    i+=1\n",
    "    return i\n",
    "    \n",
    "li1 = [1,2,3,4]\n",
    "li2 = list(map(plusOne, li1))\n",
    "li2"
   ]
  },
  {
   "cell_type": "code",
   "execution_count": 25,
   "id": "678dc272-ca4a-4a3f-a1a2-d19b7969e55f",
   "metadata": {},
   "outputs": [
    {
     "data": {
      "text/plain": [
       "[1, 2, 3, 4]"
      ]
     },
     "execution_count": 25,
     "metadata": {},
     "output_type": "execute_result"
    }
   ],
   "source": [
    "li1 = [1, 2, 3, 4]\n",
    "li2 = list(map(int, li1))\n",
    "li2"
   ]
  },
  {
   "cell_type": "markdown",
   "id": "6b336b3c-fa78-4a28-bf01-2cef5b2b1214",
   "metadata": {},
   "source": [
    "### 문자 슬라이싱을 해보자\n",
    "str = [start, end]\n",
    "start부터 end-1까지 인덱스에 있는 문자열 반환"
   ]
  },
  {
   "cell_type": "code",
   "execution_count": 38,
   "id": "ea67c7d5-3430-4418-b65a-aba6f43b074b",
   "metadata": {},
   "outputs": [
    {
     "name": "stdout",
     "output_type": "stream",
     "text": [
      "미란준호\n",
      "미란준호\n",
      "현\n",
      "미란준호\n"
     ]
    }
   ],
   "source": [
    "name = \"미란준호선영종현\"\n",
    "\n",
    "# 미란준호를 출력해봅시다...!\n",
    "print(f'{name[0:4]}')\n",
    "print(f'{name[:4]}')\n",
    "\n",
    "# 음수로 인덱싱한다면...?\n",
    "print(f'{name[-1]}')\n",
    "print(f'{name[0:-4]}')\n",
    "\n",
    "# 선영종현을 출력해봅시다."
   ]
  },
  {
   "cell_type": "markdown",
   "id": "2b9730ac-363a-4ddf-ac0a-f7bc51c3595a",
   "metadata": {},
   "source": [
    "### 문자더하기(연결)\n",
    "* 지난 과제"
   ]
  },
  {
   "cell_type": "markdown",
   "id": "d969805f-e097-4489-921f-0d3f68787afb",
   "metadata": {
    "tags": []
   },
   "source": [
    "### 문자 길이\n",
    "* len() 사용"
   ]
  },
  {
   "cell_type": "code",
   "execution_count": 45,
   "id": "d8fe12f5-07ac-49dc-8b46-1b08c8c95f47",
   "metadata": {},
   "outputs": [
    {
     "name": "stdout",
     "output_type": "stream",
     "text": [
      "3\n"
     ]
    }
   ],
   "source": [
    "name = '송준호'\n",
    "print(len(name))"
   ]
  },
  {
   "cell_type": "markdown",
   "id": "abe9ac8f-0683-44b8-a565-d558fc79921c",
   "metadata": {},
   "source": [
    "### 문자열 찾기\n",
    "* find 사용\n",
    "* 검색 문자열을 찾을 수 없으면 -1을 반환"
   ]
  },
  {
   "cell_type": "code",
   "execution_count": 44,
   "id": "f8ae3bfa-69a3-44ae-9cee-56501616e8e0",
   "metadata": {},
   "outputs": [
    {
     "name": "stdout",
     "output_type": "stream",
     "text": [
      "1\n",
      "-1\n"
     ]
    }
   ],
   "source": [
    "name = '김종현'\n",
    "print(name.find('종'))\n",
    "print(name.find('쫑'))"
   ]
  },
  {
   "cell_type": "markdown",
   "id": "ad6b64b3-040c-4764-9290-b2f81f4eea59",
   "metadata": {},
   "source": [
    "### 문자열 바꾸기\n",
    "* replace() 함수\n"
   ]
  },
  {
   "cell_type": "code",
   "execution_count": 46,
   "id": "62026414-8879-4d2e-89f8-9a65a3fcc37e",
   "metadata": {},
   "outputs": [],
   "source": [
    "s = '[미란][선영]'\n",
    "# []을 없애주세요! "
   ]
  },
  {
   "cell_type": "markdown",
   "id": "399eeead-2123-419a-b72b-ca60d51a5253",
   "metadata": {},
   "source": [
    "### 문자열 구성 확인\n",
    "* isalpha(): 문자열\n",
    "* isdigit(): 숫자\n",
    "* isupper(): 대문자인지\n",
    "* islower(): 소문자인지"
   ]
  },
  {
   "cell_type": "markdown",
   "id": "992e2c4f-eb88-49e1-8d53-38ab8a87bc21",
   "metadata": {},
   "source": [
    "### 대소문자로 변경\n",
    "* s.lower()\n",
    "* s.upper()"
   ]
  },
  {
   "cell_type": "code",
   "execution_count": 47,
   "id": "1fe9b457-3c2c-4114-adf7-79763d13765d",
   "metadata": {},
   "outputs": [],
   "source": [
    "# 소문자를 대문자로, 대문자를 소문자로 바꿔주세요\n",
    "nickname = 'miranZZang'"
   ]
  },
  {
   "cell_type": "markdown",
   "id": "2e776cc9-0c1c-4b7f-befb-3ce877968dc7",
   "metadata": {},
   "source": [
    "### 포함여부\n",
    "* in, not in\n"
   ]
  },
  {
   "cell_type": "code",
   "execution_count": 48,
   "id": "db9e837b-5e4d-47c2-8f3f-4db3549dd8b5",
   "metadata": {},
   "outputs": [
    {
     "data": {
      "text/plain": [
       "True"
      ]
     },
     "execution_count": 48,
     "metadata": {},
     "output_type": "execute_result"
    }
   ],
   "source": [
    "'miran' in nickname"
   ]
  }
 ],
 "metadata": {
  "kernelspec": {
   "display_name": "Python 3 (ipykernel)",
   "language": "python",
   "name": "python3"
  },
  "language_info": {
   "codemirror_mode": {
    "name": "ipython",
    "version": 3
   },
   "file_extension": ".py",
   "mimetype": "text/x-python",
   "name": "python",
   "nbconvert_exporter": "python",
   "pygments_lexer": "ipython3",
   "version": "3.9.13"
  }
 },
 "nbformat": 4,
 "nbformat_minor": 5
}
