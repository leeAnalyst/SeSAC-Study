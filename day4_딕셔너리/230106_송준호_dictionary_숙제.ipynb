{
 "cells": [
  {
   "cell_type": "code",
   "execution_count": 1,
   "id": "1b8fdd1e-2017-466e-852d-8c0e87cdcbc7",
   "metadata": {},
   "outputs": [
    {
     "name": "stdin",
     "output_type": "stream",
     "text": [
      " 6\n",
      " Adagio 60\n",
      " Andante 80\n",
      " Moderato 100\n",
      " Allegro 120\n",
      " Vivace 160\n",
      " Presto 180\n",
      " Allegro\n"
     ]
    },
    {
     "name": "stdout",
     "output_type": "stream",
     "text": [
      "120\n"
     ]
    }
   ],
   "source": [
    "# http://www.jungol.co.kr/bbs/board.php?bo_table=pbank&wr_id=4379&sca=pyd0\n",
    "# 정수를 입력 받아 정수 만큼 반복하면서, 키-자료 쌍을 공백을 사이에 두고 입력 받아 딕셔너리에\n",
    "# 추가한다. 마지막으로 문자열을 하나 더 입력 받아, 그 문자열을 키 값으로 하는 자료를 출력하는 프로그\n",
    "# 램을 작성하시오. (동일한 키 값이 두 번 입력되는 경우는 없다고 가정한다.) \n",
    "\n",
    "n = int(input())\n",
    "\n",
    "dict_pair = {}\n",
    "for i in range(n):\n",
    "    a,b = input().split()\n",
    "    dict_pair[a] = int(b)\n",
    "\n",
    "select = input()\n",
    "print(dict_pair[select])"
   ]
  },
  {
   "cell_type": "code",
   "execution_count": 55,
   "id": "f510062e-b552-4907-beed-cb3b9f91e588",
   "metadata": {},
   "outputs": [
    {
     "name": "stdin",
     "output_type": "stream",
     "text": [
      " Jay John John Jay Jack Jack John Jo Jo Jack\n"
     ]
    },
    {
     "name": "stdout",
     "output_type": "stream",
     "text": [
      "Jo\n",
      "Jay\n",
      "2\n"
     ]
    }
   ],
   "source": [
    "# http://www.jungol.co.kr/bbs/board.php?bo_table=pbank&wr_id=4380&sca=pyd0\n",
    "# 야구선수들의 파울 기록을 입력 받아, 파울을 가장 적게 한 선수를 모두 출력하고, 최소 파울 횟수를 마지막에\n",
    "# 출력하는 프로그램을 작성하시오. \n",
    "\n",
    "foul = input().split()\n",
    "a = set(foul)\n",
    "\n",
    "dict_foul={}\n",
    "\n",
    "for i in a:\n",
    "    dict_foul[i] = 0\n",
    "    for j in foul:\n",
    "        if j == i:\n",
    "            dict_foul[i] += 1\n",
    "\n",
    "smallest = dict_foul['Jay']\n",
    "for i in dict_foul:\n",
    "    if dict_foul[i] < smallest:\n",
    "            smallest = dict_foul[i]         \n",
    "\n",
    "for i, j in dict_foul.items():\n",
    "    if j == smallest:\n",
    "        print(i)\n",
    "\n",
    "print(smallest)"
   ]
  }
 ],
 "metadata": {
  "kernelspec": {
   "display_name": "Python 3 (ipykernel)",
   "language": "python",
   "name": "python3"
  },
  "language_info": {
   "codemirror_mode": {
    "name": "ipython",
    "version": 3
   },
   "file_extension": ".py",
   "mimetype": "text/x-python",
   "name": "python",
   "nbconvert_exporter": "python",
   "pygments_lexer": "ipython3",
   "version": "3.11.1"
  }
 },
 "nbformat": 4,
 "nbformat_minor": 5
}
