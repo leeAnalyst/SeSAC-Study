{
 "cells": [
  {
   "cell_type": "markdown",
   "id": "c894a816-aa92-4add-9bea-c90f4df45b0a",
   "metadata": {},
   "source": [
    "## 정올 952. 정수를 입력 받아 정수 만큼 반복하면서, 키-자료 쌍을 공백을 사이에 두고 입력 받아 딕셔너리에 추가한다. 마지막으로 문자열을 하나 더 입력 받아, 그 문자열을 키 값으로 하는 자료를 출력하는 프로그램을 작성하시오. (동일한 키 값이 두 번 입력되는 경우는 없다고 가정)"
   ]
  },
  {
   "cell_type": "code",
   "execution_count": 41,
   "id": "097a8864-ca4e-4f09-8da0-bc102383f3d4",
   "metadata": {},
   "outputs": [
    {
     "name": "stdin",
     "output_type": "stream",
     "text": [
      " 6\n",
      " Adagio 60\n",
      " Andante 80\n",
      " Moderato 100\n",
      " Allegro 120\n",
      " Vivace 160\n",
      " Presto 180\n",
      " Allegro\n"
     ]
    },
    {
     "name": "stdout",
     "output_type": "stream",
     "text": [
      "120\n"
     ]
    }
   ],
   "source": [
    "user_input = int(input())\n",
    "dic = {}\n",
    "for _ in range(user_input+1):\n",
    "    dic_input = input().split(' ')\n",
    "    s = dic_input[0]\n",
    "    if s in dic:\n",
    "        print(dic.get(s))\n",
    "    else:\n",
    "        dic[s] = dic_input[1]"
   ]
  }
 ],
 "metadata": {
  "kernelspec": {
   "display_name": "Python 3 (ipykernel)",
   "language": "python",
   "name": "python3"
  },
  "language_info": {
   "codemirror_mode": {
    "name": "ipython",
    "version": 3
   },
   "file_extension": ".py",
   "mimetype": "text/x-python",
   "name": "python",
   "nbconvert_exporter": "python",
   "pygments_lexer": "ipython3",
   "version": "3.10.7"
  }
 },
 "nbformat": 4,
 "nbformat_minor": 5
}
