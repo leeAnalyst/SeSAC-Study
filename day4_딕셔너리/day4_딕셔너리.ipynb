{
 "cells": [
  {
   "cell_type": "code",
   "execution_count": null,
   "metadata": {},
   "outputs": [],
   "source": []
  },
  {
   "cell_type": "markdown",
   "id": "a446c78d-4b5b-4d35-b7e1-3964ec93983e",
   "metadata": {
    "tags": []
   },
   "source": [
    "# 딕셔너리 (01/04)\n",
    ": 키(key)와 값(value) 쌍으로 구성된 데이터\n",
    "* 다른 자료형과 달리 인덱스가 아닌 키를 사용해 값에 접근\n",
    "* 형태\n",
    "    ```\n",
    "    # {}\n",
    "    dic_data = {\n",
    "                key1: value1,\n",
    "                key2: value2,\n",
    "                ...\n",
    "    }\n",
    "    = \n",
    "    # dict()\n",
    "    dic_data = dict(\n",
    "        key1 = value1,\n",
    "        key2 = value2,\n",
    "        ...\n",
    "    )\n",
    "    dict()의 키 값은 따옴표가 들어가면 안됩니다,,\n",
    "    ```\n",
    "* key는 숫자, 문자열, bool이 될 수 있고 <b>중복은 허용하지 않는다.</b>\n",
    "* value는 어떤 자료형이든 다 가능\n",
    "(https://dojang.io/mod/page/view.php?id=2213)"
   ]
  },
  {
   "cell_type": "markdown",
   "id": "98e0b9b6-80e5-48d7-91b0-7e68b8986ecd",
   "metadata": {},
   "source": [
    "### 딕셔너리 생성"
   ]
  },
  {
   "cell_type": "code",
   "execution_count": 3,
   "id": "654f26da-d5d2-41c4-91ae-9df01ca3161d",
   "metadata": {},
   "outputs": [],
   "source": [
    "dict_user = {\"이름\": \"이미란\", \"나이\": 30}"
   ]
  },
  {
   "cell_type": "markdown",
   "id": "aae34b83-a32c-4e4c-9d9c-402bfdfbd184",
   "metadata": {},
   "source": [
    "* 다음 테이블을 딕셔너리로 구성해주세요. <br>\n",
    "<table align=\"left\">\n",
    "<thead>\n",
    "<tr>\n",
    "<th>이름</th>\n",
    "<th>희망 가격</th>\n",
    "</tr>\n",
    "</thead>\n",
    "<tbody>\n",
    "<tr>\n",
    "<td>메로나</td>\n",
    "<td>1000</td>\n",
    "</tr>\n",
    "<tr>\n",
    "<td>폴라포</td>\n",
    "<td>1200</td>\n",
    "</tr>\n",
    "<tr>\n",
    "<td>빵빠레</td>\n",
    "<td>1800</td>\n",
    "</tr>\n",
    "</tbody>\n",
    "</table>\n",
    "<br>"
   ]
  },
  {
   "cell_type": "code",
   "execution_count": 1,
   "id": "8980341b-56fc-4c6b-985f-4a19b8a2a49c",
   "metadata": {},
   "outputs": [],
   "source": [
    "dict_data = {\n",
    "    '메로나': 1000,\n",
    "    '폴라포': 1200,\n",
    "    \n",
    "}\n",
    "\n",
    "dict_data = {\n",
    "    '이름' : ['메로나', '폴라포', '빵빠레'],\n",
    "    '희망가격': [1000, 1200, 1800]\n",
    "}"
   ]
  },
  {
   "cell_type": "markdown",
   "id": "543a31e1-defd-4532-9ecd-56e813e21579",
   "metadata": {},
   "source": [
    "### 딕셔너리 키로 값 접근\n",
    "* dic_data[key]"
   ]
  },
  {
   "cell_type": "code",
   "execution_count": 4,
   "id": "ec045793-c3f3-42ba-bce1-022380d547db",
   "metadata": {},
   "outputs": [
    {
     "data": {
      "text/plain": [
       "'이미란'"
      ]
     },
     "execution_count": 4,
     "metadata": {},
     "output_type": "execute_result"
    }
   ],
   "source": [
    "dict_user[\"이름\"]"
   ]
  },
  {
   "cell_type": "markdown",
   "id": "18f48b16-c445-4bc7-98d4-10aa90f22339",
   "metadata": {},
   "source": [
    "### 딕셔너리 값 변경\n",
    "* dic_data[key] = new_value"
   ]
  },
  {
   "cell_type": "markdown",
   "id": "432c8eec-d778-456d-9251-c39bccc6298f",
   "metadata": {},
   "source": [
    "* 미란의 나이를 31살로 변경해주세요ㅠㅠㅠ....ㅠㅠㅠㅠ\n"
   ]
  },
  {
   "cell_type": "code",
   "execution_count": 5,
   "id": "a592169d-ce8a-449a-aca8-6e4b199b0b78",
   "metadata": {},
   "outputs": [],
   "source": [
    "dict_user = {\"이름\": \"이미란\", \"나이\": 30}\n",
    "\n",
    "dict_user[\"나이\"] = 31"
   ]
  },
  {
   "cell_type": "markdown",
   "id": "355c72b0-6e4e-48e5-94e2-43fe31c0fc19",
   "metadata": {},
   "source": [
    "* 이때 대응하는 키가 없다면 새로운 값이 추가됨"
   ]
  },
  {
   "cell_type": "code",
   "execution_count": 6,
   "id": "f65bb309-3f3c-4027-8df1-1334dbe40401",
   "metadata": {},
   "outputs": [],
   "source": [
    "# 특기를 추가한다면...?!\n",
    "dict_user['특기'] = ['준호오빠놀리기', '준호오빠까기']"
   ]
  },
  {
   "cell_type": "code",
   "execution_count": 7,
   "id": "11500934-12f4-4a52-b60a-ac2b8054a669",
   "metadata": {},
   "outputs": [
    {
     "data": {
      "text/plain": [
       "{'이름': '이미란', '나이': 31, '특기': ['준호오빠놀리기', '준호오빠까기']}"
      ]
     },
     "execution_count": 7,
     "metadata": {},
     "output_type": "execute_result"
    }
   ],
   "source": [
    "dict_user"
   ]
  },
  {
   "cell_type": "markdown",
   "id": "c671cdc1-587a-49d1-96d5-2683b0439ea5",
   "metadata": {},
   "source": [
    "### 딕셔너리 키 존재 여부 확인"
   ]
  },
  {
   "cell_type": "markdown",
   "id": "b6957b6e-a4a0-4a1c-b5a7-75e0a2c4ec63",
   "metadata": {},
   "source": [
    "* 확인하고 싶은 키 in 딕셔너리"
   ]
  },
  {
   "cell_type": "code",
   "execution_count": 8,
   "id": "450dd711-9bc4-4552-bf67-ac69a1951004",
   "metadata": {},
   "outputs": [
    {
     "name": "stdout",
     "output_type": "stream",
     "text": [
      "False\n",
      "True\n"
     ]
    }
   ],
   "source": [
    "print('취미' in dict_user)\n",
    "print('특기' in dict_user)"
   ]
  },
  {
   "cell_type": "markdown",
   "id": "0a48b1b5-17cb-458b-8c37-1cd478a5cca2",
   "metadata": {},
   "source": [
    "### 딕셔너리 메서드 (중요)\n",
    "\n",
    "* keys(): 키 전체를 리스트로 모음\n",
    "* values(): 값 전체를 리스트로 모음\n",
    "* items(): 키와 값 쌍을 (키, 값)와 같이 튜플로 모음\n",
    "* get(key): 키에 해당하는 값을 반환\n",
    "    * dict_data[] vs dict_data.get()\n",
    "* clear()\n",
    "    * 딕셔너리 키와 값 모두 삭제"
   ]
  },
  {
   "cell_type": "code",
   "execution_count": 15,
   "id": "73e34b8c-e900-4881-a76f-bfd6112a2940",
   "metadata": {},
   "outputs": [
    {
     "name": "stdout",
     "output_type": "stream",
     "text": [
      "None\n"
     ]
    }
   ],
   "source": [
    "print(dict_user.get('취미'))"
   ]
  },
  {
   "cell_type": "code",
   "execution_count": 16,
   "id": "a27982fe-ee2f-47ec-ae82-f231584b0113",
   "metadata": {},
   "outputs": [
    {
     "ename": "KeyError",
     "evalue": "'취미'",
     "output_type": "error",
     "traceback": [
      "\u001b[1;31m---------------------------------------------------------------------------\u001b[0m",
      "\u001b[1;31mKeyError\u001b[0m                                  Traceback (most recent call last)",
      "Cell \u001b[1;32mIn [16], line 1\u001b[0m\n\u001b[1;32m----> 1\u001b[0m \u001b[38;5;28mprint\u001b[39m(\u001b[43mdict_user\u001b[49m\u001b[43m[\u001b[49m\u001b[38;5;124;43m'\u001b[39;49m\u001b[38;5;124;43m취미\u001b[39;49m\u001b[38;5;124;43m'\u001b[39;49m\u001b[43m]\u001b[49m)\n",
      "\u001b[1;31mKeyError\u001b[0m: '취미'"
     ]
    }
   ],
   "source": [
    "print(dict_user['취미'])\n",
    "\n",
    "if '취미' in dict_user:\n",
    "    ....."
   ]
  },
  {
   "cell_type": "code",
   "execution_count": 17,
   "id": "b130b3f3-b44e-4cde-801e-23093ca30cf8",
   "metadata": {},
   "outputs": [
    {
     "data": {
      "text/plain": [
       "{'이름': '이미란', '나이': 31, '특기': ['준호오빠놀리기', '준호오빠까기']}"
      ]
     },
     "execution_count": 17,
     "metadata": {},
     "output_type": "execute_result"
    }
   ],
   "source": [
    "dict_user"
   ]
  },
  {
   "cell_type": "code",
   "execution_count": 18,
   "id": "704bd8f3-48d8-4db0-9a01-6c7ce32dd3ad",
   "metadata": {},
   "outputs": [
    {
     "name": "stdout",
     "output_type": "stream",
     "text": [
      "dict_keys(['이름', '나이', '특기'])\n",
      "dict_values(['이미란', 31, ['준호오빠놀리기', '준호오빠까기']])\n",
      "dict_items([('이름', '이미란'), ('나이', 31), ('특기', ['준호오빠놀리기', '준호오빠까기'])])\n"
     ]
    }
   ],
   "source": [
    "print(dict_user.keys())\n",
    "print(dict_user.values())\n",
    "print(dict_user.items())"
   ]
  },
  {
   "cell_type": "markdown",
   "id": "29e770bd-5eb3-48d7-acf9-8b929ba947df",
   "metadata": {},
   "source": [
    "이미란<br>\n",
    "31<br>\n",
    "[준호오빠놀리기, 준호오빠까기]<br>"
   ]
  },
  {
   "cell_type": "code",
   "execution_count": 19,
   "id": "141288c1-33db-4334-b7e1-b5f8b5d4d368",
   "metadata": {},
   "outputs": [
    {
     "name": "stdout",
     "output_type": "stream",
     "text": [
      "이미란\n",
      "31\n",
      "['준호오빠놀리기', '준호오빠까기']\n"
     ]
    }
   ],
   "source": [
    "for v in dict_user.values():\n",
    "    print(v)"
   ]
  },
  {
   "cell_type": "markdown",
   "id": "19cbd636-67f2-4976-9b36-878791bc4dbe",
   "metadata": {},
   "source": [
    "* icecream 딕셔너리에서 아이스크림 판매 금액의 총합을 출력하라."
   ]
  },
  {
   "cell_type": "code",
   "execution_count": 21,
   "id": "fde92eef-1a55-4832-b6fe-c4117e80ca74",
   "metadata": {},
   "outputs": [],
   "source": [
    "icecream = {'탱크보이': 1200, '폴라포': 1200, '빵빠레': 1800, '월드콘': 1500, '메로나': 1000}\n",
    "\n"
   ]
  },
  {
   "attachments": {
    "9d4a27d0-5ec0-463b-b5d9-eceb71dd0267.png": {
     "image/png": "[encoded data removed]"
    }
   },
   "cell_type": "markdown",
   "id": "2938f025-e104-4e7a-904b-8e7ed2643548",
   "metadata": {},
   "source": [
    "# hash table\n",
    "* 키에 대응하여 데이터를 저장하는 자료구조 <br>\n",
    "<img src=\"attachment:9d4a27d0-5ec0-463b-b5d9-eceb71dd0267.png\" width=\"250\"/><br>\n",
    "\n",
    "https://heung-bae-lee.github.io/2020/04/30/data_structure_05/"
   ]
  },
  {
   "cell_type": "markdown",
   "id": "172cdb1b-0981-4fa5-8d1c-05395ca4545b",
   "metadata": {},
   "source": [
    "## 기타 자료형\n",
    "* 리스트 - 지난 시간\n",
    "* 튜플 \n",
    "    * 튜플은 리스트와 같은 역할!: 여러 데이터를 하나로 묶어 표현하는 자료형\n",
    "    * 튜플은 한번 생성하고 나면 변경할 수 없다...! -> 수정과 삭제 불가\n",
    "    * 인덱스 사용 가능 -> 즉, 접근만 허용\n",
    "    * 생성방식\n",
    "        * () or 괄호 없이 표현"
   ]
  },
  {
   "cell_type": "code",
   "execution_count": 28,
   "id": "542ac5e8-52aa-4211-af90-611265c938e6",
   "metadata": {},
   "outputs": [
    {
     "name": "stdout",
     "output_type": "stream",
     "text": [
      "(1, 2, 3)\n",
      "(1, 2, 3)\n",
      "(1, 2, 3, 1, 2, 3)\n"
     ]
    }
   ],
   "source": [
    "tuple_nums = (1, 2, 3)\n",
    "tuple_nums2 = 1, 2, 3\n",
    "\n",
    "print(tuple_nums)\n",
    "print(tuple_nums2)\n",
    "\n",
    "tuple_nums+=tuple_nums\n",
    "print(tuple_nums)"
   ]
  },
  {
   "cell_type": "markdown",
   "id": "47ea8391-a3de-4754-bdde-8f91ccc6144c",
   "metadata": {},
   "source": [
    "* 세트: 리스트와 튜플과 달리 순서가 없고, 중복을 허용하지 않는다. -> 순서가 없어 인덱싱 불가\n",
    "```\n",
    "set_data = {요소1, 요소2, ...}\n",
    "```"
   ]
  },
  {
   "cell_type": "code",
   "execution_count": 30,
   "id": "e2c9ed23-6dc1-4160-b8bb-1648215f9a89",
   "metadata": {},
   "outputs": [
    {
     "name": "stdout",
     "output_type": "stream",
     "text": [
      "{1, 2, 3}\n"
     ]
    }
   ],
   "source": [
    "set_data = {1, 2, 3, 3, 3}\n",
    "\n",
    "print(set_data)"
   ]
  },
  {
   "cell_type": "code",
   "execution_count": 31,
   "id": "60da2f68-4c95-460b-a03e-737570fa4ae7",
   "metadata": {},
   "outputs": [
    {
     "name": "stdout",
     "output_type": "stream",
     "text": [
      "{'종현', '선영', '성희'}\n"
     ]
    }
   ],
   "source": [
    "li_data = ['선영', '종현', '성희', '성희', '성희']\n",
    "\n",
    "print(set(li_data))"
   ]
  },
  {
   "cell_type": "markdown",
   "id": "f4780250-7414-40d3-8116-ba84c4751c49",
   "metadata": {},
   "source": [
    "### 연습문제\n",
    "* http://www.jungol.co.kr/bbs/board.php?bo_table=pbank&wr_id=4379&sca=pyd0\n",
    "\n",
    "* http://www.jungol.co.kr/bbs/board.php?bo_table=pbank&wr_id=4380&sca=pyd0"
   ]
  }
 ],
 "metadata": {
  "kernelspec": {
   "display_name": "Python 3 (ipykernel)",
   "language": "python",
   "name": "python3"
  },
  "language_info": {
   "codemirror_mode": {
    "name": "ipython",
    "version": 3
   },
   "file_extension": ".py",
   "mimetype": "text/x-python",
   "name": "python",
   "nbconvert_exporter": "python",
   "pygments_lexer": "ipython3",
   "version": "3.9.13"
  }
 },
 "nbformat": 4,
 "nbformat_minor": 5
}
