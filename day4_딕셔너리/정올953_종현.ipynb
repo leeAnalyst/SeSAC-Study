{
 "cells": [
  {
   "cell_type": "markdown",
   "id": "343617ae-ee48-4e90-9b0f-bab6a3ed134a",
   "metadata": {},
   "source": [
    "## 정올 953. 야구선수들의 파울 기록을 입력 받아, 파울을 가장 적게 한 선수를 모두 출력하고, 최소 파울 횟수를 마지막에 출력하는 프로그램을 작성하시오."
   ]
  },
  {
   "cell_type": "code",
   "execution_count": 10,
   "id": "dd8cbd00-0805-4483-a561-55e88aaa3ef0",
   "metadata": {},
   "outputs": [
    {
     "name": "stdin",
     "output_type": "stream",
     "text": [
      " Jay John John Jay Jack Jack John Jo Jo Jack\n"
     ]
    },
    {
     "name": "stdout",
     "output_type": "stream",
     "text": [
      "Jay\n",
      "Jo\n",
      "2\n"
     ]
    }
   ],
   "source": [
    "player_li = list(input().split())\n",
    "total = {}\n",
    "for i in player_li:\n",
    "    try: total[i] += 1\n",
    "    except: total[i] = 1\n",
    "    \n",
    "for p, f in total.items():\n",
    "    if f == min(total.values()):\n",
    "        print(p)\n",
    "print(min(total.values()))\n",
    "\n",
    "# try, except는 google이 알려줬어요."
   ]
  }
 ],
 "metadata": {
  "kernelspec": {
   "display_name": "Python 3 (ipykernel)",
   "language": "python",
   "name": "python3"
  },
  "language_info": {
   "codemirror_mode": {
    "name": "ipython",
    "version": 3
   },
   "file_extension": ".py",
   "mimetype": "text/x-python",
   "name": "python",
   "nbconvert_exporter": "python",
   "pygments_lexer": "ipython3",
   "version": "3.10.7"
  },
  "toc-showtags": true
 },
 "nbformat": 4,
 "nbformat_minor": 5
}
