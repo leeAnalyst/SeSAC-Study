{
 "cells": [
  {
   "cell_type": "markdown",
   "id": "a53c98ee-2184-41e9-baee-73b293c4076e",
   "metadata": {},
   "source": [
    "## 정수 n이 주어질 때, n이하의 짝수를 모두 더한 값을 return 하도록 solution 함수를 작성해주세요."
   ]
  },
  {
   "cell_type": "code",
   "execution_count": 15,
   "id": "97f7b88f-6d51-4e9c-b856-2db80fbdf58a",
   "metadata": {},
   "outputs": [],
   "source": [
    "# comprehension으로 써보려다 실패함 \n",
    "def solution(n):\n",
    "    sum = 0\n",
    "    for i in range(0, n+1):\n",
    "        if i % 2 == 0:\n",
    "            sum += i\n",
    "    return sum"
   ]
  }
 ],
 "metadata": {
  "kernelspec": {
   "display_name": "Python 3 (ipykernel)",
   "language": "python",
   "name": "python3"
  },
  "language_info": {
   "codemirror_mode": {
    "name": "ipython",
    "version": 3
   },
   "file_extension": ".py",
   "mimetype": "text/x-python",
   "name": "python",
   "nbconvert_exporter": "python",
   "pygments_lexer": "ipython3",
   "version": "3.10.7"
  }
 },
 "nbformat": 4,
 "nbformat_minor": 5
}
