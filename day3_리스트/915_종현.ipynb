{
 "cells": [
  {
   "cell_type": "markdown",
   "id": "0ea61194-cd9e-4a29-83b9-9184637346ee",
   "metadata": {},
   "source": [
    "## 100개 이하의 정수를 한 줄로 입력받아 입력 받은 개수를 출력한 후, 입력받은 정수를 차례로 출력하되 그 수가 홀수이면 2배한 값을, 짝수인 경우에는 2로 나눈 몫을 출력하는 프로그램을 작성하시오."
   ]
  },
  {
   "cell_type": "code",
   "execution_count": 62,
   "id": "530ebc28-716e-4ba7-9ee3-fa2d7d2da527",
   "metadata": {},
   "outputs": [
    {
     "name": "stdin",
     "output_type": "stream",
     "text": [
      " 8 10 5 15 100\n"
     ]
    },
    {
     "name": "stdout",
     "output_type": "stream",
     "text": [
      "5\n",
      "[4, 5, 10, 30, 50]\n"
     ]
    }
   ],
   "source": [
    "nums = list(map(int, input().split()))\n",
    "print(len(nums))\n",
    "num = 0\n",
    "for num in range(len(nums)):\n",
    "    if nums[num] % 2 == 0:\n",
    "        nums[num] //= 2\n",
    "    else:\n",
    "        nums[num] *= 2\n",
    "print(nums)\n",
    "# 두 시간 걸렸습니다.....ㅜㅜ"
   ]
  }
 ],
 "metadata": {
  "kernelspec": {
   "display_name": "Python 3 (ipykernel)",
   "language": "python",
   "name": "python3"
  },
  "language_info": {
   "codemirror_mode": {
    "name": "ipython",
    "version": 3
   },
   "file_extension": ".py",
   "mimetype": "text/x-python",
   "name": "python",
   "nbconvert_exporter": "python",
   "pygments_lexer": "ipython3",
   "version": "3.10.7"
  }
 },
 "nbformat": 4,
 "nbformat_minor": 5
}
