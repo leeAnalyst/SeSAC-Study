{
 "cells": [
  {
   "cell_type": "code",
   "execution_count": 1,
   "id": "9ac87a24-8efe-43d2-85e9-9155315e90f3",
   "metadata": {},
   "outputs": [],
   "source": [
    "# https://school.programmers.co.kr/learn/courses/30/lessons/120809\n",
    "# 정수 배열 numbers가 매개변수로 주어집니다. numbers의 각 원소에 두배한 원소를 가진 배열을 return하도록 solution 함수를 완성해주세요.\n",
    "\n",
    "#1\n",
    "def solution(numbers):\n",
    "    lst = []\n",
    "    for num in numbers:\n",
    "        lst.append(num*2)\n",
    "    return lst\n",
    "\n",
    "#2\n",
    "def solution(numbers):\n",
    "    return [num for num in numbers num*2]"
   ]
  },
  {
   "cell_type": "code",
   "execution_count": 15,
   "id": "e46db244-8648-4f57-8651-22a336be81da",
   "metadata": {},
   "outputs": [
    {
     "name": "stdin",
     "output_type": "stream",
     "text": [
      " 8 10 5 15 100\n"
     ]
    },
    {
     "name": "stdout",
     "output_type": "stream",
     "text": [
      "5\n",
      "4 5 10 30 50 "
     ]
    }
   ],
   "source": [
    "# http://www.jungol.co.kr/bbs/board.php?bo_table=pbank&wr_id=4343&sca=pyb0\n",
    "# 100개 이하의 정수를 한 줄로 입력받아 입력 받은 개수를 출력한 후, 입력받은 정수를 차례로 출력하되 그 수가 홀수이면 2배한 값을, 짝수인 경우에는 2로 나눈 몫을 출력하는 프로그램을 작성하시오.\n",
    "\n",
    "a = input().split()\n",
    "print(len(a))\n",
    "\n",
    "for i in a:\n",
    "    if int(i) % 2 == 0:\n",
    "        print(int(int(i)/2), end = ' ')\n",
    "    elif int(i) % 2:\n",
    "        print(int(int(i)*2), end = ' ')"
   ]
  },
  {
   "cell_type": "code",
   "execution_count": null,
   "id": "6c690c58-0abd-48a6-9296-f891b213546d",
   "metadata": {},
   "outputs": [],
   "source": [
    "# https://school.programmers.co.kr/learn/courses/30/lessons/120831\n",
    "# 정수 n이 주어질 때, n이하의 짝수를 모두 더한 값을 return 하도록 solution 함수를 작성해주세요.\n",
    "\n",
    "#1\n",
    "def solution(n):\n",
    "    lst=0\n",
    "    r = range(n+1)\n",
    "    for i in r:\n",
    "        if i%2==0:\n",
    "            lst += i\n",
    "    return lst\n",
    "\n",
    "#2\n",
    "def solution(n):\n",
    "    a = [even for even in range(n+1) if even%2 == 0]\n",
    "    return sum(a)"
   ]
  }
 ],
 "metadata": {
  "kernelspec": {
   "display_name": "Python 3 (ipykernel)",
   "language": "python",
   "name": "python3"
  },
  "language_info": {
   "codemirror_mode": {
    "name": "ipython",
    "version": 3
   },
   "file_extension": ".py",
   "mimetype": "text/x-python",
   "name": "python",
   "nbconvert_exporter": "python",
   "pygments_lexer": "ipython3",
   "version": "3.10.8"
  }
 },
 "nbformat": 4,
 "nbformat_minor": 5
}
