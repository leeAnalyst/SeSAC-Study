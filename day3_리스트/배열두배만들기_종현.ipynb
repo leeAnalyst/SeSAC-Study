{
 "cells": [
  {
   "cell_type": "markdown",
   "id": "41f6cd96-478c-449c-8529-c718813a9d09",
   "metadata": {},
   "source": [
    "## programmers 배열 두배 만들기\n",
    "정수 배열 numbers가 매개변수로 주어집니다. numbers의 각 원소에 두배한 원소를 가진 배열을 return하도록 solution 함수를 완성해주세요."
   ]
  },
  {
   "cell_type": "code",
   "execution_count": null,
   "id": "d8e6ca7b-0672-41a9-925a-a2b754a863f8",
   "metadata": {},
   "outputs": [],
   "source": [
    "# 이건 미리 예전에 풀어봐서 아래 list comprehension으로 다시 풀어봤어! \n",
    "def solution(numbers):\n",
    "    double = []\n",
    "    for num in numbers:\n",
    "        double.append(num*2)\n",
    "    return double"
   ]
  },
  {
   "cell_type": "code",
   "execution_count": 1,
   "id": "36fc6d62-2fc1-424f-886a-76670f935aea",
   "metadata": {},
   "outputs": [],
   "source": [
    "def solution(numbers):\n",
    "    return [num*2 for num in numbers]"
   ]
  }
 ],
 "metadata": {
  "kernelspec": {
   "display_name": "Python 3 (ipykernel)",
   "language": "python",
   "name": "python3"
  },
  "language_info": {
   "codemirror_mode": {
    "name": "ipython",
    "version": 3
   },
   "file_extension": ".py",
   "mimetype": "text/x-python",
   "name": "python",
   "nbconvert_exporter": "python",
   "pygments_lexer": "ipython3",
   "version": "3.10.7"
  }
 },
 "nbformat": 4,
 "nbformat_minor": 5
}
