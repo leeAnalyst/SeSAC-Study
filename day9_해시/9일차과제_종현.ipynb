{
 "cells": [
  {
   "cell_type": "markdown",
   "id": "98e2f1b1-a0d8-49c3-9eb6-08fe3475156a",
   "metadata": {},
   "source": [
    "### Programmers 완주하지 못한 선수"
   ]
  },
  {
   "cell_type": "markdown",
   "id": "fe1c8e7e-ab1e-46d0-9314-d733c75fbec5",
   "metadata": {},
   "source": [
    "수많은 마라톤 선수들이 마라톤에 참여하였습니다. 단 한 명의 선수를 제외하고는 모든 선수가 마라톤을 완주하였습니다.\n",
    "마라톤에 참여한 선수들의 이름이 담긴 배열 participant와 완주한 선수들의 이름이 담긴 배열 completion이 주어질 때, 완주하지 못한 선수의 이름을 return 하도록 solution 함수를 작성해주세요."
   ]
  },
  {
   "cell_type": "code",
   "execution_count": 2,
   "id": "d0fda708-6489-412d-a03f-a82ddd0cc9b1",
   "metadata": {},
   "outputs": [],
   "source": [
    "# 미란쎈쎄와 같이 푼 방식과 비슷한 구조같아서 비슷하게(똑같이) 풀었어요.\n",
    "# dictionary를 이용한 문제들은 대부분 이런 형식인가욤? 무려 9점을 받았다구요!!!\n",
    "def solution(participant, completion):\n",
    "    pa_co = {}\n",
    "    for i in participant:\n",
    "        if i in pa_co:\n",
    "            pa_co[i] += 1\n",
    "        else:\n",
    "            pa_co[i] = 1\n",
    "    for s in completion:\n",
    "        if s in pa_co:\n",
    "            pa_co[s] -= 1\n",
    "    return [no_co for no_co, v in pa_co.items() if v==1][0]"
   ]
  },
  {
   "cell_type": "code",
   "execution_count": null,
   "id": "e920ae5b-5665-469a-a2b1-b54e1e415bdd",
   "metadata": {},
   "outputs": [],
   "source": [
    "# 다른 사람의 풀이 / collections 모듈의 Counter 사용 / python의 간결함이란... 예술의 경지 그 어느 지점과 같은 \n",
    "import collections\n",
    "\n",
    "def solution(participant, completion):\n",
    "    answer = collections.Counter(participant) - collections.Counter(completion)\n",
    "    return list(answer.keys())[0]"
   ]
  }
 ],
 "metadata": {
  "kernelspec": {
   "display_name": "Python 3 (ipykernel)",
   "language": "python",
   "name": "python3"
  },
  "language_info": {
   "codemirror_mode": {
    "name": "ipython",
    "version": 3
   },
   "file_extension": ".py",
   "mimetype": "text/x-python",
   "name": "python",
   "nbconvert_exporter": "python",
   "pygments_lexer": "ipython3",
   "version": "3.10.7"
  }
 },
 "nbformat": 4,
 "nbformat_minor": 5
}
