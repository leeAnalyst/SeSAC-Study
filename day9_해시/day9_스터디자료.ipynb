{
 "cells": [
  {
   "cell_type": "markdown",
   "id": "638e0c91-901b-4d1f-97a0-6ef38e5dca7a",
   "metadata": {
    "tags": []
   },
   "source": [
    "#  해시 (1/16)\n",
    "* 해시(Hash) 구조란\n",
    "    * 키(Key)와 값(Value) 쌍으로 이루어진 데이터 구조\n",
    "    * Key 를 이용하여 데이터(value)를 빠르게 찾을 수 있는 장점\n",
    "* 용어\n",
    "    * 키(key): 해시함수에 입력되는 값으로 고유한 값\n",
    "        * 해시함수에 입력되어 해시로 변경됨 -> 매칭\n",
    "    * 해시(Hash): 임의의 값을 고정 길이로 변환\n",
    "        * 입력값 그대로 입력하면 길이가 다양하므로 일관된 해시길이로 변경 (공간효율성)\n",
    "    * 해시테이블: key에 따라 매칭되는 데이터 구조\n",
    "    * 버킷(Bucket), 슬롯(Slot): 해시테이블 중 데이터가 저장되는 각각의 공간\n",
    "    * 해시 함수(HashFunction) : 입력되는 key값에 따라 매칭된 값을 찾아주는 함수\n",
    "    \n",
    "    <img src=\"https://laboputer.github.io/assets/img/algorithm/ds/07_hashtable1.PNG\"/>\n",
    "\n",
    "* 파이썬에서는 딕셔너리로 구현되어있음\n",
    "* 참고링크\n",
    "    * https://ai-rtistic.com/2022/01/29/data-structure-hash/#%ED%8C%8C%EC%9D%B4%EC%8D%AC%EC%9C%BC%EB%A1%9C-hash-%EA%B5%AC%ED%98%84\n",
    "    * https://laboputer.github.io/ps/2017/10/03/hashtable/"
   ]
  },
  {
   "cell_type": "markdown",
   "id": "ce63ba8a-6a55-4fc1-927c-3dfde3c6cc0e",
   "metadata": {},
   "source": [
    "## 단어찾기\n",
    "현수는 영어로 시는 쓰는 것을 좋아합니다.\n",
    "현수는 시를 쓰기 전에 시에 쓰일 단어를 미리 노트에 적어둡니다.\n",
    "이번에는 N개의 단어를 노트에 적었는데 시에 쓰지 않은 단어가 하나 있다고 합니다.\n",
    "여러분이 찾아 주세요.\n",
    "### 입력설명\n",
    "첫 번째 줄에 자연수 N(3<=N<=100)이 주어진다.\n",
    "두 번째 줄부터 노트에 미리 적어놓은 N개의 단어가 주어지고, 이어 바로 다음 줄부터 시에\n",
    "쓰인 N-1개의 단어가 주어진다.\n",
    "### 출력설명\n",
    "첫 번째 줄에 시에 쓰지 않은 한 개의 단어를 출력한다.\n",
    "#### 입력예제 1\n",
    "5<br>\n",
    "big<br>\n",
    "good<br>\n",
    "sky<br>\n",
    "blue<br>\n",
    "mouse<br>\n",
    "sky<br>\n",
    "good<br>\n",
    "mouse<br>\n",
    "big<br>\n",
    "#### 출력예제 1\n",
    "blue"
   ]
  },
  {
   "cell_type": "code",
   "execution_count": 4,
   "id": "7658d538-a188-45b6-be1a-161f798464aa",
   "metadata": {},
   "outputs": [
    {
     "name": "stdout",
     "output_type": "stream",
     "text": [
      " 5\n",
      " a\n",
      " b\n",
      " c\n",
      " d\n",
      " e\n"
     ]
    },
    {
     "name": "stdout",
     "output_type": "stream",
     "text": [
      "{'a': 1, 'b': 1, 'c': 1, 'd': 1, 'e': 1}\n"
     ]
    },
    {
     "name": "stdout",
     "output_type": "stream",
     "text": [
      " b\n",
      " c\n",
      " d\n",
      " a\n"
     ]
    },
    {
     "name": "stdout",
     "output_type": "stream",
     "text": [
      "{'a': 0, 'b': 0, 'c': 0, 'd': 0, 'e': 1}\n"
     ]
    }
   ],
   "source": [
    "n = int(input())\n",
    "dic = {}\n",
    "\n",
    "for i in range(n):\n",
    "    word = input()\n",
    "    if word in dic:\n",
    "        dic[word]+=1\n",
    "    else:\n",
    "        dic[word]=1\n",
    "\n",
    "print(dic)\n",
    "for j in range(n-1):\n",
    "    word = input()\n",
    "    if word in dic:\n",
    "        dic[word]-=1\n",
    "\n",
    "print(dic)\n",
    "for k, v in dic.items():\n",
    "    if v == 1:\n",
    "        print(k)\n",
    "        \n",
    "# print([k for k, v in dic.items() if v==1][0])"
   ]
  },
  {
   "cell_type": "markdown",
   "id": "578d8f0f-6a7a-40bd-a677-5a2ca7ac5627",
   "metadata": {},
   "source": [
    "## 아나그램\n",
    "\n",
    "Anagram이란 두 문자열이 알파벳의 나열 순서를 다르지만 그 구성이 일치하면 두 단어는 아나그램이라고 합니다.\n",
    "예를 들면 AbaAeCe 와 baeeACA 는 알파벳을 나열 순서는 다르지만 그 구성을 살펴보면 A(2), a(1), b(1), C(1), e(2)로 알파벳과 그 개수가 모두 일치합니다. 즉 어느 한 단어를 재 배열하면 상대편 단어가 될 수 있는 것을 아나그램이라 합니다.\n",
    "<br>\n",
    "길이가 같은 두 개의 단어가 주어지면 두 단어가 아나그램인지 판별하는 프로그램을 작성하세요. 아나그램 판별시 대소문자가 구분됩니다.\n",
    "\n",
    "### 입력설명\n",
    "첫 줄에 첫 번째 단어가 입력되고, 두 번째 줄에 두 번째 단어가 입력됩니다. 단어의 길이는 100을 넘지 않습니다.\n",
    "\n",
    "### 출력설명\n",
    "두 단어가 아나그램이면 “YES\"를 출력하고, 아니면 ”NO\"를 출력합니다.\n",
    "\n",
    "#### 입력예제 1\n",
    "\n",
    "AbaAeCe\n",
    "\n",
    "baeeACA\n",
    "\n",
    "#### 출력예제 1\n",
    "\n",
    "YES"
   ]
  },
  {
   "cell_type": "code",
   "execution_count": 13,
   "id": "4ef4c811-2a53-484e-bb3f-3e5b10d67b22",
   "metadata": {},
   "outputs": [
    {
     "name": "stdout",
     "output_type": "stream",
     "text": [
      " attr\n",
      " brtt\n"
     ]
    },
    {
     "name": "stdout",
     "output_type": "stream",
     "text": [
      "{'a': 1, 't': 2, 'r': 1}\n",
      "{'a': 1, 't': 0, 'r': 0}\n",
      "NO\n"
     ]
    }
   ],
   "source": [
    "dic = {}\n",
    "str1 = input()\n",
    "str2 = input()\n",
    "\n",
    "for s in str1:\n",
    "    if s in dic:\n",
    "        dic[s] += 1\n",
    "    else:\n",
    "        dic[s] = 1\n",
    "print(dic)\n",
    "for s in str2:\n",
    "    if s in dic:\n",
    "        dic[s] -= 1\n",
    "print(dic)\n",
    "print('NO' if len([k for k, v in dic.items() if v!=0]) else 'YES')"
   ]
  },
  {
   "cell_type": "markdown",
   "id": "b8f411fe-d220-470a-b79d-7e2ef1c7abe9",
   "metadata": {},
   "source": [
    "## 숙제\n",
    "https://school.programmers.co.kr/learn/courses/30/lessons/42576"
   ]
  }
 ],
 "metadata": {
  "kernelspec": {
   "display_name": "Python 3",
   "language": "python",
   "name": "python3"
  },
  "language_info": {
   "codemirror_mode": {
    "name": "ipython",
    "version": 3
   },
   "file_extension": ".py",
   "mimetype": "text/x-python",
   "name": "python",
   "nbconvert_exporter": "python",
   "pygments_lexer": "ipython3",
   "version": "3.10.3 (tags/v3.10.3:a342a49, Mar 16 2022, 13:07:40) [MSC v.1929 64 bit (AMD64)]"
  },
  "vscode": {
   "interpreter": {
    "hash": "4ac2425a4f39998f3fc427b35bf9b8e99528dc5171d9310d145fcfffccfa0e27"
   }
  }
 },
 "nbformat": 4,
 "nbformat_minor": 5
}
