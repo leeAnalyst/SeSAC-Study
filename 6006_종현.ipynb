{
 "cells": [
  {
   "cell_type": "markdown",
   "id": "3e2769b7-a825-489e-a76d-dd195fda3711",
   "metadata": {},
   "source": [
    "# 6006 : [기초-출력] 출력하기06(py)"
   ]
  },
  {
   "cell_type": "code",
   "execution_count": 33,
   "id": "814f02e1-8098-44ba-952a-b0da3dc829ca",
   "metadata": {},
   "outputs": [
    {
     "name": "stdout",
     "output_type": "stream",
     "text": [
      "\"!@#$%^&*()'\n"
     ]
    }
   ],
   "source": [
    "print(\"\\\"!@#$%^&*()\\'\")"
   ]
  }
 ],
 "metadata": {
  "kernelspec": {
   "display_name": "Python 3 (ipykernel)",
   "language": "python",
   "name": "python3"
  },
  "language_info": {
   "codemirror_mode": {
    "name": "ipython",
    "version": 3
   },
   "file_extension": ".py",
   "mimetype": "text/x-python",
   "name": "python",
   "nbconvert_exporter": "python",
   "pygments_lexer": "ipython3",
   "version": "3.10.7"
  }
 },
 "nbformat": 4,
 "nbformat_minor": 5
}
