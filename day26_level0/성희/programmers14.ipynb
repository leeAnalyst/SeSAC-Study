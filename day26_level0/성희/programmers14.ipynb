{
 "cells": [
  {
   "cell_type": "markdown",
   "id": "a55106c2-fd8d-49dc-851b-34626928b8c0",
   "metadata": {},
   "source": [
    "# 숫자비교하기"
   ]
  },
  {
   "cell_type": "code",
   "execution_count": 243,
   "id": "90aca950-2ec6-4e26-8f30-9a69ddea16ac",
   "metadata": {},
   "outputs": [],
   "source": [
    "num1 = 2\n",
    "num2 = 3"
   ]
  },
  {
   "cell_type": "code",
   "execution_count": 245,
   "id": "cb787018-e73c-4130-b480-2bdc48d78c11",
   "metadata": {},
   "outputs": [
    {
     "data": {
      "text/plain": [
       "-1"
      ]
     },
     "execution_count": 245,
     "metadata": {},
     "output_type": "execute_result"
    }
   ],
   "source": [
    "1 if num1 == num2 else -1"
   ]
  },
  {
   "cell_type": "markdown",
   "id": "2a7c6875-b9fe-460f-b4f1-d31ce24e7657",
   "metadata": {},
   "source": [
    "# 두 수의 나눗셈"
   ]
  },
  {
   "cell_type": "code",
   "execution_count": 246,
   "id": "928cd7ea-28d9-4d55-bfd0-913b61a99118",
   "metadata": {},
   "outputs": [
    {
     "data": {
      "text/plain": [
       "1500"
      ]
     },
     "execution_count": 246,
     "metadata": {},
     "output_type": "execute_result"
    }
   ],
   "source": [
    "num1 = 3\n",
    "num2 = 2\n",
    "int(num1/num2*1000)"
   ]
  },
  {
   "cell_type": "code",
   "execution_count": null,
   "id": "bdd7a448-657d-4c0a-981a-adecf87d9320",
   "metadata": {
    "tags": []
   },
   "outputs": [],
   "source": []
  },
  {
   "cell_type": "markdown",
   "id": "9fa1d4bc-9509-47f3-bfa7-22f4b4279d22",
   "metadata": {},
   "source": [
    "# 몫구하기"
   ]
  },
  {
   "cell_type": "code",
   "execution_count": 247,
   "id": "5ae628e6-87f3-46e7-b66d-3afff34f0d04",
   "metadata": {},
   "outputs": [
    {
     "data": {
      "text/plain": [
       "1"
      ]
     },
     "execution_count": 247,
     "metadata": {},
     "output_type": "execute_result"
    }
   ],
   "source": [
    "num1 // num2"
   ]
  },
  {
   "cell_type": "markdown",
   "id": "6ec80092-a849-4b09-8cb8-074efb7d357f",
   "metadata": {},
   "source": [
    "# 머쓱이보다 큰사람"
   ]
  },
  {
   "cell_type": "code",
   "execution_count": 248,
   "id": "f3ee740b-14e9-4956-b5aa-02271f288b89",
   "metadata": {},
   "outputs": [
    {
     "data": {
      "text/plain": [
       "3"
      ]
     },
     "execution_count": 248,
     "metadata": {},
     "output_type": "execute_result"
    }
   ],
   "source": [
    "array = [149, 180, 192, 170]\n",
    "height = 167\n",
    "\n",
    "count = 0\n",
    "for i in array:\n",
    "    if i > height:\n",
    "        count += 1\n",
    "count"
   ]
  },
  {
   "cell_type": "markdown",
   "id": "7f935d04-95a8-41d9-90f2-1a2d55c50221",
   "metadata": {},
   "source": [
    "# 중복된 숫자개수"
   ]
  },
  {
   "cell_type": "code",
   "execution_count": 251,
   "id": "ca3f1c90-fa55-4e30-a135-c4233621aab5",
   "metadata": {},
   "outputs": [],
   "source": [
    "array = [1, 1, 2, 3, 4, 5]\n",
    "n = 1"
   ]
  },
  {
   "cell_type": "code",
   "execution_count": 252,
   "id": "3291c41d-350e-4fa7-9585-05ba76c771d0",
   "metadata": {
    "tags": []
   },
   "outputs": [
    {
     "data": {
      "text/plain": [
       "2"
      ]
     },
     "execution_count": 252,
     "metadata": {},
     "output_type": "execute_result"
    }
   ],
   "source": [
    "array.count(n)"
   ]
  }
 ],
 "metadata": {
  "kernelspec": {
   "display_name": "Python 3 (ipykernel)",
   "language": "python",
   "name": "python3"
  },
  "language_info": {
   "codemirror_mode": {
    "name": "ipython",
    "version": 3
   },
   "file_extension": ".py",
   "mimetype": "text/x-python",
   "name": "python",
   "nbconvert_exporter": "python",
   "pygments_lexer": "ipython3",
   "version": "3.10.8"
  }
 },
 "nbformat": 4,
 "nbformat_minor": 5
}
