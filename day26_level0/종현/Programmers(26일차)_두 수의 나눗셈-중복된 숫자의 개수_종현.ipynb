{
 "cells": [
  {
   "cell_type": "markdown",
   "id": "cdb17d36-df60-4c7b-bade-6ece1c585292",
   "metadata": {},
   "source": [
    "### 두 수의 나눗셈 (120806)\n",
    "문제 : 정수 num1과 num2가 매개변수로 주어질 때, num1을 num2로 나눈 값에 1,000을 곱한 후 정수 부분을 return 하도록 soltuion 함수를 완성해주세요."
   ]
  },
  {
   "cell_type": "code",
   "execution_count": 1,
   "id": "45d4808b-e839-4aad-b0fb-62b072f4a9ad",
   "metadata": {},
   "outputs": [],
   "source": [
    "def solution(num1, num2):\n",
    "    return int((num1 / num2)*1000)"
   ]
  },
  {
   "cell_type": "code",
   "execution_count": null,
   "id": "e317d8bb-facb-401c-945e-cc02b381010a",
   "metadata": {},
   "outputs": [],
   "source": []
  },
  {
   "cell_type": "markdown",
   "id": "af31f3c3-b37b-4a7d-a8d5-317ef363809f",
   "metadata": {},
   "source": [
    "### 몫 구하기 (120805)\n",
    "문제 : 정수 num1, num2가 매개변수로 주어질 때, num1을 num2로 나눈 몫을 return 하도록 solution 함수를 완성해주세요."
   ]
  },
  {
   "cell_type": "code",
   "execution_count": 2,
   "id": "e5687ad1-164d-4aa5-8392-56371769a0f6",
   "metadata": {},
   "outputs": [],
   "source": [
    "def solution(num1, num2):\n",
    "    return int(num1 // num2)"
   ]
  },
  {
   "cell_type": "code",
   "execution_count": null,
   "id": "f59f83e7-1995-4773-ac81-218b1736918e",
   "metadata": {},
   "outputs": [],
   "source": []
  },
  {
   "cell_type": "markdown",
   "id": "d3a2cf46-9a52-4025-8dbb-e480cde0dfb3",
   "metadata": {},
   "source": [
    "### 두 수의 곱 (120804)\n",
    "문제 : 정수 num1, num2가 매개변수 주어집니다. num1과 num2를 곱한 값을 return 하도록 solution 함수를 완성해주세요."
   ]
  },
  {
   "cell_type": "code",
   "execution_count": 3,
   "id": "0525922e-1f8f-4206-9691-b0f1a5da0969",
   "metadata": {},
   "outputs": [],
   "source": [
    "def solution(num1, num2):\n",
    "    return num1*num2"
   ]
  },
  {
   "cell_type": "code",
   "execution_count": null,
   "id": "897091d2-0e83-4a34-9ba5-1604e48fabd0",
   "metadata": {},
   "outputs": [],
   "source": []
  },
  {
   "cell_type": "markdown",
   "id": "e7a0ef14-b19b-4d5f-a66a-873791b6e346",
   "metadata": {},
   "source": [
    "### 두 수의 차 (120803)\n",
    "문제 : 정수 num1과 num2가 주어질 때, num1에서 num2를 뺀 값을 return하도록 soltuion 함수를 완성해주세요."
   ]
  },
  {
   "cell_type": "code",
   "execution_count": 4,
   "id": "ab111a8e-6f3a-4020-9bf1-0c9724abbbe4",
   "metadata": {},
   "outputs": [],
   "source": [
    "def solution(num1, num2):\n",
    "    return num1 - num2"
   ]
  },
  {
   "cell_type": "code",
   "execution_count": null,
   "id": "8126e9c3-e884-4ec5-94d0-1b27c2c34532",
   "metadata": {},
   "outputs": [],
   "source": []
  },
  {
   "cell_type": "markdown",
   "id": "7a65c0f0-c99d-4c66-a0ba-b7163316e474",
   "metadata": {},
   "source": [
    "### 두 수의 합 (120802)\n",
    "문제 : 정수 num1과 num2가 주어질 때, num1과 num2의 합을 return하도록 soltuion 함수를 완성해주세요."
   ]
  },
  {
   "cell_type": "code",
   "execution_count": 5,
   "id": "ec48c223-11d3-4892-ae32-9490c4477239",
   "metadata": {},
   "outputs": [],
   "source": [
    "def solution(num1, num2):\n",
    "    return num1 + num2"
   ]
  },
  {
   "cell_type": "code",
   "execution_count": null,
   "id": "ecf10bac-dbb7-428f-84c5-4547477b62af",
   "metadata": {},
   "outputs": [],
   "source": []
  },
  {
   "cell_type": "markdown",
   "id": "d05e096c-abc2-4f8f-8b4a-0e8310b2452c",
   "metadata": {},
   "source": [
    "### 머쓱이보다 키 큰 사람 (120585)\n",
    "문제 : 머쓱이는 학교에서 키 순으로 줄을 설 때 몇 번째로 서야 하는지 궁금해졌습니다. 머쓱이네 반 친구들의 키가 담긴 정수 배열 array와 머쓱이의 키 height가 매개변수로 주어질 때, 머쓱이보다 키 큰 사람 수를 return 하도록 solution 함수를 완성해보세요."
   ]
  },
  {
   "cell_type": "code",
   "execution_count": 6,
   "id": "7f037bba-4df7-45cf-937a-e0ed590dc26a",
   "metadata": {},
   "outputs": [],
   "source": [
    "def solution(array, height):\n",
    "    taller = 0\n",
    "    for i in array:\n",
    "        if height < i:\n",
    "            taller += 1\n",
    "    return taller"
   ]
  },
  {
   "cell_type": "code",
   "execution_count": 7,
   "id": "8baaa432-f4eb-43fc-9712-0e73c0f2546f",
   "metadata": {},
   "outputs": [],
   "source": [
    "def solution(array, height):\n",
    "    return len([i for i in array if i > height])"
   ]
  },
  {
   "cell_type": "code",
   "execution_count": null,
   "id": "ce01bda1-c180-4e52-960c-3383d9713fbf",
   "metadata": {},
   "outputs": [],
   "source": []
  },
  {
   "cell_type": "markdown",
   "id": "db326cab-5932-4dcd-b907-3481d93ced75",
   "metadata": {},
   "source": [
    "### 중복된 숫자 개수 (120583)\n",
    "문제 : 정수가 담긴 배열 array와 정수 n이 매개변수로 주어질 때, array에 n이 몇 개 있는 지를 return 하도록 solution 함수를 완성해보세요."
   ]
  },
  {
   "cell_type": "code",
   "execution_count": 8,
   "id": "fb5fd84a-5383-4bf3-85e9-1516238e9f8b",
   "metadata": {},
   "outputs": [],
   "source": [
    "def solution(array, n):\n",
    "    return array.count(n)"
   ]
  }
 ],
 "metadata": {
  "kernelspec": {
   "display_name": "Python 3 (ipykernel)",
   "language": "python",
   "name": "python3"
  },
  "language_info": {
   "codemirror_mode": {
    "name": "ipython",
    "version": 3
   },
   "file_extension": ".py",
   "mimetype": "text/x-python",
   "name": "python",
   "nbconvert_exporter": "python",
   "pygments_lexer": "ipython3",
   "version": "3.10.7"
  }
 },
 "nbformat": 4,
 "nbformat_minor": 5
}
