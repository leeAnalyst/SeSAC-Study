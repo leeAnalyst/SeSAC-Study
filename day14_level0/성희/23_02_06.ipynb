{
 "cells": [
  {
   "cell_type": "markdown",
   "id": "84baf84b-1b6d-413d-abd8-e982b2de6fe7",
   "metadata": {},
   "source": [
    "7의 개수"
   ]
  },
  {
   "cell_type": "code",
   "execution_count": 6,
   "id": "5dfde351-897a-4717-ad1e-c857fb47c7dc",
   "metadata": {
    "tags": []
   },
   "outputs": [
    {
     "name": "stdout",
     "output_type": "stream",
     "text": [
      "4\n"
     ]
    }
   ],
   "source": [
    "array = ['7','67','77']\n",
    "li_array = list(''.join(map(str, array)))\n",
    "# 1 map(str, array)로 array원소들의 특성을 문자열로 만들고\n",
    "# 2.''.join() 으로 문자열들을 하나로 만든다 -> '77717'\n",
    "# 3. list() 로 하나하나식 찢어놓는다.\n",
    "\n",
    "count = 0\n",
    "for num in li_array:\n",
    "    if num == '7':\n",
    "        count += 1\n",
    "print(count)"
   ]
  },
  {
   "cell_type": "code",
   "execution_count": 2,
   "id": "9875c17a-4734-46c0-a1d6-183303bf5d90",
   "metadata": {},
   "outputs": [],
   "source": [
    "def solution(array):\n",
    "    return str(array).count('7')"
   ]
  },
  {
   "cell_type": "code",
   "execution_count": 15,
   "id": "ecf1cb86-a33b-43bf-ad2b-466a33d157de",
   "metadata": {},
   "outputs": [
    {
     "data": {
      "text/plain": [
       "'C:\\\\Users\\\\업무용\\\\jupyter_python'"
      ]
     },
     "execution_count": 15,
     "metadata": {},
     "output_type": "execute_result"
    }
   ],
   "source": [
    "%pwd"
   ]
  },
  {
   "cell_type": "markdown",
   "id": "85a02832-56cc-40d0-b1a7-318eddce23a5",
   "metadata": {},
   "source": [
    "문자열 정렬하기(2)"
   ]
  },
  {
   "cell_type": "code",
   "execution_count": 5,
   "id": "8e782966-8f26-4475-a293-c2d4444084fe",
   "metadata": {
    "tags": []
   },
   "outputs": [
    {
     "data": {
      "text/plain": [
       "'abcd'"
      ]
     },
     "execution_count": 5,
     "metadata": {},
     "output_type": "execute_result"
    }
   ],
   "source": [
    "my_string = \"Bcad\"\n",
    "''.join(sorted(my_string.lower()))\n",
    "\n",
    "# 1. my_string.lower()\n",
    "# 2. sorted()\n",
    "# 3. ''.join()  = 리스트 원소들을 하나로 합침.\n",
    "# 단 각 원소들이 문자일때만 가능!\n"
   ]
  },
  {
   "cell_type": "code",
   "execution_count": null,
   "id": "43918826-8d78-4197-b7b5-ea9a3ede89cd",
   "metadata": {},
   "outputs": [],
   "source": []
  },
  {
   "cell_type": "markdown",
   "id": "ebf6cb6d-ff3e-4097-8c1c-4737ee927962",
   "metadata": {},
   "source": [
    "세균분열"
   ]
  },
  {
   "cell_type": "code",
   "execution_count": 7,
   "id": "4734492e-fdfb-4d04-9100-bb7ea9aa3698",
   "metadata": {},
   "outputs": [],
   "source": [
    "def solution(n, t):\n",
    "    return n * 2 ** t"
   ]
  },
  {
   "cell_type": "code",
   "execution_count": null,
   "id": "9662a54a-12da-492d-8fc7-ec709c77a0d8",
   "metadata": {},
   "outputs": [],
   "source": []
  },
  {
   "cell_type": "markdown",
   "id": "8b0068f9-36c7-4c29-a84a-47839bf8567a",
   "metadata": {},
   "source": [
    "제곱수 판별하기"
   ]
  },
  {
   "cell_type": "code",
   "execution_count": 8,
   "id": "c92bb5a3-9968-414b-b2c9-d59c03e0ac1f",
   "metadata": {},
   "outputs": [],
   "source": [
    "def solution(n):\n",
    "    return 1 if n**0.5 == int(n**0.5) else 2"
   ]
  },
  {
   "cell_type": "code",
   "execution_count": null,
   "id": "c0082278-96c6-4383-85a4-8d495c1eb191",
   "metadata": {},
   "outputs": [],
   "source": []
  },
  {
   "cell_type": "markdown",
   "id": "13b71239-2f72-4e69-8825-4a888316aa23",
   "metadata": {},
   "source": [
    "문자열 안에 문자열"
   ]
  },
  {
   "cell_type": "code",
   "execution_count": 10,
   "id": "beaa0dc4-8572-4435-8a1e-744350cf72b2",
   "metadata": {},
   "outputs": [],
   "source": [
    "def solution(str1, str2):\n",
    "    s1 = len(str1)   # 22\n",
    "    s2 = len(str2)   # 3\n",
    "\n",
    "    answer = 0\n",
    "    for n in range(0, s1):\n",
    "        if str1[n:(n + s2)] == str2:  # str1[2:5] == '6CD'\n",
    "            answer += 1\n",
    "            \n",
    "    if answer:\n",
    "        return(1)\n",
    "    else:\n",
    "        return(2)"
   ]
  },
  {
   "cell_type": "code",
   "execution_count": null,
   "id": "66f1e821-8c2a-45d6-b3f4-d692183d99c4",
   "metadata": {},
   "outputs": [],
   "source": []
  },
  {
   "cell_type": "markdown",
   "id": "5ae544eb-5626-4a8a-b98a-a01c53f5c065",
   "metadata": {},
   "source": [
    "OX문제"
   ]
  },
  {
   "cell_type": "code",
   "execution_count": 11,
   "id": "7f667b78-3949-4844-99f5-9db66fa3563f",
   "metadata": {},
   "outputs": [
    {
     "name": "stdout",
     "output_type": "stream",
     "text": [
      "['3', '-', '4', '=', '-3']\n",
      "['5', '+', '6', '=', '11']\n",
      "['X', 'O']\n"
     ]
    }
   ],
   "source": [
    "quiz = [\"3 - 4 = -3\", \"5 + 6 = 11\"]\n",
    "fx = []\n",
    "result = []\n",
    "\n",
    "#1. quiz 갯수대로 O, X\n",
    "for quiz_idx in range(len(quiz)):   # 2번\n",
    "    fx.append(quiz[quiz_idx].split(' '))  # 산식을 요소별로 나눔.\n",
    "    print(fx[quiz_idx])\n",
    "    \n",
    "#2. 숫자와 연사자를 묶음\n",
    "    numlist, operator = [], []\n",
    "    for num_idx in range(len(fx[quiz_idx])):     # ['3', '-', '4', '=', '-3']\n",
    "        if num_idx % 2 == 0:                     \n",
    "            numlist.append(int(fx[quiz_idx][num_idx]))       # ['3', '4', '-3']\n",
    "        else:\n",
    "            operator.append(fx[quiz_idx][num_idx])           # ['-', '=']\n",
    "            \n",
    "# 3. 분해 된 식이 맞으면 O, 아니면 X                \n",
    "    answer = 0\n",
    "    if operator[0] == '+':\n",
    "        answer = numlist[0] + numlist[1]\n",
    "        if answer == numlist[2]:\n",
    "            result.append('O')\n",
    "        else:\n",
    "            result.append('X')\n",
    "\n",
    "    else:\n",
    "        answer = numlist[0] - numlist[1]\n",
    "        if answer == numlist[2]:\n",
    "            result.append('O')\n",
    "        else:\n",
    "            result.append('X')\n",
    "\n",
    "print(result)"
   ]
  },
  {
   "cell_type": "code",
   "execution_count": null,
   "id": "e853ecb0-8129-4987-a47d-84b922ea8cd2",
   "metadata": {},
   "outputs": [],
   "source": []
  },
  {
   "cell_type": "markdown",
   "id": "50f25083-74a3-40ec-8d80-1cb47000bc19",
   "metadata": {},
   "source": [
    "자릿수 더하기"
   ]
  },
  {
   "cell_type": "code",
   "execution_count": 12,
   "id": "0e917f70-3794-4019-8c76-41e6786af5e7",
   "metadata": {},
   "outputs": [],
   "source": [
    "def solution(n):\n",
    "    answer = 0\n",
    "    for num in list(str(n)):  # 리스트화해서 [1, 2, 3, 4]만들고\n",
    "        answer += int(num)\n",
    "    return answer"
   ]
  },
  {
   "cell_type": "code",
   "execution_count": null,
   "id": "9ee3c3c4-134f-4dd0-b6c0-9b0564a28bb5",
   "metadata": {},
   "outputs": [],
   "source": []
  },
  {
   "cell_type": "markdown",
   "id": "0d672bcc-19f7-4566-9168-f80a9d38d986",
   "metadata": {},
   "source": [
    "n의 배수 고르기"
   ]
  },
  {
   "cell_type": "code",
   "execution_count": 13,
   "id": "5575253f-c8ff-4195-b912-e490944501cd",
   "metadata": {},
   "outputs": [],
   "source": [
    "def solution(n, numlist):\n",
    "    mul = []\n",
    "\n",
    "    for m in range(0, max(numlist)+1, n):  # mul : 0에서 max 까지의 n의 배수\n",
    "        mul.append(m)\n",
    "\n",
    "    result = []\n",
    "    for num in numlist:\n",
    "        for m in mul:     # 주어진것과 mul이 같은경우 해답.\n",
    "            if num == m:\n",
    "                result.append(num)\n",
    "    return(result)"
   ]
  },
  {
   "cell_type": "code",
   "execution_count": 14,
   "id": "478209f7-1ee7-4b97-8c49-c909e3475e30",
   "metadata": {},
   "outputs": [
    {
     "data": {
      "text/plain": [
       "'C:\\\\Users\\\\업무용\\\\jupyter_python'"
      ]
     },
     "execution_count": 14,
     "metadata": {},
     "output_type": "execute_result"
    }
   ],
   "source": [
    "%pwd"
   ]
  }
 ],
 "metadata": {
  "kernelspec": {
   "display_name": "Python 3 (ipykernel)",
   "language": "python",
   "name": "python3"
  },
  "language_info": {
   "codemirror_mode": {
    "name": "ipython",
    "version": 3
   },
   "file_extension": ".py",
   "mimetype": "text/x-python",
   "name": "python",
   "nbconvert_exporter": "python",
   "pygments_lexer": "ipython3",
   "version": "3.10.8"
  }
 },
 "nbformat": 4,
 "nbformat_minor": 5
}
