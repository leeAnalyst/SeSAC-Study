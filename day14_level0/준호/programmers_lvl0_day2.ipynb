{
 "cells": [
  {
   "cell_type": "code",
   "execution_count": 3,
   "id": "62f03b73-8f8f-4228-abae-5a3247336030",
   "metadata": {},
   "outputs": [],
   "source": [
    "# 7의개수\n",
    "def solution(array):\n",
    "    answer = 0\n",
    "    new_list = []\n",
    "    for i in str(array):\n",
    "        new_list.append(i)\n",
    "    for j in new_list:\n",
    "        if '7' in j:\n",
    "            answer += 1\n",
    "    return answer"
   ]
  },
  {
   "cell_type": "code",
   "execution_count": 5,
   "id": "551520da-f382-45d1-8aaa-e372c1f29d71",
   "metadata": {},
   "outputs": [],
   "source": [
    "# 문자열 정렬하기 (2)"
   ]
  },
  {
   "cell_type": "code",
   "execution_count": 6,
   "id": "4fc63c2c-ed2f-4c65-956f-e38e91a262b5",
   "metadata": {},
   "outputs": [],
   "source": [
    "# 세균 증식\n",
    "def solution(n, t):\n",
    "    return n*(2**t)"
   ]
  },
  {
   "cell_type": "code",
   "execution_count": 7,
   "id": "7045ae2d-84d0-4389-8c81-6902e849ccd9",
   "metadata": {},
   "outputs": [],
   "source": [
    "# 제곱수 판별하기\n",
    "def solution(n):\n",
    "    if n**(1/2) == int(n**(1/2)):\n",
    "        return 1\n",
    "    else: \n",
    "        return 2"
   ]
  },
  {
   "cell_type": "code",
   "execution_count": 8,
   "id": "60358f8f-7edb-4946-9bec-640d94de0603",
   "metadata": {},
   "outputs": [],
   "source": [
    "# 문자열안에 문자열\n",
    "def solution(str1, str2):\n",
    "    if str2 in str1:\n",
    "        return 1\n",
    "    else:\n",
    "        return 2"
   ]
  },
  {
   "cell_type": "code",
   "execution_count": 9,
   "id": "7e1b6873-deca-44fa-81ce-efea21a80ed6",
   "metadata": {},
   "outputs": [],
   "source": [
    "# OX퀴즈"
   ]
  },
  {
   "cell_type": "code",
   "execution_count": 10,
   "id": "8687b0fd-de72-4d6f-8700-65e72e59ecc8",
   "metadata": {},
   "outputs": [],
   "source": [
    "# 자릿수 더하기\n",
    "def solution(n):\n",
    "    s = str(n)\n",
    "    lst = []\n",
    "    a = 0\n",
    "    for i in s:\n",
    "        lst.append(int(i))\n",
    "    for i in lst:\n",
    "        a += i\n",
    "    return  a"
   ]
  },
  {
   "cell_type": "code",
   "execution_count": 11,
   "id": "317efa78-e278-4ac2-9168-a90d0925e0eb",
   "metadata": {},
   "outputs": [],
   "source": [
    "# n의 배수 고르기\n",
    "def solution(n, numlist):\n",
    "    answer = []\n",
    "    for i in numlist:\n",
    "        if i % n == 0:\n",
    "            answer.append(i)\n",
    "    return answer"
   ]
  }
 ],
 "metadata": {
  "kernelspec": {
   "display_name": "Python 3 (ipykernel)",
   "language": "python",
   "name": "python3"
  },
  "language_info": {
   "codemirror_mode": {
    "name": "ipython",
    "version": 3
   },
   "file_extension": ".py",
   "mimetype": "text/x-python",
   "name": "python",
   "nbconvert_exporter": "python",
   "pygments_lexer": "ipython3",
   "version": "3.11.1"
  }
 },
 "nbformat": 4,
 "nbformat_minor": 5
}
