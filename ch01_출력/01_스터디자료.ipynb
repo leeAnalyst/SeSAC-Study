{
 "cells": [
  {
   "cell_type": "markdown",
   "id": "b3a1b5cc-5a32-4556-80c1-e1c544fccaac",
   "metadata": {
    "tags": []
   },
   "source": [
    "# 1. 출력 (12/20, 화)\n",
    "\n",
    "* 출력 문제 몸풀기...?\n",
    "    * https://codeup.kr/problem.php?id=6002\n",
    "    * https://codeup.kr/problem.php?id=6003\n",
    "    * https://codeup.kr/problem.php?id=6006\n",
    "\n",
    "* git에 문제의 답을 올려주세요!"
   ]
  },
  {
   "cell_type": "code",
   "execution_count": 6,
   "id": "a1750d1a-0aed-4f6e-be1b-c1a8c017a531",
   "metadata": {},
   "outputs": [
    {
     "name": "stdout",
     "output_type": "stream",
     "text": [
      "Hello World\n",
      "Hello World\n",
      "Hello World\n"
     ]
    }
   ],
   "source": [
    "print(\"Hello World\")\n",
    "print(\"Hello\", \"World\")\n",
    "print(\"Hello \"+ \"World\")"
   ]
  },
  {
   "cell_type": "code",
   "execution_count": 8,
   "id": "501d7027-f327-42dc-98bc-c9c56cb7ee51",
   "metadata": {},
   "outputs": [
    {
     "name": "stdout",
     "output_type": "stream",
     "text": [
      "Hello\n",
      "World\n",
      "Hello\n",
      "World\n"
     ]
    }
   ],
   "source": [
    "print(\"Hello\") \n",
    "print(\"World\")\n",
    "\n",
    "print(\"Hello\\nWorld\")"
   ]
  },
  {
   "cell_type": "code",
   "execution_count": 11,
   "id": "7db32ddd-d131-4ef9-b8d5-e9ba92fb9ec7",
   "metadata": {},
   "outputs": [
    {
     "name": "stdout",
     "output_type": "stream",
     "text": [
      "\"!@#$%^&*()'\n"
     ]
    }
   ],
   "source": [
    "print(\"\\\"!@#$%^&*()\\'\")\n",
    "print(\"\")\n",
    "print('')"
   ]
  },
  {
   "cell_type": "markdown",
   "id": "07825fc0-59b0-43ed-8971-23bb2f545d4b",
   "metadata": {},
   "source": [
    "* end와 sep 속성을 잘 활용하자...! <br>\n",
    "https://infinitt.tistory.com/11"
   ]
  },
  {
   "cell_type": "markdown",
   "id": "a746f256-c313-4927-a1e8-ea448c410b9d",
   "metadata": {},
   "source": [
    "## 1) format 함수 사용\n",
    "* {}안에 포매팅 지정, format 함수 인자로 포맷팅 원하는 값 지정\n",
    "```\n",
    "'{0}, {1}'.format(인자1, 인자2)....\n",
    "```"
   ]
  },
  {
   "cell_type": "code",
   "execution_count": 12,
   "id": "bac2a136-321a-4c28-bd34-7a0c8e123c1d",
   "metadata": {},
   "outputs": [],
   "source": [
    "name1 = '준호'\n",
    "name2 = '종현'"
   ]
  },
  {
   "cell_type": "code",
   "execution_count": 13,
   "id": "b56620e1-f19a-45c6-9375-3fb826b79f11",
   "metadata": {},
   "outputs": [
    {
     "name": "stdout",
     "output_type": "stream",
     "text": [
      "준호 천재, 종현 바보\n"
     ]
    }
   ],
   "source": [
    "print('{0} 천재, {1} 바보'.format(name1, name2))"
   ]
  },
  {
   "cell_type": "code",
   "execution_count": 14,
   "id": "281f60f8-90cd-4489-9c7b-20bc66433664",
   "metadata": {},
   "outputs": [
    {
     "name": "stdout",
     "output_type": "stream",
     "text": [
      "준호 천재, 종현 바보\n"
     ]
    }
   ],
   "source": [
    "print('{} 천재, {} 바보'.format(name1, name2))"
   ]
  },
  {
   "cell_type": "code",
   "execution_count": 15,
   "id": "826e2b0e-0116-4fcb-a9ec-3908448cae5e",
   "metadata": {},
   "outputs": [
    {
     "name": "stdout",
     "output_type": "stream",
     "text": [
      "종현 천재, 준호 바보\n"
     ]
    }
   ],
   "source": [
    "print('{1} 천재, {0} 바보'.format(name1, name2))"
   ]
  },
  {
   "cell_type": "code",
   "execution_count": 16,
   "id": "3d5cf5c4-a579-4939-a834-6ba1695db5e0",
   "metadata": {},
   "outputs": [
    {
     "name": "stdout",
     "output_type": "stream",
     "text": [
      "종현 천재, 준호 바보\n"
     ]
    }
   ],
   "source": [
    "print('{} 천재, {} 바보'.format(name2, name1))"
   ]
  },
  {
   "cell_type": "code",
   "execution_count": 17,
   "id": "a345ec42-2ee4-4e27-8335-495396e55e4b",
   "metadata": {},
   "outputs": [
    {
     "name": "stdout",
     "output_type": "stream",
     "text": [
      "미란은 귀엽다.\n"
     ]
    }
   ],
   "source": [
    "# 직접 대입\n",
    "print('{}은 귀엽다.'.format('미란'))"
   ]
  },
  {
   "cell_type": "code",
   "execution_count": null,
   "id": "f48f899e-202d-4eff-9082-01d796fb67c0",
   "metadata": {},
   "outputs": [],
   "source": [
    "# 변수 대입: 맨 위의 예제"
   ]
  },
  {
   "cell_type": "code",
   "execution_count": null,
   "id": "1688924f-9b1d-4ab2-baef-11e1bc6fcc09",
   "metadata": {},
   "outputs": [
    {
     "name": "stdout",
     "output_type": "stream",
     "text": [
      "나이: 17, 이름: 선영\n"
     ]
    }
   ],
   "source": [
    "# 이름 지정 후 대입\n",
    "print('나이: {name}, 이름: {age}'.format(name='선영', age=17))"
   ]
  },
  {
   "cell_type": "markdown",
   "id": "fa3a9483-900d-4e5f-9f5a-7772d9c81732",
   "metadata": {
    "jp-MarkdownHeadingCollapsed": true,
    "tags": []
   },
   "source": [
    "### 구구단 예제"
   ]
  },
  {
   "cell_type": "code",
   "execution_count": 23,
   "id": "a978a611-1188-403f-8297-ae2d7fb70f2b",
   "metadata": {},
   "outputs": [
    {
     "name": "stdout",
     "output_type": "stream",
     "text": [
      "2단\n",
      "2X1=2\n",
      "2X2=4\n",
      "2X3=6\n",
      "2X4=8\n",
      "2X5=10\n",
      "2X6=12\n",
      "2X7=14\n",
      "2X8=16\n",
      "2X9=18\n",
      "3단\n",
      "3X1=3\n",
      "3X2=6\n",
      "3X3=9\n",
      "3X4=12\n",
      "3X5=15\n",
      "3X6=18\n",
      "3X7=21\n",
      "3X8=24\n",
      "3X9=27\n",
      "4단\n",
      "4X1=4\n",
      "4X2=8\n",
      "4X3=12\n",
      "4X4=16\n",
      "4X5=20\n",
      "4X6=24\n",
      "4X7=28\n",
      "4X8=32\n",
      "4X9=36\n",
      "5단\n",
      "5X1=5\n",
      "5X2=10\n",
      "5X3=15\n",
      "5X4=20\n",
      "5X5=25\n",
      "5X6=30\n",
      "5X7=35\n",
      "5X8=40\n",
      "5X9=45\n",
      "6단\n",
      "6X1=6\n",
      "6X2=12\n",
      "6X3=18\n",
      "6X4=24\n",
      "6X5=30\n",
      "6X6=36\n",
      "6X7=42\n",
      "6X8=48\n",
      "6X9=54\n",
      "7단\n",
      "7X1=7\n",
      "7X2=14\n",
      "7X3=21\n",
      "7X4=28\n",
      "7X5=35\n",
      "7X6=42\n",
      "7X7=49\n",
      "7X8=56\n",
      "7X9=63\n",
      "8단\n",
      "8X1=8\n",
      "8X2=16\n",
      "8X3=24\n",
      "8X4=32\n",
      "8X5=40\n",
      "8X6=48\n",
      "8X7=56\n",
      "8X8=64\n",
      "8X9=72\n",
      "9단\n",
      "9X1=9\n",
      "9X2=18\n",
      "9X3=27\n",
      "9X4=36\n",
      "9X5=45\n",
      "9X6=54\n",
      "9X7=63\n",
      "9X8=72\n",
      "9X9=81\n"
     ]
    }
   ],
   "source": [
    "for j in range(2, 10):\n",
    "    print('{}단'.format(j))\n",
    "    for i in range(1, 10):\n",
    "        print('{}X{}={}'.format(j, i, j*i))"
   ]
  },
  {
   "cell_type": "markdown",
   "id": "6a5a3393-11a5-4f2f-b592-a189fb0d5eb1",
   "metadata": {},
   "source": [
    "## 2) 서식 문자 % 사용\n",
    "* %d : 정수\n",
    "* %s: 문자열\n",
    "* %f: 실수\n",
    "* %o: 8진수\n",
    "* %x: 16진수"
   ]
  },
  {
   "cell_type": "code",
   "execution_count": 17,
   "id": "9453c14a-f1e6-40af-bfca-0cf6188a4da8",
   "metadata": {},
   "outputs": [
    {
     "name": "stdout",
     "output_type": "stream",
     "text": [
      "이름은 선영\n"
     ]
    }
   ],
   "source": [
    "# print('이름은 {name}, 나이는 {age}'.format(name='선영', age=17))\n",
    "# 이름만\n",
    "name = '선영'\n",
    "print('이름은 %s' % (name))"
   ]
  },
  {
   "cell_type": "code",
   "execution_count": 25,
   "id": "79f07a76-12a5-473b-927f-e4652045b848",
   "metadata": {},
   "outputs": [
    {
     "name": "stdout",
     "output_type": "stream",
     "text": [
      "나이는 17살\n"
     ]
    }
   ],
   "source": [
    "# 나이출력\n",
    "age = 17\n",
    "print('나이는 %d살' % (age))"
   ]
  },
  {
   "cell_type": "code",
   "execution_count": 26,
   "id": "022b335b-5bf6-4512-850e-960bcfa52250",
   "metadata": {},
   "outputs": [
    {
     "name": "stdout",
     "output_type": "stream",
     "text": [
      "이름: 선영 나이:17\n"
     ]
    }
   ],
   "source": [
    "# 이름과 나이 동시에 출력\n",
    "# 이름: 선영 나이: 17\n",
    "name = '선영'\n",
    "age = 17\n",
    "\n",
    "print('이름: %s 나이:%d' % (name, age))"
   ]
  },
  {
   "cell_type": "markdown",
   "id": "87d1b082-9e8b-44b9-8f93-87ba6148494f",
   "metadata": {
    "tags": []
   },
   "source": [
    "### 번호별 이름출력"
   ]
  },
  {
   "cell_type": "code",
   "execution_count": 28,
   "id": "90965770-f660-4399-9606-c854327ee220",
   "metadata": {},
   "outputs": [],
   "source": [
    "names = ['선영', '종현', '준호', '미란']\n",
    "# 리스트에서 숫자...? 무조건 인덱스를 활용한다."
   ]
  },
  {
   "cell_type": "code",
   "execution_count": 35,
   "id": "4732f4cf-7d91-4198-b9f5-15b78c1e8323",
   "metadata": {},
   "outputs": [
    {
     "name": "stdout",
     "output_type": "stream",
     "text": [
      "1번: 선영\n",
      "2번: 종현\n",
      "3번: 준호\n",
      "4번: 미란\n"
     ]
    }
   ],
   "source": [
    "for i in range(len(names)):\n",
    "    print('%d번: %s' % (i+1,names[i]))"
   ]
  },
  {
   "cell_type": "code",
   "execution_count": 29,
   "id": "069ca5c1-904e-4267-9c72-6cba599e0923",
   "metadata": {},
   "outputs": [
    {
     "name": "stdout",
     "output_type": "stream",
     "text": [
      "선영\n",
      "종현\n",
      "준호\n",
      "미란\n"
     ]
    }
   ],
   "source": [
    "for name in names:\n",
    "    print('%s' % (name))"
   ]
  },
  {
   "cell_type": "markdown",
   "id": "b22e0829-7862-4b59-bc58-b2d4892b6254",
   "metadata": {
    "tags": []
   },
   "source": [
    "### 정수 3개 입력받아 합계와 평균을 출력 "
   ]
  },
  {
   "cell_type": "markdown",
   "id": "fbdfd181-f6a2-44a3-834e-a20e996bc4a7",
   "metadata": {},
   "source": [
    "* 특징\n",
    "    * 출력해야할 값 많아지면 () 이용\n",
    "    * 타입 지정이 장점이자 단점"
   ]
  },
  {
   "cell_type": "markdown",
   "id": "46f53e8a-1384-435f-8edc-4e862b67d542",
   "metadata": {},
   "source": [
    "## 3) f'문자열{변수명}'"
   ]
  },
  {
   "cell_type": "code",
   "execution_count": 36,
   "id": "3e23ec66-a418-43ec-b577-64eaeb8f83a6",
   "metadata": {},
   "outputs": [
    {
     "name": "stdout",
     "output_type": "stream",
     "text": [
      "123 입니다\n"
     ]
    }
   ],
   "source": [
    "num = 123\n",
    "print(f'{num} 입니다')"
   ]
  },
  {
   "cell_type": "code",
   "execution_count": 38,
   "id": "36adc211-5c5d-4043-b34d-37d8472451e2",
   "metadata": {},
   "outputs": [
    {
     "name": "stdout",
     "output_type": "stream",
     "text": [
      "A\n",
      "B\n",
      "C\n",
      "D\n"
     ]
    }
   ],
   "source": [
    "# 하나씩 출력해주세요.\n",
    "s = 'ABCD'\n",
    "\n",
    "for c in s:\n",
    "    print(f'{c}')"
   ]
  },
  {
   "cell_type": "markdown",
   "id": "e22d1d6e-3e8e-4f99-9af9-84b1cfdae2c7",
   "metadata": {},
   "source": [
    "### 딕셔너리 값을 출력해주세요."
   ]
  },
  {
   "cell_type": "code",
   "execution_count": 40,
   "id": "8126909f-90a7-454f-9084-e847dba6ca07",
   "metadata": {},
   "outputs": [
    {
     "name": "stdout",
     "output_type": "stream",
     "text": [
      "이름: 미란, 몸무게: 20\n"
     ]
    }
   ],
   "source": [
    "d = {'name': '미란' , 'weight': 20}\n",
    "# 이름: 미란, 몸무게: 20\n",
    "print(f'이름: {d[\"name\"]}, 몸무게: {d[\"weight\"]}')"
   ]
  },
  {
   "cell_type": "markdown",
   "id": "61ada898-0614-46a7-9270-7b6fee59ba9d",
   "metadata": {},
   "source": [
    "### 숙제 (여러분 화이티이이이잉!)\n",
    "* 서식 문자 사용해서 풀어주세요.\n",
    "    http://www.jungol.co.kr/bbs/board.php?bo_table=pbank&wr_id=4079&sca=py\n",
    "* 스터디 너무 즐겁다 ㅇㅈ??!\n",
    "    https://www.acmicpc.net/problem/10926\n",
    "* sort함수 사용하지 않고 반복문만 사용해서 풀어주세요.\n",
    "    https://school.programmers.co.kr/learn/courses/30/lessons/120822"
   ]
  }
 ],
 "metadata": {
  "kernelspec": {
   "display_name": "Python 3 (ipykernel)",
   "language": "python",
   "name": "python3"
  },
  "language_info": {
   "codemirror_mode": {
    "name": "ipython",
    "version": 3
   },
   "file_extension": ".py",
   "mimetype": "text/x-python",
   "name": "python",
   "nbconvert_exporter": "python",
   "pygments_lexer": "ipython3",
   "version": "3.9.13"
  }
 },
 "nbformat": 4,
 "nbformat_minor": 5
}
