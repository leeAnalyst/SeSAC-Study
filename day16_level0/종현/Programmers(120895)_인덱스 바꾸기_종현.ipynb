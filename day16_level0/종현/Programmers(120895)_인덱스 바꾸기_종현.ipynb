{
 "cells": [
  {
   "cell_type": "markdown",
   "id": "8d8cdded-7bef-4c04-b007-b1add88a14b6",
   "metadata": {},
   "source": [
    "### 인덱스 바꾸기 (120895)\n",
    " 문제 : 문자열 `my_string`과 정수 `num1`, `num2`가 매개변수로 주어질 때, `my_string`에서 인덱스 `num1`과 인덱스 `num2`에 해당하는 문자를 바꾼 문자열을 return 하도록 solution 함수를 완성해보세요."
   ]
  },
  {
   "cell_type": "code",
   "execution_count": 60,
   "id": "a9eed173-d148-4665-bbec-614cf59ec097",
   "metadata": {},
   "outputs": [
    {
     "data": {
      "text/plain": [
       "'hlelo'"
      ]
     },
     "execution_count": 60,
     "metadata": {},
     "output_type": "execute_result"
    }
   ],
   "source": [
    "# 인덱스 바꾸기\n",
    "\n",
    "def solution(my_string, num1, num2):  \n",
    "    s1 = []\n",
    "    for s in range(len(my_string)):\n",
    "        if s == num1:                    # s가 num1과 같을 때\n",
    "            s1.append(my_string[num2])   # 비어있는 s1에 my_string[num2]가 쌓이고\n",
    "        elif s == num2:                  # s가 num2와 같을 떄\n",
    "            s1.append(my_string[num1])   # s1에 my_string[num1]이 쌓인다.\n",
    "        else:\n",
    "            s1.append(my_string[s])      # 그 밖에 경우엔 순서대로 my_string[s]가 쌓인다.\n",
    "    return ''.join(s1)                   # list형태인 s1을 join함수를 써 공백과 컴마를 기준으로 합쳐준다.\n",
    "                                         # 결국 for문을 돌면서 num1 차례에 num2에 해당하는 문자가 쌓이고, num2차례에 num1에 해당하는 문자가 쌓이는 것\n",
    "solution('hello', 1, 2)"
   ]
  }
 ],
 "metadata": {
  "kernelspec": {
   "display_name": "Python 3 (ipykernel)",
   "language": "python",
   "name": "python3"
  },
  "language_info": {
   "codemirror_mode": {
    "name": "ipython",
    "version": 3
   },
   "file_extension": ".py",
   "mimetype": "text/x-python",
   "name": "python",
   "nbconvert_exporter": "python",
   "pygments_lexer": "ipython3",
   "version": "3.10.7"
  }
 },
 "nbformat": 4,
 "nbformat_minor": 5
}
