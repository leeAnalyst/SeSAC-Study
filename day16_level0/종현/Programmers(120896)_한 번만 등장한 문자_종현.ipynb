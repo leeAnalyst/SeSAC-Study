{
 "cells": [
  {
   "cell_type": "markdown",
   "id": "b32ce80a-ef01-46b8-bfc7-dd886d9fe6d0",
   "metadata": {},
   "source": [
    "### 한 번만 등장한 문자\n",
    "문제 : 문자열 s가 매개변수로 주어집니다. s에서 한 번만 등장하는 문자를 사전 순으로 정렬한 문자열을 return 하도록 solution 함수를 완성해보세요. 한 번만 등장하는 문자가 없을 경우 빈 문자열을 return 합니다."
   ]
  },
  {
   "cell_type": "code",
   "execution_count": 117,
   "id": "c3929ae7-5948-47bb-a722-b070b2384cef",
   "metadata": {},
   "outputs": [
    {
     "data": {
      "text/plain": [
       "'eho'"
      ]
     },
     "execution_count": 117,
     "metadata": {},
     "output_type": "execute_result"
    }
   ],
   "source": [
    "# 한 번만 등장한 문자\n",
    "\n",
    "def solution(s):\n",
    "    result = ''                      # 문자열을 집어넣을 result 생성\n",
    "    for s1 in s:                     # 문자열 리스트 s를 for문을 돌려\n",
    "        if s.count(s1) == 1:         # count를 사용하여 갯수가 1일 경우에만\n",
    "            result += s1             # result에 s1을 더해준다. 문자열에 s1문자를 집어 넣음\n",
    "    return ''.join(sorted(result))   # 여기서 sorted만 할 경우, 'e', 'h', 'o' 형태로 return된다. ''.join 함수를 사용하여 공백과 컴마로 구분된 문자열을 서로 붙여준다.\n",
    "\n",
    "solution(\"hello\")"
   ]
  }
 ],
 "metadata": {
  "kernelspec": {
   "display_name": "Python 3 (ipykernel)",
   "language": "python",
   "name": "python3"
  },
  "language_info": {
   "codemirror_mode": {
    "name": "ipython",
    "version": 3
   },
   "file_extension": ".py",
   "mimetype": "text/x-python",
   "name": "python",
   "nbconvert_exporter": "python",
   "pygments_lexer": "ipython3",
   "version": "3.10.7"
  }
 },
 "nbformat": 4,
 "nbformat_minor": 5
}
