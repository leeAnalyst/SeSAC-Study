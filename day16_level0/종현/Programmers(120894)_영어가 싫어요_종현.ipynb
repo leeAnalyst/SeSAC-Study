{
 "cells": [
  {
   "cell_type": "markdown",
   "id": "4c43cf88-9532-443c-b70f-a43f58e10d6f",
   "metadata": {},
   "source": [
    "### 영어가 싫어요 (120894)\n",
    "문제 : 영어가 싫은 머쓱이는 영어로 표기되어있는 숫자를 수로 바꾸려고 합니다. 문자열 `numbers`가 매개변수로 주어질 때, `numbers`를 정수로 바꿔 return 하도록 solution 함수를 완성해 주세요."
   ]
  },
  {
   "cell_type": "code",
   "execution_count": 25,
   "id": "fed2e99e-9742-4602-92ad-649fd35f7925",
   "metadata": {},
   "outputs": [
    {
     "data": {
      "text/plain": [
       "14067"
      ]
     },
     "execution_count": 25,
     "metadata": {},
     "output_type": "execute_result"
    }
   ],
   "source": [
    "# 영어가 싫어요\n",
    "\n",
    "numbers_li = [\"zero\", \"one\", \"two\", \"three\", \"four\", \"five\", \"six\", \"seven\", \"eight\", \"nine\"]\n",
    "\n",
    "def solution(numbers):\n",
    "    for i, v in enumerate(numbers_li):           # number_li를 enumerate를 통해 인덱스 값과 value값으로 for문을 돌려\n",
    "        numbers = numbers.replace(v, str(i))     # numbers에 number_li의 v값을 i값(index값은 결국 number_li의 숫자와 동일)으로 replace한다.\n",
    "    return int(numbers)                          # return값은 정수여야 하기 때문에 int로 형변환\n",
    "\n",
    "solution(\"onefourzerosixseven\")"
   ]
  },
  {
   "cell_type": "code",
   "execution_count": 24,
   "id": "4e755a53-ff69-4829-8436-551ea72a90ec",
   "metadata": {},
   "outputs": [
    {
     "data": {
      "text/plain": [
       "14067"
      ]
     },
     "execution_count": 24,
     "metadata": {},
     "output_type": "execute_result"
    }
   ],
   "source": [
    "def solution(numbers):\n",
    "    num_dic = {'zero': '0', 'one': '1', 'two': '2', 'three': '3', 'four': '4',\\\n",
    "         'five': '5', 'six': '6', 'seven': '7', 'eight': '8', 'nine': '9'}\n",
    "    for k in num_dic.keys():                      # 딕셔너리의 key값들로 for문을 돌려\n",
    "        numbers = numbers.replace(k, num_dic[k])  # # numbers에 k와 일치하는 값들을 num_dic[k]으로 대체\n",
    "    return int(numbers)\n",
    "\n",
    "solution(\"onefourzerosixseven\")"
   ]
  }
 ],
 "metadata": {
  "kernelspec": {
   "display_name": "Python 3 (ipykernel)",
   "language": "python",
   "name": "python3"
  },
  "language_info": {
   "codemirror_mode": {
    "name": "ipython",
    "version": 3
   },
   "file_extension": ".py",
   "mimetype": "text/x-python",
   "name": "python",
   "nbconvert_exporter": "python",
   "pygments_lexer": "ipython3",
   "version": "3.10.7"
  }
 },
 "nbformat": 4,
 "nbformat_minor": 5
}
