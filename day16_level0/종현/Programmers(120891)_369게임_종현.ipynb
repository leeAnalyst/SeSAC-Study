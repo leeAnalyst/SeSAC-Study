{
 "cells": [
  {
   "cell_type": "markdown",
   "id": "6ee72be1-137a-48cf-b879-ef15fd73a2ea",
   "metadata": {},
   "source": [
    "### 369게임 (120891)\n",
    "문제 : 머쓱이는 친구들과 369게임을 하고 있습니다. 369게임은 1부터 숫자를 하나씩 대며 3, 6, 9가 들어가는 숫자는 숫자 대신 3, 6, 9의 개수만큼 박수를 치는 게임입니다. 머쓱이가 말해야하는 숫자 order가 매개변수로 주어질 때, 머쓱이가 쳐야할 박수 횟수를 return 하도록 solution 함수를 완성해보세요. "
   ]
  },
  {
   "cell_type": "code",
   "execution_count": 7,
   "id": "99510b74-2ebb-4209-8e30-5dddd340a9af",
   "metadata": {},
   "outputs": [
    {
     "data": {
      "text/plain": [
       "1"
      ]
     },
     "execution_count": 7,
     "metadata": {},
     "output_type": "execute_result"
    }
   ],
   "source": [
    "def solution(order):\n",
    "    clap = 0                     # 박수횟수를 셀 공간 생성\n",
    "    num = ['3', '6', '9']        # 3, 6, 9를 문자열로 list에 저장\n",
    "    for i in str(order):         # order를 문자열로 형변환하여 for문을 돌리고\n",
    "        for s in num:            # num 리스트를 for문을 돌려 \n",
    "            if i == s:           # i와 s가 일치할 경우\n",
    "                clap += 1        # clap에 1씩 더해준다.\n",
    "    return clap\n",
    "\n",
    "solution(3)"
   ]
  }
 ],
 "metadata": {
  "kernelspec": {
   "display_name": "Python 3 (ipykernel)",
   "language": "python",
   "name": "python3"
  },
  "language_info": {
   "codemirror_mode": {
    "name": "ipython",
    "version": 3
   },
   "file_extension": ".py",
   "mimetype": "text/x-python",
   "name": "python",
   "nbconvert_exporter": "python",
   "pygments_lexer": "ipython3",
   "version": "3.10.7"
  }
 },
 "nbformat": 4,
 "nbformat_minor": 5
}
