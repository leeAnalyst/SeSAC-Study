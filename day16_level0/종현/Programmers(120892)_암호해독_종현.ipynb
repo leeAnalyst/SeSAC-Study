{
 "cells": [
  {
   "cell_type": "markdown",
   "id": "8e75021e-a7f0-4a6d-ac68-f6b74ed0ecb8",
   "metadata": {
    "tags": []
   },
   "source": [
    "### 암호해독 (120892)\n",
    "문제 : 군 전략가 머쓱이는 전쟁 중 적군이 다음과 같은 암호 체계를 사용한다는 것을 알아냈습니다.\n",
    "암호화된 문자열 cipher를 주고받습니다.\n",
    "그 문자열에서 code의 배수 번째 글자만 진짜 암호입니다.\n",
    "문자열 cipher와 정수 code가 매개변수로 주어질 때 해독된 암호 문자열을 return하도록 solution 함수를 완성해주세요."
   ]
  },
  {
   "cell_type": "code",
   "execution_count": 23,
   "id": "3fa943c1-0746-49f7-8e5d-a51e5b93b054",
   "metadata": {},
   "outputs": [
    {
     "name": "stdout",
     "output_type": "stream",
     "text": [
      "['f']\n",
      "['f', 'a']\n",
      "['f', 'a', 'l']\n",
      "['f', 'a', 'l', 'l']\n",
      "['f', 'a', 'l', 'l', 'b']\n",
      "['f', 'a', 'l', 'l', 'b', 'a']\n",
      "['f', 'a', 'l', 'l', 'b', 'a', 'c']\n",
      "['f', 'a', 'l', 'l', 'b', 'a', 'c', 'k']\n"
     ]
    },
    {
     "data": {
      "text/plain": [
       "'fallback'"
      ]
     },
     "execution_count": 23,
     "metadata": {},
     "output_type": "execute_result"
    }
   ],
   "source": [
    "def solution(cipher, code):\n",
    "    result = []\n",
    "    for s in range(code-1, len(cipher), code):     # for문의 range를 (시작 : code-1, 끝 : cipher의 길이만큼, step : code)로 지정\n",
    "        result.append(cipher[s])                   # result에 append함\n",
    "    return ''.join(result)\n",
    "\n",
    "solution(\"pfqallllabwaoclk\", 2)"
   ]
  }
 ],
 "metadata": {
  "kernelspec": {
   "display_name": "Python 3 (ipykernel)",
   "language": "python",
   "name": "python3"
  },
  "language_info": {
   "codemirror_mode": {
    "name": "ipython",
    "version": 3
   },
   "file_extension": ".py",
   "mimetype": "text/x-python",
   "name": "python",
   "nbconvert_exporter": "python",
   "pygments_lexer": "ipython3",
   "version": "3.10.7"
  }
 },
 "nbformat": 4,
 "nbformat_minor": 5
}
