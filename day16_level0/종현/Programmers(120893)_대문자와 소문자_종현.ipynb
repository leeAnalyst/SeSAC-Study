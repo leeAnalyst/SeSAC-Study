{
 "cells": [
  {
   "cell_type": "markdown",
   "id": "8dbfcaa2-fdb5-41de-9be6-90289d1058eb",
   "metadata": {
    "tags": []
   },
   "source": [
    "### 대문자와 소문자 (120893)\n",
    "문제 : 문자열 my_string이 매개변수로 주어질 때, 대문자는 소문자로 소문자는 대문자로 변환한 문자열을 return하도록 solution 함수를 완성해주세요."
   ]
  },
  {
   "cell_type": "code",
   "execution_count": 12,
   "id": "ce42ab5b-f6d0-42d4-a93b-2bfd813ed454",
   "metadata": {},
   "outputs": [
    {
     "data": {
      "text/plain": [
       "'CCCccc'"
      ]
     },
     "execution_count": 12,
     "metadata": {},
     "output_type": "execute_result"
    }
   ],
   "source": [
    "def solution(my_string):\n",
    "    str_li = []\n",
    "    for s in my_string:\n",
    "        if s.isupper():                     # s가 isupper()로 대문자인지 확인한 후 True면\n",
    "            str_li.append(s.lower())        # 소문자로 변환 후 str_li에 append\n",
    "        else:                               # 그렇지 않은 경우, 소문자이므로\n",
    "            str_li.append(s.upper())        # 대문자로 변환 후 append\n",
    "    return ''.join(str_li)                  # join으로 각 원소들을 합침\n",
    "\n",
    "solution(\"cccCCC\")"
   ]
  },
  {
   "cell_type": "code",
   "execution_count": 13,
   "id": "33a387e4-9258-496b-8d23-46e592f8f626",
   "metadata": {},
   "outputs": [
    {
     "data": {
      "text/plain": [
       "'CCCccc'"
      ]
     },
     "execution_count": 13,
     "metadata": {},
     "output_type": "execute_result"
    }
   ],
   "source": [
    "def solution(my_string):\n",
    "    return my_string.swapcase()              # swapcase() - 문자열의 대문자를 소문자로, 소문자를 대문자로 \n",
    "\n",
    "solution(\"cccCCC\")"
   ]
  }
 ],
 "metadata": {
  "kernelspec": {
   "display_name": "Python 3 (ipykernel)",
   "language": "python",
   "name": "python3"
  },
  "language_info": {
   "codemirror_mode": {
    "name": "ipython",
    "version": 3
   },
   "file_extension": ".py",
   "mimetype": "text/x-python",
   "name": "python",
   "nbconvert_exporter": "python",
   "pygments_lexer": "ipython3",
   "version": "3.10.7"
  }
 },
 "nbformat": 4,
 "nbformat_minor": 5
}
