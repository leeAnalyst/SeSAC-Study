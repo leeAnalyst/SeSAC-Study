{
 "cells": [
  {
   "cell_type": "markdown",
   "id": "c0366180-9b6a-4a52-b72e-437d01ffcc94",
   "metadata": {
    "tags": []
   },
   "source": [
    "# 369 게임"
   ]
  },
  {
   "cell_type": "markdown",
   "id": "ab5ba398-3d28-4ea6-bc78-8ceaded2a816",
   "metadata": {},
   "source": [
    "머쓱이는 친구들과 369게임을 하고 있습니다. 369게임은 1부터 숫자를 하나씩 대며 3, 6, 9가 들어가는 숫자는 숫자 대신 3, 6, 9의 개수만큼 박수를 치는 게임입니다. 머쓱이가 말해야하는 숫자 order가 매개변수로 주어질 때, 머쓱이가 쳐야할 박수 횟수를 return 하도록 solution 함수를 완성해보세요.\n",
    "\n",
    "29423은 3이 1개, 9가 1개 있으므로 2를 출력합니다."
   ]
  },
  {
   "cell_type": "markdown",
   "id": "90f4c782-32d2-4933-86e1-e56bfe27b41c",
   "metadata": {},
   "source": [
    "문제 분석\n",
    "1. 369 나오면 박수니 리스트화 몇개인지 체크"
   ]
  },
  {
   "cell_type": "code",
   "execution_count": 10,
   "id": "96bca01f-89a2-461f-90cc-152b4b8aa4e9",
   "metadata": {},
   "outputs": [
    {
     "name": "stdout",
     "output_type": "stream",
     "text": [
      "2\n"
     ]
    }
   ],
   "source": [
    "order = 29423\n",
    "\n",
    "count = 0\n",
    "for word in list(str(order)):\n",
    "    if word in ['3', '6', '9']:\n",
    "        count += 1\n",
    "print(count)\n"
   ]
  },
  {
   "cell_type": "markdown",
   "id": "07c24e8f-7b75-4716-8238-5d215e2c5691",
   "metadata": {
    "tags": []
   },
   "source": [
    "# 암호해독"
   ]
  },
  {
   "cell_type": "markdown",
   "id": "bcba9072-5653-47df-b1a4-604f0efb4f00",
   "metadata": {},
   "source": [
    "군 전략가 머쓱이는 전쟁 중 적군이 다음과 같은 암호 체계를 사용한다는 것을 알아냈습니다.\n",
    "\n",
    "암호화된 문자열 cipher를 주고받습니다.\n",
    "그 문자열에서 code의 배수 번째 글자만 진짜 암호입니다.\n",
    "문자열 cipher와 정수 code가 매개변수로 주어질 때 해독된 암호 문자열을 return하도록 solution 함수를 완성해주세요.\n",
    "\n",
    "\"dfjardstddetckdaccccdegk\" 의 4번째, 8번째, 12번째, 16번째, 20번째, 24번째 글자를 합친 \"attack\"을 return합니다."
   ]
  },
  {
   "cell_type": "markdown",
   "id": "2c92ff22-f0e7-4e62-8f1e-b7c5255493dc",
   "metadata": {},
   "source": [
    "문제분석\n",
    "1. 배수만 확인하여 추출하고 합쳐내면 될것이다."
   ]
  },
  {
   "cell_type": "code",
   "execution_count": 36,
   "id": "6e1c55ff-b667-4aac-9b8d-2c7134b259a7",
   "metadata": {
    "tags": []
   },
   "outputs": [
    {
     "name": "stdout",
     "output_type": "stream",
     "text": [
      "attack\n"
     ]
    }
   ],
   "source": [
    "cipher = \"dfjardstddetckdaccccdegk\" \n",
    "code = 4\n",
    "cipher = list(cipher)\n",
    "\n",
    "word = []\n",
    "for idx in range(code-1, len(cipher), code): # 3부터 전체까지, 4의 간격으로\n",
    "    word.append(cipher[idx])\n",
    "print(''.join(word)) # 결합!\n"
   ]
  },
  {
   "cell_type": "markdown",
   "id": "69c44246-92d8-41b4-a94f-58dc0560ee7b",
   "metadata": {},
   "source": [
    "우수답안 <br>\n",
    "arr[A:B:C]의 의미는, index A 부터 index B 까지 C의 간격으로 배열을 만들어라는 말입니다."
   ]
  },
  {
   "cell_type": "code",
   "execution_count": 37,
   "id": "74a0fbff-410d-4152-8cc6-73162818bcb6",
   "metadata": {},
   "outputs": [
    {
     "data": {
      "text/plain": [
       "['a', 't', 't', 'a', 'c', 'k']"
      ]
     },
     "execution_count": 37,
     "metadata": {},
     "output_type": "execute_result"
    }
   ],
   "source": [
    "cipher[code-1::code]\n",
    "#  A = code-1 부터 \n",
    "#  B = : 전체까지를\n",
    "#  c = code의 간격으로"
   ]
  },
  {
   "cell_type": "code",
   "execution_count": null,
   "id": "01df33ce-ee32-4b56-8516-2c1058d12301",
   "metadata": {},
   "outputs": [],
   "source": []
  },
  {
   "cell_type": "markdown",
   "id": "bb360b8a-85fd-4663-8299-537760b10dd8",
   "metadata": {
    "tags": []
   },
   "source": [
    "# 대문자와 소문자"
   ]
  },
  {
   "cell_type": "markdown",
   "id": "6c3fb0d1-2c9d-48d6-a4c8-9efc156b4259",
   "metadata": {},
   "source": [
    "문자열 my_string이 매개변수로 주어질 때, 대문자는 소문자로 소문자는 대문자로 변환한 문자열을 return하도록 solution 함수를 완성해주세요. <br>\n",
    "\"cccCCC\" 소문자는 대문자로 대문자는 소문자로 바꾼 \"CCCccc\"를 return합니다."
   ]
  },
  {
   "cell_type": "markdown",
   "id": "74ff8b8d-5195-4e04-bb8d-b8915417d134",
   "metadata": {},
   "source": [
    "문제분석\n",
    "1. lower, upper? \n",
    "\n"
   ]
  },
  {
   "cell_type": "code",
   "execution_count": 48,
   "id": "c5cb2e0b-a269-492c-97b9-9813cb151ee7",
   "metadata": {},
   "outputs": [
    {
     "name": "stdout",
     "output_type": "stream",
     "text": [
      "ABcDeFGHij\n"
     ]
    }
   ],
   "source": [
    "my_string = \"abCdEfghIJ\"\n",
    "my_string = list(my_string)\n",
    "\n",
    "answer = []\n",
    "for word in my_string:\n",
    "    if word != word.lower():  # 단어하나하나가 대문자라면 소문자로\n",
    "        answer.append(word.lower())\n",
    "    else:  \n",
    "        answer.append(word.upper()) # 단어하나하나가 소문자라면 대문자로\n",
    "print(''.join(answer))"
   ]
  },
  {
   "cell_type": "markdown",
   "id": "a3d264e0-42d9-4608-8a3e-13950988489c",
   "metadata": {
    "tags": []
   },
   "source": [
    "# 영어가 싫어요"
   ]
  },
  {
   "cell_type": "markdown",
   "id": "1c198c20-20cf-409e-857c-b20a846f0d86",
   "metadata": {},
   "source": [
    "영어가 싫은 머쓱이는 영어로 표기되어있는 숫자를 수로 바꾸려고 합니다. 문자열 numbers가 매개변수로 주어질 때, numbers를 정수로 바꿔 return 하도록 solution 함수를 완성해 주세요.\n",
    "\"onetwothreefourfivesixseveneightnine\"를 숫자로 바꾼 123456789를 return합니다."
   ]
  },
  {
   "cell_type": "markdown",
   "id": "ceef7b02-7904-41e4-a35e-f5f18dc8fcd4",
   "metadata": {},
   "source": [
    "문제분석\n",
    "1. 아닌 숫자가 들어올순없고\n",
    "2. 끊고 확인하자\n",
    "3. 결국 if문 쓸라하니 너무 길어진다. 딕셔너리\n"
   ]
  },
  {
   "cell_type": "code",
   "execution_count": 2,
   "id": "7f0c8026-277f-4464-92a2-7b872dfdc457",
   "metadata": {
    "tags": []
   },
   "outputs": [
    {
     "name": "stdout",
     "output_type": "stream",
     "text": [
      "{'zero': 0, 'one': 1, 'two': 2, 'three': 3, 'four': 4, 'five': 5, 'six': 6, 'seven': 7, 'eight': 8, 'nine': 9}\n"
     ]
    }
   ],
   "source": [
    "numbers = \"onetwothreefourfivesixseveneightnine\"\n",
    "eng_numbers = [ \"zero\", \"one\", \"two\", \"three\", \"four\", \"five\", \"six\", \"seven\", \"eight\", \"nine\"]\n",
    "numbers = list(numbers)\n",
    "\n",
    "e = {}\n",
    "for idx, word in enumerate(eng_numbers):\n",
    "    e[word] = idx\n",
    "print(e)"
   ]
  },
  {
   "cell_type": "code",
   "execution_count": 3,
   "id": "7521aca3-4a10-43b7-a37e-c108a21e9356",
   "metadata": {
    "tags": []
   },
   "outputs": [
    {
     "data": {
      "text/plain": [
       "123456789"
      ]
     },
     "execution_count": 3,
     "metadata": {},
     "output_type": "execute_result"
    }
   ],
   "source": [
    "answer = []\n",
    "answer1 = []\n",
    "for word in numbers:  # o, n, e, t, w, o ,t, h, r, e, e\n",
    "    answer.append(word)\n",
    "    if ''.join(answer) in e.keys():\n",
    "        answer1.append(str(e[''.join(answer)]))\n",
    "        answer = []\n",
    "int(''.join(answer1))\n",
    "    "
   ]
  },
  {
   "cell_type": "markdown",
   "id": "84ddb2f8-2b5b-4f51-99aa-832e2ddf2620",
   "metadata": {},
   "source": [
    "우수답안"
   ]
  },
  {
   "cell_type": "code",
   "execution_count": 183,
   "id": "3e3d026f-144b-41aa-a6ef-8e0d897c377e",
   "metadata": {},
   "outputs": [],
   "source": [
    "def solution(numbers):\n",
    "    for num, eng in enumerate([\"zero\", \"one\", \"two\", \"three\", \"four\", \"five\", \"six\", \"seven\", \"eight\", \"nine\"]):\n",
    "        numbers = numbers.replace(eng, str(num))\n",
    "    return int(numbers)"
   ]
  },
  {
   "cell_type": "code",
   "execution_count": 191,
   "id": "c43c69b6-115f-4e28-ad55-0fecb1597d23",
   "metadata": {},
   "outputs": [
    {
     "name": "stdout",
     "output_type": "stream",
     "text": [
      "123456789\n"
     ]
    }
   ],
   "source": [
    "numbers = \"onetwothreefourfivesixseveneightnine\"\n",
    "eng = \"zero\", \"one\", \"two\", \"three\", \"four\", \"five\", \"six\", \"seven\", \"eight\", \"nine\"\n",
    "\n",
    "for num, eng in enumerate([\"zero\", \"one\", \"two\", \"three\", \"four\", \"five\", \"six\", \"seven\", \"eight\", \"nine\"]):\n",
    "    numbers = numbers.replace(eng, str(num))  # replace에는 문자를 문자로만 가능하다 (not int)\n",
    "print(int(numbers))"
   ]
  },
  {
   "cell_type": "markdown",
   "id": "1550d62b-1dcc-4eef-b138-0788b8534d91",
   "metadata": {
    "tags": []
   },
   "source": [
    "# 인덱스 바꾸기"
   ]
  },
  {
   "cell_type": "markdown",
   "id": "bbbfa032-6a3b-454b-b5fa-0ae530344763",
   "metadata": {},
   "source": [
    "문자열 my_string과 정수 num1, num2가 매개변수로 주어질 때, my_string에서 인덱스 num1과 인덱스 num2에 해당하는 문자를 바꾼 문자열을 return 하도록 solution 함수를 완성해보세요. <br>\n",
    "\"hello\"의 1번째 인덱스인 \"e\"와 2번째 인덱스인 \"l\"을 바꾸면 \"hlelo\"입니다. <br>\n",
    "입출력 예 #2\n",
    "\"I love you\"의 3번째 인덱스 \"o\"와 \" \"(공백)을 바꾸면 \"I l veoyou\"입니다."
   ]
  },
  {
   "cell_type": "markdown",
   "id": "857a44c6-9487-4e08-87eb-7f8927153fb1",
   "metadata": {},
   "source": [
    "문제분석\n",
    "1. idx를 사용\n",
    "2. 공백도 단어로 인식 -> list쓰면 된다"
   ]
  },
  {
   "cell_type": "code",
   "execution_count": 113,
   "id": "97749fcd-a443-452f-a0bc-1d1aca6829a7",
   "metadata": {},
   "outputs": [],
   "source": [
    "my_string = \"hello\"\n",
    "num1, num2 = 3, 1"
   ]
  },
  {
   "cell_type": "code",
   "execution_count": 115,
   "id": "4b0d1261-49cd-49c5-8b76-5e45f3a2d2b1",
   "metadata": {},
   "outputs": [
    {
     "name": "stdout",
     "output_type": "stream",
     "text": [
      "hlleo\n"
     ]
    }
   ],
   "source": [
    "my_string = list(my_string)\n",
    "\n",
    "answer = []\n",
    "for idx in range(len(my_string)):\n",
    "    if idx == num1:\n",
    "        answer.append(my_string[num2])\n",
    "    elif idx == num2:\n",
    "        answer.append(my_string[num1])\n",
    "    else:\n",
    "        answer.append(my_string[idx])\n",
    "print(''.join(answer))"
   ]
  },
  {
   "cell_type": "markdown",
   "id": "28fb0e71-d34b-4d51-aca8-505310a9f2fb",
   "metadata": {},
   "source": [
    "우수답변"
   ]
  },
  {
   "cell_type": "code",
   "execution_count": 119,
   "id": "805f4666-9e81-4765-a77b-d9390a6af214",
   "metadata": {},
   "outputs": [
    {
     "name": "stdout",
     "output_type": "stream",
     "text": [
      "hlleo\n"
     ]
    }
   ],
   "source": [
    "my_string = \"hello\"\n",
    "num1, num2 = 3, 1\n",
    "my_string = list(my_string)\n",
    "my_string[num1], my_string[num2] = my_string[num2], my_string[num1] # 이부분을 잘학습할 것\n",
    "print(''.join(my_string))"
   ]
  },
  {
   "cell_type": "code",
   "execution_count": 192,
   "id": "05c87e60-1a38-4938-ac19-8b38ec1f19f4",
   "metadata": {},
   "outputs": [
    {
     "data": {
      "text/plain": [
       "'C:\\\\Users\\\\업무용\\\\jupyter_python\\\\python_gogo'"
      ]
     },
     "execution_count": 192,
     "metadata": {},
     "output_type": "execute_result"
    }
   ],
   "source": []
  },
  {
   "cell_type": "markdown",
   "id": "b1024cdb-80d6-4897-8f4c-9e9b5dd70bce",
   "metadata": {
    "tags": []
   },
   "source": [
    "# 한번만 등장한 문자"
   ]
  },
  {
   "cell_type": "markdown",
   "id": "d69aed02-0d29-451d-bfa9-139acfccbbbb",
   "metadata": {},
   "source": [
    "문자열 s가 매개변수로 주어집니다. s에서 한 번만 등장하는 문자를 사전 순으로 정렬한 문자열을 return 하도록 solution 함수를 완성해보세요. 한 번만 등장하는 문자가 없을 경우 빈 문자열을 return 합니다.\n",
    "<br> 입출력 예 #1\n",
    "\"abcabcadc\"에서 하나만 등장하는 문자는 \"d\"입니다."
   ]
  },
  {
   "cell_type": "markdown",
   "id": "29631d29-35c3-40e5-a5f8-2d94bb891c8c",
   "metadata": {},
   "source": [
    "문제분석\n",
    "1. 한번만 한것을 체크? 딕셔너리? 다시정렬하는건 아닌거 같은데? 2개이상들어간 건 제거 <br>\n",
    "  어떻게 제거를 하지? \n",
    "2. 사전 순으로 정렬한 문자열 -> sort\n"
   ]
  },
  {
   "cell_type": "code",
   "execution_count": 47,
   "id": "ed73a16c-a5f5-4656-b2c2-8acc2acad88f",
   "metadata": {},
   "outputs": [
    {
     "name": "stdout",
     "output_type": "stream",
     "text": [
      "eho\n"
     ]
    }
   ],
   "source": [
    "s = 'hello'\n",
    "s = sorted(list(s))  # ['e', 'h', 'l', 'l', 'o']\n",
    "answer = [word for word in s if s.count(word) == 1]  # ['e', 'h', 'o']\n",
    "print(''.join(answer))"
   ]
  }
 ],
 "metadata": {
  "kernelspec": {
   "display_name": "Python 3 (ipykernel)",
   "language": "python",
   "name": "python3"
  },
  "language_info": {
   "codemirror_mode": {
    "name": "ipython",
    "version": 3
   },
   "file_extension": ".py",
   "mimetype": "text/x-python",
   "name": "python",
   "nbconvert_exporter": "python",
   "pygments_lexer": "ipython3",
   "version": "3.10.8"
  }
 },
 "nbformat": 4,
 "nbformat_minor": 5
}
